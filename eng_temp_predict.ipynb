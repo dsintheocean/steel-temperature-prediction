{
  "cells": [
    {
      "cell_type": "markdown",
      "id": "b3c76b9d",
      "metadata": {
        "id": "b3c76b9d"
      },
      "source": [
        "# Project for modeling the temperature of steel in a ladle in order to optimize energy consumption.\n",
        "\n",
        "### Task\n",
        "\n",
        "To optimize production costs, the steel mill decided to reduce energy consumption during the steel processing phase. It is necessary to build a model that will predict the temperature of steel.\n",
        "\n",
        "### Description of the technological process\n",
        "\n",
        "The steel is processed in a metal ladle with a capacity of about 100 tons. To ensure that the ladle can withstand high temperatures, the inside is lined with refractory bricks. Molten steel is poured into a ladle and heated to the desired temperature with graphite electrodes. They are installed in the bucket lid.\n",
        "\n",
        "Sulfur is removed from the alloy (desulfurization), the chemical composition is adjusted by adding impurities, and samples are taken. Steel is alloyed - its composition is changed - by feeding pieces of the alloy from a bunker for bulk materials or wire through a special tribe apparatus (English tribe, “mass”).\n",
        "\n",
        "Before introducing alloying additives for the first time, the temperature of the steel is measured and its chemical analysis is performed. Then the temperature is raised for several minutes, alloying materials are added and the alloy is purged with an inert gas. Then it is mixed and measurements are taken again. This cycle is repeated until the target chemical composition and optimal melting temperature are achieved.\n",
        "\n",
        "Then the molten steel is sent for finishing of the metal or enters a continuous casting machine. From there the finished product comes out in the form of slabs (English *slab*, “slab”).\n",
        "\n",
        "### Data description:\n",
        "The data consists of files obtained from different sources:\n",
        "* data_arc.csv — data about electrodes;\n",
        "* data_bulk.csv — data on the supply of bulk materials (volume);\n",
        "* data_bulk_time.csv — data on the supply of bulk materials (time);\n",
        "* data_gas.csv — data on purging the alloy with gas;\n",
        "* data_temp.csv — temperature measurement results;\n",
        "* data_wire.csv — data on wire materials (volume);\n",
        "* data_wire_time.csv - data about wire materials (time).\n",
        "\n",
        "In all files, the key column contains the batch number. There may be several lines in the files with the same key value: they correspond to different iterations of processing.\n",
        "\n",
        "The modeling object is one ladle (one cooking process), which is determined by a unique key.\n",
        "\n",
        "### Conditions:\n",
        "\n",
        "* Target feature: last temperature for a unique batch;\n",
        "*Target Metric: MAE;\n",
        "* Success criterion: obtaining MAE metric < 6.8;\n",
        "* Only the first temperature examined before the process can be used as a sign;\n",
        "* In case of incorrect data (one measurement; a value contrary to common sense), the data is considered unsuitable for the entire batch to which this data relates.\n",
        "\n",
        "### Work plan:\n",
        "\n",
        "* Data loading;\n",
        "* Exploratory data analysis;\n",
        "* Data preprocessing;\n",
        "* Development and selection of the best model with subsequent testing on a test sample;\n",
        "* Report."
      ]
    },
    {
      "cell_type": "markdown",
      "id": "a368b63f",
      "metadata": {
        "id": "a368b63f"
      },
      "source": [
        "## 1. Loading data"
      ]
    },
    {
      "cell_type": "code",
      "source": [
        "!pip install catboost"
      ],
      "metadata": {
        "colab": {
          "base_uri": "https://localhost:8080/"
        },
        "id": "0kMILSvVBK-z",
        "outputId": "c1fe612a-e1a8-4a0a-aa56-8545c5f50741"
      },
      "id": "0kMILSvVBK-z",
      "execution_count": 3,
      "outputs": [
        {
          "output_type": "stream",
          "name": "stdout",
          "text": [
            "Collecting catboost\n",
            "  Downloading catboost-1.2.2-cp310-cp310-manylinux2014_x86_64.whl (98.7 MB)\n",
            "\u001b[2K     \u001b[90m━━━━━━━━━━━━━━━━━━━━━━━━━━━━━━━━━━━━━━━━\u001b[0m \u001b[32m98.7/98.7 MB\u001b[0m \u001b[31m11.4 MB/s\u001b[0m eta \u001b[36m0:00:00\u001b[0m\n",
            "\u001b[?25hRequirement already satisfied: graphviz in /usr/local/lib/python3.10/dist-packages (from catboost) (0.20.1)\n",
            "Requirement already satisfied: matplotlib in /usr/local/lib/python3.10/dist-packages (from catboost) (3.7.1)\n",
            "Requirement already satisfied: numpy>=1.16.0 in /usr/local/lib/python3.10/dist-packages (from catboost) (1.23.5)\n",
            "Requirement already satisfied: pandas>=0.24 in /usr/local/lib/python3.10/dist-packages (from catboost) (1.5.3)\n",
            "Requirement already satisfied: scipy in /usr/local/lib/python3.10/dist-packages (from catboost) (1.11.3)\n",
            "Requirement already satisfied: plotly in /usr/local/lib/python3.10/dist-packages (from catboost) (5.15.0)\n",
            "Requirement already satisfied: six in /usr/local/lib/python3.10/dist-packages (from catboost) (1.16.0)\n",
            "Requirement already satisfied: python-dateutil>=2.8.1 in /usr/local/lib/python3.10/dist-packages (from pandas>=0.24->catboost) (2.8.2)\n",
            "Requirement already satisfied: pytz>=2020.1 in /usr/local/lib/python3.10/dist-packages (from pandas>=0.24->catboost) (2023.3.post1)\n",
            "Requirement already satisfied: contourpy>=1.0.1 in /usr/local/lib/python3.10/dist-packages (from matplotlib->catboost) (1.1.1)\n",
            "Requirement already satisfied: cycler>=0.10 in /usr/local/lib/python3.10/dist-packages (from matplotlib->catboost) (0.12.1)\n",
            "Requirement already satisfied: fonttools>=4.22.0 in /usr/local/lib/python3.10/dist-packages (from matplotlib->catboost) (4.43.1)\n",
            "Requirement already satisfied: kiwisolver>=1.0.1 in /usr/local/lib/python3.10/dist-packages (from matplotlib->catboost) (1.4.5)\n",
            "Requirement already satisfied: packaging>=20.0 in /usr/local/lib/python3.10/dist-packages (from matplotlib->catboost) (23.2)\n",
            "Requirement already satisfied: pillow>=6.2.0 in /usr/local/lib/python3.10/dist-packages (from matplotlib->catboost) (9.4.0)\n",
            "Requirement already satisfied: pyparsing>=2.3.1 in /usr/local/lib/python3.10/dist-packages (from matplotlib->catboost) (3.1.1)\n",
            "Requirement already satisfied: tenacity>=6.2.0 in /usr/local/lib/python3.10/dist-packages (from plotly->catboost) (8.2.3)\n",
            "Installing collected packages: catboost\n",
            "Successfully installed catboost-1.2.2\n"
          ]
        }
      ]
    },
    {
      "cell_type": "code",
      "execution_count": 9,
      "id": "326190ac",
      "metadata": {
        "colab": {
          "base_uri": "https://localhost:8080/"
        },
        "id": "326190ac",
        "outputId": "240ce8cb-ef47-4f00-9051-9e76bf7158e5"
      },
      "outputs": [
        {
          "output_type": "stream",
          "name": "stdout",
          "text": [
            "Drive already mounted at /content/drive; to attempt to forcibly remount, call drive.mount(\"/content/drive\", force_remount=True).\n"
          ]
        }
      ],
      "source": [
        "import pandas as pd\n",
        "import numpy as np\n",
        "import matplotlib.pyplot as plt\n",
        "\n",
        "from sklearn.linear_model import LinearRegression\n",
        "from catboost import CatBoostRegressor\n",
        "import lightgbm as lgb\n",
        "from sklearn.dummy import DummyRegressor\n",
        "\n",
        "from sklearn.model_selection import train_test_split, cross_val_score, cross_validate\n",
        "from sklearn.preprocessing import MinMaxScaler\n",
        "from sklearn.model_selection import GridSearchCV\n",
        "\n",
        "from sklearn.metrics import mean_absolute_error\n",
        "\n",
        "from google.colab import drive\n",
        "drive.mount('/content/drive')"
      ]
    },
    {
      "cell_type": "code",
      "execution_count": 10,
      "id": "c5523662",
      "metadata": {
        "id": "c5523662"
      },
      "outputs": [],
      "source": [
        "#to be used in random_state throughout the work\n",
        "SEED = 220523"
      ]
    },
    {
      "cell_type": "code",
      "execution_count": 21,
      "id": "3c32f9f6",
      "metadata": {
        "colab": {
          "base_uri": "https://localhost:8080/"
        },
        "id": "3c32f9f6",
        "outputId": "b143bad6-7ccc-46ae-b3ac-a0c814f0fd60"
      },
      "outputs": [
        {
          "output_type": "stream",
          "name": "stdout",
          "text": [
            "DataFrame arc downloaded successfully!\n",
            "DataFrame bulk downloaded successfully!\n",
            "DataFrame bulk_time downloaded successfully!\n",
            "DataFrame gas downloaded successfully!\n",
            "DataFrame temp downloaded successfully!\n",
            "DataFrame wire downloaded successfully!\n",
            "DataFrame wire_time downloaded successfully!\n"
          ]
        }
      ],
      "source": [
        "path_list = ['/content/drive/My Drive/projects/metals_plant_steel_temperature_prediction/data_arc_new.csv',\n",
        "             '/content/drive/My Drive/projects/metals_plant_steel_temperature_prediction/data_bulk_new.csv',\n",
        "             '/content/drive/My Drive/projects/metals_plant_steel_temperature_prediction/data_bulk_time_new.csv',\n",
        "             '/content/drive/My Drive/projects/metals_plant_steel_temperature_prediction/data_gas_new.csv',\n",
        "             '/content/drive/My Drive/projects/metals_plant_steel_temperature_prediction/data_temp_new.csv',\n",
        "             '/content/drive/My Drive/projects/metals_plant_steel_temperature_prediction/data_wire_new.csv',\n",
        "             '/content/drive/My Drive/projects/metals_plant_steel_temperature_prediction/data_wire_time_new.csv']\n",
        "\n",
        "df_dict = {}\n",
        "\n",
        "for i, path in enumerate(path_list):\n",
        "    try:\n",
        "        df_name = path.\\\n",
        "                  replace('/content/drive/My Drive/projects/metals_plant_steel_temperature_prediction/data_', '').\\\n",
        "                  replace('_new.csv', '')\n",
        "        df_dict[df_name] = pd.read_csv(path)\n",
        "        print(f'DataFrame {df_name} downloaded successfully!')\n",
        "    except:\n",
        "        print(f'An error occurred while downloading the DataFrame {df_name}')"
      ]
    },
    {
      "cell_type": "markdown",
      "source": [
        "**Rename the columns' names to English translation**"
      ],
      "metadata": {
        "id": "ig-X-qiBPFkc"
      },
      "id": "ig-X-qiBPFkc"
    },
    {
      "cell_type": "code",
      "source": [
        "df_dict['arc'] = df_dict['arc'].rename(columns={'Начало нагрева дугой': 'Start of arc heating',\n",
        "                                                'Конец нагрева дугой': 'End of arc heating',\n",
        "                                                'Активная мощность': 'Active power',\n",
        "                                                'Реактивная мощность': 'Reactive power'})\n",
        "\n",
        "df_dict['gas'] = df_dict['gas'].rename(columns={'Газ 1': 'Gas 1'})\n",
        "\n",
        "df_dict['temp'] = df_dict['temp'].rename(columns={'Время замера': 'Measurement time',\n",
        "                                                'Температура': 'Temperature'})"
      ],
      "metadata": {
        "id": "iORJT8OBNYG1"
      },
      "id": "iORJT8OBNYG1",
      "execution_count": 24,
      "outputs": []
    },
    {
      "cell_type": "code",
      "execution_count": 25,
      "id": "7e9228f5",
      "metadata": {
        "colab": {
          "base_uri": "https://localhost:8080/"
        },
        "id": "7e9228f5",
        "outputId": "6dc8a10c-d47e-4a0a-8df5-9d21db4b9905"
      },
      "outputs": [
        {
          "output_type": "stream",
          "name": "stdout",
          "text": [
            "Shape of DataFrame 'arc' is (14876, 5) \n",
            "\n",
            "Shape of DataFrame 'bulk' is (3129, 16) \n",
            "\n",
            "Shape of DataFrame 'bulk_time' is (3129, 16) \n",
            "\n",
            "Shape of DataFrame 'gas' is (3239, 2) \n",
            "\n",
            "Shape of DataFrame 'temp' is (18092, 3) \n",
            "\n",
            "Shape of DataFrame 'wire' is (3081, 10) \n",
            "\n",
            "Shape of DataFrame 'wire_time' is (3081, 10) \n",
            "\n"
          ]
        }
      ],
      "source": [
        "for key, df in df_dict.items():\n",
        "    print(f\"Shape of DataFrame '{key}' is {df.shape} \\n\")"
      ]
    },
    {
      "cell_type": "markdown",
      "id": "3122ebbf",
      "metadata": {
        "id": "3122ebbf"
      },
      "source": [
        "## 2. Exploratory data analysis"
      ]
    },
    {
      "cell_type": "markdown",
      "id": "1a5a4fa8",
      "metadata": {
        "id": "1a5a4fa8"
      },
      "source": [
        "**To conduct a primary research analysis of data from each of the available dataframes, we will display information on each of them.**\n",
        "\n",
        "### 2.1 Electrode data"
      ]
    },
    {
      "cell_type": "code",
      "execution_count": 27,
      "id": "7db2c243",
      "metadata": {
        "colab": {
          "base_uri": "https://localhost:8080/"
        },
        "id": "7db2c243",
        "outputId": "a4d446b3-9f04-4cf5-94cc-9fbd4004f823"
      },
      "outputs": [
        {
          "output_type": "stream",
          "name": "stdout",
          "text": [
            "Number of gaps in shares in the dataframe \"arc\" \n",
            "\n",
            "                      Null%  Total  Total_Null     Type\n",
            "key                     0.0  14876           0    int64\n",
            "Start of arc heating    0.0  14876           0   object\n",
            "End of arc heating      0.0  14876           0   object\n",
            "Active power            0.0  14876           0  float64\n",
            "Reactive power          0.0  14876           0  float64\n",
            "\n",
            "\n",
            "First 5 lines in dataframe \"arc\" \n",
            " \n",
            "    key Start of arc heating   End of arc heating  Active power  Reactive power\n",
            "0    1  2019-05-03 11:02:14  2019-05-03 11:06:02      0.305130        0.211253\n",
            "1    1  2019-05-03 11:07:28  2019-05-03 11:10:33      0.765658        0.477438\n",
            "2    1  2019-05-03 11:11:44  2019-05-03 11:14:36      0.580313        0.430460\n",
            "3    1  2019-05-03 11:18:14  2019-05-03 11:24:19      0.518496        0.379979\n",
            "4    1  2019-05-03 11:26:09  2019-05-03 11:28:37      0.867133        0.643691 \n",
            "\n",
            "\n",
            "Description of the distribution in the dataframe \"arc\" \n",
            "\n",
            "                key  Active power  Reactive power\n",
            "count  14876.000000  14876.000000    14876.000000\n",
            "mean    1615.220422      0.662752        0.438986\n",
            "std      934.571502      0.258885        5.873485\n",
            "min        1.000000      0.223120     -715.479924\n",
            "25%      806.000000      0.467115        0.337175\n",
            "50%     1617.000000      0.599587        0.441639\n",
            "75%     2429.000000      0.830070        0.608201\n",
            "max     3241.000000      1.463773        1.270284\n",
            "\n",
            "\n",
            "Number of complete duplicates in dataframe \"arc\" = 0\n"
          ]
        }
      ],
      "source": [
        "# function that will display the number of gaps in fractions and other information\n",
        "def info_func(dataframe, name):\n",
        "     key = name\n",
        "     df = dataframe.copy()\n",
        "     null_shares = df.isnull().sum() / len(df)\n",
        "     total_objects = len(df)\n",
        "     column_types = df.dtypes\n",
        "     info_df = pd.DataFrame({'Null%': null_shares, \\\n",
        "                             'Total': total_objects, \\\n",
        "                             'Total_Null': df.isnull().sum(), \\\n",
        "                             'Type': column_types})\n",
        "     print(f'Number of gaps in shares in the dataframe \"{key}\" \\n\\n{info_df}\\n\\n')\n",
        "     print(f'First 5 lines in dataframe \"{key}\" \\n \\n {df.head()} \\n\\n')\n",
        "     print(f'Description of the distribution in the dataframe \"{key}\" \\n\\n{df.describe()}\\n\\n')\n",
        "     print(f'Number of complete duplicates in dataframe \"{key}\" = {df.duplicated().sum()}')\n",
        "     return\n",
        "\n",
        "info_func(df_dict['arc'], 'arc')"
      ]
    },
    {
      "cell_type": "markdown",
      "id": "92a1748b",
      "metadata": {
        "id": "92a1748b"
      },
      "source": [
        "**We see that the maximum value of the batch number is 3241. Let's check whether all batch numbers from 1 to 3241 are actually represented in the data in this dataframe.**"
      ]
    },
    {
      "cell_type": "code",
      "execution_count": 28,
      "id": "a17c8fdc",
      "metadata": {
        "colab": {
          "base_uri": "https://localhost:8080/"
        },
        "id": "a17c8fdc",
        "outputId": "55fc95c0-e914-4ed5-f1b7-65e05728775d"
      },
      "outputs": [
        {
          "output_type": "execute_result",
          "data": {
            "text/plain": [
              "3214"
            ]
          },
          "metadata": {},
          "execution_count": 28
        }
      ],
      "source": [
        "len(df_dict['arc']['key'].unique())"
      ]
    },
    {
      "cell_type": "markdown",
      "id": "859d3fc5",
      "metadata": {
        "id": "859d3fc5"
      },
      "source": [
        "**The length of unique lot number values is not 3241, which means that not all lot numbers are represented in this dataframe. Let's check which ones are missing.**"
      ]
    },
    {
      "cell_type": "code",
      "execution_count": 29,
      "id": "ba223ab9",
      "metadata": {
        "colab": {
          "base_uri": "https://localhost:8080/"
        },
        "id": "ba223ab9",
        "outputId": "838f270c-5f5e-480c-91d2-e08cca605c88"
      },
      "outputs": [
        {
          "output_type": "stream",
          "name": "stdout",
          "text": [
            "Numbers of batches missing from dataframe data \"arc\": [41, 42, 195, 279, 355, 382, 506, 529, 540, 607, 683, 710, 766, 1133, 1300, 1437, 2031, 2103, 2278, 2356, 2373, 2446, 2469, 2491, 2683, 3200, 3207]\n",
            "Number of batches missing from dataframe data \"arc\": 27\n"
          ]
        }
      ],
      "source": [
        "keys_not_in_arc = [x for x in list(range(1, 3242)) if x not in df_dict['arc']['key'].values]\n",
        "print(f'Numbers of batches missing from dataframe data \"arc\": {keys_not_in_arc}')\n",
        "print(f'Number of batches missing from dataframe data \"arc\": {len(keys_not_in_arc)}')"
      ]
    },
    {
      "cell_type": "markdown",
      "id": "01b3efbb",
      "metadata": {
        "id": "01b3efbb"
      },
      "source": [
        "**There are no gaps in the data. What is anomalous is that negative values are observed in the Reactive Power variable. Most likely, this is due to a measurement or calculation error if this parameter is calculated inside the process control system.**\n",
        "\n",
        "**It will be necessary to subsequently change the type of signs “Start of arc heating” and “End of arc heating” to datetime, because These signs are responsible for the date and time.**\n",
        "\n",
        "**In addition, for ease of use, the names of the features must be translated into English. name and snake register, this applies to all dataframes where applicable.**\n",
        "\n",
        "** Because In this project we will not use time series, then the time values will be subsequently deleted by us. However, in this dataframe we can use the time values to generate a new attribute, thereby not losing them and taking them into account. You can calculate the energy expended as the product of power and the time during which this power was allocated for each batch.**\n",
        "\n",
        "**In fact, active power determines the rate of useful energy consumption. Reactive power is power determined by electromagnetic fields generated during equipment operation. Reactive power is generally \"harmful\" or \"parasitic\". Reactive power is determined by the nature of the load. Therefore, to generate a new sign we will use energy calculated only on the basis of active power.**\n",
        "\n",
        "**Also, for each unique batch it will be necessary to calculate the total power consumption, both active and reactive, as a new characteristic.**\n",
        "\n",
        "**Let's see how many batches have abnormal reactive power values.**"
      ]
    },
    {
      "cell_type": "code",
      "execution_count": 30,
      "id": "244c84d9",
      "metadata": {
        "colab": {
          "base_uri": "https://localhost:8080/",
          "height": 80
        },
        "id": "244c84d9",
        "outputId": "d917adfe-48db-4329-8acc-c0d8eaac8dbb"
      },
      "outputs": [
        {
          "output_type": "execute_result",
          "data": {
            "text/plain": [
              "       key Start of arc heating   End of arc heating  Active power  Reactive power\n",
              "9780  2116  2019-07-28 02:22:08  2019-07-28 02:23:57      0.705344     -715.479924"
            ],
            "text/html": [
              "\n",
              "  <div id=\"df-658cf68d-69b6-47f6-b8ea-74b5033de87e\" class=\"colab-df-container\">\n",
              "    <div>\n",
              "<style scoped>\n",
              "    .dataframe tbody tr th:only-of-type {\n",
              "        vertical-align: middle;\n",
              "    }\n",
              "\n",
              "    .dataframe tbody tr th {\n",
              "        vertical-align: top;\n",
              "    }\n",
              "\n",
              "    .dataframe thead th {\n",
              "        text-align: right;\n",
              "    }\n",
              "</style>\n",
              "<table border=\"1\" class=\"dataframe\">\n",
              "  <thead>\n",
              "    <tr style=\"text-align: right;\">\n",
              "      <th></th>\n",
              "      <th>key</th>\n",
              "      <th>Start of arc heating</th>\n",
              "      <th>End of arc heating</th>\n",
              "      <th>Active power</th>\n",
              "      <th>Reactive power</th>\n",
              "    </tr>\n",
              "  </thead>\n",
              "  <tbody>\n",
              "    <tr>\n",
              "      <th>9780</th>\n",
              "      <td>2116</td>\n",
              "      <td>2019-07-28 02:22:08</td>\n",
              "      <td>2019-07-28 02:23:57</td>\n",
              "      <td>0.705344</td>\n",
              "      <td>-715.479924</td>\n",
              "    </tr>\n",
              "  </tbody>\n",
              "</table>\n",
              "</div>\n",
              "    <div class=\"colab-df-buttons\">\n",
              "\n",
              "  <div class=\"colab-df-container\">\n",
              "    <button class=\"colab-df-convert\" onclick=\"convertToInteractive('df-658cf68d-69b6-47f6-b8ea-74b5033de87e')\"\n",
              "            title=\"Convert this dataframe to an interactive table.\"\n",
              "            style=\"display:none;\">\n",
              "\n",
              "  <svg xmlns=\"http://www.w3.org/2000/svg\" height=\"24px\" viewBox=\"0 -960 960 960\">\n",
              "    <path d=\"M120-120v-720h720v720H120Zm60-500h600v-160H180v160Zm220 220h160v-160H400v160Zm0 220h160v-160H400v160ZM180-400h160v-160H180v160Zm440 0h160v-160H620v160ZM180-180h160v-160H180v160Zm440 0h160v-160H620v160Z\"/>\n",
              "  </svg>\n",
              "    </button>\n",
              "\n",
              "  <style>\n",
              "    .colab-df-container {\n",
              "      display:flex;\n",
              "      gap: 12px;\n",
              "    }\n",
              "\n",
              "    .colab-df-convert {\n",
              "      background-color: #E8F0FE;\n",
              "      border: none;\n",
              "      border-radius: 50%;\n",
              "      cursor: pointer;\n",
              "      display: none;\n",
              "      fill: #1967D2;\n",
              "      height: 32px;\n",
              "      padding: 0 0 0 0;\n",
              "      width: 32px;\n",
              "    }\n",
              "\n",
              "    .colab-df-convert:hover {\n",
              "      background-color: #E2EBFA;\n",
              "      box-shadow: 0px 1px 2px rgba(60, 64, 67, 0.3), 0px 1px 3px 1px rgba(60, 64, 67, 0.15);\n",
              "      fill: #174EA6;\n",
              "    }\n",
              "\n",
              "    .colab-df-buttons div {\n",
              "      margin-bottom: 4px;\n",
              "    }\n",
              "\n",
              "    [theme=dark] .colab-df-convert {\n",
              "      background-color: #3B4455;\n",
              "      fill: #D2E3FC;\n",
              "    }\n",
              "\n",
              "    [theme=dark] .colab-df-convert:hover {\n",
              "      background-color: #434B5C;\n",
              "      box-shadow: 0px 1px 3px 1px rgba(0, 0, 0, 0.15);\n",
              "      filter: drop-shadow(0px 1px 2px rgba(0, 0, 0, 0.3));\n",
              "      fill: #FFFFFF;\n",
              "    }\n",
              "  </style>\n",
              "\n",
              "    <script>\n",
              "      const buttonEl =\n",
              "        document.querySelector('#df-658cf68d-69b6-47f6-b8ea-74b5033de87e button.colab-df-convert');\n",
              "      buttonEl.style.display =\n",
              "        google.colab.kernel.accessAllowed ? 'block' : 'none';\n",
              "\n",
              "      async function convertToInteractive(key) {\n",
              "        const element = document.querySelector('#df-658cf68d-69b6-47f6-b8ea-74b5033de87e');\n",
              "        const dataTable =\n",
              "          await google.colab.kernel.invokeFunction('convertToInteractive',\n",
              "                                                    [key], {});\n",
              "        if (!dataTable) return;\n",
              "\n",
              "        const docLinkHtml = 'Like what you see? Visit the ' +\n",
              "          '<a target=\"_blank\" href=https://colab.research.google.com/notebooks/data_table.ipynb>data table notebook</a>'\n",
              "          + ' to learn more about interactive tables.';\n",
              "        element.innerHTML = '';\n",
              "        dataTable['output_type'] = 'display_data';\n",
              "        await google.colab.output.renderOutput(dataTable, element);\n",
              "        const docLink = document.createElement('div');\n",
              "        docLink.innerHTML = docLinkHtml;\n",
              "        element.appendChild(docLink);\n",
              "      }\n",
              "    </script>\n",
              "  </div>\n",
              "\n",
              "    </div>\n",
              "  </div>\n"
            ]
          },
          "metadata": {},
          "execution_count": 30
        }
      ],
      "source": [
        "df_dict['arc'][df_dict['arc']['Reactive power'] <= 0]"
      ]
    },
    {
      "cell_type": "code",
      "execution_count": 31,
      "id": "7e7ef48c",
      "metadata": {
        "scrolled": true,
        "colab": {
          "base_uri": "https://localhost:8080/"
        },
        "id": "7e7ef48c",
        "outputId": "e54cf066-690c-42bc-980b-ac2a452442de"
      },
      "outputs": [
        {
          "output_type": "execute_result",
          "data": {
            "text/plain": [
              "[2116]"
            ]
          },
          "metadata": {},
          "execution_count": 31
        }
      ],
      "source": [
        "keys_anomaly_power = list(df_dict['arc'][df_dict['arc']['Reactive power'] <= 0]['key'].unique())\n",
        "keys_anomaly_power"
      ]
    },
    {
      "cell_type": "markdown",
      "id": "01aa656e",
      "metadata": {
        "id": "01aa656e"
      },
      "source": [
        "**We will add the number of this batch to a separate list, where we will store the batch numbers that should be removed from the aggregated dataframe later.**"
      ]
    },
    {
      "cell_type": "code",
      "execution_count": 32,
      "id": "df44298a",
      "metadata": {
        "colab": {
          "base_uri": "https://localhost:8080/"
        },
        "id": "df44298a",
        "outputId": "0237df4e-941d-41ce-c193-d2a01f93480e"
      },
      "outputs": [
        {
          "output_type": "execute_result",
          "data": {
            "text/plain": [
              "[2116]"
            ]
          },
          "metadata": {},
          "execution_count": 32
        }
      ],
      "source": [
        "keys_to_del = []\n",
        "keys_to_del.extend(keys_anomaly_power)\n",
        "keys_to_del"
      ]
    },
    {
      "cell_type": "markdown",
      "id": "c19a00c7",
      "metadata": {
        "id": "c19a00c7"
      },
      "source": [
        "**Let's look at the distribution of power measurements among all batches.**"
      ]
    },
    {
      "cell_type": "code",
      "execution_count": 33,
      "id": "e3179ef8",
      "metadata": {
        "colab": {
          "base_uri": "https://localhost:8080/",
          "height": 564
        },
        "id": "e3179ef8",
        "outputId": "c28e94f4-0d17-4cc7-840c-254cf06a7343"
      },
      "outputs": [
        {
          "output_type": "display_data",
          "data": {
            "text/plain": [
              "<Figure size 800x600 with 1 Axes>"
            ],
            "image/png": "[encoded data removed]"
          },
          "metadata": {}
        }
      ],
      "source": [
        "plt.figure(figsize=(8, 6))\n",
        "plt.hist(df_dict['arc']['key'].value_counts(), bins=32)\n",
        "plt.xlabel('Number of power measurements for a unique batch')\n",
        "plt.ylabel('Number of unique batches with this number of measurements')\n",
        "plt.title('Distribution of power measurements among unique batches')\n",
        "plt.show()"
      ]
    },
    {
      "cell_type": "markdown",
      "id": "e6e14fec",
      "metadata": {
        "id": "e6e14fec"
      },
      "source": [
        "**We see that the largest number of batches among all data are 4 power measurements.**\n",
        "\n",
        "**Let's look at the distribution of reactive and active power values, and exclude the anomalous negative value from the reactive values to get a readable graph.**"
      ]
    },
    {
      "cell_type": "code",
      "execution_count": 34,
      "id": "19bbe6d8",
      "metadata": {
        "colab": {
          "base_uri": "https://localhost:8080/",
          "height": 564
        },
        "id": "19bbe6d8",
        "outputId": "138f73c9-3757-4aac-a157-f8a4be3647cf"
      },
      "outputs": [
        {
          "output_type": "display_data",
          "data": {
            "text/plain": [
              "<Figure size 800x600 with 1 Axes>"
            ],
            "image/png": "[encoded data removed]"
          },
          "metadata": {}
        }
      ],
      "source": [
        "plt.figure(figsize=(8, 6))\n",
        "plt.hist(df_dict['arc']['Active power'], bins=20)\n",
        "plt.xlabel('Active power value')\n",
        "plt.ylabel('Number of objects with this active power value')\n",
        "plt.title('Distribution of active power values')\n",
        "plt.show()"
      ]
    },
    {
      "cell_type": "markdown",
      "id": "f6c7fc2f",
      "metadata": {
        "id": "f6c7fc2f"
      },
      "source": [
        "**Active power values are normally distributed, the most common value is 0.5.**"
      ]
    },
    {
      "cell_type": "code",
      "execution_count": 35,
      "id": "34b78a06",
      "metadata": {
        "colab": {
          "base_uri": "https://localhost:8080/",
          "height": 564
        },
        "id": "34b78a06",
        "outputId": "ee07a6c5-898c-434b-adbd-cfb7032400cb"
      },
      "outputs": [
        {
          "output_type": "display_data",
          "data": {
            "text/plain": [
              "<Figure size 800x600 with 1 Axes>"
            ],
            "image/png": "[encoded data removed]"
          },
          "metadata": {}
        }
      ],
      "source": [
        "plt.figure(figsize=(8, 6))\n",
        "plt.hist(df_dict['arc']['Reactive power'][df_dict['arc']['Reactive power'] > 0], bins=40)\n",
        "plt.xlabel('Reactive power value')\n",
        "plt.ylabel('Number of objects with this reactive power value')\n",
        "plt.title('Distribution of reactive power values')\n",
        "plt.show()"
      ]
    },
    {
      "cell_type": "markdown",
      "id": "f5321dd8",
      "metadata": {
        "id": "f5321dd8"
      },
      "source": [
        "**Reactive power values (excluding the anomalous negative value) are normally distributed, the most common value is less than 0.4.**"
      ]
    },
    {
      "cell_type": "markdown",
      "id": "7faa5e2d",
      "metadata": {
        "id": "7faa5e2d"
      },
      "source": [
        "**Intermediate conclusions based on the data in the 'arc' dataframe containing the electrode data.**\n",
        "\n",
        "* There are no gaps in the data in this dataframe.\n",
        "* In the data on electrodes, there is only one batch with an anomalous value of reactive power - batch 2116.\n",
        "* Most often in the data there are 4 power measurements for each unique batch.\n",
        "* Active power values are normally distributed with a peak at 0.5.\n",
        "* Reactive power values are normally distributed (excluding anomalous negative value) with a peak value just below 0.4.\n",
        "* The number of parties is 3241, but they are not all represented in this dataframe; there is no data on 27 unique parties.\n",
        "* From the values of active power and time delta, you can obtain a new indicator - the total active energy for a unique batch.\n",
        "* From the values of active and reactive power, using the sum for one unique batch, you can obtain new characteristics - the total consumed active and reactive power for a given batch.\n",
        "* It is necessary to bring the names of signs to the “snake” register and in English.\n",
        "* It is necessary to change the type of two signs “Start of arc heating” and “End of arc heating” to datetime, because they are responsible for the date and time."
      ]
    },
    {
      "cell_type": "markdown",
      "id": "c960f6af",
      "metadata": {
        "id": "c960f6af"
      },
      "source": [
        "### 2.2 Data on the supply of bulk materials (volume)"
      ]
    },
    {
      "cell_type": "code",
      "execution_count": 36,
      "id": "7081c4ab",
      "metadata": {
        "colab": {
          "base_uri": "https://localhost:8080/"
        },
        "id": "7081c4ab",
        "outputId": "24289a6f-1c88-4be2-fdc6-b24e57707666"
      },
      "outputs": [
        {
          "output_type": "stream",
          "name": "stdout",
          "text": [
            "Number of gaps in shares in the dataframe \"bulk\" \n",
            "\n",
            "            Null%  Total  Total_Null     Type\n",
            "key      0.000000   3129           0    int64\n",
            "Bulk 1   0.919463   3129        2877  float64\n",
            "Bulk 2   0.992969   3129        3107  float64\n",
            "Bulk 3   0.585171   3129        1831  float64\n",
            "Bulk 4   0.675935   3129        2115  float64\n",
            "Bulk 5   0.975391   3129        3052  float64\n",
            "Bulk 6   0.815916   3129        2553  float64\n",
            "Bulk 7   0.992010   3129        3104  float64\n",
            "Bulk 8   0.999680   3129        3128  float64\n",
            "Bulk 9   0.993928   3129        3110  float64\n",
            "Bulk 10  0.943752   3129        2953  float64\n",
            "Bulk 11  0.943432   3129        2952  float64\n",
            "Bulk 12  0.217002   3129         679  float64\n",
            "Bulk 13  0.994247   3129        3111  float64\n",
            "Bulk 14  0.103228   3129         323  float64\n",
            "Bulk 15  0.281560   3129         881  float64\n",
            "\n",
            "\n",
            "First 5 lines in dataframe \"bulk\" \n",
            " \n",
            "    key  Bulk 1  Bulk 2  Bulk 3  Bulk 4  Bulk 5  Bulk 6  Bulk 7  Bulk 8  Bulk 9  Bulk 10  Bulk 11  Bulk 12  Bulk 13  Bulk 14  Bulk 15\n",
            "0    1     NaN     NaN     NaN    43.0     NaN     NaN     NaN     NaN     NaN      NaN      NaN    206.0      NaN    150.0    154.0\n",
            "1    2     NaN     NaN     NaN    73.0     NaN     NaN     NaN     NaN     NaN      NaN      NaN    206.0      NaN    149.0    154.0\n",
            "2    3     NaN     NaN     NaN    34.0     NaN     NaN     NaN     NaN     NaN      NaN      NaN    205.0      NaN    152.0    153.0\n",
            "3    4     NaN     NaN     NaN    81.0     NaN     NaN     NaN     NaN     NaN      NaN      NaN    207.0      NaN    153.0    154.0\n",
            "4    5     NaN     NaN     NaN    78.0     NaN     NaN     NaN     NaN     NaN      NaN      NaN    203.0      NaN    151.0    152.0 \n",
            "\n",
            "\n",
            "Description of the distribution in the dataframe \"bulk\" \n",
            "\n",
            "               key      Bulk 1      Bulk 2       Bulk 3       Bulk 4      Bulk 5      Bulk 6      Bulk 7  Bulk 8      Bulk 9     Bulk 10     Bulk 11      Bulk 12     Bulk 13      Bulk 14      Bulk 15\n",
            "count  3129.000000  252.000000   22.000000  1298.000000  1014.000000   77.000000  576.000000   25.000000     1.0   19.000000  176.000000  177.000000  2450.000000   18.000000  2806.000000  2248.000000\n",
            "mean   1624.383509   39.242063  253.045455   113.879045   104.394477  107.025974  118.925347  305.600000    49.0   76.315789   83.284091   76.819209   260.471020  181.111111   170.284747   160.513345\n",
            "std     933.337642   18.277654   21.180578    75.483494    48.184126   81.790646   72.057776  191.022904     NaN   21.720581   26.060347   59.655365   120.649269   46.088009    65.868652    51.765319\n",
            "min       1.000000   10.000000  228.000000     6.000000    12.000000   11.000000   17.000000   47.000000    49.0   63.000000   24.000000    8.000000    53.000000  151.000000    16.000000     1.000000\n",
            "25%     816.000000   27.000000  242.000000    58.000000    72.000000   70.000000   69.750000  155.000000    49.0   66.000000   64.000000   25.000000   204.000000  153.250000   119.000000   105.000000\n",
            "50%    1622.000000   31.000000  251.500000    97.500000   102.000000   86.000000  100.000000  298.000000    49.0   68.000000   86.500000   64.000000   208.000000  155.500000   151.000000   160.000000\n",
            "75%    2431.000000   46.000000  257.750000   152.000000   133.000000  132.000000  157.000000  406.000000    49.0   70.500000  102.000000  106.000000   316.000000  203.500000   205.750000   205.000000\n",
            "max    3241.000000  185.000000  325.000000   454.000000   281.000000  603.000000  503.000000  772.000000    49.0  147.000000  159.000000  313.000000  1849.000000  305.000000   636.000000   405.000000\n",
            "\n",
            "\n",
            "Number of complete duplicates in dataframe \"bulk\" = 0\n"
          ]
        }
      ],
      "source": [
        "info_func(df_dict['bulk'], 'bulk')"
      ]
    },
    {
      "cell_type": "markdown",
      "id": "1e076084",
      "metadata": {
        "id": "1e076084"
      },
      "source": [
        "**Visualize the number of real objects in each of the features**"
      ]
    },
    {
      "cell_type": "code",
      "execution_count": 37,
      "id": "4166c71b",
      "metadata": {
        "colab": {
          "base_uri": "https://localhost:8080/",
          "height": 603
        },
        "id": "4166c71b",
        "outputId": "3fcc65bb-5174-44b6-f5d2-df26d3f1876b"
      },
      "outputs": [
        {
          "output_type": "display_data",
          "data": {
            "text/plain": [
              "<Figure size 800x600 with 1 Axes>"
            ],
            "image/png": "[encoded data removed]"
          },
          "metadata": {}
        }
      ],
      "source": [
        "plt.figure(figsize=(8, 6))\n",
        "ax = df_dict['bulk'].drop('key', axis=1).notnull().sum().plot(kind='bar')\n",
        "ax.set_title('Number of valid objects in each bulk material attribute')\n",
        "ax.set_xlabel('Bulk material category')\n",
        "ax.set_ylabel('Number of objects of this attribute')\n",
        "plt.show()"
      ]
    },
    {
      "cell_type": "code",
      "execution_count": 38,
      "id": "4f001e15",
      "metadata": {
        "colab": {
          "base_uri": "https://localhost:8080/"
        },
        "id": "4f001e15",
        "outputId": "c0cb3966-1253-4cb2-c2c0-44bf32452156"
      },
      "outputs": [
        {
          "output_type": "stream",
          "name": "stdout",
          "text": [
            "List of categories of bulk materials for subsequent deletion: \n",
            "['Bulk 8', 'Bulk 13', 'Bulk 9', 'Bulk 2', 'Bulk 7']\n"
          ]
        }
      ],
      "source": [
        "bulks_to_del = df_dict['bulk'].drop('key', axis=1) \\\n",
        "                     .notnull().sum().sort_values() \\\n",
        "                     .iloc[0:5].index.to_list()\n",
        "print(f'List of categories of bulk materials for subsequent deletion: \\n{bulks_to_del}')"
      ]
    },
    {
      "cell_type": "markdown",
      "id": "e285dfaa",
      "metadata": {
        "id": "e285dfaa"
      },
      "source": [
        "**We see that the number of actual objects is very small in categories 2, 7, 8, 9, 13. Most likely, to obtain better results during modeling, it will be necessary to exclude these features in the next section.**\n",
        "\n",
        "**In the data of this dataframe there is a very large number of gaps; most likely this fact may be due to the specifics of the technological process, because Not all types of bulk materials are added for all batches. For this reason, it is most logical to fill in the gaps in this data with zero. We will do this at the next stage of data preprocessing.**\n",
        "\n",
        "**Let's look at the distribution of data in this dataframe by unique batch number values.**"
      ]
    },
    {
      "cell_type": "code",
      "execution_count": 39,
      "id": "a5597147",
      "metadata": {
        "colab": {
          "base_uri": "https://localhost:8080/"
        },
        "id": "a5597147",
        "outputId": "8b2485e7-04d5-4a62-e3df-0a030c52007c"
      },
      "outputs": [
        {
          "output_type": "execute_result",
          "data": {
            "text/plain": [
              "array([1])"
            ]
          },
          "metadata": {},
          "execution_count": 39
        }
      ],
      "source": [
        "df_dict['bulk']['key'].value_counts().unique()"
      ]
    },
    {
      "cell_type": "markdown",
      "id": "a4e3a347",
      "metadata": {
        "id": "a4e3a347"
      },
      "source": [
        "**There is only one data line for each batch.**\n",
        "\n",
        "**From the previous subsection we know that the number of unique batches is at least 3241, and in this dataframe we see that the number of batches is 3129. Let’s find out which batches are missing\n",
        "in this dataframe.**"
      ]
    },
    {
      "cell_type": "code",
      "execution_count": 40,
      "id": "0d2567f1",
      "metadata": {
        "colab": {
          "base_uri": "https://localhost:8080/"
        },
        "id": "0d2567f1",
        "outputId": "5b3e06a2-944c-440a-c088-01361f45b061"
      },
      "outputs": [
        {
          "output_type": "stream",
          "name": "stdout",
          "text": [
            "Numbers of batches missing from dataframe data \"bulk\": [41, 42, 51, 52, 53, 54, 55, 56, 72, 80, 81, 110, 151, 188, 195, 225, 269, 302, 330, 331, 332, 343, 350, 355, 382, 506, 529, 540, 607, 661, 683, 710, 766, 830, 874, 931, 933, 934, 960, 961, 964, 966, 983, 984, 1062, 1105, 1133, 1221, 1268, 1300, 1334, 1402, 1437, 1517, 1518, 1535, 1566, 1623, 1656, 1783, 1818, 1911, 1959, 1974, 1979, 2009, 2010, 2031, 2043, 2056, 2103, 2195, 2196, 2197, 2198, 2216, 2217, 2231, 2278, 2310, 2356, 2373, 2390, 2408, 2434, 2446, 2460, 2468, 2469, 2471, 2491, 2595, 2599, 2600, 2608, 2625, 2628, 2683, 2738, 2739, 2816, 2821, 2863, 2884, 2891, 3018, 3026, 3047, 3182, 3200, 3207, 3216]\n",
            "Number of batches missing from dataframe data \"bulk\": 112\n"
          ]
        }
      ],
      "source": [
        "keys_not_in_bulk = [x for x in list(range(1, 3242)) if x not in df_dict['bulk']['key'].values]\n",
        "print(f'Numbers of batches missing from dataframe data \"bulk\": {keys_not_in_bulk}')\n",
        "print(f'Number of batches missing from dataframe data \"bulk\": {len(keys_not_in_bulk)}')"
      ]
    },
    {
      "cell_type": "markdown",
      "id": "a691fede",
      "metadata": {
        "id": "a691fede"
      },
      "source": [
        "**Intermediate conclusions based on data in the 'bulk' dataframe containing data on the supply of bulk materials (volume).**\n",
        "\n",
        "* Only one set of values appears in the data for each unique batch.\n",
        "* This dataframe does not contain data for 112 unique batches.\n",
        "* It is necessary to convert the names of signs to \"snake\" case.\n",
        "* There is a very large number of gaps in the data of this dataframe; most likely, this fact may be due to the specifics of the technological process; it is most logical to fill in the gaps in this data with zero.\n",
        "* The number of actual objects is very small in categories 2, 7, 8, 9, 13 bulk materials. Most likely, to obtain better modeling results, it will be necessary to exclude these features in the next section."
      ]
    },
    {
      "cell_type": "markdown",
      "id": "3d9cc5a0",
      "metadata": {
        "id": "3d9cc5a0"
      },
      "source": [
        "### 2.3 Bulk material supply data (time)"
      ]
    },
    {
      "cell_type": "code",
      "execution_count": 41,
      "id": "ff9695de",
      "metadata": {
        "colab": {
          "base_uri": "https://localhost:8080/"
        },
        "id": "ff9695de",
        "outputId": "ce28aa23-eb07-427f-eedf-07ff612714b2"
      },
      "outputs": [
        {
          "output_type": "stream",
          "name": "stdout",
          "text": [
            "Number of gaps in shares in the dataframe \"bulk_time\" \n",
            "\n",
            "            Null%  Total  Total_Null    Type\n",
            "key      0.000000   3129           0   int64\n",
            "Bulk 1   0.919463   3129        2877  object\n",
            "Bulk 2   0.992969   3129        3107  object\n",
            "Bulk 3   0.585171   3129        1831  object\n",
            "Bulk 4   0.675935   3129        2115  object\n",
            "Bulk 5   0.975391   3129        3052  object\n",
            "Bulk 6   0.815916   3129        2553  object\n",
            "Bulk 7   0.992010   3129        3104  object\n",
            "Bulk 8   0.999680   3129        3128  object\n",
            "Bulk 9   0.993928   3129        3110  object\n",
            "Bulk 10  0.943752   3129        2953  object\n",
            "Bulk 11  0.943432   3129        2952  object\n",
            "Bulk 12  0.217002   3129         679  object\n",
            "Bulk 13  0.994247   3129        3111  object\n",
            "Bulk 14  0.103228   3129         323  object\n",
            "Bulk 15  0.281560   3129         881  object\n",
            "\n",
            "\n",
            "First 5 lines in dataframe \"bulk_time\" \n",
            " \n",
            "    key Bulk 1 Bulk 2 Bulk 3               Bulk 4 Bulk 5 Bulk 6 Bulk 7 Bulk 8 Bulk 9 Bulk 10 Bulk 11              Bulk 12 Bulk 13              Bulk 14              Bulk 15\n",
            "0    1    NaN    NaN    NaN  2019-05-03 11:28:48    NaN    NaN    NaN    NaN    NaN     NaN     NaN  2019-05-03 11:24:31     NaN  2019-05-03 11:14:50  2019-05-03 11:10:43\n",
            "1    2    NaN    NaN    NaN  2019-05-03 11:36:50    NaN    NaN    NaN    NaN    NaN     NaN     NaN  2019-05-03 11:53:30     NaN  2019-05-03 11:48:37  2019-05-03 11:44:39\n",
            "2    3    NaN    NaN    NaN  2019-05-03 12:32:39    NaN    NaN    NaN    NaN    NaN     NaN     NaN  2019-05-03 12:27:13     NaN  2019-05-03 12:21:01  2019-05-03 12:16:16\n",
            "3    4    NaN    NaN    NaN  2019-05-03 12:43:22    NaN    NaN    NaN    NaN    NaN     NaN     NaN  2019-05-03 12:58:00     NaN  2019-05-03 12:51:11  2019-05-03 12:46:36\n",
            "4    5    NaN    NaN    NaN  2019-05-03 13:30:47    NaN    NaN    NaN    NaN    NaN     NaN     NaN  2019-05-03 13:30:47     NaN  2019-05-03 13:34:12  2019-05-03 13:30:47 \n",
            "\n",
            "\n",
            "Description of the distribution in the dataframe \"bulk_time\" \n",
            "\n",
            "               key\n",
            "count  3129.000000\n",
            "mean   1624.383509\n",
            "std     933.337642\n",
            "min       1.000000\n",
            "25%     816.000000\n",
            "50%    1622.000000\n",
            "75%    2431.000000\n",
            "max    3241.000000\n",
            "\n",
            "\n",
            "Number of complete duplicates in dataframe \"bulk_time\" = 0\n"
          ]
        }
      ],
      "source": [
        "info_func(df_dict['bulk_time'], 'bulk_time')"
      ]
    },
    {
      "cell_type": "markdown",
      "id": "0b9aef7d",
      "metadata": {
        "id": "0b9aef7d"
      },
      "source": [
        "**The data in this dataframe has a very large number of gaps, similar to the previous dataframe.**\n",
        "\n",
        "**It is necessary to change the data type to datetime, because all these characteristics except the batch number are responsible for time and date.**\n",
        "\n",
        "**It is necessary to convert the names of features to the “snake” case.**\n",
        "\n",
        "**Let's look at the distribution of data in this dataframe by unique batch number values.**"
      ]
    },
    {
      "cell_type": "code",
      "execution_count": 42,
      "id": "4674a2aa",
      "metadata": {
        "colab": {
          "base_uri": "https://localhost:8080/"
        },
        "id": "4674a2aa",
        "outputId": "53247eaf-47d3-434c-c158-97a213188df1"
      },
      "outputs": [
        {
          "output_type": "execute_result",
          "data": {
            "text/plain": [
              "array([1])"
            ]
          },
          "metadata": {},
          "execution_count": 42
        }
      ],
      "source": [
        "df_dict['bulk_time']['key'].value_counts().unique()"
      ]
    },
    {
      "cell_type": "markdown",
      "id": "dd9d276c",
      "metadata": {
        "id": "dd9d276c"
      },
      "source": [
        "**There is only one data line for each batch.**\n",
        "\n",
        "**From the previous subsection we know that the number of unique batches is at least 3241, and in this dataframe we see that the number of batches is 3129. Let’s find out which batches are missing\n",
        "in this dataframe.**"
      ]
    },
    {
      "cell_type": "code",
      "execution_count": 43,
      "id": "3a459457",
      "metadata": {
        "colab": {
          "base_uri": "https://localhost:8080/"
        },
        "id": "3a459457",
        "outputId": "416c5cda-1231-493f-a1fa-a9bd5e95faa9"
      },
      "outputs": [
        {
          "output_type": "stream",
          "name": "stdout",
          "text": [
            "Numbers of batches missing from dataframe data \"bulk_time\": [41, 42, 51, 52, 53, 54, 55, 56, 72, 80, 81, 110, 151, 188, 195, 225, 269, 302, 330, 331, 332, 343, 350, 355, 382, 506, 529, 540, 607, 661, 683, 710, 766, 830, 874, 931, 933, 934, 960, 961, 964, 966, 983, 984, 1062, 1105, 1133, 1221, 1268, 1300, 1334, 1402, 1437, 1517, 1518, 1535, 1566, 1623, 1656, 1783, 1818, 1911, 1959, 1974, 1979, 2009, 2010, 2031, 2043, 2056, 2103, 2195, 2196, 2197, 2198, 2216, 2217, 2231, 2278, 2310, 2356, 2373, 2390, 2408, 2434, 2446, 2460, 2468, 2469, 2471, 2491, 2595, 2599, 2600, 2608, 2625, 2628, 2683, 2738, 2739, 2816, 2821, 2863, 2884, 2891, 3018, 3026, 3047, 3182, 3200, 3207, 3216]\n",
            "Number of batches missing from dataframe data \"bulk_time\": 112\n"
          ]
        }
      ],
      "source": [
        "keys_not_in_bulk_time = [x for x in list(range(1, 3242)) if x not in df_dict['bulk_time']['key'].values]\n",
        "print(f'Numbers of batches missing from dataframe data \"bulk_time\": {keys_not_in_bulk_time}')\n",
        "print(f'Number of batches missing from dataframe data \"bulk_time\": {len(keys_not_in_bulk_time)}')"
      ]
    },
    {
      "cell_type": "markdown",
      "id": "66884a2f",
      "metadata": {
        "id": "66884a2f"
      },
      "source": [
        "**Intermediate conclusions based on data in the 'bulk_time' dataframe containing data on the supply of bulk materials (time).**\n",
        "\n",
        "* Only one set of values appears in the data for each unique batch.\n",
        "* This dataframe does not contain data for 112 unique batches.\n",
        "* Convert the type of attributes responsible for date and time (all except key) to datetime.\n",
        "* It is necessary to convert the names of signs to \"snake\" case.\n",
        "* There is a very large number of gaps in the data of this dataframe; most likely, this fact may be due to the specifics of the technological process; it is most logical to fill in the gaps in this data with zero if a decision is made to use this data."
      ]
    },
    {
      "cell_type": "markdown",
      "id": "d006be27",
      "metadata": {
        "id": "d006be27"
      },
      "source": [
        "### 2.4 Data on alloy gas purging"
      ]
    },
    {
      "cell_type": "code",
      "execution_count": 44,
      "id": "ca5dd1b9",
      "metadata": {
        "colab": {
          "base_uri": "https://localhost:8080/"
        },
        "id": "ca5dd1b9",
        "outputId": "c28296c0-873d-49ee-9331-2312235096b1"
      },
      "outputs": [
        {
          "output_type": "stream",
          "name": "stdout",
          "text": [
            "Number of gaps in shares in the dataframe \"gas\" \n",
            "\n",
            "       Null%  Total  Total_Null     Type\n",
            "key      0.0   3239           0    int64\n",
            "Gas 1    0.0   3239           0  float64\n",
            "\n",
            "\n",
            "First 5 lines in dataframe \"gas\" \n",
            " \n",
            "    key      Gas 1\n",
            "0    1  29.749986\n",
            "1    2  12.555561\n",
            "2    3  28.554793\n",
            "3    4  18.841219\n",
            "4    5   5.413692 \n",
            "\n",
            "\n",
            "Description of the distribution in the dataframe \"gas\" \n",
            "\n",
            "               key        Gas 1\n",
            "count  3239.000000  3239.000000\n",
            "mean   1621.861377    11.002062\n",
            "std     935.386334     6.220327\n",
            "min       1.000000     0.008399\n",
            "25%     812.500000     7.043089\n",
            "50%    1622.000000     9.836267\n",
            "75%    2431.500000    13.769915\n",
            "max    3241.000000    77.995040\n",
            "\n",
            "\n",
            "Number of complete duplicates in dataframe \"gas\" = 0\n"
          ]
        }
      ],
      "source": [
        "info_func(df_dict['gas'], 'gas')"
      ]
    },
    {
      "cell_type": "markdown",
      "id": "bbace120",
      "metadata": {
        "id": "bbace120"
      },
      "source": [
        "**No data gaps.**\n",
        "\n",
        "**Let's look at the distribution of data in this dataframe by unique batch number values.**"
      ]
    },
    {
      "cell_type": "code",
      "execution_count": 45,
      "id": "9bf9f599",
      "metadata": {
        "colab": {
          "base_uri": "https://localhost:8080/"
        },
        "id": "9bf9f599",
        "outputId": "8a57c599-4ebf-478b-8874-a658dceb4aca"
      },
      "outputs": [
        {
          "output_type": "execute_result",
          "data": {
            "text/plain": [
              "array([1])"
            ]
          },
          "metadata": {},
          "execution_count": 45
        }
      ],
      "source": [
        "df_dict['gas']['key'].value_counts().unique()"
      ]
    },
    {
      "cell_type": "markdown",
      "id": "ceb9d077",
      "metadata": {
        "id": "ceb9d077"
      },
      "source": [
        "**There is only one data line for each batch.**\n",
        "\n",
        "**From the previous subsection we know that the number of unique batches is at least 3241, and in this dataframe we see that the number of batches is 3129. Let’s find out which batches are missing\n",
        "in this dataframe.**"
      ]
    },
    {
      "cell_type": "code",
      "execution_count": 46,
      "id": "869878d0",
      "metadata": {
        "colab": {
          "base_uri": "https://localhost:8080/"
        },
        "id": "869878d0",
        "outputId": "95fbcacb-52c9-4e92-f0ff-f62e83ea248b"
      },
      "outputs": [
        {
          "output_type": "stream",
          "name": "stdout",
          "text": [
            "Numbers of batches missing from dataframe data \"gas\": [193, 259]\n",
            "Number of batches missing from dataframe data \"gas\": 2\n"
          ]
        }
      ],
      "source": [
        "keys_not_in_gas = [x for x in list(range(1, 3242)) if x not in df_dict['gas']['key'].values]\n",
        "print(f'Numbers of batches missing from dataframe data \"gas\": {keys_not_in_gas}')\n",
        "print(f'Number of batches missing from dataframe data \"gas\": {len(keys_not_in_gas)}')"
      ]
    },
    {
      "cell_type": "markdown",
      "id": "419fc90b",
      "metadata": {
        "id": "419fc90b"
      },
      "source": [
        "**Let's look at the distribution of the volume of purging gas in the dataframe.**"
      ]
    },
    {
      "cell_type": "code",
      "execution_count": 47,
      "id": "27ce5419",
      "metadata": {
        "colab": {
          "base_uri": "https://localhost:8080/",
          "height": 564
        },
        "id": "27ce5419",
        "outputId": "908aa656-db04-4fbf-8530-d06679361bb6"
      },
      "outputs": [
        {
          "output_type": "display_data",
          "data": {
            "text/plain": [
              "<Figure size 800x600 with 1 Axes>"
            ],
            "image/png": "[encoded data removed]"
          },
          "metadata": {}
        }
      ],
      "source": [
        "plt.figure(figsize=(8, 6))\n",
        "plt.hist(df_dict['gas']['Gas 1'], bins=50)\n",
        "plt.xlabel('Purge gas volume value')\n",
        "plt.ylabel('Number of objects with this purge gas volume value')\n",
        "plt.title('Distribution of purge gas volume values')\n",
        "plt.show()"
      ]
    },
    {
      "cell_type": "markdown",
      "id": "5703ac88",
      "metadata": {
        "id": "5703ac88"
      },
      "source": [
        "**We see a normal distribution of values with a peak at value 10.**"
      ]
    },
    {
      "cell_type": "markdown",
      "id": "f76fc31f",
      "metadata": {
        "id": "f76fc31f"
      },
      "source": [
        "**Intermediate conclusions based on data in the 'gas' dataframe containing data on the alloy being purged with gas.**\n",
        "\n",
        "* Only one set of values appears in the data for each unique batch.\n",
        "* This dataframe does not contain data for 2 unique batches.\n",
        "* The distribution of gas volume values is normal with a peak at value 10.\n",
        "* It is necessary to convert the name of the trait to the “snake” case in English.\n",
        "* There are no gaps in the data in this dataframe."
      ]
    },
    {
      "cell_type": "markdown",
      "id": "e711cbb7",
      "metadata": {
        "id": "e711cbb7"
      },
      "source": [
        "### 2.5 Temperature measurement data"
      ]
    },
    {
      "cell_type": "code",
      "execution_count": 48,
      "id": "ded91ccb",
      "metadata": {
        "colab": {
          "base_uri": "https://localhost:8080/"
        },
        "id": "ded91ccb",
        "outputId": "762eaf67-0d6a-4de0-ae6d-f4a21c7eeac1"
      },
      "outputs": [
        {
          "output_type": "stream",
          "name": "stdout",
          "text": [
            "Number of gaps in shares in the dataframe \"temp\" \n",
            "\n",
            "                     Null%  Total  Total_Null     Type\n",
            "key               0.000000  18092           0    int64\n",
            "Measurement time  0.000000  18092           0   object\n",
            "Temperature       0.189421  18092        3427  float64\n",
            "\n",
            "\n",
            "First 5 lines in dataframe \"temp\" \n",
            " \n",
            "    key     Measurement time  Temperature\n",
            "0    1  2019-05-03 11:02:04       1571.0\n",
            "1    1  2019-05-03 11:07:18       1604.0\n",
            "2    1  2019-05-03 11:11:34       1618.0\n",
            "3    1  2019-05-03 11:18:04       1601.0\n",
            "4    1  2019-05-03 11:25:59       1606.0 \n",
            "\n",
            "\n",
            "Description of the distribution in the dataframe \"temp\" \n",
            "\n",
            "                key   Temperature\n",
            "count  18092.000000  14665.000000\n",
            "mean    1616.460977   1590.722741\n",
            "std      934.641385     20.394381\n",
            "min        1.000000   1191.000000\n",
            "25%      807.750000   1580.000000\n",
            "50%     1618.000000   1590.000000\n",
            "75%     2429.000000   1599.000000\n",
            "max     3241.000000   1705.000000\n",
            "\n",
            "\n",
            "Number of complete duplicates in dataframe \"temp\" = 0\n"
          ]
        }
      ],
      "source": [
        "info_func(df_dict['temp'], 'temp')"
      ]
    },
    {
      "cell_type": "markdown",
      "id": "f8f21e20",
      "metadata": {
        "id": "f8f21e20"
      },
      "source": [
        "**There are approximately 19% missing temperature data among all data. According to the initial conditions of the problem, we believe that in case of gaps in this variable, this means a failure of the sensor, and it is necessary not to use data associated with those unique batches where these failures/gaps in data were observed.**\n",
        "\n",
        "**It will be necessary to subsequently change the type of the “Measurement time” attribute to datetime, because this attribute is responsible for the date and time.**\n",
        "\n",
        "**In addition, for ease of use, the names of the features must be translated into English. name and \"snake\" register.**\n",
        "\n",
        "** Because If we need to predict temperature from multiple values, then data corresponding to batches for which there is only one temperature measurement must also be excluded from our analysis.**\n",
        "\n",
        "**According to the conditions of the problem, it is necessary to use only the first temperature measurement as a characteristic, and the last temperature measurement for a unique batch as a target characteristic.**\n",
        "\n",
        "** Because The melting temperature of steel is in the range [1450; 1520], then data that corresponds to a temperature below the left border must be deleted - these are anomalous values that do not correspond to the technological process.**\n",
        "\n",
        "**Let's see how many games have anomalous values.**"
      ]
    },
    {
      "cell_type": "code",
      "execution_count": 49,
      "id": "9a63b2ef",
      "metadata": {
        "colab": {
          "base_uri": "https://localhost:8080/"
        },
        "id": "9a63b2ef",
        "outputId": "27a8516d-6f53-4fd1-a111-f0be591a9827"
      },
      "outputs": [
        {
          "output_type": "stream",
          "name": "stdout",
          "text": [
            "Number of unique batch numbers with gaps in temperature measurements = 739\n",
            "List of unique values for these batch numbers: [2500, 2501, 2502, 2503, 2504, 2505, 2506, 2507, 2508, 2509, 2510, 2511, 2512, 2513, 2514, 2515, 2516, 2517, 2518, 2519, 2520, 2521, 2522, 2523, 2524, 2525, 2526, 2527, 2528, 2529, 2530, 2531, 2532, 2533, 2534, 2535, 2536, 2537, 2538, 2539, 2540, 2541, 2542, 2543, 2544, 2545, 2546, 2547, 2548, 2549, 2550, 2551, 2552, 2553, 2554, 2555, 2556, 2557, 2558, 2559, 2560, 2561, 2562, 2563, 2564, 2565, 2566, 2567, 2568, 2569, 2570, 2571, 2572, 2573, 2574, 2575, 2576, 2577, 2578, 2579, 2580, 2581, 2582, 2583, 2584, 2585, 2586, 2587, 2588, 2589, 2590, 2591, 2592, 2593, 2594, 2595, 2596, 2597, 2598, 2599, 2600, 2601, 2602, 2603, 2604, 2605, 2606, 2607, 2608, 2609, 2610, 2611, 2612, 2613, 2614, 2615, 2616, 2617, 2618, 2619, 2620, 2621, 2622, 2623, 2624, 2625, 2626, 2627, 2628, 2629, 2630, 2631, 2632, 2633, 2634, 2635, 2636, 2637, 2638, 2639, 2640, 2641, 2642, 2643, 2644, 2645, 2646, 2647, 2648, 2649, 2650, 2651, 2652, 2653, 2654, 2655, 2656, 2657, 2658, 2659, 2660, 2661, 2662, 2663, 2664, 2665, 2666, 2667, 2668, 2669, 2670, 2671, 2672, 2673, 2674, 2675, 2676, 2677, 2678, 2679, 2680, 2681, 2682, 2684, 2685, 2686, 2687, 2688, 2689, 2690, 2691, 2692, 2693, 2694, 2695, 2696, 2697, 2698, 2699, 2700, 2701, 2702, 2703, 2704, 2705, 2706, 2707, 2708, 2709, 2710, 2711, 2712, 2713, 2714, 2715, 2716, 2717, 2718, 2719, 2720, 2721, 2722, 2723, 2724, 2725, 2726, 2727, 2728, 2729, 2730, 2731, 2732, 2733, 2734, 2735, 2736, 2737, 2738, 2739, 2740, 2741, 2742, 2743, 2744, 2745, 2746, 2747, 2748, 2749, 2750, 2751, 2752, 2753, 2754, 2755, 2756, 2757, 2758, 2759, 2760, 2761, 2762, 2763, 2764, 2765, 2766, 2767, 2768, 2769, 2770, 2771, 2772, 2773, 2774, 2775, 2776, 2777, 2778, 2779, 2780, 2781, 2782, 2783, 2784, 2785, 2786, 2787, 2788, 2789, 2790, 2791, 2792, 2793, 2794, 2795, 2796, 2797, 2798, 2799, 2800, 2801, 2802, 2803, 2804, 2805, 2806, 2807, 2808, 2809, 2810, 2811, 2812, 2813, 2814, 2815, 2816, 2817, 2818, 2819, 2820, 2821, 2822, 2823, 2824, 2825, 2826, 2827, 2828, 2829, 2830, 2831, 2832, 2833, 2834, 2835, 2836, 2837, 2838, 2839, 2840, 2841, 2842, 2843, 2844, 2845, 2846, 2847, 2848, 2849, 2850, 2851, 2852, 2853, 2854, 2855, 2856, 2857, 2858, 2859, 2860, 2861, 2862, 2863, 2864, 2865, 2866, 2867, 2868, 2869, 2870, 2871, 2872, 2873, 2874, 2875, 2876, 2877, 2878, 2879, 2880, 2881, 2882, 2883, 2884, 2885, 2886, 2887, 2888, 2889, 2890, 2891, 2892, 2893, 2894, 2895, 2896, 2897, 2898, 2899, 2900, 2901, 2902, 2903, 2904, 2905, 2906, 2907, 2908, 2909, 2910, 2911, 2912, 2913, 2914, 2915, 2916, 2917, 2918, 2919, 2920, 2921, 2922, 2923, 2924, 2925, 2926, 2927, 2928, 2929, 2930, 2931, 2932, 2933, 2934, 2935, 2936, 2937, 2938, 2939, 2940, 2941, 2942, 2943, 2944, 2945, 2946, 2947, 2948, 2949, 2950, 2951, 2952, 2953, 2954, 2955, 2956, 2957, 2958, 2959, 2960, 2961, 2962, 2963, 2964, 2965, 2966, 2967, 2968, 2969, 2970, 2971, 2972, 2973, 2974, 2975, 2976, 2977, 2978, 2979, 2980, 2981, 2982, 2983, 2984, 2985, 2986, 2987, 2988, 2989, 2990, 2991, 2992, 2993, 2994, 2995, 2996, 2997, 2998, 2999, 3000, 3001, 3002, 3003, 3004, 3005, 3006, 3007, 3008, 3009, 3010, 3011, 3012, 3013, 3014, 3015, 3016, 3017, 3018, 3019, 3020, 3021, 3022, 3023, 3024, 3025, 3026, 3027, 3028, 3029, 3030, 3031, 3032, 3033, 3034, 3035, 3036, 3037, 3038, 3039, 3040, 3041, 3042, 3043, 3044, 3045, 3046, 3047, 3048, 3049, 3050, 3051, 3052, 3053, 3054, 3055, 3056, 3057, 3058, 3059, 3060, 3061, 3062, 3063, 3064, 3065, 3066, 3067, 3068, 3069, 3070, 3071, 3072, 3073, 3074, 3075, 3076, 3077, 3078, 3079, 3080, 3081, 3082, 3083, 3084, 3085, 3086, 3087, 3088, 3089, 3090, 3091, 3092, 3093, 3094, 3095, 3096, 3097, 3098, 3099, 3100, 3101, 3102, 3103, 3104, 3105, 3106, 3107, 3108, 3109, 3110, 3111, 3112, 3113, 3114, 3115, 3116, 3117, 3118, 3119, 3120, 3121, 3122, 3123, 3124, 3125, 3126, 3127, 3128, 3129, 3130, 3131, 3132, 3133, 3134, 3135, 3136, 3137, 3138, 3139, 3140, 3141, 3142, 3143, 3144, 3145, 3146, 3147, 3148, 3149, 3150, 3151, 3152, 3153, 3154, 3155, 3156, 3157, 3158, 3159, 3160, 3161, 3162, 3163, 3164, 3165, 3166, 3167, 3168, 3169, 3170, 3171, 3172, 3173, 3174, 3175, 3176, 3177, 3178, 3179, 3180, 3181, 3182, 3183, 3184, 3185, 3186, 3187, 3188, 3189, 3190, 3191, 3192, 3193, 3194, 3195, 3196, 3197, 3198, 3199, 3201, 3202, 3203, 3204, 3205, 3206, 3208, 3209, 3210, 3211, 3212, 3213, 3214, 3215, 3216, 3217, 3218, 3219, 3220, 3221, 3222, 3223, 3224, 3225, 3226, 3227, 3228, 3229, 3230, 3231, 3232, 3233, 3234, 3235, 3236, 3237, 3238, 3239, 3240, 3241]\n"
          ]
        }
      ],
      "source": [
        "# Determine the batch numbers for which there are gaps in temperature measurements\n",
        "keys_temp_isnull = list(df_dict['temp'][df_dict['temp']['Temperature'].isnull()]['key'].unique())\n",
        "print(f'Number of unique batch numbers with gaps in temperature measurements \\\n",
        "= {len(keys_temp_isnull)}')\n",
        "print(f'List of unique values for these batch numbers: {keys_temp_isnull}')"
      ]
    },
    {
      "cell_type": "code",
      "execution_count": 50,
      "id": "d93a3968",
      "metadata": {
        "colab": {
          "base_uri": "https://localhost:8080/"
        },
        "id": "d93a3968",
        "outputId": "181261df-f537-433f-eeaa-539c5c316ed7"
      },
      "outputs": [
        {
          "output_type": "stream",
          "name": "stdout",
          "text": [
            "Number of elements in the list with batch numbers to be deleted = 740\n"
          ]
        }
      ],
      "source": [
        "#let's add to the previously created list with the number of batches that need to be excluded from the analysis\n",
        "\n",
        "keys_to_del += keys_temp_isnull\n",
        "print(f'Number of elements in the list with batch numbers to be deleted = {len(keys_to_del)}')"
      ]
    },
    {
      "cell_type": "code",
      "execution_count": 51,
      "id": "c84b04a7",
      "metadata": {
        "colab": {
          "base_uri": "https://localhost:8080/"
        },
        "id": "c84b04a7",
        "outputId": "3ff96fac-48cd-49e8-9220-2ffc893ca956"
      },
      "outputs": [
        {
          "output_type": "stream",
          "name": "stdout",
          "text": [
            "Number of unique batch numbers with one temperature measurement   = 2\n",
            "List of unique values for these batch numbers: [195, 279]\n"
          ]
        }
      ],
      "source": [
        "# Determine the batch numbers for which there is only one temperature measurement\n",
        "single_temp = df_dict['temp']['key'].value_counts().reset_index()\n",
        "keys_temp_single = single_temp[single_temp['key'] == 1]['index'].to_list()\n",
        "print(f'Number of unique batch numbers with one temperature measurement \\\n",
        "  = {len(keys_temp_single)}')\n",
        "print(f'List of unique values for these batch numbers: {keys_temp_single}')"
      ]
    },
    {
      "cell_type": "code",
      "execution_count": 52,
      "id": "9aa7a235",
      "metadata": {
        "colab": {
          "base_uri": "https://localhost:8080/"
        },
        "id": "9aa7a235",
        "outputId": "5ea98e8c-e0b3-4b72-c85a-82998422258d"
      },
      "outputs": [
        {
          "output_type": "stream",
          "name": "stdout",
          "text": [
            "Number of elements in the list with batch numbers to be deleted = 742\n"
          ]
        }
      ],
      "source": [
        "#let's add to the previously created list with the number of batches that need to be excluded from the analysis\n",
        "\n",
        "keys_to_del += keys_temp_single\n",
        "print(f'Number of elements in the list with batch numbers to be deleted = {len(keys_to_del)}')"
      ]
    },
    {
      "cell_type": "code",
      "execution_count": 53,
      "id": "f1a762bc",
      "metadata": {
        "colab": {
          "base_uri": "https://localhost:8080/"
        },
        "id": "f1a762bc",
        "outputId": "a063c936-46a8-4707-8c81-2df0e130ccfd"
      },
      "outputs": [
        {
          "output_type": "stream",
          "name": "stdout",
          "text": [
            "Number of unique batch numbers with low temperature = 5\n",
            "List of unique values for these batch numbers: [867, 1214, 1619, 2052, 2561]\n"
          ]
        }
      ],
      "source": [
        "# Let's determine the batch numbers for which the temperature value\n",
        "# below the known melting temperature of steel, i.e. below 1450\n",
        "keys_temp_below_boiling = list(df_dict['temp'][df_dict['temp']['Temperature'] < 1450]['key'].unique())\n",
        "print(f'Number of unique batch numbers with low temperature \\\n",
        "= {len(keys_temp_below_boiling)}')\n",
        "print(f'List of unique values for these batch numbers: {keys_temp_below_boiling}')"
      ]
    },
    {
      "cell_type": "code",
      "execution_count": 54,
      "id": "a3b7c4c8",
      "metadata": {
        "colab": {
          "base_uri": "https://localhost:8080/"
        },
        "id": "a3b7c4c8",
        "outputId": "45fa1feb-5d95-4f2c-cb39-55e3771bbb63"
      },
      "outputs": [
        {
          "output_type": "stream",
          "name": "stdout",
          "text": [
            "Number of elements in the list with batch numbers to be deleted = 747\n"
          ]
        }
      ],
      "source": [
        "#let's add to the previously created list with the number of batches that need to be excluded from the analysis\n",
        "\n",
        "keys_to_del += keys_temp_below_boiling\n",
        "print(f'Number of elements in the list with batch numbers to be deleted = {len(keys_to_del)}')"
      ]
    },
    {
      "cell_type": "code",
      "execution_count": 55,
      "id": "28127621",
      "metadata": {
        "colab": {
          "base_uri": "https://localhost:8080/"
        },
        "id": "28127621",
        "outputId": "35ae420d-5f74-4c9d-9b94-57c229705170"
      },
      "outputs": [
        {
          "output_type": "stream",
          "name": "stdout",
          "text": [
            "Number of elements in the list with unique batch numbers to be deleted = 746\n"
          ]
        }
      ],
      "source": [
        "# some batch numbers could be included in this list several times, let's leave only unique ones\\\n",
        "unique_keys_to_del = list(set(keys_to_del))\n",
        "print(f'Number of elements in the list with unique batch numbers to be deleted = {len(unique_keys_to_del)}')"
      ]
    },
    {
      "cell_type": "markdown",
      "id": "63b8262d",
      "metadata": {
        "id": "63b8262d"
      },
      "source": [
        "**We see that the maximum value of the batch number is 3241. Let's check whether all batch numbers from 1 to 3241 are actually represented in the data in this dataframe.**"
      ]
    },
    {
      "cell_type": "code",
      "execution_count": 56,
      "id": "fc9c730f",
      "metadata": {
        "colab": {
          "base_uri": "https://localhost:8080/"
        },
        "id": "fc9c730f",
        "outputId": "921a99a4-4357-4156-9543-4a69f213e3b9"
      },
      "outputs": [
        {
          "output_type": "execute_result",
          "data": {
            "text/plain": [
              "3216"
            ]
          },
          "metadata": {},
          "execution_count": 56
        }
      ],
      "source": [
        "len(df_dict['temp']['key'].unique())"
      ]
    },
    {
      "cell_type": "markdown",
      "id": "22ec9eec",
      "metadata": {
        "id": "22ec9eec"
      },
      "source": [
        "**The length of unique lot number values is not 3241, which means that not all lot numbers are represented in this dataframe. Let's check which ones are missing.**"
      ]
    },
    {
      "cell_type": "code",
      "execution_count": 57,
      "id": "27b70f73",
      "metadata": {
        "colab": {
          "base_uri": "https://localhost:8080/"
        },
        "id": "27b70f73",
        "outputId": "67dad871-1e56-4a82-8b61-52dc17e40343"
      },
      "outputs": [
        {
          "output_type": "stream",
          "name": "stdout",
          "text": [
            "Numbers of batches missing from dataframe data \"temp\": [41, 42, 355, 382, 506, 529, 540, 607, 683, 710, 766, 1133, 1300, 1437, 2031, 2103, 2278, 2356, 2373, 2446, 2469, 2491, 2683, 3200, 3207]\n",
            "Number of batches missing from dataframe data \"temp\": 25\n"
          ]
        }
      ],
      "source": [
        "keys_not_in_temp = [x for x in list(range(1, 3242)) if x not in df_dict['temp']['key'].values]\n",
        "print(f'Numbers of batches missing from dataframe data \"temp\": {keys_not_in_temp}')\n",
        "print(f'Number of batches missing from dataframe data \"temp\": {len(keys_not_in_temp)}')"
      ]
    },
    {
      "cell_type": "markdown",
      "id": "52a3ff00",
      "metadata": {
        "id": "52a3ff00"
      },
      "source": [
        "**Let's look at the distribution of temperature measurements among all batches.**"
      ]
    },
    {
      "cell_type": "code",
      "execution_count": 58,
      "id": "d58b63dd",
      "metadata": {
        "colab": {
          "base_uri": "https://localhost:8080/",
          "height": 564
        },
        "id": "d58b63dd",
        "outputId": "c94567b9-10b0-498d-fdae-1b4fd4c2f292"
      },
      "outputs": [
        {
          "output_type": "display_data",
          "data": {
            "text/plain": [
              "<Figure size 800x600 with 1 Axes>"
            ],
            "image/png": "[encoded data removed]"
          },
          "metadata": {}
        }
      ],
      "source": [
        "plt.figure(figsize=(8, 6))\n",
        "plt.hist(df_dict['temp']['key'].value_counts(), bins=32)\n",
        "plt.xlabel('Number of temperature measurements for a unique batch')\n",
        "plt.ylabel('Number of unique batches with this number of measurements')\n",
        "plt.title('Distribution of temperature measurements among unique batches')\n",
        "plt.show()"
      ]
    },
    {
      "cell_type": "markdown",
      "id": "b4b6a4e4",
      "metadata": {
        "id": "b4b6a4e4"
      },
      "source": [
        "**We see that the largest number of batches among all data have 5 temperature measurements.**"
      ]
    },
    {
      "cell_type": "markdown",
      "id": "5054bcec",
      "metadata": {
        "id": "5054bcec"
      },
      "source": [
        "**Intermediate conclusions based on data in the 'temp' dataframe containing temperature measurement data.**\n",
        "\n",
        "* There are about 19% gaps in the data in this dataframe.\n",
        "* The temperature data contains a total of 746 unique batches that require exclusion from subsequent analysis for reasons: omissions in the data, a single measurement, temp. value. lower temp. melting steel.\n",
        "* Most often, the data contains 5 temperature measurements for each unique batch.\n",
        "* The number of parties is 3241, but they are not all represented in this dataframe; there is no data on 25 unique parties.\n",
        "* It is necessary to bring the names of signs to the “snake” register and in English.\n",
        "* It is necessary to change the attribute type \"Time measurements\" to datetime, because they are responsible for the date and time.\n",
        "* It is necessary to use only the first temperature measurement as a sign, and the last temperature measurement for a unique batch as a target sign."
      ]
    },
    {
      "cell_type": "markdown",
      "id": "6b0ef4c1",
      "metadata": {
        "id": "6b0ef4c1"
      },
      "source": [
        "### 2.6 Wire material data (volume)"
      ]
    },
    {
      "cell_type": "code",
      "execution_count": 59,
      "id": "76cf51e6",
      "metadata": {
        "colab": {
          "base_uri": "https://localhost:8080/"
        },
        "id": "76cf51e6",
        "outputId": "a1f9cd30-53ff-481c-d7e7-bed3c19aea4e"
      },
      "outputs": [
        {
          "output_type": "stream",
          "name": "stdout",
          "text": [
            "Number of gaps in shares in the dataframe \"wire\" \n",
            "\n",
            "           Null%  Total  Total_Null     Type\n",
            "key     0.000000   3081           0    int64\n",
            "Wire 1  0.008439   3081          26  float64\n",
            "Wire 2  0.649789   3081        2002  float64\n",
            "Wire 3  0.979552   3081        3018  float64\n",
            "Wire 4  0.995456   3081        3067  float64\n",
            "Wire 5  0.999675   3081        3080  float64\n",
            "Wire 6  0.976306   3081        3008  float64\n",
            "Wire 7  0.996430   3081        3070  float64\n",
            "Wire 8  0.993833   3081        3062  float64\n",
            "Wire 9  0.990587   3081        3052  float64\n",
            "\n",
            "\n",
            "First 5 lines in dataframe \"wire\" \n",
            " \n",
            "    key     Wire 1   Wire 2  Wire 3  Wire 4  Wire 5  Wire 6  Wire 7  Wire 8  Wire 9\n",
            "0    1  60.059998      NaN     NaN     NaN     NaN     NaN     NaN     NaN     NaN\n",
            "1    2  96.052315      NaN     NaN     NaN     NaN     NaN     NaN     NaN     NaN\n",
            "2    3  91.160157      NaN     NaN     NaN     NaN     NaN     NaN     NaN     NaN\n",
            "3    4  89.063515      NaN     NaN     NaN     NaN     NaN     NaN     NaN     NaN\n",
            "4    5  89.238236  9.11456     NaN     NaN     NaN     NaN     NaN     NaN     NaN \n",
            "\n",
            "\n",
            "Description of the distribution in the dataframe \"wire\" \n",
            "\n",
            "               key       Wire 1       Wire 2      Wire 3      Wire 4  Wire 5      Wire 6     Wire 7      Wire 8     Wire 9\n",
            "count  3081.000000  3055.000000  1079.000000   63.000000   14.000000   1.000   73.000000  11.000000   19.000000  29.000000\n",
            "mean   1623.426485   100.895853    50.577323  189.482681   57.442841  15.132   48.016974  10.039007   53.625193  34.155752\n",
            "std     932.996726    42.012518    39.320216   99.513444   28.824667     NaN   33.919845   8.610584   16.881728  19.931616\n",
            "min       1.000000     1.918800     0.030160    0.144144   24.148801  15.132    0.034320   0.234208   45.076721   4.622800\n",
            "25%     823.000000    72.115684    20.193680   95.135044   40.807002  15.132   25.053600   6.762756   46.094879  22.058401\n",
            "50%    1619.000000   100.158234    40.142956  235.194977   45.234282  15.132   42.076324   9.017009   46.279999  30.066399\n",
            "75%    2434.000000   126.060483    70.227558  276.252014   76.124619  15.132   64.212723  11.886057   48.089603  43.862003\n",
            "max    3241.000000   330.314424   282.780152  385.008668  113.231044  15.132  180.454575  32.847674  102.762401  90.053604\n",
            "\n",
            "\n",
            "Number of complete duplicates in dataframe \"wire\" = 0\n"
          ]
        }
      ],
      "source": [
        "info_func(df_dict['wire'], 'wire')"
      ]
    },
    {
      "cell_type": "markdown",
      "id": "fcc5b1bd",
      "metadata": {
        "id": "fcc5b1bd"
      },
      "source": [
        "**Visualize the number of real objects in each of the features**"
      ]
    },
    {
      "cell_type": "code",
      "execution_count": 60,
      "id": "ff417a8a",
      "metadata": {
        "colab": {
          "base_uri": "https://localhost:8080/",
          "height": 595
        },
        "id": "ff417a8a",
        "outputId": "598bad17-3eb7-4787-d9e6-4376da485276"
      },
      "outputs": [
        {
          "output_type": "display_data",
          "data": {
            "text/plain": [
              "<Figure size 800x600 with 1 Axes>"
            ],
            "image/png": "[encoded data removed]"
          },
          "metadata": {}
        }
      ],
      "source": [
        "plt.figure(figsize=(8, 6))\n",
        "ax = df_dict['wire'].drop('key', axis=1).notnull().sum().plot(kind='bar')\n",
        "ax.set_title('Number of valid objects in each wire material attribute')\n",
        "ax.set_xlabel('Wire Material Category')\n",
        "ax.set_ylabel('Number of objects of this attribute')\n",
        "plt.show()"
      ]
    },
    {
      "cell_type": "code",
      "execution_count": 61,
      "id": "94bbd0bb",
      "metadata": {
        "colab": {
          "base_uri": "https://localhost:8080/"
        },
        "id": "94bbd0bb",
        "outputId": "f13007a3-5cd4-43ef-fdb5-401b261c8c32"
      },
      "outputs": [
        {
          "output_type": "stream",
          "name": "stdout",
          "text": [
            "List of categories of wire materials to be deleted: \n",
            "['Wire 5', 'Wire 7', 'Wire 4', 'Wire 8', 'Wire 9']\n"
          ]
        }
      ],
      "source": [
        "wires_to_del = df_dict['wire'].drop('key', axis=1) \\\n",
        "                     .notnull().sum().sort_values() \\\n",
        "                     .iloc[0:5].index.to_list()\n",
        "print(f'List of categories of wire materials to be deleted: \\n{wires_to_del}')"
      ]
    },
    {
      "cell_type": "markdown",
      "id": "6306bb82",
      "metadata": {
        "id": "6306bb82"
      },
      "source": [
        "**We see that the number of actual objects is very small in categories 4, 5, 7, 8, 9. Most likely, to obtain better results during modeling, it will be necessary to exclude these features in the next section.**\n",
        "\n",
        "\n",
        "**In the data of this dataframe there is a very large number of gaps; most likely this fact may be due to the specifics of the technological process, because Not all types of wire materials are added for all batches. For this reason, it is most logical to fill in the gaps in this data with zero. We will do this at the next stage of data preprocessing.**\n",
        "\n",
        "**Let's look at the distribution of data in this dataframe by unique batch number values.**"
      ]
    },
    {
      "cell_type": "code",
      "execution_count": 62,
      "id": "3f97afab",
      "metadata": {
        "colab": {
          "base_uri": "https://localhost:8080/"
        },
        "id": "3f97afab",
        "outputId": "6c058611-b305-4935-cff2-ddb6568675a8"
      },
      "outputs": [
        {
          "output_type": "execute_result",
          "data": {
            "text/plain": [
              "array([1])"
            ]
          },
          "metadata": {},
          "execution_count": 62
        }
      ],
      "source": [
        "df_dict['wire']['key'].value_counts().unique()"
      ]
    },
    {
      "cell_type": "markdown",
      "id": "3346d2e6",
      "metadata": {
        "id": "3346d2e6"
      },
      "source": [
        "**There is only one data line for each batch.**\n",
        "\n",
        "**From the previous subsection we know that the number of unique batches is at least 3241, and in this dataframe we see that the number of batches is 3081. Let’s find out which batches are missing\n",
        "in this dataframe.**"
      ]
    },
    {
      "cell_type": "code",
      "execution_count": 63,
      "id": "7bdc7458",
      "metadata": {
        "colab": {
          "base_uri": "https://localhost:8080/"
        },
        "id": "7bdc7458",
        "outputId": "f6ad7f27-cf2f-41e1-b871-2ecc9b774ba2"
      },
      "outputs": [
        {
          "output_type": "stream",
          "name": "stdout",
          "text": [
            "Numbers of batches missing from dataframe data \"wire\": [41, 42, 51, 52, 53, 54, 55, 56, 81, 82, 83, 84, 85, 88, 109, 195, 197, 209, 210, 211, 212, 269, 330, 331, 332, 355, 375, 376, 377, 378, 382, 506, 529, 540, 607, 683, 710, 711, 712, 713, 714, 715, 744, 748, 754, 755, 766, 796, 797, 798, 799, 800, 841, 929, 930, 931, 932, 933, 934, 1102, 1103, 1104, 1105, 1106, 1107, 1133, 1184, 1300, 1379, 1380, 1437, 1525, 1526, 1527, 1528, 1564, 1565, 1566, 1646, 1743, 1744, 1745, 1746, 1747, 1748, 1758, 1817, 1818, 1836, 1946, 1977, 1978, 1979, 2010, 2031, 2043, 2103, 2195, 2196, 2197, 2198, 2214, 2215, 2216, 2217, 2218, 2219, 2236, 2238, 2278, 2356, 2360, 2367, 2368, 2369, 2370, 2373, 2388, 2389, 2390, 2391, 2392, 2393, 2446, 2469, 2491, 2624, 2625, 2626, 2627, 2628, 2629, 2683, 2788, 2789, 2790, 2791, 2792, 2814, 2815, 2846, 2847, 2848, 2849, 2850, 2863, 2871, 2872, 2873, 2874, 2875, 2876, 3035, 3036, 3037, 3038, 3039, 3040, 3200, 3207]\n",
            "Number of batches missing from dataframe data \"wire\": 160\n"
          ]
        }
      ],
      "source": [
        "keys_not_in_wire = [x for x in list(range(1, 3242)) if x not in df_dict['wire']['key'].values]\n",
        "print(f'Numbers of batches missing from dataframe data \"wire\": {keys_not_in_wire}')\n",
        "print(f'Number of batches missing from dataframe data \"wire\": {len(keys_not_in_wire)}')"
      ]
    },
    {
      "cell_type": "markdown",
      "id": "d782ea6d",
      "metadata": {
        "id": "d782ea6d"
      },
      "source": [
        "**Intermediate conclusions based on data in the 'wire' dataframe containing data on the supply of wire materials (volume).**\n",
        "\n",
        "* Only one set of values appears in the data for each unique batch.\n",
        "* This dataframe does not contain data for 160 unique batches.\n",
        "* It is necessary to convert the names of signs to \"snake\" case.\n",
        "* There is a very large number of gaps in the data of this dataframe; most likely, this fact may be due to the specifics of the technological process; it is most logical to fill in the gaps in this data with zero.\n",
        "* The number of actual objects is very small in categories 4, 5, 7, 8, 9 wire materials. Most likely, to obtain better modeling results, it will be necessary to exclude these features in the next section."
      ]
    },
    {
      "cell_type": "markdown",
      "id": "9dd72725",
      "metadata": {
        "id": "9dd72725"
      },
      "source": [
        "### 2.7 Wire material data (time)"
      ]
    },
    {
      "cell_type": "code",
      "execution_count": 64,
      "id": "c0e17405",
      "metadata": {
        "colab": {
          "base_uri": "https://localhost:8080/"
        },
        "id": "c0e17405",
        "outputId": "132c0f32-e8e9-4554-9d7e-ad2108c892e7"
      },
      "outputs": [
        {
          "output_type": "stream",
          "name": "stdout",
          "text": [
            "Number of gaps in shares in the dataframe \"wire_time\" \n",
            "\n",
            "           Null%  Total  Total_Null    Type\n",
            "key     0.000000   3081           0   int64\n",
            "Wire 1  0.008439   3081          26  object\n",
            "Wire 2  0.649789   3081        2002  object\n",
            "Wire 3  0.979552   3081        3018  object\n",
            "Wire 4  0.995456   3081        3067  object\n",
            "Wire 5  0.999675   3081        3080  object\n",
            "Wire 6  0.976306   3081        3008  object\n",
            "Wire 7  0.996430   3081        3070  object\n",
            "Wire 8  0.993833   3081        3062  object\n",
            "Wire 9  0.990587   3081        3052  object\n",
            "\n",
            "\n",
            "First 5 lines in dataframe \"wire_time\" \n",
            " \n",
            "    key               Wire 1               Wire 2 Wire 3 Wire 4 Wire 5 Wire 6 Wire 7 Wire 8 Wire 9\n",
            "0    1  2019-05-03 11:06:19                  NaN    NaN    NaN    NaN    NaN    NaN    NaN    NaN\n",
            "1    2  2019-05-03 11:36:50                  NaN    NaN    NaN    NaN    NaN    NaN    NaN    NaN\n",
            "2    3  2019-05-03 12:11:46                  NaN    NaN    NaN    NaN    NaN    NaN    NaN    NaN\n",
            "3    4  2019-05-03 12:43:22                  NaN    NaN    NaN    NaN    NaN    NaN    NaN    NaN\n",
            "4    5  2019-05-03 13:20:44  2019-05-03 13:15:34    NaN    NaN    NaN    NaN    NaN    NaN    NaN \n",
            "\n",
            "\n",
            "Description of the distribution in the dataframe \"wire_time\" \n",
            "\n",
            "               key\n",
            "count  3081.000000\n",
            "mean   1623.426485\n",
            "std     932.996726\n",
            "min       1.000000\n",
            "25%     823.000000\n",
            "50%    1619.000000\n",
            "75%    2434.000000\n",
            "max    3241.000000\n",
            "\n",
            "\n",
            "Number of complete duplicates in dataframe \"wire_time\" = 0\n"
          ]
        }
      ],
      "source": [
        "info_func(df_dict['wire_time'], 'wire_time')"
      ]
    },
    {
      "cell_type": "markdown",
      "id": "089d6c7d",
      "metadata": {
        "id": "089d6c7d"
      },
      "source": [
        "**The data in this dataframe has a very large number of gaps, similar to the previous dataframe.**\n",
        "\n",
        "**It is necessary to change the data type to datetime, because all these characteristics except the batch number are responsible for time and date.**\n",
        "\n",
        "**It is necessary to convert the names of features to the “snake” case.**\n",
        "\n",
        "**Let's look at the distribution of data in this dataframe by unique batch number values.**"
      ]
    },
    {
      "cell_type": "code",
      "execution_count": 65,
      "id": "3b339a17",
      "metadata": {
        "colab": {
          "base_uri": "https://localhost:8080/"
        },
        "id": "3b339a17",
        "outputId": "8773b060-a60e-4828-d78e-7706dcf4b01b"
      },
      "outputs": [
        {
          "output_type": "execute_result",
          "data": {
            "text/plain": [
              "array([1])"
            ]
          },
          "metadata": {},
          "execution_count": 65
        }
      ],
      "source": [
        "df_dict['wire_time']['key'].value_counts().unique()"
      ]
    },
    {
      "cell_type": "markdown",
      "id": "e1003122",
      "metadata": {
        "id": "e1003122"
      },
      "source": [
        "**There is only one data line for each batch.**\n",
        "\n",
        "**From the previous subsection we know that the number of unique batches is at least 3241, and in this dataframe we see that the number of batches is 3081. Let’s find out which batches are missing\n",
        "in this dataframe.**"
      ]
    },
    {
      "cell_type": "code",
      "execution_count": 66,
      "id": "c9918575",
      "metadata": {
        "colab": {
          "base_uri": "https://localhost:8080/"
        },
        "id": "c9918575",
        "outputId": "57c143fc-d271-4943-8ea8-f0210fd47e7c"
      },
      "outputs": [
        {
          "output_type": "stream",
          "name": "stdout",
          "text": [
            "Batch numbers missing from dataframe data \"wire_time\": [41, 42, 51, 52, 53, 54, 55, 56, 81, 82, 83, 84, 85, 88, 109, 195, 197, 209, 210, 211, 212, 269, 330, 331, 332, 355, 375, 376, 377, 378, 382, 506, 529, 540, 607, 683, 710, 711, 712, 713, 714, 715, 744, 748, 754, 755, 766, 796, 797, 798, 799, 800, 841, 929, 930, 931, 932, 933, 934, 1102, 1103, 1104, 1105, 1106, 1107, 1133, 1184, 1300, 1379, 1380, 1437, 1525, 1526, 1527, 1528, 1564, 1565, 1566, 1646, 1743, 1744, 1745, 1746, 1747, 1748, 1758, 1817, 1818, 1836, 1946, 1977, 1978, 1979, 2010, 2031, 2043, 2103, 2195, 2196, 2197, 2198, 2214, 2215, 2216, 2217, 2218, 2219, 2236, 2238, 2278, 2356, 2360, 2367, 2368, 2369, 2370, 2373, 2388, 2389, 2390, 2391, 2392, 2393, 2446, 2469, 2491, 2624, 2625, 2626, 2627, 2628, 2629, 2683, 2788, 2789, 2790, 2791, 2792, 2814, 2815, 2846, 2847, 2848, 2849, 2850, 2863, 2871, 2872, 2873, 2874, 2875, 2876, 3035, 3036, 3037, 3038, 3039, 3040, 3200, 3207]\n",
            "Number of batches missing from dataframe data \"wire_time\": 160\n"
          ]
        }
      ],
      "source": [
        "keys_not_in_wire_time = [x for x in list(range(1, 3242)) if x not in df_dict['wire_time']['key'].values]\n",
        "print(f'Batch numbers missing from dataframe data \"wire_time\": {keys_not_in_wire_time}')\n",
        "print(f'Number of batches missing from dataframe data \"wire_time\": {len(keys_not_in_wire_time)}')"
      ]
    },
    {
      "cell_type": "markdown",
      "id": "5e270b08",
      "metadata": {
        "id": "5e270b08"
      },
      "source": [
        "**Intermediate conclusions based on the data in the 'wire_time' dataframe containing data on the supply of wire materials (time).**\n",
        "\n",
        "* Only one set of values appears in the data for each unique batch.\n",
        "* This dataframe does not contain data for 160 unique batches.\n",
        "* Convert the type of attributes responsible for date and time (all except key) to datetime.\n",
        "* It is necessary to convert the names of signs to \"snake\" case.\n",
        "* There is a very large number of gaps in the data of this dataframe; most likely, this fact may be due to the specifics of the technological process; it is most logical to fill in the gaps in this data with zero if a decision is made to use this data."
      ]
    },
    {
      "cell_type": "markdown",
      "id": "68e983cc",
      "metadata": {
        "id": "68e983cc"
      },
      "source": [
        "### 2.8 Main conclusions of the section in the key to the further data preprocessing plan\n",
        "* Do not use data on the feeding time of bulk materials and wire materials, because We do not use time series and the influence of this data on the target attribute cannot be great; we will limit ourselves only to data on the data volumes of two types of materials.\n",
        "* From all further used dataframes we delete data that corresponds to batch numbers from the generated list for deletion, due to anomalous values and gaps in temperature.\n",
        "* Due to the small number of actual objects, we exclude from further analysis signs 4, 5, 7, 8, 9 wire materials and 2, 7, 8, 9, 13 bulk materials in the next section.\n",
        "* Gaps in the data on the supply of bulk and wire materials are filled in with 0.\n",
        "* It is necessary to change the type of some features and rename them in accordance with the “snake” register in English. language.\n",
        "* Creation of new features: active energy for each unique batch, as well as total power, both active and reactive, for each unique batch.\n",
        "* Of the temperature data, only the first temperature measurement should be used as a characteristic, and the last temperature measurement for a unique batch should be used as a target characteristic.\n",
        "* Data merging will occur based on the key attribute - batch number.\n",
        "* There are no questions to the customer at the moment, the introductory technological process is clear."
      ]
    },
    {
      "cell_type": "markdown",
      "id": "076d84af",
      "metadata": {
        "id": "076d84af"
      },
      "source": [
        "## 3. Data preprocessing"
      ]
    },
    {
      "cell_type": "markdown",
      "id": "f83d2161",
      "metadata": {
        "id": "f83d2161"
      },
      "source": [
        "### 3.1 Deleting data associated with selected batches"
      ]
    },
    {
      "cell_type": "markdown",
      "id": "a685228a",
      "metadata": {
        "id": "a685228a"
      },
      "source": [
        "**We act based on the main conclusions after studying the data above.**\n",
        "\n",
        "**Let's create a new dataframe dictionary without two dataframes wire_time and bulk_time, because we exclude them from further work. We will remove from the dataframe data information about batches that are not suitable for subsequent analysis and modeling.**"
      ]
    },
    {
      "cell_type": "code",
      "execution_count": 67,
      "id": "0a03c6d0",
      "metadata": {
        "colab": {
          "base_uri": "https://localhost:8080/"
        },
        "id": "0a03c6d0",
        "outputId": "e8593724-3c23-4837-d8b5-150893d27243"
      },
      "outputs": [
        {
          "output_type": "stream",
          "name": "stdout",
          "text": [
            "Size of dataframe \"arc\" before deleting batches: (14876, 5)\n",
            "Size of dataframe \"arc\" after deleting batches: (11428, 5) \n",
            "\n",
            "First lines of dataframe \"arc\" after deleting batches: \n",
            "   key Start of arc heating   End of arc heating  Active power  Reactive power\n",
            "0    1  2019-05-03 11:02:14  2019-05-03 11:06:02      0.305130        0.211253\n",
            "1    1  2019-05-03 11:07:28  2019-05-03 11:10:33      0.765658        0.477438\n",
            " ---------------------------------------------------------------------------\n",
            "Size of dataframe \"bulk\" before deleting batches: (3129, 16)\n",
            "Size of dataframe \"bulk\" after deleting batches: (2402, 16) \n",
            "\n",
            "First lines of dataframe \"bulk\" after deleting batches: \n",
            "   key  Bulk 1  Bulk 2  Bulk 3  Bulk 4  Bulk 5  Bulk 6  Bulk 7  Bulk 8  Bulk 9  Bulk 10  Bulk 11  Bulk 12  Bulk 13  Bulk 14  Bulk 15\n",
            "0    1     NaN     NaN     NaN    43.0     NaN     NaN     NaN     NaN     NaN      NaN      NaN    206.0      NaN    150.0    154.0\n",
            "1    2     NaN     NaN     NaN    73.0     NaN     NaN     NaN     NaN     NaN      NaN      NaN    206.0      NaN    149.0    154.0\n",
            " ---------------------------------------------------------------------------\n",
            "Size of dataframe \"gas\" before deleting batches: (3239, 2)\n",
            "Size of dataframe \"gas\" after deleting batches: (2493, 2) \n",
            "\n",
            "First lines of dataframe \"gas\" after deleting batches: \n",
            "   key      Gas 1\n",
            "0    1  29.749986\n",
            "1    2  12.555561\n",
            " ---------------------------------------------------------------------------\n",
            "Size of dataframe \"temp\" before deleting batches: (18092, 3)\n",
            "Size of dataframe \"temp\" after deleting batches: (13898, 3) \n",
            "\n",
            "First lines of dataframe \"temp\" after deleting batches: \n",
            "   key     Measurement time  Temperature\n",
            "0    1  2019-05-03 11:02:04       1571.0\n",
            "1    1  2019-05-03 11:07:18       1604.0\n",
            " ---------------------------------------------------------------------------\n",
            "Size of dataframe \"wire\" before deleting batches: (3081, 10)\n",
            "Size of dataframe \"wire\" after deleting batches: (2367, 10) \n",
            "\n",
            "First lines of dataframe \"wire\" after deleting batches: \n",
            "   key     Wire 1  Wire 2  Wire 3  Wire 4  Wire 5  Wire 6  Wire 7  Wire 8  Wire 9\n",
            "0    1  60.059998     NaN     NaN     NaN     NaN     NaN     NaN     NaN     NaN\n",
            "1    2  96.052315     NaN     NaN     NaN     NaN     NaN     NaN     NaN     NaN\n",
            " ---------------------------------------------------------------------------\n"
          ]
        }
      ],
      "source": [
        "#create a new dictionary with filtered dataframes\n",
        "df_dict_f = {key: value for key, value in df_dict.items() if key not in ['bulk_time', 'wire_time']}\n",
        "\n",
        "#delete records associated with filtered batches\n",
        "for key in df_dict_f:\n",
        "     print(f'Size of dataframe \"{key}\" before deleting batches: {df_dict[key].shape}')\n",
        "     df_dict_f[key] = df_dict_f[key][~df_dict_f[key]['key'].isin(unique_keys_to_del)]\n",
        "     print(f'Size of dataframe \"{key}\" after deleting batches: {df_dict_f[key].shape} \\n')\n",
        "     print(f'First lines of dataframe \"{key}\" after deleting batches: \\n{df_dict_f[key].head(2)}\\n', '-'*75)"
      ]
    },
    {
      "cell_type": "markdown",
      "id": "21585c62",
      "metadata": {
        "id": "21585c62"
      },
      "source": [
        "### 3.2 Removing unnecessary features"
      ]
    },
    {
      "cell_type": "markdown",
      "id": "ca1cd8a6",
      "metadata": {
        "id": "ca1cd8a6"
      },
      "source": [
        "**We will exclude from the dataframes about bulk and wire materials the features that correspond to the selected categories with a small number of objects.**"
      ]
    },
    {
      "cell_type": "code",
      "execution_count": 68,
      "id": "b2f6da72",
      "metadata": {
        "colab": {
          "base_uri": "https://localhost:8080/"
        },
        "id": "b2f6da72",
        "outputId": "c4fb7218-46ea-4d39-9711-d169ad55ac3d"
      },
      "outputs": [
        {
          "output_type": "stream",
          "name": "stdout",
          "text": [
            "Characteristics in the dataframe \"bulk\" before deletion: \n",
            "['key', 'Bulk 1', 'Bulk 2', 'Bulk 3', 'Bulk 4', 'Bulk 5', 'Bulk 6', 'Bulk 7', 'Bulk 8', 'Bulk 9', 'Bulk 10', 'Bulk 11', 'Bulk 12', 'Bulk 13', 'Bulk 14', 'Bulk 15']\n",
            "\n",
            "Size of dataframe \"bulk\" before deletion: (2402, 16)\n",
            "Size of dataframe \"bulk\" after deletion: (2402, 11) \n",
            "\n",
            "First lines of dataframe \"bulk\" after deletion: \n",
            "   key  Bulk 1  Bulk 3  Bulk 4  Bulk 5  Bulk 6  Bulk 10  Bulk 11  Bulk 12  Bulk 14  Bulk 15\n",
            "0    1     NaN     NaN    43.0     NaN     NaN      NaN      NaN    206.0    150.0    154.0\n",
            "1    2     NaN     NaN    73.0     NaN     NaN      NaN      NaN    206.0    149.0    154.0\n",
            " ---------------------------------------------------------------------------\n",
            "Characteristics in the dataframe \"wire\" before deletion: \n",
            "['key', 'Wire 1', 'Wire 2', 'Wire 3', 'Wire 4', 'Wire 5', 'Wire 6', 'Wire 7', 'Wire 8', 'Wire 9']\n",
            "\n",
            "Size of dataframe \"wire\" before deletion: (2367, 10)\n",
            "Size of dataframe \"wire\" after deletion: (2367, 5) \n",
            "\n",
            "First lines of dataframe \"wire\" after deletion: \n",
            "   key     Wire 1  Wire 2  Wire 3  Wire 6\n",
            "0    1  60.059998     NaN     NaN     NaN\n",
            "1    2  96.052315     NaN     NaN     NaN\n",
            " ---------------------------------------------------------------------------\n"
          ]
        }
      ],
      "source": [
        "def drop_col(key, list_col):\n",
        "     print(f'Characteristics in the dataframe \"{key}\" before deletion: \\n{df_dict_f[key].columns.to_list()}\\n')\n",
        "     print(f'Size of dataframe \"{key}\" before deletion: {df_dict_f[key].shape}')\n",
        "     df_dict_f[key] = df_dict_f[key].drop(list_col, axis=1)\n",
        "     print(f'Size of dataframe \"{key}\" after deletion: {df_dict_f[key].shape} \\n')\n",
        "     print(f'First lines of dataframe \"{key}\" after deletion: \\n{df_dict_f[key].head(2)}\\n', '-'*75)\n",
        "     return\n",
        "\n",
        "drop_col('bulk', bulks_to_del)\n",
        "drop_col('wire', wires_to_del)"
      ]
    },
    {
      "cell_type": "markdown",
      "id": "5c655fb4",
      "metadata": {
        "id": "5c655fb4"
      },
      "source": [
        "### 3.3 Filling gaps in data"
      ]
    },
    {
      "cell_type": "markdown",
      "id": "a45c55e1",
      "metadata": {
        "id": "a45c55e1"
      },
      "source": [
        "**Let us now fill in the gaps in the data on bulk and wire materials with zero values.**"
      ]
    },
    {
      "cell_type": "code",
      "execution_count": 69,
      "id": "8ff4409e",
      "metadata": {
        "colab": {
          "base_uri": "https://localhost:8080/"
        },
        "id": "8ff4409e",
        "outputId": "597ac260-ca8f-4dfd-f732-b0a7326a7a4a"
      },
      "outputs": [
        {
          "output_type": "stream",
          "name": "stdout",
          "text": [
            "Total number of omissions in all features dataframe \"bulk\" = 15555\n",
            "Size of dataframe \"bulk\" before gap filling: (2402, 11) \n",
            "\n",
            "Total number of gaps in all features of the dataframe \"bulk\" after filling in the blanks = 0\n",
            "Size of dataframe \"bulk\" after filling in the blanks: (2402, 11) \n",
            "\n",
            "First lines of the dataframe \"bulk\" after filling in the gaps: \n",
            "   key  Bulk 1  Bulk 3  Bulk 4  Bulk 5  Bulk 6  Bulk 10  Bulk 11  Bulk 12  Bulk 14  Bulk 15\n",
            "0    1     0.0     0.0    43.0     0.0     0.0      0.0      0.0    206.0    150.0    154.0\n",
            "1    2     0.0     0.0    73.0     0.0     0.0      0.0      0.0    206.0    149.0    154.0\n",
            " ---------------------------------------------------------------------------\n",
            "Total number of omissions in all features dataframe \"wire\" = 6210\n",
            "Size of dataframe \"wire\" before gap filling: (2367, 5) \n",
            "\n",
            "Total number of gaps in all features of the dataframe \"wire\" after filling in the blanks = 0\n",
            "Size of dataframe \"wire\" after filling in the blanks: (2367, 5) \n",
            "\n",
            "First lines of the dataframe \"wire\" after filling in the gaps: \n",
            "   key     Wire 1  Wire 2  Wire 3  Wire 6\n",
            "0    1  60.059998     0.0     0.0     0.0\n",
            "1    2  96.052315     0.0     0.0     0.0\n",
            " ---------------------------------------------------------------------------\n"
          ]
        }
      ],
      "source": [
        "for key in ['bulk', 'wire']:\n",
        "     print(f'Total number of omissions in all features '\n",
        "           f'dataframe \"{key}\" = {df_dict_f[key].isna().sum().sum()}')\n",
        "     print(f'Size of dataframe \"{key}\" before gap filling: {df_dict_f[key].shape} \\n')\n",
        "     df_dict_f[key] = df_dict_f[key].fillna(0)\n",
        "     print(f'Total number of gaps in all features of the dataframe '\n",
        "           f'\"{key}\" after filling in the blanks = {df_dict_f[key].isna().sum().sum()}')\n",
        "     print(f'Size of dataframe \"{key}\" after filling in the blanks: {df_dict_f[key].shape} \\n')\n",
        "     print(f'First lines of the dataframe \"{key}\" after filling in the gaps: \\n{df_dict_f[key].head(2)}\\n', '-'*75)"
      ]
    },
    {
      "cell_type": "markdown",
      "id": "b5513bb7",
      "metadata": {
        "id": "b5513bb7"
      },
      "source": [
        "### 3.4 Renaming features"
      ]
    },
    {
      "cell_type": "markdown",
      "id": "946a025c",
      "metadata": {
        "id": "946a025c"
      },
      "source": [
        "**We present the names of the features in accordance with the “snake” register in English. language.**"
      ]
    },
    {
      "cell_type": "code",
      "execution_count": 71,
      "id": "acff74da",
      "metadata": {
        "colab": {
          "base_uri": "https://localhost:8080/"
        },
        "id": "acff74da",
        "outputId": "ecc121af-4565-4729-9aab-a5c011240fbe"
      },
      "outputs": [
        {
          "output_type": "stream",
          "name": "stdout",
          "text": [
            "Characters in the dataframe \"arc\" before renaming: \n",
            "['key', 'start_heat_time', 'end_heat_time', 'active_power', 'reactive_power']\n",
            "\n",
            "Size of dataframe \"arc\" before gap filling: (11428, 5)\n",
            "Size of dataframe \"arc\" after renaming: (11428, 5) \n",
            "\n",
            "First lines of dataframe \"arc\" after renaming: \n",
            "   key      start_heat_time        end_heat_time  active_power  reactive_power\n",
            "0    1  2019-05-03 11:02:14  2019-05-03 11:06:02      0.305130        0.211253\n",
            "1    1  2019-05-03 11:07:28  2019-05-03 11:10:33      0.765658        0.477438\n",
            " ---------------------------------------------------------------------------\n",
            "Features in the dataframe \"gas\" before renaming: \n",
            "['key', 'gas1']\n",
            "\n",
            "Size of dataframe \"gas\" before renaming: (2493, 2)\n",
            "Size of dataframe \"gas\" after renaming: (2493, 2) \n",
            "\n",
            "First lines of dataframe \"gas\" after renaming: \n",
            "   key       gas1\n",
            "0    1  29.749986\n",
            "1    2  12.555561\n",
            " ---------------------------------------------------------------------------\n",
            "Characters in the dataframe \"temp\" before renaming: \n",
            "['key', 'Measurement time', 'temperature']\n",
            "\n",
            "Size of dataframe \"temp\" before renaming: (13898, 3)\n",
            "Size of dataframe \"temp\" after renaming: (13898, 3) \n",
            "\n",
            "First lines of dataframe \"temp\" after renaming: \n",
            "   key            meas_time  temperature\n",
            "0    1  2019-05-03 11:02:04       1571.0\n",
            "1    1  2019-05-03 11:07:18       1604.0\n",
            " ---------------------------------------------------------------------------\n",
            "Characteristics in the dataframe \"bulk\" before renaming: \n",
            "['key', 'bulk1', 'bulk3', 'bulk4', 'bulk5', 'bulk6', 'bulk10', 'bulk11', 'bulk12', 'bulk14', 'bulk15']\n",
            "\n",
            "Size of dataframe \"bulk\" before renaming: (2402, 11)\n",
            "Size of dataframe \"bulk\" after renaming: (2402, 11) \n",
            "\n",
            "First lines of dataframe \"bulk\" after renaming: \n",
            "   key  bulk1  bulk3  bulk4  bulk5  bulk6  bulk10  bulk11  bulk12  bulk14  bulk15\n",
            "0    1    0.0    0.0   43.0    0.0    0.0     0.0     0.0   206.0   150.0   154.0\n",
            "1    2    0.0    0.0   73.0    0.0    0.0     0.0     0.0   206.0   149.0   154.0\n",
            " ---------------------------------------------------------------------------\n",
            "Characteristics in the dataframe \"wire\" before renaming: \n",
            "['key', 'wire1', 'wire2', 'wire3', 'wire6']\n",
            "\n",
            "Size of dataframe \"wire\" before renaming: (2367, 5)\n",
            "Size of dataframe \"wire\" after renaming: (2367, 5) \n",
            "\n",
            "First lines of dataframe \"wire\" after renaming: \n",
            "   key      wire1  wire2  wire3  wire6\n",
            "0    1  60.059998    0.0    0.0    0.0\n",
            "1    2  96.052315    0.0    0.0    0.0\n",
            " ---------------------------------------------------------------------------\n"
          ]
        }
      ],
      "source": [
        "print(f'Characters in the dataframe \"arc\" before renaming: \\n{df_dict_f[\"arc\"].columns.to_list()}\\n')\n",
        "print(f'Size of dataframe \"arc\" before gap filling: {df_dict_f[\"arc\"].shape}')\n",
        "df_dict_f['arc'] = df_dict_f['arc'].rename(columns={'Start of arc heating': 'start_heat_time',\n",
        "                                  'End of arc heating': 'end_heat_time',\n",
        "                                  'Active power': 'active_power',\n",
        "                                  'Reactive power': 'reactive_power'})\n",
        "print(f'Size of dataframe \"arc\" after renaming: {df_dict_f[\"arc\"].shape} \\n')\n",
        "print(f'First lines of dataframe \"arc\" after renaming: \\n{df_dict_f[\"arc\"].head(2)}\\n', '-'*75)\n",
        "\n",
        "print(f'Features in the dataframe \"gas\" before renaming: \\n{df_dict_f[\"gas\"].columns.to_list()}\\n')\n",
        "print(f'Size of dataframe \"gas\" before renaming: {df_dict_f[\"gas\"].shape}')\n",
        "df_dict_f['gas'] = df_dict_f['gas'].rename(columns={'Gas 1': 'gas1'})\n",
        "print(f'Size of dataframe \"gas\" after renaming: {df_dict_f[\"gas\"].shape} \\n')\n",
        "print(f'First lines of dataframe \"gas\" after renaming: \\n{df_dict_f[\"gas\"].head(2)}\\n', '-'*75)\n",
        "\n",
        "print(f'Characters in the dataframe \"temp\" before renaming: \\n{df_dict_f[\"temp\"].columns.to_list()}\\n')\n",
        "print(f'Size of dataframe \"temp\" before renaming: {df_dict_f[\"temp\"].shape}')\n",
        "df_dict_f['temp'] = df_dict_f['temp'].rename(columns={'Measurement time': 'meas_time',\n",
        "                                  'Temperature': 'temperature'})\n",
        "print(f'Size of dataframe \"temp\" after renaming: {df_dict_f[\"temp\"].shape} \\n')\n",
        "print(f'First lines of dataframe \"temp\" after renaming: \\n{df_dict_f[\"temp\"].head(2)}\\n', '-'*75)\n",
        "\n",
        "def ren_col_del_space(key):\n",
        "     col_dict = {}\n",
        "     for col in df_dict_f[key].columns.to_list():\n",
        "         col_dict[col] = \"\".join(col.split()).lower()\n",
        "     print(f'Characteristics in the dataframe \"{key}\" before renaming: \\n{df_dict_f[key].columns.to_list()}\\n')\n",
        "     print(f'Size of dataframe \"{key}\" before renaming: {df_dict_f[key].shape}')\n",
        "     df_dict_f[key] = df_dict_f[key].rename(columns=col_dict)\n",
        "     print(f'Size of dataframe \"{key}\" after renaming: {df_dict_f[key].shape} \\n')\n",
        "     print(f'First lines of dataframe \"{key}\" after renaming: \\n{df_dict_f[key].head(2)}\\n', '-'*75)\n",
        "     return\n",
        "\n",
        "ren_col_del_space('bulk')\n",
        "ren_col_del_space('wire')"
      ]
    },
    {
      "cell_type": "markdown",
      "id": "bb9a1e0b",
      "metadata": {
        "id": "bb9a1e0b"
      },
      "source": [
        "### 3.5 Casting data types to the correct ones"
      ]
    },
    {
      "cell_type": "markdown",
      "id": "e05872dd",
      "metadata": {
        "id": "e05872dd"
      },
      "source": [
        "**We will make appropriate changes to data types in a number of dataframes.**"
      ]
    },
    {
      "cell_type": "code",
      "execution_count": 72,
      "id": "fab8c3e7",
      "metadata": {
        "colab": {
          "base_uri": "https://localhost:8080/"
        },
        "id": "fab8c3e7",
        "outputId": "c3fe4df8-2734-4cbb-845f-1201ef5177dd"
      },
      "outputs": [
        {
          "output_type": "stream",
          "name": "stdout",
          "text": [
            "Size of dataframe \"arc\" before changing types: (11428, 5)\n",
            "Size of dataframe \"arc\" after changing types: (11428, 5) \n",
            "\n",
            "Feature types in dataframe \"arc\" after update: \n",
            "key                         int64\n",
            "start_heat_time    datetime64[ns]\n",
            "end_heat_time      datetime64[ns]\n",
            "active_power              float64\n",
            "reactive_power            float64\n",
            "dtype: object\n",
            "\n",
            "First lines of dataframe \"arc\" after changing types: \n",
            "   key     start_heat_time       end_heat_time  active_power  reactive_power\n",
            "0    1 2019-05-03 11:02:14 2019-05-03 11:06:02      0.305130        0.211253\n",
            "1    1 2019-05-03 11:07:28 2019-05-03 11:10:33      0.765658        0.477438\n",
            " ---------------------------------------------------------------------------\n",
            "Size of dataframe \"temp\" before changing types: (13898, 3)\n",
            "Size of dataframe \"temp\" after changing types: (13898, 3) \n",
            "\n",
            "Feature types in dataframe \"temp\" after update: \n",
            "key                     int64\n",
            "meas_time      datetime64[ns]\n",
            "temperature           float64\n",
            "dtype: object\n",
            "\n",
            "First lines of dataframe \"temp\" after changing types: \n",
            "   key           meas_time  temperature\n",
            "0    1 2019-05-03 11:02:04       1571.0\n",
            "1    1 2019-05-03 11:07:18       1604.0\n",
            " ---------------------------------------------------------------------------\n"
          ]
        }
      ],
      "source": [
        "def col_to_datetime(key, col_list):\n",
        "     if isinstance(col_list, str):\n",
        "         col_list = [col_list]\n",
        "     for col in col_list:\n",
        "         df_dict_f[key][col] = pd.to_datetime(df_dict_f[key].copy()[col])\n",
        "     print(f'Size of dataframe \"{key}\" before changing types: {df_dict_f[key].shape}')\n",
        "     print(f'Size of dataframe \"{key}\" after changing types: {df_dict_f[key].shape} \\n')\n",
        "     print(f'Feature types in dataframe \"{key}\" after update: \\n{df_dict_f[key].dtypes}\\n')\n",
        "     print(f'First lines of dataframe \"{key}\" after changing types: \\n{df_dict_f[key].head(2)}\\n', '-'*75)\n",
        "     return\n",
        "\n",
        "col_to_datetime('arc', ['start_heat_time', 'end_heat_time'])\n",
        "col_to_datetime('temp', 'meas_time')"
      ]
    },
    {
      "cell_type": "markdown",
      "id": "7ebd0d03",
      "metadata": {
        "id": "7ebd0d03"
      },
      "source": [
        "### 3.6 Creating new features"
      ]
    },
    {
      "cell_type": "markdown",
      "id": "15f94af0",
      "metadata": {
        "id": "15f94af0"
      },
      "source": [
        "**After applying all the changes, we will work with the “arc” dataframe, namely: we will create new signs - the total expended active energy for each unique batch, as well as the total active and reactive power for each unique batch.**\n",
        "\n",
        "**Obviously, for heating steel in a ladle, the indicated power values ​​are measured in MW, accordingly, the obtained active energy by multiplying the active power by the time delta in seconds will be expressed in MJ.**"
      ]
    },
    {
      "cell_type": "code",
      "execution_count": 73,
      "id": "f1c503cb",
      "metadata": {
        "colab": {
          "base_uri": "https://localhost:8080/"
        },
        "id": "f1c503cb",
        "outputId": "fe5dec89-1849-44d3-d424-1987a437c5a5"
      },
      "outputs": [
        {
          "output_type": "stream",
          "name": "stdout",
          "text": [
            "Size of dataframe \"arc\" before data aggregation: (11428, 8) \n",
            "\n",
            "Size of dataframe \"arc_new\" after data aggregation: (2470, 4) \n",
            "\n",
            "First lines of dataframe \"arc_new\" after data aggregation: \n",
            "   key  active_power  reactive_power  active_energy\n",
            "0    1      3.036730        2.142821     628.616930\n",
            "1    2      2.139408        1.453357     395.281800\n",
            "2    3      4.063641        2.937457     581.774624\n"
          ]
        }
      ],
      "source": [
        "#create a new variable - time delta\n",
        "df_dict_f['arc']['delta_time'] = df_dict_f['arc']['end_heat_time'] - df_dict_f['arc']['start_heat_time']\n",
        "\n",
        "#create a new variable - time delta in seconds\n",
        "df_dict_f['arc']['seconds'] = (df_dict_f['arc']['delta_time'].astype(int) / 10**9).astype(int)\n",
        "\n",
        "# create a new variable - active energy in MJ\n",
        "df_dict_f['arc']['active_energy'] = df_dict_f['arc']['active_power'] * df_dict_f['arc']['seconds']\n",
        "\n",
        "# group by batch number and find the total values of active and reactive power,\n",
        "#as well as active energy for each unique batch\n",
        "df_dict_f['arc_new'] = df_dict_f['arc'].copy()[['key', 'active_power', 'reactive_power', 'active_energy']] \\\n",
        "       .groupby('key').sum().reset_index()\n",
        "print(f'Size of dataframe \"arc\" before data aggregation: {df_dict_f[\"arc\"].shape} \\n')\n",
        "print(f'Size of dataframe \"arc_new\" after data aggregation: {df_dict_f[\"arc_new\"].shape} \\n')\n",
        "print(f'First lines of dataframe \"arc_new\" after data aggregation: \\n{df_dict_f[\"arc_new\"].head(3)}')"
      ]
    },
    {
      "cell_type": "markdown",
      "id": "72a630b4",
      "metadata": {
        "id": "72a630b4"
      },
      "source": [
        "**From a dataframe with temperature data, only the first temperature measurement should be used as a feature, and the last temperature measurement for a unique batch should be used as a target feature. Let's create a new dataframe with aggregated data.**\n",
        "\n",
        "**First, let's check if there are any duplicate time and date values in the data.**"
      ]
    },
    {
      "cell_type": "code",
      "execution_count": 74,
      "id": "64004dee",
      "metadata": {
        "colab": {
          "base_uri": "https://localhost:8080/"
        },
        "id": "64004dee",
        "outputId": "92399d3d-887e-4af3-e175-a9f0aa1dd704"
      },
      "outputs": [
        {
          "output_type": "stream",
          "name": "stdout",
          "text": [
            "Number of duplicates in the attribute \"meas_time\" = 0\n"
          ]
        }
      ],
      "source": [
        "print(f'Number of duplicates in the attribute \"meas_time\" = {df_dict_f[\"temp\"][\"meas_time\"].duplicated().sum()}')"
      ]
    },
    {
      "cell_type": "code",
      "execution_count": 75,
      "id": "cbf177ce",
      "metadata": {
        "colab": {
          "base_uri": "https://localhost:8080/"
        },
        "id": "cbf177ce",
        "outputId": "a7bfce94-4cf9-4ac5-b507-04e39ff19da3"
      },
      "outputs": [
        {
          "output_type": "stream",
          "name": "stdout",
          "text": [
            "Size of the new received dataframe \"temp_new\": (2470, 3)\n",
            "\n",
            "First 2 lines of dataframe \"temp_new\": \n",
            "   key  temperature_x  temperature_y\n",
            "0    1         1571.0         1613.0\n",
            "1    2         1581.0         1602.0\n",
            "\n",
            "First 7 lines of dataframe \"temp\": \n",
            "   key           meas_time  temperature\n",
            "0    1 2019-05-03 11:02:04       1571.0\n",
            "1    1 2019-05-03 11:07:18       1604.0\n",
            "2    1 2019-05-03 11:11:34       1618.0\n",
            "3    1 2019-05-03 11:18:04       1601.0\n",
            "4    1 2019-05-03 11:25:59       1606.0\n",
            "5    1 2019-05-03 11:30:38       1613.0\n",
            "6    2 2019-05-03 11:34:04       1581.0\n",
            "\n"
          ]
        }
      ],
      "source": [
        "#group by batch number and apply the minimum and maximum function measurement time to the attribute,\n",
        "#remove the batch number attribute, because later it will be combined with the original dataframe, which will not repeat the key attribute\n",
        "df_gr = df_dict_f['temp'].copy().groupby('key')['meas_time'].agg(['min', 'max']).reset_index().drop('key', axis= 1)\n",
        "\n",
        "#merge by date/time tag, because there are no duplicates in this attribute\n",
        "temp_x = pd.merge(df_dict_f['temp'], df_gr, left_on='meas_time', right_on='min')\n",
        "temp_y = pd.merge(df_dict_f['temp'], df_gr, left_on='meas_time', right_on='max')\n",
        "\n",
        "#merge into a single new dataframe, where temp_x is a feature, and temp_y is a target feature\n",
        "df_dict_f['temp_new'] = pd.merge(temp_x, temp_y, on='key')[['key','temperature_x', 'temperature_y']]\n",
        "\n",
        "print(f'Size of the new received dataframe \"temp_new\": {df_dict_f[\"temp_new\"].shape}\\n')\n",
        "print(f'First 2 lines of dataframe \"temp_new\": \\n{df_dict_f[\"temp_new\"].head(2)}\\n')\n",
        "print(f'First 7 lines of dataframe \"temp\": \\n{df_dict_f[\"temp\"].head(7)}\\n')"
      ]
    },
    {
      "cell_type": "markdown",
      "id": "14fa1ff5",
      "metadata": {
        "id": "14fa1ff5"
      },
      "source": [
        "**From the first batch you can see that the data aggregation was performed correctly.**\n",
        "\n",
        "**In the created new dataframe 'temp_new': temperature_x - attribute, temperature_y - target attribute.**\n",
        "\n",
        "**Now we will combine all the new dataframes into a single common one, we will do the union by batch number - the key attribute.**"
      ]
    },
    {
      "cell_type": "markdown",
      "id": "5ed2c08e",
      "metadata": {
        "id": "5ed2c08e"
      },
      "source": [
        "### 3.7 Creating new aggregated dataframes and analyzing them"
      ]
    },
    {
      "cell_type": "code",
      "execution_count": 76,
      "id": "5927abaa",
      "metadata": {
        "colab": {
          "base_uri": "https://localhost:8080/"
        },
        "id": "5927abaa",
        "outputId": "0072c55c-43ac-4129-d3df-9d6abba96f23"
      },
      "outputs": [
        {
          "output_type": "stream",
          "name": "stdout",
          "text": [
            "Size of final dataframe \"df\": (2324, 20)\n",
            "Information about the final dataframe \"df\", which we will use for modeling: \n",
            "\n",
            "<class 'pandas.core.frame.DataFrame'>\n",
            "Int64Index: 2324 entries, 0 to 2323\n",
            "Data columns (total 20 columns):\n",
            " #   Column          Non-Null Count  Dtype  \n",
            "---  ------          --------------  -----  \n",
            " 0   bulk1           2324 non-null   float64\n",
            " 1   bulk3           2324 non-null   float64\n",
            " 2   bulk4           2324 non-null   float64\n",
            " 3   bulk5           2324 non-null   float64\n",
            " 4   bulk6           2324 non-null   float64\n",
            " 5   bulk10          2324 non-null   float64\n",
            " 6   bulk11          2324 non-null   float64\n",
            " 7   bulk12          2324 non-null   float64\n",
            " 8   bulk14          2324 non-null   float64\n",
            " 9   bulk15          2324 non-null   float64\n",
            " 10  gas1            2324 non-null   float64\n",
            " 11  wire1           2324 non-null   float64\n",
            " 12  wire2           2324 non-null   float64\n",
            " 13  wire3           2324 non-null   float64\n",
            " 14  wire6           2324 non-null   float64\n",
            " 15  active_power    2324 non-null   float64\n",
            " 16  reactive_power  2324 non-null   float64\n",
            " 17  active_energy   2324 non-null   float64\n",
            " 18  temperature_x   2324 non-null   float64\n",
            " 19  temperature_y   2324 non-null   float64\n",
            "dtypes: float64(20)\n",
            "memory usage: 381.3 KB\n"
          ]
        }
      ],
      "source": [
        "#now create a list with the names of dataframes, which we will further combine\n",
        "list_keys = [x for x in list(df_dict_f) if x not in ['arc', 'temp', 'bulk']]\n",
        "\n",
        "#create a new dataframe with which we will further combine all the others\n",
        "df = df_dict_f['bulk']\n",
        "\n",
        "for key in list_keys:\n",
        "     df = df.merge(df_dict_f[key], on='key')\n",
        "\n",
        "#remove the batch number from the final dataframe, because now it is useless and was needed only to generate the final data frame\n",
        "df = df.drop('key', axis=1)\n",
        "\n",
        "print(f'Size of final dataframe \"df\": {df.shape}')\n",
        "print(f'Information about the final dataframe \"df\", which we will use for modeling: \\n')\n",
        "df.info()"
      ]
    },
    {
      "cell_type": "code",
      "execution_count": 77,
      "id": "59876898",
      "metadata": {
        "colab": {
          "base_uri": "https://localhost:8080/",
          "height": 334
        },
        "id": "59876898",
        "outputId": "0cbe02dd-2fc6-4ced-a1c4-077c78fcd93b"
      },
      "outputs": [
        {
          "output_type": "stream",
          "name": "stdout",
          "text": [
            "Print descriptive statistics for the combined dataframe:\n"
          ]
        },
        {
          "output_type": "execute_result",
          "data": {
            "text/plain": [
              "             bulk1        bulk3        bulk4        bulk5        bulk6       bulk10       bulk11       bulk12       bulk14       bulk15         gas1        wire1        wire2        wire3        wire6  active_power  reactive_power  active_energy  temperature_x  temperature_y\n",
              "count  2324.000000  2324.000000  2324.000000  2324.000000  2324.000000  2324.000000  2324.000000  2324.000000  2324.000000  2324.000000  2324.000000  2324.000000  2324.000000  2324.000000  2324.000000   2324.000000     2324.000000    2324.000000    2324.000000    2324.000000\n",
              "mean      3.435026    47.317126    37.347676     2.645869    22.419535     5.063683     4.254303   208.597676   153.952668   120.078313    11.378854   102.423900    17.613213     3.241876     0.980926      3.126327        2.301280     539.381127    1587.368761    1593.372633\n",
              "std      12.424463    75.238050    58.677890    22.426054    55.792509    20.938984    22.538843   157.112117    81.410544    84.655967     6.397008    43.540975    33.648176    27.972523     8.702531      1.220484        0.903711     257.301093      23.627590      11.207457\n",
              "min       0.000000     0.000000     0.000000     0.000000     0.000000     0.000000     0.000000     0.000000     0.000000     0.000000     0.008399     0.000000     0.000000     0.000000     0.000000      0.267676        0.196228      26.187544    1519.000000    1541.000000\n",
              "25%       0.000000     0.000000     0.000000     0.000000     0.000000     0.000000     0.000000   105.000000   105.000000     0.000000     7.282534    73.204559     0.000000     0.000000     0.000000      2.295960        1.671099     368.304687    1571.000000    1587.000000\n",
              "50%       0.000000     0.000000     0.000000     0.000000     0.000000     0.000000     0.000000   206.000000   149.000000   107.000000    10.100687   101.103600     0.000000     0.000000     0.000000      3.036517        2.225900     508.538758    1587.000000    1593.000000\n",
              "75%       0.000000    80.000000    77.250000     0.000000     0.000000     0.000000     0.000000   283.000000   204.000000   204.000000    14.218487   128.075222    23.102560     0.000000     0.000000      3.834302        2.829179     679.198659    1603.000000    1598.000000\n",
              "max     185.000000   454.000000   281.000000   603.000000   503.000000   159.000000   313.000000  1849.000000   636.000000   405.000000    77.995040   330.314424   282.780152   385.008668   180.454575     12.375636        8.949049    3718.054401    1660.000000    1653.000000"
            ],
            "text/html": [
              "\n",
              "  <div id=\"df-0eed40d1-bf0e-4f76-b684-ec8008b10da1\" class=\"colab-df-container\">\n",
              "    <div>\n",
              "<style scoped>\n",
              "    .dataframe tbody tr th:only-of-type {\n",
              "        vertical-align: middle;\n",
              "    }\n",
              "\n",
              "    .dataframe tbody tr th {\n",
              "        vertical-align: top;\n",
              "    }\n",
              "\n",
              "    .dataframe thead th {\n",
              "        text-align: right;\n",
              "    }\n",
              "</style>\n",
              "<table border=\"1\" class=\"dataframe\">\n",
              "  <thead>\n",
              "    <tr style=\"text-align: right;\">\n",
              "      <th></th>\n",
              "      <th>bulk1</th>\n",
              "      <th>bulk3</th>\n",
              "      <th>bulk4</th>\n",
              "      <th>bulk5</th>\n",
              "      <th>bulk6</th>\n",
              "      <th>bulk10</th>\n",
              "      <th>bulk11</th>\n",
              "      <th>bulk12</th>\n",
              "      <th>bulk14</th>\n",
              "      <th>bulk15</th>\n",
              "      <th>gas1</th>\n",
              "      <th>wire1</th>\n",
              "      <th>wire2</th>\n",
              "      <th>wire3</th>\n",
              "      <th>wire6</th>\n",
              "      <th>active_power</th>\n",
              "      <th>reactive_power</th>\n",
              "      <th>active_energy</th>\n",
              "      <th>temperature_x</th>\n",
              "      <th>temperature_y</th>\n",
              "    </tr>\n",
              "  </thead>\n",
              "  <tbody>\n",
              "    <tr>\n",
              "      <th>count</th>\n",
              "      <td>2324.000000</td>\n",
              "      <td>2324.000000</td>\n",
              "      <td>2324.000000</td>\n",
              "      <td>2324.000000</td>\n",
              "      <td>2324.000000</td>\n",
              "      <td>2324.000000</td>\n",
              "      <td>2324.000000</td>\n",
              "      <td>2324.000000</td>\n",
              "      <td>2324.000000</td>\n",
              "      <td>2324.000000</td>\n",
              "      <td>2324.000000</td>\n",
              "      <td>2324.000000</td>\n",
              "      <td>2324.000000</td>\n",
              "      <td>2324.000000</td>\n",
              "      <td>2324.000000</td>\n",
              "      <td>2324.000000</td>\n",
              "      <td>2324.000000</td>\n",
              "      <td>2324.000000</td>\n",
              "      <td>2324.000000</td>\n",
              "      <td>2324.000000</td>\n",
              "    </tr>\n",
              "    <tr>\n",
              "      <th>mean</th>\n",
              "      <td>3.435026</td>\n",
              "      <td>47.317126</td>\n",
              "      <td>37.347676</td>\n",
              "      <td>2.645869</td>\n",
              "      <td>22.419535</td>\n",
              "      <td>5.063683</td>\n",
              "      <td>4.254303</td>\n",
              "      <td>208.597676</td>\n",
              "      <td>153.952668</td>\n",
              "      <td>120.078313</td>\n",
              "      <td>11.378854</td>\n",
              "      <td>102.423900</td>\n",
              "      <td>17.613213</td>\n",
              "      <td>3.241876</td>\n",
              "      <td>0.980926</td>\n",
              "      <td>3.126327</td>\n",
              "      <td>2.301280</td>\n",
              "      <td>539.381127</td>\n",
              "      <td>1587.368761</td>\n",
              "      <td>1593.372633</td>\n",
              "    </tr>\n",
              "    <tr>\n",
              "      <th>std</th>\n",
              "      <td>12.424463</td>\n",
              "      <td>75.238050</td>\n",
              "      <td>58.677890</td>\n",
              "      <td>22.426054</td>\n",
              "      <td>55.792509</td>\n",
              "      <td>20.938984</td>\n",
              "      <td>22.538843</td>\n",
              "      <td>157.112117</td>\n",
              "      <td>81.410544</td>\n",
              "      <td>84.655967</td>\n",
              "      <td>6.397008</td>\n",
              "      <td>43.540975</td>\n",
              "      <td>33.648176</td>\n",
              "      <td>27.972523</td>\n",
              "      <td>8.702531</td>\n",
              "      <td>1.220484</td>\n",
              "      <td>0.903711</td>\n",
              "      <td>257.301093</td>\n",
              "      <td>23.627590</td>\n",
              "      <td>11.207457</td>\n",
              "    </tr>\n",
              "    <tr>\n",
              "      <th>min</th>\n",
              "      <td>0.000000</td>\n",
              "      <td>0.000000</td>\n",
              "      <td>0.000000</td>\n",
              "      <td>0.000000</td>\n",
              "      <td>0.000000</td>\n",
              "      <td>0.000000</td>\n",
              "      <td>0.000000</td>\n",
              "      <td>0.000000</td>\n",
              "      <td>0.000000</td>\n",
              "      <td>0.000000</td>\n",
              "      <td>0.008399</td>\n",
              "      <td>0.000000</td>\n",
              "      <td>0.000000</td>\n",
              "      <td>0.000000</td>\n",
              "      <td>0.000000</td>\n",
              "      <td>0.267676</td>\n",
              "      <td>0.196228</td>\n",
              "      <td>26.187544</td>\n",
              "      <td>1519.000000</td>\n",
              "      <td>1541.000000</td>\n",
              "    </tr>\n",
              "    <tr>\n",
              "      <th>25%</th>\n",
              "      <td>0.000000</td>\n",
              "      <td>0.000000</td>\n",
              "      <td>0.000000</td>\n",
              "      <td>0.000000</td>\n",
              "      <td>0.000000</td>\n",
              "      <td>0.000000</td>\n",
              "      <td>0.000000</td>\n",
              "      <td>105.000000</td>\n",
              "      <td>105.000000</td>\n",
              "      <td>0.000000</td>\n",
              "      <td>7.282534</td>\n",
              "      <td>73.204559</td>\n",
              "      <td>0.000000</td>\n",
              "      <td>0.000000</td>\n",
              "      <td>0.000000</td>\n",
              "      <td>2.295960</td>\n",
              "      <td>1.671099</td>\n",
              "      <td>368.304687</td>\n",
              "      <td>1571.000000</td>\n",
              "      <td>1587.000000</td>\n",
              "    </tr>\n",
              "    <tr>\n",
              "      <th>50%</th>\n",
              "      <td>0.000000</td>\n",
              "      <td>0.000000</td>\n",
              "      <td>0.000000</td>\n",
              "      <td>0.000000</td>\n",
              "      <td>0.000000</td>\n",
              "      <td>0.000000</td>\n",
              "      <td>0.000000</td>\n",
              "      <td>206.000000</td>\n",
              "      <td>149.000000</td>\n",
              "      <td>107.000000</td>\n",
              "      <td>10.100687</td>\n",
              "      <td>101.103600</td>\n",
              "      <td>0.000000</td>\n",
              "      <td>0.000000</td>\n",
              "      <td>0.000000</td>\n",
              "      <td>3.036517</td>\n",
              "      <td>2.225900</td>\n",
              "      <td>508.538758</td>\n",
              "      <td>1587.000000</td>\n",
              "      <td>1593.000000</td>\n",
              "    </tr>\n",
              "    <tr>\n",
              "      <th>75%</th>\n",
              "      <td>0.000000</td>\n",
              "      <td>80.000000</td>\n",
              "      <td>77.250000</td>\n",
              "      <td>0.000000</td>\n",
              "      <td>0.000000</td>\n",
              "      <td>0.000000</td>\n",
              "      <td>0.000000</td>\n",
              "      <td>283.000000</td>\n",
              "      <td>204.000000</td>\n",
              "      <td>204.000000</td>\n",
              "      <td>14.218487</td>\n",
              "      <td>128.075222</td>\n",
              "      <td>23.102560</td>\n",
              "      <td>0.000000</td>\n",
              "      <td>0.000000</td>\n",
              "      <td>3.834302</td>\n",
              "      <td>2.829179</td>\n",
              "      <td>679.198659</td>\n",
              "      <td>1603.000000</td>\n",
              "      <td>1598.000000</td>\n",
              "    </tr>\n",
              "    <tr>\n",
              "      <th>max</th>\n",
              "      <td>185.000000</td>\n",
              "      <td>454.000000</td>\n",
              "      <td>281.000000</td>\n",
              "      <td>603.000000</td>\n",
              "      <td>503.000000</td>\n",
              "      <td>159.000000</td>\n",
              "      <td>313.000000</td>\n",
              "      <td>1849.000000</td>\n",
              "      <td>636.000000</td>\n",
              "      <td>405.000000</td>\n",
              "      <td>77.995040</td>\n",
              "      <td>330.314424</td>\n",
              "      <td>282.780152</td>\n",
              "      <td>385.008668</td>\n",
              "      <td>180.454575</td>\n",
              "      <td>12.375636</td>\n",
              "      <td>8.949049</td>\n",
              "      <td>3718.054401</td>\n",
              "      <td>1660.000000</td>\n",
              "      <td>1653.000000</td>\n",
              "    </tr>\n",
              "  </tbody>\n",
              "</table>\n",
              "</div>\n",
              "    <div class=\"colab-df-buttons\">\n",
              "\n",
              "  <div class=\"colab-df-container\">\n",
              "    <button class=\"colab-df-convert\" onclick=\"convertToInteractive('df-0eed40d1-bf0e-4f76-b684-ec8008b10da1')\"\n",
              "            title=\"Convert this dataframe to an interactive table.\"\n",
              "            style=\"display:none;\">\n",
              "\n",
              "  <svg xmlns=\"http://www.w3.org/2000/svg\" height=\"24px\" viewBox=\"0 -960 960 960\">\n",
              "    <path d=\"M120-120v-720h720v720H120Zm60-500h600v-160H180v160Zm220 220h160v-160H400v160Zm0 220h160v-160H400v160ZM180-400h160v-160H180v160Zm440 0h160v-160H620v160ZM180-180h160v-160H180v160Zm440 0h160v-160H620v160Z\"/>\n",
              "  </svg>\n",
              "    </button>\n",
              "\n",
              "  <style>\n",
              "    .colab-df-container {\n",
              "      display:flex;\n",
              "      gap: 12px;\n",
              "    }\n",
              "\n",
              "    .colab-df-convert {\n",
              "      background-color: #E8F0FE;\n",
              "      border: none;\n",
              "      border-radius: 50%;\n",
              "      cursor: pointer;\n",
              "      display: none;\n",
              "      fill: #1967D2;\n",
              "      height: 32px;\n",
              "      padding: 0 0 0 0;\n",
              "      width: 32px;\n",
              "    }\n",
              "\n",
              "    .colab-df-convert:hover {\n",
              "      background-color: #E2EBFA;\n",
              "      box-shadow: 0px 1px 2px rgba(60, 64, 67, 0.3), 0px 1px 3px 1px rgba(60, 64, 67, 0.15);\n",
              "      fill: #174EA6;\n",
              "    }\n",
              "\n",
              "    .colab-df-buttons div {\n",
              "      margin-bottom: 4px;\n",
              "    }\n",
              "\n",
              "    [theme=dark] .colab-df-convert {\n",
              "      background-color: #3B4455;\n",
              "      fill: #D2E3FC;\n",
              "    }\n",
              "\n",
              "    [theme=dark] .colab-df-convert:hover {\n",
              "      background-color: #434B5C;\n",
              "      box-shadow: 0px 1px 3px 1px rgba(0, 0, 0, 0.15);\n",
              "      filter: drop-shadow(0px 1px 2px rgba(0, 0, 0, 0.3));\n",
              "      fill: #FFFFFF;\n",
              "    }\n",
              "  </style>\n",
              "\n",
              "    <script>\n",
              "      const buttonEl =\n",
              "        document.querySelector('#df-0eed40d1-bf0e-4f76-b684-ec8008b10da1 button.colab-df-convert');\n",
              "      buttonEl.style.display =\n",
              "        google.colab.kernel.accessAllowed ? 'block' : 'none';\n",
              "\n",
              "      async function convertToInteractive(key) {\n",
              "        const element = document.querySelector('#df-0eed40d1-bf0e-4f76-b684-ec8008b10da1');\n",
              "        const dataTable =\n",
              "          await google.colab.kernel.invokeFunction('convertToInteractive',\n",
              "                                                    [key], {});\n",
              "        if (!dataTable) return;\n",
              "\n",
              "        const docLinkHtml = 'Like what you see? Visit the ' +\n",
              "          '<a target=\"_blank\" href=https://colab.research.google.com/notebooks/data_table.ipynb>data table notebook</a>'\n",
              "          + ' to learn more about interactive tables.';\n",
              "        element.innerHTML = '';\n",
              "        dataTable['output_type'] = 'display_data';\n",
              "        await google.colab.output.renderOutput(dataTable, element);\n",
              "        const docLink = document.createElement('div');\n",
              "        docLink.innerHTML = docLinkHtml;\n",
              "        element.appendChild(docLink);\n",
              "      }\n",
              "    </script>\n",
              "  </div>\n",
              "\n",
              "\n",
              "<div id=\"df-eb63b68e-1ef8-4101-873f-78374d87cae9\">\n",
              "  <button class=\"colab-df-quickchart\" onclick=\"quickchart('df-eb63b68e-1ef8-4101-873f-78374d87cae9')\"\n",
              "            title=\"Suggest charts.\"\n",
              "            style=\"display:none;\">\n",
              "\n",
              "<svg xmlns=\"http://www.w3.org/2000/svg\" height=\"24px\"viewBox=\"0 0 24 24\"\n",
              "     width=\"24px\">\n",
              "    <g>\n",
              "        <path d=\"M19 3H5c-1.1 0-2 .9-2 2v14c0 1.1.9 2 2 2h14c1.1 0 2-.9 2-2V5c0-1.1-.9-2-2-2zM9 17H7v-7h2v7zm4 0h-2V7h2v10zm4 0h-2v-4h2v4z\"/>\n",
              "    </g>\n",
              "</svg>\n",
              "  </button>\n",
              "\n",
              "<style>\n",
              "  .colab-df-quickchart {\n",
              "      --bg-color: #E8F0FE;\n",
              "      --fill-color: #1967D2;\n",
              "      --hover-bg-color: #E2EBFA;\n",
              "      --hover-fill-color: #174EA6;\n",
              "      --disabled-fill-color: #AAA;\n",
              "      --disabled-bg-color: #DDD;\n",
              "  }\n",
              "\n",
              "  [theme=dark] .colab-df-quickchart {\n",
              "      --bg-color: #3B4455;\n",
              "      --fill-color: #D2E3FC;\n",
              "      --hover-bg-color: #434B5C;\n",
              "      --hover-fill-color: #FFFFFF;\n",
              "      --disabled-bg-color: #3B4455;\n",
              "      --disabled-fill-color: #666;\n",
              "  }\n",
              "\n",
              "  .colab-df-quickchart {\n",
              "    background-color: var(--bg-color);\n",
              "    border: none;\n",
              "    border-radius: 50%;\n",
              "    cursor: pointer;\n",
              "    display: none;\n",
              "    fill: var(--fill-color);\n",
              "    height: 32px;\n",
              "    padding: 0;\n",
              "    width: 32px;\n",
              "  }\n",
              "\n",
              "  .colab-df-quickchart:hover {\n",
              "    background-color: var(--hover-bg-color);\n",
              "    box-shadow: 0 1px 2px rgba(60, 64, 67, 0.3), 0 1px 3px 1px rgba(60, 64, 67, 0.15);\n",
              "    fill: var(--button-hover-fill-color);\n",
              "  }\n",
              "\n",
              "  .colab-df-quickchart-complete:disabled,\n",
              "  .colab-df-quickchart-complete:disabled:hover {\n",
              "    background-color: var(--disabled-bg-color);\n",
              "    fill: var(--disabled-fill-color);\n",
              "    box-shadow: none;\n",
              "  }\n",
              "\n",
              "  .colab-df-spinner {\n",
              "    border: 2px solid var(--fill-color);\n",
              "    border-color: transparent;\n",
              "    border-bottom-color: var(--fill-color);\n",
              "    animation:\n",
              "      spin 1s steps(1) infinite;\n",
              "  }\n",
              "\n",
              "  @keyframes spin {\n",
              "    0% {\n",
              "      border-color: transparent;\n",
              "      border-bottom-color: var(--fill-color);\n",
              "      border-left-color: var(--fill-color);\n",
              "    }\n",
              "    20% {\n",
              "      border-color: transparent;\n",
              "      border-left-color: var(--fill-color);\n",
              "      border-top-color: var(--fill-color);\n",
              "    }\n",
              "    30% {\n",
              "      border-color: transparent;\n",
              "      border-left-color: var(--fill-color);\n",
              "      border-top-color: var(--fill-color);\n",
              "      border-right-color: var(--fill-color);\n",
              "    }\n",
              "    40% {\n",
              "      border-color: transparent;\n",
              "      border-right-color: var(--fill-color);\n",
              "      border-top-color: var(--fill-color);\n",
              "    }\n",
              "    60% {\n",
              "      border-color: transparent;\n",
              "      border-right-color: var(--fill-color);\n",
              "    }\n",
              "    80% {\n",
              "      border-color: transparent;\n",
              "      border-right-color: var(--fill-color);\n",
              "      border-bottom-color: var(--fill-color);\n",
              "    }\n",
              "    90% {\n",
              "      border-color: transparent;\n",
              "      border-bottom-color: var(--fill-color);\n",
              "    }\n",
              "  }\n",
              "</style>\n",
              "\n",
              "  <script>\n",
              "    async function quickchart(key) {\n",
              "      const quickchartButtonEl =\n",
              "        document.querySelector('#' + key + ' button');\n",
              "      quickchartButtonEl.disabled = true;  // To prevent multiple clicks.\n",
              "      quickchartButtonEl.classList.add('colab-df-spinner');\n",
              "      try {\n",
              "        const charts = await google.colab.kernel.invokeFunction(\n",
              "            'suggestCharts', [key], {});\n",
              "      } catch (error) {\n",
              "        console.error('Error during call to suggestCharts:', error);\n",
              "      }\n",
              "      quickchartButtonEl.classList.remove('colab-df-spinner');\n",
              "      quickchartButtonEl.classList.add('colab-df-quickchart-complete');\n",
              "    }\n",
              "    (() => {\n",
              "      let quickchartButtonEl =\n",
              "        document.querySelector('#df-eb63b68e-1ef8-4101-873f-78374d87cae9 button');\n",
              "      quickchartButtonEl.style.display =\n",
              "        google.colab.kernel.accessAllowed ? 'block' : 'none';\n",
              "    })();\n",
              "  </script>\n",
              "</div>\n",
              "    </div>\n",
              "  </div>\n"
            ]
          },
          "metadata": {},
          "execution_count": 77
        }
      ],
      "source": [
        "print('Print descriptive statistics for the combined dataframe:')\n",
        "df.describe()"
      ]
    },
    {
      "cell_type": "code",
      "execution_count": 78,
      "id": "f73d575d",
      "metadata": {
        "colab": {
          "base_uri": "https://localhost:8080/"
        },
        "id": "f73d575d",
        "outputId": "ba4dfee2-9ce8-45dc-e46a-bf3722c789ef"
      },
      "outputs": [
        {
          "output_type": "stream",
          "name": "stdout",
          "text": [
            "First lines of the merged dataframe \"df\": \n",
            "   bulk1  bulk3  bulk4  bulk5  bulk6  bulk10  bulk11  bulk12  bulk14  bulk15       gas1      wire1    wire2  wire3  wire6  active_power  reactive_power  active_energy  temperature_x  temperature_y\n",
            "0    0.0    0.0   43.0    0.0    0.0     0.0     0.0   206.0   150.0   154.0  29.749986  60.059998  0.00000    0.0    0.0      3.036730        2.142821     628.616930         1571.0         1613.0\n",
            "1    0.0    0.0   73.0    0.0    0.0     0.0     0.0   206.0   149.0   154.0  12.555561  96.052315  0.00000    0.0    0.0      2.139408        1.453357     395.281800         1581.0         1602.0\n",
            "2    0.0    0.0   34.0    0.0    0.0     0.0     0.0   205.0   152.0   153.0  28.554793  91.160157  0.00000    0.0    0.0      4.063641        2.937457     581.774624         1596.0         1599.0\n",
            "3    0.0    0.0   81.0    0.0    0.0     0.0     0.0   207.0   153.0   154.0  18.841219  89.063515  0.00000    0.0    0.0      2.706489        2.056992     543.710274         1601.0         1625.0\n",
            "4    0.0    0.0   78.0    0.0    0.0     0.0     0.0   203.0   151.0   152.0   5.413692  89.238236  9.11456    0.0    0.0      2.252950        1.687991     412.180480         1576.0         1602.0\n"
          ]
        }
      ],
      "source": [
        "print(f'First lines of the merged dataframe \"df\": \\n{df.head()}')"
      ]
    },
    {
      "cell_type": "markdown",
      "id": "62f70e08",
      "metadata": {
        "id": "62f70e08"
      },
      "source": [
        "**There are no gaps in the data, all data looks correct.**\n",
        "\n",
        "**As a result, we received 19 features and 1 target feature.**\n",
        "\n",
        "**Number of objects for modeling = 2324, which is quite a bit; against the background of a small number of objects, a not very good prediction result may be obtained, we will check further.**\n",
        "\n",
        "**Feature values are very different from each other; to get a good result when using linear regression, you will need to scale these features.**\n",
        "\n",
        "**We will display data on the correlation of features in the final dataframe.**"
      ]
    },
    {
      "cell_type": "code",
      "execution_count": null,
      "id": "b35bc26f",
      "metadata": {
        "id": "b35bc26f",
        "outputId": "bae3ebdd-0037-4b13-d7a9-03988e6e2a8d"
      },
      "outputs": [
        {
          "data": {
            "text/html": [
              "<div>\n",
              "<style scoped>\n",
              "    .dataframe tbody tr th:only-of-type {\n",
              "        vertical-align: middle;\n",
              "    }\n",
              "\n",
              "    .dataframe tbody tr th {\n",
              "        vertical-align: top;\n",
              "    }\n",
              "\n",
              "    .dataframe thead th {\n",
              "        text-align: right;\n",
              "    }\n",
              "</style>\n",
              "<table border=\"1\" class=\"dataframe\">\n",
              "  <thead>\n",
              "    <tr style=\"text-align: right;\">\n",
              "      <th></th>\n",
              "      <th>bulk1</th>\n",
              "      <th>bulk3</th>\n",
              "      <th>bulk4</th>\n",
              "      <th>bulk5</th>\n",
              "      <th>bulk6</th>\n",
              "      <th>bulk10</th>\n",
              "      <th>bulk11</th>\n",
              "      <th>bulk12</th>\n",
              "      <th>bulk14</th>\n",
              "      <th>bulk15</th>\n",
              "      <th>gas1</th>\n",
              "      <th>wire1</th>\n",
              "      <th>wire2</th>\n",
              "      <th>wire3</th>\n",
              "      <th>wire6</th>\n",
              "      <th>active_power</th>\n",
              "      <th>reactive_power</th>\n",
              "      <th>active_energy</th>\n",
              "      <th>temperature_x</th>\n",
              "      <th>temperature_y</th>\n",
              "    </tr>\n",
              "  </thead>\n",
              "  <tbody>\n",
              "    <tr>\n",
              "      <th>bulk1</th>\n",
              "      <td>1.000000</td>\n",
              "      <td>-0.011538</td>\n",
              "      <td>0.041662</td>\n",
              "      <td>0.060365</td>\n",
              "      <td>-0.003581</td>\n",
              "      <td>-0.023333</td>\n",
              "      <td>-0.038008</td>\n",
              "      <td>0.325724</td>\n",
              "      <td>0.207606</td>\n",
              "      <td>-0.001211</td>\n",
              "      <td>0.234089</td>\n",
              "      <td>0.013823</td>\n",
              "      <td>-0.009261</td>\n",
              "      <td>0.020204</td>\n",
              "      <td>0.148509</td>\n",
              "      <td>0.099145</td>\n",
              "      <td>0.095677</td>\n",
              "      <td>0.095641</td>\n",
              "      <td>0.079098</td>\n",
              "      <td>-0.075428</td>\n",
              "    </tr>\n",
              "    <tr>\n",
              "      <th>bulk3</th>\n",
              "      <td>-0.011538</td>\n",
              "      <td>1.000000</td>\n",
              "      <td>-0.295526</td>\n",
              "      <td>-0.006766</td>\n",
              "      <td>0.066316</td>\n",
              "      <td>-0.085266</td>\n",
              "      <td>-0.007383</td>\n",
              "      <td>0.018059</td>\n",
              "      <td>0.011209</td>\n",
              "      <td>-0.013181</td>\n",
              "      <td>0.059665</td>\n",
              "      <td>0.037788</td>\n",
              "      <td>0.094897</td>\n",
              "      <td>0.005840</td>\n",
              "      <td>0.007174</td>\n",
              "      <td>0.101267</td>\n",
              "      <td>0.099018</td>\n",
              "      <td>0.088805</td>\n",
              "      <td>-0.113380</td>\n",
              "      <td>-0.037156</td>\n",
              "    </tr>\n",
              "    <tr>\n",
              "      <th>bulk4</th>\n",
              "      <td>0.041662</td>\n",
              "      <td>-0.295526</td>\n",
              "      <td>1.000000</td>\n",
              "      <td>0.028273</td>\n",
              "      <td>-0.251577</td>\n",
              "      <td>-0.084975</td>\n",
              "      <td>-0.119733</td>\n",
              "      <td>0.105190</td>\n",
              "      <td>-0.091103</td>\n",
              "      <td>0.100833</td>\n",
              "      <td>0.017532</td>\n",
              "      <td>0.298145</td>\n",
              "      <td>-0.268115</td>\n",
              "      <td>-0.039326</td>\n",
              "      <td>-0.011507</td>\n",
              "      <td>0.005013</td>\n",
              "      <td>0.004137</td>\n",
              "      <td>-0.020899</td>\n",
              "      <td>0.165484</td>\n",
              "      <td>0.187817</td>\n",
              "    </tr>\n",
              "    <tr>\n",
              "      <th>bulk5</th>\n",
              "      <td>0.060365</td>\n",
              "      <td>-0.006766</td>\n",
              "      <td>0.028273</td>\n",
              "      <td>1.000000</td>\n",
              "      <td>-0.021853</td>\n",
              "      <td>-0.028544</td>\n",
              "      <td>-0.015888</td>\n",
              "      <td>-0.072951</td>\n",
              "      <td>-0.066101</td>\n",
              "      <td>-0.067426</td>\n",
              "      <td>0.086869</td>\n",
              "      <td>-0.013454</td>\n",
              "      <td>-0.013811</td>\n",
              "      <td>0.070889</td>\n",
              "      <td>0.204796</td>\n",
              "      <td>0.073228</td>\n",
              "      <td>0.072459</td>\n",
              "      <td>0.019551</td>\n",
              "      <td>0.078729</td>\n",
              "      <td>-0.028446</td>\n",
              "    </tr>\n",
              "    <tr>\n",
              "      <th>bulk6</th>\n",
              "      <td>-0.003581</td>\n",
              "      <td>0.066316</td>\n",
              "      <td>-0.251577</td>\n",
              "      <td>-0.021853</td>\n",
              "      <td>1.000000</td>\n",
              "      <td>-0.097218</td>\n",
              "      <td>0.196983</td>\n",
              "      <td>-0.112169</td>\n",
              "      <td>0.176791</td>\n",
              "      <td>-0.108626</td>\n",
              "      <td>0.139574</td>\n",
              "      <td>-0.235445</td>\n",
              "      <td>0.205432</td>\n",
              "      <td>-0.046545</td>\n",
              "      <td>-0.020223</td>\n",
              "      <td>0.133855</td>\n",
              "      <td>0.133025</td>\n",
              "      <td>0.148159</td>\n",
              "      <td>-0.127046</td>\n",
              "      <td>-0.180906</td>\n",
              "    </tr>\n",
              "    <tr>\n",
              "      <th>bulk10</th>\n",
              "      <td>-0.023333</td>\n",
              "      <td>-0.085266</td>\n",
              "      <td>-0.084975</td>\n",
              "      <td>-0.028544</td>\n",
              "      <td>-0.097218</td>\n",
              "      <td>1.000000</td>\n",
              "      <td>-0.045666</td>\n",
              "      <td>0.027651</td>\n",
              "      <td>-0.045880</td>\n",
              "      <td>0.051953</td>\n",
              "      <td>-0.008634</td>\n",
              "      <td>0.062892</td>\n",
              "      <td>-0.103828</td>\n",
              "      <td>-0.028039</td>\n",
              "      <td>-0.017860</td>\n",
              "      <td>0.010281</td>\n",
              "      <td>0.008439</td>\n",
              "      <td>-0.007075</td>\n",
              "      <td>0.035789</td>\n",
              "      <td>0.061227</td>\n",
              "    </tr>\n",
              "    <tr>\n",
              "      <th>bulk11</th>\n",
              "      <td>-0.038008</td>\n",
              "      <td>-0.007383</td>\n",
              "      <td>-0.119733</td>\n",
              "      <td>-0.015888</td>\n",
              "      <td>0.196983</td>\n",
              "      <td>-0.045666</td>\n",
              "      <td>1.000000</td>\n",
              "      <td>-0.040419</td>\n",
              "      <td>0.077966</td>\n",
              "      <td>-0.048571</td>\n",
              "      <td>0.041945</td>\n",
              "      <td>-0.117798</td>\n",
              "      <td>0.062074</td>\n",
              "      <td>-0.021878</td>\n",
              "      <td>0.008655</td>\n",
              "      <td>0.065809</td>\n",
              "      <td>0.064032</td>\n",
              "      <td>0.068808</td>\n",
              "      <td>-0.110430</td>\n",
              "      <td>-0.114936</td>\n",
              "    </tr>\n",
              "    <tr>\n",
              "      <th>bulk12</th>\n",
              "      <td>0.325724</td>\n",
              "      <td>0.018059</td>\n",
              "      <td>0.105190</td>\n",
              "      <td>-0.072951</td>\n",
              "      <td>-0.112169</td>\n",
              "      <td>0.027651</td>\n",
              "      <td>-0.040419</td>\n",
              "      <td>1.000000</td>\n",
              "      <td>0.481609</td>\n",
              "      <td>0.613870</td>\n",
              "      <td>0.216969</td>\n",
              "      <td>0.170812</td>\n",
              "      <td>-0.098208</td>\n",
              "      <td>-0.120697</td>\n",
              "      <td>-0.042895</td>\n",
              "      <td>0.285153</td>\n",
              "      <td>0.284874</td>\n",
              "      <td>0.421033</td>\n",
              "      <td>-0.079574</td>\n",
              "      <td>0.266805</td>\n",
              "    </tr>\n",
              "    <tr>\n",
              "      <th>bulk14</th>\n",
              "      <td>0.207606</td>\n",
              "      <td>0.011209</td>\n",
              "      <td>-0.091103</td>\n",
              "      <td>-0.066101</td>\n",
              "      <td>0.176791</td>\n",
              "      <td>-0.045880</td>\n",
              "      <td>0.077966</td>\n",
              "      <td>0.481609</td>\n",
              "      <td>1.000000</td>\n",
              "      <td>0.264903</td>\n",
              "      <td>0.268284</td>\n",
              "      <td>-0.052654</td>\n",
              "      <td>0.037017</td>\n",
              "      <td>-0.009010</td>\n",
              "      <td>-0.052578</td>\n",
              "      <td>0.299659</td>\n",
              "      <td>0.295609</td>\n",
              "      <td>0.406902</td>\n",
              "      <td>-0.179991</td>\n",
              "      <td>0.114893</td>\n",
              "    </tr>\n",
              "    <tr>\n",
              "      <th>bulk15</th>\n",
              "      <td>-0.001211</td>\n",
              "      <td>-0.013181</td>\n",
              "      <td>0.100833</td>\n",
              "      <td>-0.067426</td>\n",
              "      <td>-0.108626</td>\n",
              "      <td>0.051953</td>\n",
              "      <td>-0.048571</td>\n",
              "      <td>0.613870</td>\n",
              "      <td>0.264903</td>\n",
              "      <td>1.000000</td>\n",
              "      <td>0.043033</td>\n",
              "      <td>0.119047</td>\n",
              "      <td>-0.096411</td>\n",
              "      <td>-0.118355</td>\n",
              "      <td>-0.032618</td>\n",
              "      <td>0.168583</td>\n",
              "      <td>0.166967</td>\n",
              "      <td>0.272895</td>\n",
              "      <td>-0.062382</td>\n",
              "      <td>0.265772</td>\n",
              "    </tr>\n",
              "    <tr>\n",
              "      <th>gas1</th>\n",
              "      <td>0.234089</td>\n",
              "      <td>0.059665</td>\n",
              "      <td>0.017532</td>\n",
              "      <td>0.086869</td>\n",
              "      <td>0.139574</td>\n",
              "      <td>-0.008634</td>\n",
              "      <td>0.041945</td>\n",
              "      <td>0.216969</td>\n",
              "      <td>0.268284</td>\n",
              "      <td>0.043033</td>\n",
              "      <td>1.000000</td>\n",
              "      <td>0.118192</td>\n",
              "      <td>0.104653</td>\n",
              "      <td>0.103356</td>\n",
              "      <td>0.108065</td>\n",
              "      <td>0.370896</td>\n",
              "      <td>0.367861</td>\n",
              "      <td>0.354474</td>\n",
              "      <td>0.036736</td>\n",
              "      <td>0.059079</td>\n",
              "    </tr>\n",
              "    <tr>\n",
              "      <th>wire1</th>\n",
              "      <td>0.013823</td>\n",
              "      <td>0.037788</td>\n",
              "      <td>0.298145</td>\n",
              "      <td>-0.013454</td>\n",
              "      <td>-0.235445</td>\n",
              "      <td>0.062892</td>\n",
              "      <td>-0.117798</td>\n",
              "      <td>0.170812</td>\n",
              "      <td>-0.052654</td>\n",
              "      <td>0.119047</td>\n",
              "      <td>0.118192</td>\n",
              "      <td>1.000000</td>\n",
              "      <td>-0.069439</td>\n",
              "      <td>0.038168</td>\n",
              "      <td>-0.128122</td>\n",
              "      <td>0.137720</td>\n",
              "      <td>0.138146</td>\n",
              "      <td>0.060778</td>\n",
              "      <td>0.262880</td>\n",
              "      <td>0.317488</td>\n",
              "    </tr>\n",
              "    <tr>\n",
              "      <th>wire2</th>\n",
              "      <td>-0.009261</td>\n",
              "      <td>0.094897</td>\n",
              "      <td>-0.268115</td>\n",
              "      <td>-0.013811</td>\n",
              "      <td>0.205432</td>\n",
              "      <td>-0.103828</td>\n",
              "      <td>0.062074</td>\n",
              "      <td>-0.098208</td>\n",
              "      <td>0.037017</td>\n",
              "      <td>-0.096411</td>\n",
              "      <td>0.104653</td>\n",
              "      <td>-0.069439</td>\n",
              "      <td>1.000000</td>\n",
              "      <td>0.094098</td>\n",
              "      <td>-0.058735</td>\n",
              "      <td>0.062416</td>\n",
              "      <td>0.061840</td>\n",
              "      <td>0.046604</td>\n",
              "      <td>-0.101101</td>\n",
              "      <td>-0.207242</td>\n",
              "    </tr>\n",
              "    <tr>\n",
              "      <th>wire3</th>\n",
              "      <td>0.020204</td>\n",
              "      <td>0.005840</td>\n",
              "      <td>-0.039326</td>\n",
              "      <td>0.070889</td>\n",
              "      <td>-0.046545</td>\n",
              "      <td>-0.028039</td>\n",
              "      <td>-0.021878</td>\n",
              "      <td>-0.120697</td>\n",
              "      <td>-0.009010</td>\n",
              "      <td>-0.118355</td>\n",
              "      <td>0.103356</td>\n",
              "      <td>0.038168</td>\n",
              "      <td>0.094098</td>\n",
              "      <td>1.000000</td>\n",
              "      <td>0.183433</td>\n",
              "      <td>0.054705</td>\n",
              "      <td>0.055582</td>\n",
              "      <td>0.035806</td>\n",
              "      <td>-0.003403</td>\n",
              "      <td>-0.047636</td>\n",
              "    </tr>\n",
              "    <tr>\n",
              "      <th>wire6</th>\n",
              "      <td>0.148509</td>\n",
              "      <td>0.007174</td>\n",
              "      <td>-0.011507</td>\n",
              "      <td>0.204796</td>\n",
              "      <td>-0.020223</td>\n",
              "      <td>-0.017860</td>\n",
              "      <td>0.008655</td>\n",
              "      <td>-0.042895</td>\n",
              "      <td>-0.052578</td>\n",
              "      <td>-0.032618</td>\n",
              "      <td>0.108065</td>\n",
              "      <td>-0.128122</td>\n",
              "      <td>-0.058735</td>\n",
              "      <td>0.183433</td>\n",
              "      <td>1.000000</td>\n",
              "      <td>0.056197</td>\n",
              "      <td>0.054069</td>\n",
              "      <td>0.047749</td>\n",
              "      <td>0.020733</td>\n",
              "      <td>-0.084149</td>\n",
              "    </tr>\n",
              "    <tr>\n",
              "      <th>active_power</th>\n",
              "      <td>0.099145</td>\n",
              "      <td>0.101267</td>\n",
              "      <td>0.005013</td>\n",
              "      <td>0.073228</td>\n",
              "      <td>0.133855</td>\n",
              "      <td>0.010281</td>\n",
              "      <td>0.065809</td>\n",
              "      <td>0.285153</td>\n",
              "      <td>0.299659</td>\n",
              "      <td>0.168583</td>\n",
              "      <td>0.370896</td>\n",
              "      <td>0.137720</td>\n",
              "      <td>0.062416</td>\n",
              "      <td>0.054705</td>\n",
              "      <td>0.056197</td>\n",
              "      <td>1.000000</td>\n",
              "      <td>0.992416</td>\n",
              "      <td>0.818748</td>\n",
              "      <td>-0.153318</td>\n",
              "      <td>0.176486</td>\n",
              "    </tr>\n",
              "    <tr>\n",
              "      <th>reactive_power</th>\n",
              "      <td>0.095677</td>\n",
              "      <td>0.099018</td>\n",
              "      <td>0.004137</td>\n",
              "      <td>0.072459</td>\n",
              "      <td>0.133025</td>\n",
              "      <td>0.008439</td>\n",
              "      <td>0.064032</td>\n",
              "      <td>0.284874</td>\n",
              "      <td>0.295609</td>\n",
              "      <td>0.166967</td>\n",
              "      <td>0.367861</td>\n",
              "      <td>0.138146</td>\n",
              "      <td>0.061840</td>\n",
              "      <td>0.055582</td>\n",
              "      <td>0.054069</td>\n",
              "      <td>0.992416</td>\n",
              "      <td>1.000000</td>\n",
              "      <td>0.811139</td>\n",
              "      <td>-0.151328</td>\n",
              "      <td>0.171078</td>\n",
              "    </tr>\n",
              "    <tr>\n",
              "      <th>active_energy</th>\n",
              "      <td>0.095641</td>\n",
              "      <td>0.088805</td>\n",
              "      <td>-0.020899</td>\n",
              "      <td>0.019551</td>\n",
              "      <td>0.148159</td>\n",
              "      <td>-0.007075</td>\n",
              "      <td>0.068808</td>\n",
              "      <td>0.421033</td>\n",
              "      <td>0.406902</td>\n",
              "      <td>0.272895</td>\n",
              "      <td>0.354474</td>\n",
              "      <td>0.060778</td>\n",
              "      <td>0.046604</td>\n",
              "      <td>0.035806</td>\n",
              "      <td>0.047749</td>\n",
              "      <td>0.818748</td>\n",
              "      <td>0.811139</td>\n",
              "      <td>1.000000</td>\n",
              "      <td>-0.345222</td>\n",
              "      <td>0.257862</td>\n",
              "    </tr>\n",
              "    <tr>\n",
              "      <th>temperature_x</th>\n",
              "      <td>0.079098</td>\n",
              "      <td>-0.113380</td>\n",
              "      <td>0.165484</td>\n",
              "      <td>0.078729</td>\n",
              "      <td>-0.127046</td>\n",
              "      <td>0.035789</td>\n",
              "      <td>-0.110430</td>\n",
              "      <td>-0.079574</td>\n",
              "      <td>-0.179991</td>\n",
              "      <td>-0.062382</td>\n",
              "      <td>0.036736</td>\n",
              "      <td>0.262880</td>\n",
              "      <td>-0.101101</td>\n",
              "      <td>-0.003403</td>\n",
              "      <td>0.020733</td>\n",
              "      <td>-0.153318</td>\n",
              "      <td>-0.151328</td>\n",
              "      <td>-0.345222</td>\n",
              "      <td>1.000000</td>\n",
              "      <td>0.301882</td>\n",
              "    </tr>\n",
              "    <tr>\n",
              "      <th>temperature_y</th>\n",
              "      <td>-0.075428</td>\n",
              "      <td>-0.037156</td>\n",
              "      <td>0.187817</td>\n",
              "      <td>-0.028446</td>\n",
              "      <td>-0.180906</td>\n",
              "      <td>0.061227</td>\n",
              "      <td>-0.114936</td>\n",
              "      <td>0.266805</td>\n",
              "      <td>0.114893</td>\n",
              "      <td>0.265772</td>\n",
              "      <td>0.059079</td>\n",
              "      <td>0.317488</td>\n",
              "      <td>-0.207242</td>\n",
              "      <td>-0.047636</td>\n",
              "      <td>-0.084149</td>\n",
              "      <td>0.176486</td>\n",
              "      <td>0.171078</td>\n",
              "      <td>0.257862</td>\n",
              "      <td>0.301882</td>\n",
              "      <td>1.000000</td>\n",
              "    </tr>\n",
              "  </tbody>\n",
              "</table>\n",
              "</div>"
            ],
            "text/plain": [
              "                   bulk1     bulk3     bulk4     bulk5     bulk6    bulk10  \\\n",
              "bulk1           1.000000 -0.011538  0.041662  0.060365 -0.003581 -0.023333   \n",
              "bulk3          -0.011538  1.000000 -0.295526 -0.006766  0.066316 -0.085266   \n",
              "bulk4           0.041662 -0.295526  1.000000  0.028273 -0.251577 -0.084975   \n",
              "bulk5           0.060365 -0.006766  0.028273  1.000000 -0.021853 -0.028544   \n",
              "bulk6          -0.003581  0.066316 -0.251577 -0.021853  1.000000 -0.097218   \n",
              "bulk10         -0.023333 -0.085266 -0.084975 -0.028544 -0.097218  1.000000   \n",
              "bulk11         -0.038008 -0.007383 -0.119733 -0.015888  0.196983 -0.045666   \n",
              "bulk12          0.325724  0.018059  0.105190 -0.072951 -0.112169  0.027651   \n",
              "bulk14          0.207606  0.011209 -0.091103 -0.066101  0.176791 -0.045880   \n",
              "bulk15         -0.001211 -0.013181  0.100833 -0.067426 -0.108626  0.051953   \n",
              "gas1            0.234089  0.059665  0.017532  0.086869  0.139574 -0.008634   \n",
              "wire1           0.013823  0.037788  0.298145 -0.013454 -0.235445  0.062892   \n",
              "wire2          -0.009261  0.094897 -0.268115 -0.013811  0.205432 -0.103828   \n",
              "wire3           0.020204  0.005840 -0.039326  0.070889 -0.046545 -0.028039   \n",
              "wire6           0.148509  0.007174 -0.011507  0.204796 -0.020223 -0.017860   \n",
              "active_power    0.099145  0.101267  0.005013  0.073228  0.133855  0.010281   \n",
              "reactive_power  0.095677  0.099018  0.004137  0.072459  0.133025  0.008439   \n",
              "active_energy   0.095641  0.088805 -0.020899  0.019551  0.148159 -0.007075   \n",
              "temperature_x   0.079098 -0.113380  0.165484  0.078729 -0.127046  0.035789   \n",
              "temperature_y  -0.075428 -0.037156  0.187817 -0.028446 -0.180906  0.061227   \n",
              "\n",
              "                  bulk11    bulk12    bulk14    bulk15      gas1     wire1  \\\n",
              "bulk1          -0.038008  0.325724  0.207606 -0.001211  0.234089  0.013823   \n",
              "bulk3          -0.007383  0.018059  0.011209 -0.013181  0.059665  0.037788   \n",
              "bulk4          -0.119733  0.105190 -0.091103  0.100833  0.017532  0.298145   \n",
              "bulk5          -0.015888 -0.072951 -0.066101 -0.067426  0.086869 -0.013454   \n",
              "bulk6           0.196983 -0.112169  0.176791 -0.108626  0.139574 -0.235445   \n",
              "bulk10         -0.045666  0.027651 -0.045880  0.051953 -0.008634  0.062892   \n",
              "bulk11          1.000000 -0.040419  0.077966 -0.048571  0.041945 -0.117798   \n",
              "bulk12         -0.040419  1.000000  0.481609  0.613870  0.216969  0.170812   \n",
              "bulk14          0.077966  0.481609  1.000000  0.264903  0.268284 -0.052654   \n",
              "bulk15         -0.048571  0.613870  0.264903  1.000000  0.043033  0.119047   \n",
              "gas1            0.041945  0.216969  0.268284  0.043033  1.000000  0.118192   \n",
              "wire1          -0.117798  0.170812 -0.052654  0.119047  0.118192  1.000000   \n",
              "wire2           0.062074 -0.098208  0.037017 -0.096411  0.104653 -0.069439   \n",
              "wire3          -0.021878 -0.120697 -0.009010 -0.118355  0.103356  0.038168   \n",
              "wire6           0.008655 -0.042895 -0.052578 -0.032618  0.108065 -0.128122   \n",
              "active_power    0.065809  0.285153  0.299659  0.168583  0.370896  0.137720   \n",
              "reactive_power  0.064032  0.284874  0.295609  0.166967  0.367861  0.138146   \n",
              "active_energy   0.068808  0.421033  0.406902  0.272895  0.354474  0.060778   \n",
              "temperature_x  -0.110430 -0.079574 -0.179991 -0.062382  0.036736  0.262880   \n",
              "temperature_y  -0.114936  0.266805  0.114893  0.265772  0.059079  0.317488   \n",
              "\n",
              "                   wire2     wire3     wire6  active_power  reactive_power  \\\n",
              "bulk1          -0.009261  0.020204  0.148509      0.099145        0.095677   \n",
              "bulk3           0.094897  0.005840  0.007174      0.101267        0.099018   \n",
              "bulk4          -0.268115 -0.039326 -0.011507      0.005013        0.004137   \n",
              "bulk5          -0.013811  0.070889  0.204796      0.073228        0.072459   \n",
              "bulk6           0.205432 -0.046545 -0.020223      0.133855        0.133025   \n",
              "bulk10         -0.103828 -0.028039 -0.017860      0.010281        0.008439   \n",
              "bulk11          0.062074 -0.021878  0.008655      0.065809        0.064032   \n",
              "bulk12         -0.098208 -0.120697 -0.042895      0.285153        0.284874   \n",
              "bulk14          0.037017 -0.009010 -0.052578      0.299659        0.295609   \n",
              "bulk15         -0.096411 -0.118355 -0.032618      0.168583        0.166967   \n",
              "gas1            0.104653  0.103356  0.108065      0.370896        0.367861   \n",
              "wire1          -0.069439  0.038168 -0.128122      0.137720        0.138146   \n",
              "wire2           1.000000  0.094098 -0.058735      0.062416        0.061840   \n",
              "wire3           0.094098  1.000000  0.183433      0.054705        0.055582   \n",
              "wire6          -0.058735  0.183433  1.000000      0.056197        0.054069   \n",
              "active_power    0.062416  0.054705  0.056197      1.000000        0.992416   \n",
              "reactive_power  0.061840  0.055582  0.054069      0.992416        1.000000   \n",
              "active_energy   0.046604  0.035806  0.047749      0.818748        0.811139   \n",
              "temperature_x  -0.101101 -0.003403  0.020733     -0.153318       -0.151328   \n",
              "temperature_y  -0.207242 -0.047636 -0.084149      0.176486        0.171078   \n",
              "\n",
              "                active_energy  temperature_x  temperature_y  \n",
              "bulk1                0.095641       0.079098      -0.075428  \n",
              "bulk3                0.088805      -0.113380      -0.037156  \n",
              "bulk4               -0.020899       0.165484       0.187817  \n",
              "bulk5                0.019551       0.078729      -0.028446  \n",
              "bulk6                0.148159      -0.127046      -0.180906  \n",
              "bulk10              -0.007075       0.035789       0.061227  \n",
              "bulk11               0.068808      -0.110430      -0.114936  \n",
              "bulk12               0.421033      -0.079574       0.266805  \n",
              "bulk14               0.406902      -0.179991       0.114893  \n",
              "bulk15               0.272895      -0.062382       0.265772  \n",
              "gas1                 0.354474       0.036736       0.059079  \n",
              "wire1                0.060778       0.262880       0.317488  \n",
              "wire2                0.046604      -0.101101      -0.207242  \n",
              "wire3                0.035806      -0.003403      -0.047636  \n",
              "wire6                0.047749       0.020733      -0.084149  \n",
              "active_power         0.818748      -0.153318       0.176486  \n",
              "reactive_power       0.811139      -0.151328       0.171078  \n",
              "active_energy        1.000000      -0.345222       0.257862  \n",
              "temperature_x       -0.345222       1.000000       0.301882  \n",
              "temperature_y        0.257862       0.301882       1.000000  "
            ]
          },
          "execution_count": 56,
          "metadata": {},
          "output_type": "execute_result"
        }
      ],
      "source": [
        "df.corr()"
      ]
    },
    {
      "cell_type": "markdown",
      "id": "884b4aaf",
      "metadata": {
        "id": "884b4aaf"
      },
      "source": [
        "**The number of features in the data is quite large, so the information about the correlation is unreadable, we will correct this by creating a dictionary in which each of the features will be the key, and the key will correspond to a table with the top features modulo the correlation value with the key feature and the value of this correlation without the module .**"
      ]
    },
    {
      "cell_type": "code",
      "execution_count": 79,
      "id": "66928451",
      "metadata": {
        "colab": {
          "base_uri": "https://localhost:8080/"
        },
        "id": "66928451",
        "outputId": "ddd508cc-e766-4bf8-dd5d-62a9602e09dd"
      },
      "outputs": [
        {
          "output_type": "stream",
          "name": "stdout",
          "text": [
            "Features with high correlation values, at least 0.4:\n",
            "                 bulk12\n",
            "bulk14         0.481609\n",
            "bulk15         0.613870\n",
            "active_energy  0.421033 \n",
            "\n",
            "                 bulk14\n",
            "bulk12         0.481609\n",
            "active_energy  0.406902 \n",
            "\n",
            "         bulk15\n",
            "bulk12  0.61387 \n",
            "\n",
            "                active_power\n",
            "reactive_power      0.992416\n",
            "active_energy       0.818748 \n",
            "\n",
            "               reactive_power\n",
            "active_power         0.992416\n",
            "active_energy        0.811139 \n",
            "\n",
            "                active_energy\n",
            "bulk12               0.421033\n",
            "bulk14               0.406902\n",
            "active_power         0.818748\n",
            "reactive_power       0.811139 \n",
            "\n"
          ]
        }
      ],
      "source": [
        "data_corr = df.corr() #correlation matrix based on data in df\n",
        "col_list = data_corr.columns.to_list()\n",
        "dict_top_corr_data = {} #dictionary with keys by parameter names containing top correlations with other parameters\n",
        "\n",
        "for column in data_corr.columns: # loop through the columns in the correlation matrix based on the data in df\n",
        "     #make a dataframe from one column, corr. take it modulo to make it easier to compare and delete the line\n",
        "     #with the same parameter, because there correlation = 1\n",
        "     column_corr = data_corr[column].to_frame().drop(column)\n",
        "     column_corr_abs = column_corr.abs()\n",
        "     #select the indices of those values where the condition is satisfied\n",
        "     index_top = column_corr_abs[(column_corr_abs[column] >= 0.15)].index\n",
        "     #save the top correlations for this parameter into the dictionary\n",
        "     dict_top_corr_data[column] = column_corr.loc[index_top]\n",
        "\n",
        "print('Features with high correlation values, at least 0.4:')\n",
        "for key in col_list:\n",
        "     if dict_top_corr_data[key][dict_top_corr_data[key][key] >= 0.4].size != 0:\n",
        "         print(dict_top_corr_data[key][dict_top_corr_data[key][key] >= 0.4], '\\n')"
      ]
    },
    {
      "cell_type": "markdown",
      "id": "cc235086",
      "metadata": {
        "id": "cc235086"
      },
      "source": [
        "**We see that there is a high linear correlation between the characteristics responsible for active and reactive power, as well as active energy. To correctly train linear regression, we will need to not use features with high correlation, because this may lead to multicollinearity. It is necessary to determine which of these features have a greater impact on the target feature and retain only the feature that is most correlated with the target feature. Let's look at the correlation values with the target feature.**"
      ]
    },
    {
      "cell_type": "code",
      "execution_count": 80,
      "id": "c154ed50",
      "metadata": {
        "colab": {
          "base_uri": "https://localhost:8080/"
        },
        "id": "c154ed50",
        "outputId": "fea86439-762c-4a40-e96c-4af82e4a9630"
      },
      "outputs": [
        {
          "output_type": "stream",
          "name": "stdout",
          "text": [
            "Correlation values of the target feature and other features:\n"
          ]
        },
        {
          "output_type": "execute_result",
          "data": {
            "text/plain": [
              "wire1             0.317488\n",
              "temperature_x     0.301882\n",
              "bulk12            0.266805\n",
              "bulk15            0.265772\n",
              "active_energy     0.257862\n",
              "bulk4             0.187817\n",
              "active_power      0.176486\n",
              "reactive_power    0.171078\n",
              "bulk6            -0.180906\n",
              "wire2            -0.207242\n",
              "Name: temperature_y, dtype: float64"
            ]
          },
          "metadata": {},
          "execution_count": 80
        }
      ],
      "source": [
        "print('Correlation values of the target feature and other features:')\n",
        "dict_top_corr_data['temperature_y']['temperature_y'].sort_values(ascending=False)"
      ]
    },
    {
      "cell_type": "markdown",
      "id": "5a43b1bb",
      "metadata": {
        "id": "5a43b1bb"
      },
      "source": [
        "**We see that the feature with active energy has a greater correlation between the target feature and features associated with power and energy. We will leave this one out of the three for modeling using linear regression.**\n",
        "\n",
        "**Filter the final dataframe for linear regression.**"
      ]
    },
    {
      "cell_type": "code",
      "execution_count": 81,
      "id": "97abeed0",
      "metadata": {
        "colab": {
          "base_uri": "https://localhost:8080/"
        },
        "id": "97abeed0",
        "outputId": "4146c028-4ae1-42a5-dd90-26486f96e99f"
      },
      "outputs": [
        {
          "output_type": "stream",
          "name": "stdout",
          "text": [
            "<class 'pandas.core.frame.DataFrame'>\n",
            "Int64Index: 2324 entries, 0 to 2323\n",
            "Data columns (total 18 columns):\n",
            " #   Column         Non-Null Count  Dtype  \n",
            "---  ------         --------------  -----  \n",
            " 0   bulk1          2324 non-null   float64\n",
            " 1   bulk3          2324 non-null   float64\n",
            " 2   bulk4          2324 non-null   float64\n",
            " 3   bulk5          2324 non-null   float64\n",
            " 4   bulk6          2324 non-null   float64\n",
            " 5   bulk10         2324 non-null   float64\n",
            " 6   bulk11         2324 non-null   float64\n",
            " 7   bulk12         2324 non-null   float64\n",
            " 8   bulk14         2324 non-null   float64\n",
            " 9   bulk15         2324 non-null   float64\n",
            " 10  gas1           2324 non-null   float64\n",
            " 11  wire1          2324 non-null   float64\n",
            " 12  wire2          2324 non-null   float64\n",
            " 13  wire3          2324 non-null   float64\n",
            " 14  wire6          2324 non-null   float64\n",
            " 15  active_energy  2324 non-null   float64\n",
            " 16  temperature_x  2324 non-null   float64\n",
            " 17  temperature_y  2324 non-null   float64\n",
            "dtypes: float64(18)\n",
            "memory usage: 345.0 KB\n"
          ]
        }
      ],
      "source": [
        "df_linreg = df.drop(['active_power', 'reactive_power'], axis=1)\n",
        "df_linreg.info()"
      ]
    },
    {
      "cell_type": "markdown",
      "id": "0d6520b6",
      "metadata": {
        "id": "0d6520b6"
      },
      "source": [
        "**Let's look at the distribution of data in the target feature.**"
      ]
    },
    {
      "cell_type": "code",
      "execution_count": 82,
      "id": "2bdc348c",
      "metadata": {
        "colab": {
          "base_uri": "https://localhost:8080/",
          "height": 564
        },
        "id": "2bdc348c",
        "outputId": "09b33c44-e872-4000-ce0f-a6fc5ba3f11c"
      },
      "outputs": [
        {
          "output_type": "display_data",
          "data": {
            "text/plain": [
              "<Figure size 800x600 with 1 Axes>"
            ],
            "image/png": "[encoded data removed]"
          },
          "metadata": {}
        }
      ],
      "source": [
        "plt.figure(figsize=(8, 6))\n",
        "plt.hist(df['temperature_y'], bins=32)\n",
        "plt.xlabel('Value of the target attribute - the last measured temperature')\n",
        "plt.ylabel('Number of unique batches with this temperature value')\n",
        "plt.title('Distribution of target temperature feature in pooled data')\n",
        "plt.show()"
      ]
    },
    {
      "cell_type": "markdown",
      "id": "03c8ae57",
      "metadata": {
        "id": "03c8ae57"
      },
      "source": [
        "**The distribution of the target feature is normal, without anomalous outliers.**"
      ]
    },
    {
      "cell_type": "markdown",
      "id": "337736f1",
      "metadata": {
        "id": "337736f1"
      },
      "source": [
        "### 3.8 Main conclusions of the section\n",
        "* Data on the time of supply of bulk materials and wire materials were excluded from the final dataframe, because We do not use time series and the influence of this data on the target feature cannot be large.\n",
        "* Data related to batch numbers from the previously generated list for deletion were excluded from the final dataframe due to anomalous values, temperature gaps, and a single temperature measurement.\n",
        "* Features 4, 5, 7, 8, 9 of wire materials and 2, 7, 8, 9, 13 of bulk materials were excluded from the final dataframe due to the small number of actual objects.\n",
        "* Gaps in the data on the supply of bulk and wire materials were filled with the value 0.\n",
        "* Changed the type of features responsible for date and time to datatime in temperature measurement data and electrodes for subsequent data aggregation and obtaining a new feature.\n",
        "* All features have been renamed in accordance with the “snake” register in English. language.\n",
        "* New characteristics have been created: total active energy for each unique batch (the product of the active power allocation time and its value), as well as total active power and total reactive power for each unique batch.\n",
        "* From the temperature data, a sign was obtained - the first temperature measurement for a unique batch, and as a target sign - the last temperature measurement for a unique batch.\n",
        "* The data was combined into the final dataframe based on the key attribute - the batch number.\n",
        "* There are no gaps in the data in the combined dataframe, all data looks correct.\n",
        "* Number of objects for modeling = 2324, which is quite a bit; against the background of a small number of objects, a not very good prediction result may be obtained, we will check further.\n",
        "* Feature values vary greatly from each other, to get a good result when using linear regression you will need to normalize these features in the next section.\n",
        "* There is a high linear correlation (above 0.8) between the characteristics responsible for active and reactive power, as well as active energy. To eliminate multicollinearity, from these three features, only the active energy feature was left for the sample, with which we will work with linear regression (df_linreg), due to its greatest correlation with the target feature.\n",
        "* As a result, we obtained a sample (df) for the boosting model with 19 features and 1 target feature. For linear regression - a sample (df_linreg) with 17 features and 1 target feature. The target attribute is temperature_y."
      ]
    },
    {
      "cell_type": "markdown",
      "id": "0b123460",
      "metadata": {
        "id": "0b123460"
      },
      "source": [
        "## 4. Machine learning"
      ]
    },
    {
      "cell_type": "markdown",
      "id": "69c6c72b",
      "metadata": {
        "id": "69c6c72b"
      },
      "source": [
        "**We will use two models for modeling - linear regression and a boosting model - CatBoost.**"
      ]
    },
    {
      "cell_type": "markdown",
      "id": "fcba11f0",
      "metadata": {
        "id": "fcba11f0"
      },
      "source": [
        "### 4.1 Linear regression"
      ]
    },
    {
      "cell_type": "markdown",
      "id": "b39c6c2f",
      "metadata": {
        "id": "b39c6c2f"
      },
      "source": [
        "**As noted earlier, linear regression is particularly sensitive to non-normalized features. So the plan is this:**\n",
        "\n",
        "* We divide the combined data for linear regression into two datasets - with features and with the target feature.\n",
        "* We divide the samples into training and test in the ratio of 75% and 25%, use the value random_state = SEED.\n",
        "* Apply feature normalization using MinMaxScaler.\n",
        "* Using cross_validate we calculate MAE for linear regression with 5 folds.\n",
        "* Determine the best MAE value on the training set for linear regression.\n",
        "* Determine the training time and linear regression prediction time."
      ]
    },
    {
      "cell_type": "code",
      "execution_count": 83,
      "id": "e985f854",
      "metadata": {
        "colab": {
          "base_uri": "https://localhost:8080/"
        },
        "id": "e985f854",
        "outputId": "8b7181a8-029e-4e71-a585-335532f5e670"
      },
      "outputs": [
        {
          "output_type": "stream",
          "name": "stdout",
          "text": [
            "Best MAE value for LinReg on the training set = 6.29\n",
            "Average training time for LinReg on the training set = 0.02155\n",
            "Average prediction time of LinReg on the training set = 0.0029\n"
          ]
        }
      ],
      "source": [
        "X_linreg = df_linreg.drop('temperature_y', axis=1)\n",
        "y_linreg = df_linreg['temperature_y']\n",
        "X_train_lr, X_test_lr, y_train_lr, y_test_lr = train_test_split(X_linreg,\n",
        "                                                                y_linreg,\n",
        "                                                                test_size=0.25,\n",
        "                                                                shuffle=True,\n",
        "                                                                random_state=SEED)\n",
        "scaler = MinMaxScaler()\n",
        "X_train_lr_scaled = scaler.fit_transform(X_train_lr)\n",
        "X_test_lr_scaled = scaler.transform(X_test_lr)\n",
        "model_lr = LinearRegression()\n",
        "\n",
        "cv_linreg = cross_validate(\n",
        "                model_lr,\n",
        "                X_train_lr_scaled,\n",
        "                y_train_lr,\n",
        "                scoring='neg_mean_absolute_error',\n",
        "                cv=5)\n",
        "\n",
        "linreg_mae_train = round(-1*max(cv_linreg['test_score']), 2)\n",
        "linreg_fit_time_train = round(cv_linreg['fit_time'].mean(), 5)\n",
        "linreg_score_time_train = round(cv_linreg['score_time'].mean(), 5)\n",
        "print('Best MAE value for LinReg on the training set =', linreg_mae_train)\n",
        "print('Average training time for LinReg on the training set =', linreg_fit_time_train)\n",
        "print('Average prediction time of LinReg on the training set =', linreg_score_time_train)"
      ]
    },
    {
      "cell_type": "markdown",
      "id": "30806049",
      "metadata": {
        "id": "30806049"
      },
      "source": [
        "### 4.2 CatBoost boosting model"
      ]
    },
    {
      "cell_type": "markdown",
      "id": "f1497d0f",
      "metadata": {
        "id": "f1497d0f"
      },
      "source": [
        "**The plan for the boosting model is as follows:**\n",
        "\n",
        "* We divide the combined data into two datasets - with features and with the target feature.\n",
        "* We divide the samples into training and test in the ratio of 75% and 25%, use the value random_state = SEED.\n",
        "* We set the ranges of hyperparameter values that we will iterate through in GridSearchCV.\n",
        "* Use GridSearchCV to find the best combination of CatBoostRegressor hyperparameters that gives the best MAE on the training set. We fix the model with the best combination of hyperparameters.\n",
        "* Determine the best MAE value on the training set for linear regression.\n",
        "* Determine the training time and linear regression prediction time."
      ]
    },
    {
      "cell_type": "code",
      "execution_count": 84,
      "id": "4d5ef2c3",
      "metadata": {
        "colab": {
          "base_uri": "https://localhost:8080/"
        },
        "id": "4d5ef2c3",
        "outputId": "5fff887f-998f-4197-ff8d-36d16c8d8594"
      },
      "outputs": [
        {
          "output_type": "stream",
          "name": "stdout",
          "text": [
            "Best CBR model hyperparameters: {'depth': 8, 'learning_rate': 0.1, 'n_estimators': 100}\n",
            "Best MAE metric value for CBR model on training set = 6.6\n",
            "Training time of the CBR model with the best score on the training set = 1.46143\n",
            "CBR prediction time with best score on training set = 0.00323\n"
          ]
        }
      ],
      "source": [
        "X_cbr = df.drop('temperature_y', axis=1)\n",
        "y_cbr = df['temperature_y']\n",
        "X_train_cbr, X_test_cbr, y_train_cbr, y_test_cbr = train_test_split(X_cbr,\n",
        "                                                                     y_cbr,\n",
        "                                                                     test_size=0.25,\n",
        "                                                                     shuffle=True,\n",
        "                                                                     random_state=SEED)\n",
        "\n",
        "model_cbr = CatBoostRegressor(random_state=SEED, silent=True)\n",
        "param_cbr = {'learning_rate': [0.1, 0.01, 1],\n",
        "              'depth': [4, 6, 8, 10],\n",
        "              'n_estimators': [100, 200]}\n",
        "grid_cbr = GridSearchCV(estimator=model_cbr,\n",
        "                         param_grid=param_cbr,\n",
        "                         cv=5,\n",
        "                         scoring='neg_mean_absolute_error')\n",
        "grid_cbr.fit(X_train_cbr, y_train_cbr)\n",
        "best_model_cbr = grid_cbr.best_estimator_\n",
        "print(f'Best CBR model hyperparameters: {grid_cbr.best_params_}')\n",
        "\n",
        "cbr_mae_train = round(-1 * grid_cbr.best_score_, 2)\n",
        "cbr_fit_time_train = round(\n",
        "     pd.DataFrame(grid_cbr.cv_results_).iloc[grid_cbr.best_index_]['mean_fit_time'], 5)\n",
        "cbr_score_time_train = round(\n",
        "     pd.DataFrame(grid_cbr.cv_results_).iloc[grid_cbr.best_index_]['mean_score_time'], 5)\n",
        "print(f'Best MAE metric value for CBR model on training set = {cbr_mae_train}')\n",
        "print(f'Training time of the CBR model with the best score on the training set = {cbr_fit_time_train}')\n",
        "print(f'CBR prediction time with best score on training set = {cbr_score_time_train}')\n",
        "best_model_cbr = grid_cbr.best_estimator_"
      ]
    },
    {
      "cell_type": "markdown",
      "id": "d18cb2f0",
      "metadata": {
        "id": "d18cb2f0"
      },
      "source": [
        "**On the training data, linear regression performed best with the result MAE = 6.29.**\n",
        "\n",
        "**The MAE metric result for the CatBoostRegressor model was 6.6.**\n",
        "\n",
        "**At the same time, the training time of linear regression is significantly better than that of the CatBoostRegressor model: 21.6 ms versus 1461 ms.**\n",
        "\n",
        "**Accordingly, we will test linear regression on the test sample.**"
      ]
    },
    {
      "cell_type": "markdown",
      "id": "957d0cbb",
      "metadata": {
        "id": "957d0cbb"
      },
      "source": [
        "### 4.3 Verification of linear regression model on test data"
      ]
    },
    {
      "cell_type": "code",
      "execution_count": 85,
      "id": "f6ef662c",
      "metadata": {
        "colab": {
          "base_uri": "https://localhost:8080/"
        },
        "id": "f6ef662c",
        "outputId": "a1712db2-f194-42dc-9279-edf38718e4f4"
      },
      "outputs": [
        {
          "output_type": "stream",
          "name": "stdout",
          "text": [
            "MAE of linear regression on test set:  6.66\n"
          ]
        }
      ],
      "source": [
        "model_lr.fit(X_train_lr_scaled, y_train_lr)\n",
        "pred_test_lr = model_lr.predict(X_test_lr_scaled)\n",
        "print(\"MAE of linear regression on test set: \", round(mean_absolute_error(y_test_lr, pred_test_lr),2))"
      ]
    },
    {
      "cell_type": "markdown",
      "id": "a066dbe0",
      "metadata": {
        "id": "a066dbe0"
      },
      "source": [
        "**The obtained MAE value satisfies the primary condition of the problem: MAE < 6.8.**\n",
        "\n",
        "**Let us now check the influence of features on the predictions of the linear regression model.**\n",
        "\n",
        "**Positive values of the coefficients indicate a positive influence of the characteristic on the target variable, and negative values indicate a negative influence. The values of the coefficients also indicate the strength of the influence of the attribute: the larger the absolute value of the coefficient, the stronger the influence of the attribute on the model’s predictions.**"
      ]
    },
    {
      "cell_type": "code",
      "execution_count": 86,
      "id": "e9822bc2",
      "metadata": {
        "colab": {
          "base_uri": "https://localhost:8080/",
          "height": 376
        },
        "id": "e9822bc2",
        "outputId": "c918a298-8996-4112-fe6d-870cdceb9bb3"
      },
      "outputs": [
        {
          "output_type": "stream",
          "name": "stdout",
          "text": [
            "Coefficients for each attribute, reflecting the influence of the attribute on the predictions of the linear regression model:\n"
          ]
        },
        {
          "output_type": "execute_result",
          "data": {
            "text/plain": [
              "         features      coeff\n",
              "15  active_energy  32.677372\n",
              "16  temperature_x  27.398625\n",
              "0           bulk1 -26.017597\n",
              "14          wire6 -18.903589\n",
              "12          wire2 -13.483107\n",
              "7          bulk12  11.879882\n",
              "11          wire1  11.496942\n",
              "3           bulk5 -10.020272\n",
              "4           bulk6  -9.506221\n",
              "10           gas1  -8.827962"
            ],
            "text/html": [
              "\n",
              "  <div id=\"df-6ab7769e-4396-4998-ac65-3753ed257278\" class=\"colab-df-container\">\n",
              "    <div>\n",
              "<style scoped>\n",
              "    .dataframe tbody tr th:only-of-type {\n",
              "        vertical-align: middle;\n",
              "    }\n",
              "\n",
              "    .dataframe tbody tr th {\n",
              "        vertical-align: top;\n",
              "    }\n",
              "\n",
              "    .dataframe thead th {\n",
              "        text-align: right;\n",
              "    }\n",
              "</style>\n",
              "<table border=\"1\" class=\"dataframe\">\n",
              "  <thead>\n",
              "    <tr style=\"text-align: right;\">\n",
              "      <th></th>\n",
              "      <th>features</th>\n",
              "      <th>coeff</th>\n",
              "    </tr>\n",
              "  </thead>\n",
              "  <tbody>\n",
              "    <tr>\n",
              "      <th>15</th>\n",
              "      <td>active_energy</td>\n",
              "      <td>32.677372</td>\n",
              "    </tr>\n",
              "    <tr>\n",
              "      <th>16</th>\n",
              "      <td>temperature_x</td>\n",
              "      <td>27.398625</td>\n",
              "    </tr>\n",
              "    <tr>\n",
              "      <th>0</th>\n",
              "      <td>bulk1</td>\n",
              "      <td>-26.017597</td>\n",
              "    </tr>\n",
              "    <tr>\n",
              "      <th>14</th>\n",
              "      <td>wire6</td>\n",
              "      <td>-18.903589</td>\n",
              "    </tr>\n",
              "    <tr>\n",
              "      <th>12</th>\n",
              "      <td>wire2</td>\n",
              "      <td>-13.483107</td>\n",
              "    </tr>\n",
              "    <tr>\n",
              "      <th>7</th>\n",
              "      <td>bulk12</td>\n",
              "      <td>11.879882</td>\n",
              "    </tr>\n",
              "    <tr>\n",
              "      <th>11</th>\n",
              "      <td>wire1</td>\n",
              "      <td>11.496942</td>\n",
              "    </tr>\n",
              "    <tr>\n",
              "      <th>3</th>\n",
              "      <td>bulk5</td>\n",
              "      <td>-10.020272</td>\n",
              "    </tr>\n",
              "    <tr>\n",
              "      <th>4</th>\n",
              "      <td>bulk6</td>\n",
              "      <td>-9.506221</td>\n",
              "    </tr>\n",
              "    <tr>\n",
              "      <th>10</th>\n",
              "      <td>gas1</td>\n",
              "      <td>-8.827962</td>\n",
              "    </tr>\n",
              "  </tbody>\n",
              "</table>\n",
              "</div>\n",
              "    <div class=\"colab-df-buttons\">\n",
              "\n",
              "  <div class=\"colab-df-container\">\n",
              "    <button class=\"colab-df-convert\" onclick=\"convertToInteractive('df-6ab7769e-4396-4998-ac65-3753ed257278')\"\n",
              "            title=\"Convert this dataframe to an interactive table.\"\n",
              "            style=\"display:none;\">\n",
              "\n",
              "  <svg xmlns=\"http://www.w3.org/2000/svg\" height=\"24px\" viewBox=\"0 -960 960 960\">\n",
              "    <path d=\"M120-120v-720h720v720H120Zm60-500h600v-160H180v160Zm220 220h160v-160H400v160Zm0 220h160v-160H400v160ZM180-400h160v-160H180v160Zm440 0h160v-160H620v160ZM180-180h160v-160H180v160Zm440 0h160v-160H620v160Z\"/>\n",
              "  </svg>\n",
              "    </button>\n",
              "\n",
              "  <style>\n",
              "    .colab-df-container {\n",
              "      display:flex;\n",
              "      gap: 12px;\n",
              "    }\n",
              "\n",
              "    .colab-df-convert {\n",
              "      background-color: #E8F0FE;\n",
              "      border: none;\n",
              "      border-radius: 50%;\n",
              "      cursor: pointer;\n",
              "      display: none;\n",
              "      fill: #1967D2;\n",
              "      height: 32px;\n",
              "      padding: 0 0 0 0;\n",
              "      width: 32px;\n",
              "    }\n",
              "\n",
              "    .colab-df-convert:hover {\n",
              "      background-color: #E2EBFA;\n",
              "      box-shadow: 0px 1px 2px rgba(60, 64, 67, 0.3), 0px 1px 3px 1px rgba(60, 64, 67, 0.15);\n",
              "      fill: #174EA6;\n",
              "    }\n",
              "\n",
              "    .colab-df-buttons div {\n",
              "      margin-bottom: 4px;\n",
              "    }\n",
              "\n",
              "    [theme=dark] .colab-df-convert {\n",
              "      background-color: #3B4455;\n",
              "      fill: #D2E3FC;\n",
              "    }\n",
              "\n",
              "    [theme=dark] .colab-df-convert:hover {\n",
              "      background-color: #434B5C;\n",
              "      box-shadow: 0px 1px 3px 1px rgba(0, 0, 0, 0.15);\n",
              "      filter: drop-shadow(0px 1px 2px rgba(0, 0, 0, 0.3));\n",
              "      fill: #FFFFFF;\n",
              "    }\n",
              "  </style>\n",
              "\n",
              "    <script>\n",
              "      const buttonEl =\n",
              "        document.querySelector('#df-6ab7769e-4396-4998-ac65-3753ed257278 button.colab-df-convert');\n",
              "      buttonEl.style.display =\n",
              "        google.colab.kernel.accessAllowed ? 'block' : 'none';\n",
              "\n",
              "      async function convertToInteractive(key) {\n",
              "        const element = document.querySelector('#df-6ab7769e-4396-4998-ac65-3753ed257278');\n",
              "        const dataTable =\n",
              "          await google.colab.kernel.invokeFunction('convertToInteractive',\n",
              "                                                    [key], {});\n",
              "        if (!dataTable) return;\n",
              "\n",
              "        const docLinkHtml = 'Like what you see? Visit the ' +\n",
              "          '<a target=\"_blank\" href=https://colab.research.google.com/notebooks/data_table.ipynb>data table notebook</a>'\n",
              "          + ' to learn more about interactive tables.';\n",
              "        element.innerHTML = '';\n",
              "        dataTable['output_type'] = 'display_data';\n",
              "        await google.colab.output.renderOutput(dataTable, element);\n",
              "        const docLink = document.createElement('div');\n",
              "        docLink.innerHTML = docLinkHtml;\n",
              "        element.appendChild(docLink);\n",
              "      }\n",
              "    </script>\n",
              "  </div>\n",
              "\n",
              "\n",
              "<div id=\"df-44b75e7e-06ee-4daa-8b49-55b1f9d6388c\">\n",
              "  <button class=\"colab-df-quickchart\" onclick=\"quickchart('df-44b75e7e-06ee-4daa-8b49-55b1f9d6388c')\"\n",
              "            title=\"Suggest charts.\"\n",
              "            style=\"display:none;\">\n",
              "\n",
              "<svg xmlns=\"http://www.w3.org/2000/svg\" height=\"24px\"viewBox=\"0 0 24 24\"\n",
              "     width=\"24px\">\n",
              "    <g>\n",
              "        <path d=\"M19 3H5c-1.1 0-2 .9-2 2v14c0 1.1.9 2 2 2h14c1.1 0 2-.9 2-2V5c0-1.1-.9-2-2-2zM9 17H7v-7h2v7zm4 0h-2V7h2v10zm4 0h-2v-4h2v4z\"/>\n",
              "    </g>\n",
              "</svg>\n",
              "  </button>\n",
              "\n",
              "<style>\n",
              "  .colab-df-quickchart {\n",
              "      --bg-color: #E8F0FE;\n",
              "      --fill-color: #1967D2;\n",
              "      --hover-bg-color: #E2EBFA;\n",
              "      --hover-fill-color: #174EA6;\n",
              "      --disabled-fill-color: #AAA;\n",
              "      --disabled-bg-color: #DDD;\n",
              "  }\n",
              "\n",
              "  [theme=dark] .colab-df-quickchart {\n",
              "      --bg-color: #3B4455;\n",
              "      --fill-color: #D2E3FC;\n",
              "      --hover-bg-color: #434B5C;\n",
              "      --hover-fill-color: #FFFFFF;\n",
              "      --disabled-bg-color: #3B4455;\n",
              "      --disabled-fill-color: #666;\n",
              "  }\n",
              "\n",
              "  .colab-df-quickchart {\n",
              "    background-color: var(--bg-color);\n",
              "    border: none;\n",
              "    border-radius: 50%;\n",
              "    cursor: pointer;\n",
              "    display: none;\n",
              "    fill: var(--fill-color);\n",
              "    height: 32px;\n",
              "    padding: 0;\n",
              "    width: 32px;\n",
              "  }\n",
              "\n",
              "  .colab-df-quickchart:hover {\n",
              "    background-color: var(--hover-bg-color);\n",
              "    box-shadow: 0 1px 2px rgba(60, 64, 67, 0.3), 0 1px 3px 1px rgba(60, 64, 67, 0.15);\n",
              "    fill: var(--button-hover-fill-color);\n",
              "  }\n",
              "\n",
              "  .colab-df-quickchart-complete:disabled,\n",
              "  .colab-df-quickchart-complete:disabled:hover {\n",
              "    background-color: var(--disabled-bg-color);\n",
              "    fill: var(--disabled-fill-color);\n",
              "    box-shadow: none;\n",
              "  }\n",
              "\n",
              "  .colab-df-spinner {\n",
              "    border: 2px solid var(--fill-color);\n",
              "    border-color: transparent;\n",
              "    border-bottom-color: var(--fill-color);\n",
              "    animation:\n",
              "      spin 1s steps(1) infinite;\n",
              "  }\n",
              "\n",
              "  @keyframes spin {\n",
              "    0% {\n",
              "      border-color: transparent;\n",
              "      border-bottom-color: var(--fill-color);\n",
              "      border-left-color: var(--fill-color);\n",
              "    }\n",
              "    20% {\n",
              "      border-color: transparent;\n",
              "      border-left-color: var(--fill-color);\n",
              "      border-top-color: var(--fill-color);\n",
              "    }\n",
              "    30% {\n",
              "      border-color: transparent;\n",
              "      border-left-color: var(--fill-color);\n",
              "      border-top-color: var(--fill-color);\n",
              "      border-right-color: var(--fill-color);\n",
              "    }\n",
              "    40% {\n",
              "      border-color: transparent;\n",
              "      border-right-color: var(--fill-color);\n",
              "      border-top-color: var(--fill-color);\n",
              "    }\n",
              "    60% {\n",
              "      border-color: transparent;\n",
              "      border-right-color: var(--fill-color);\n",
              "    }\n",
              "    80% {\n",
              "      border-color: transparent;\n",
              "      border-right-color: var(--fill-color);\n",
              "      border-bottom-color: var(--fill-color);\n",
              "    }\n",
              "    90% {\n",
              "      border-color: transparent;\n",
              "      border-bottom-color: var(--fill-color);\n",
              "    }\n",
              "  }\n",
              "</style>\n",
              "\n",
              "  <script>\n",
              "    async function quickchart(key) {\n",
              "      const quickchartButtonEl =\n",
              "        document.querySelector('#' + key + ' button');\n",
              "      quickchartButtonEl.disabled = true;  // To prevent multiple clicks.\n",
              "      quickchartButtonEl.classList.add('colab-df-spinner');\n",
              "      try {\n",
              "        const charts = await google.colab.kernel.invokeFunction(\n",
              "            'suggestCharts', [key], {});\n",
              "      } catch (error) {\n",
              "        console.error('Error during call to suggestCharts:', error);\n",
              "      }\n",
              "      quickchartButtonEl.classList.remove('colab-df-spinner');\n",
              "      quickchartButtonEl.classList.add('colab-df-quickchart-complete');\n",
              "    }\n",
              "    (() => {\n",
              "      let quickchartButtonEl =\n",
              "        document.querySelector('#df-44b75e7e-06ee-4daa-8b49-55b1f9d6388c button');\n",
              "      quickchartButtonEl.style.display =\n",
              "        google.colab.kernel.accessAllowed ? 'block' : 'none';\n",
              "    })();\n",
              "  </script>\n",
              "</div>\n",
              "    </div>\n",
              "  </div>\n"
            ]
          },
          "metadata": {},
          "execution_count": 86
        }
      ],
      "source": [
        "coefficients = list(model_lr.coef_)\n",
        "features = df_linreg.drop('temperature_y', axis=1).columns.to_list()\n",
        "linreg_coef = pd.DataFrame({'features':features,\n",
        "                            'coeff':coefficients,\n",
        "                            'coeff_abs':[abs(x) for x in coefficients]})\n",
        "print('Coefficients for each attribute, reflecting the influence of the attribute on the predictions of the linear regression model:')\n",
        "linreg_coef.sort_values(by='coeff_abs', ascending=False)[['features', 'coeff']].head(10)"
      ]
    },
    {
      "cell_type": "markdown",
      "id": "ecf23a92",
      "metadata": {
        "id": "ecf23a92"
      },
      "source": [
        "**We see that the following features have the greatest influence on the model:**\n",
        "* Active energy - active_energy.\n",
        "* The first measured temperature in the ladle is temperature_x.\n",
        "* Volume of the first category of bulk materials - bulk1.\n",
        "* The scope of the sixth and second categories of wire materials is wire6 and wire2.\n",
        "\n",
        "**Now we check the model for adequacy using the constant model.**"
      ]
    },
    {
      "cell_type": "markdown",
      "id": "ff28b89e",
      "metadata": {
        "id": "ff28b89e"
      },
      "source": [
        "### 4.4 Checking models for adequacy"
      ]
    },
    {
      "cell_type": "markdown",
      "id": "709d6915",
      "metadata": {
        "id": "709d6915"
      },
      "source": [
        "**Let's check the models for adequacy using the Dummy Model from the sklearn class, having previously imported it in the first step.**\n",
        "\n",
        "**The check is that the quality of the trained model chosen above is higher than the quality of the Dummy model, which predicts the result without relying on the features of the training set.**"
      ]
    },
    {
      "cell_type": "code",
      "execution_count": 87,
      "id": "cfaa5860",
      "metadata": {
        "colab": {
          "base_uri": "https://localhost:8080/"
        },
        "id": "cfaa5860",
        "outputId": "bab59dc3-2fad-449e-f159-14ea6d71dd18"
      },
      "outputs": [
        {
          "output_type": "stream",
          "name": "stdout",
          "text": [
            "The best MAE metric value for the Dummy model on the training set= 8.13\n"
          ]
        }
      ],
      "source": [
        "model_dummy = DummyRegressor()\n",
        "parameters_dummy = {'strategy':['mean', 'median', 'constant'],\n",
        "                    'constant':(1580,1620,1)}\n",
        "gridsearch_dummy = GridSearchCV(\n",
        "    estimator=model_dummy,\n",
        "    param_grid=parameters_dummy,\n",
        "    scoring='neg_mean_absolute_error',\n",
        "    cv=5, n_jobs=-1)\n",
        "gridsearch_dummy.fit(X_train_cbr, y_train_cbr)\n",
        "print('The best MAE metric value for the Dummy model on the training set=',\n",
        "      round((-1 * gridsearch_dummy.best_score_), 2))"
      ]
    },
    {
      "cell_type": "code",
      "execution_count": 88,
      "id": "64da065f",
      "metadata": {
        "colab": {
          "base_uri": "https://localhost:8080/"
        },
        "id": "64da065f",
        "outputId": "e49b7425-5bc9-4611-a5e6-93e90c79add1"
      },
      "outputs": [
        {
          "output_type": "stream",
          "name": "stdout",
          "text": [
            "The best MAE metric value for the Dummy model on the test set = 7.88\n"
          ]
        }
      ],
      "source": [
        "predict_dummy = gridsearch_dummy.best_estimator_.predict(X_test_cbr)\n",
        "print('The best MAE metric value for the Dummy model on the test set =',\n",
        "      round(mean_absolute_error(y_test_cbr, predict_dummy),2))"
      ]
    },
    {
      "cell_type": "markdown",
      "id": "67fe648c",
      "metadata": {
        "id": "67fe648c"
      },
      "source": [
        "**As a result, using the Dummy model, it was possible to obtain the best quality of the model with an MAE equal to 7.88 on the test set, which is lower than the best result of the selected and trained linear regression model. Which proves the adequacy of the model we found and selected.**"
      ]
    },
    {
      "cell_type": "markdown",
      "id": "924d86d7",
      "metadata": {
        "id": "924d86d7"
      },
      "source": [
        "### 4.5 Key conclusions after this section\n",
        "* The combined final dataset was divided into two versions - one for linear regression, where two features (active power and reactive power) that could cause multicollinearity and disrupt the correct results of this model were excluded. The second version is complete, for the boosting model CatBoostRegressor. As a result, for linear regression the sample consisted of 17 features and 1 target feature. For the boosting model CatBoostRegressor, the sample consisted of 19 features and 1 target feature.\n",
        "* The division of samples into training and testing was in the ratio of 75% and 25% according to the problem conditions using train_test_split with random_state = 220523 specified according to the problem conditions.\n",
        "* For the sample with which linear regression worked, features were additionally standardized using MinMaxScaler(), because models of this type are sensitive to a large spread of values in features.\n",
        "* Cross-validation was used to evaluate linear regression using cross_validate, the number of folds was taken to be 5.\n",
        "* Using linear regression on the training set, the best result for the MAE metric was 6.29, while the training time was 3.4 ms.\n",
        "* Using the boosting model CatBoostRegressor, the best MAE metric result of 6.6 was obtained on the training set, with a training time of 191 ms. The combination of hyperparameters with which this result was achieved: 'depth' = 8, 'learning_rate' = 0.1, 'n_estimators' = 100, random_state = 220523.\n",
        "* Based on the results of testing on the training set, a linear regression model was selected for prediction on the test set.\n",
        "* On the test sample, linear regression showed a MAE metric result of 6.66, which satisfies the initial condition of the task - obtaining MAE < 6.8.\n",
        "* The influence of features on the linear regression prediction result was studied. The most positive influence was exerted by the signs active energy (active_energy) and the first measured temperature value in the ladle (temperature_x).\n",
        "* The adequacy of the models was checked using the DummyRegressor constant model. Using this model, it was possible to obtain an MAE value of 8.13 on the training data, and 7.88 on the test data. What is worse are the results obtained using linear regression and the boosting model, which prove the adequacy of the linear regression model we have chosen."
      ]
    },
    {
      "cell_type": "markdown",
      "id": "8a878f98",
      "metadata": {
        "id": "8a878f98"
      },
      "source": [
        "## 5. Report"
      ]
    },
    {
      "cell_type": "markdown",
      "id": "cdaee530",
      "metadata": {
        "id": "cdaee530"
      },
      "source": [
        "### 5.1 Comparison of solution and plan\n",
        "\n",
        "**Original plan:**\n",
        "\n",
        "* Do not use data on the feeding time of bulk materials and wire materials, because We do not use time series and the influence of this data on the target attribute cannot be great; we will limit ourselves only to data on the data volumes of two types of materials.\n",
        "* From all further used dataframes we delete data that corresponds to batch numbers from the generated list for deletion, due to anomalous values, gaps in temperature and single temperature records.\n",
        "* Due to the small number of actual objects, we exclude from further analysis signs 4, 5, 7, 8, 9 wire materials and 2, 7, 8, 9, 13 bulk materials in the next section.\n",
        "* Gaps in the data on the supply of bulk and wire materials are filled in with 0.\n",
        "* It is necessary to change the type of some features and rename them in accordance with the “snake” register in English. language.\n",
        "* Creation of new features: active energy for each unique batch, as well as total power, both active and reactive, for each unique batch.\n",
        "* Of the temperature data, only the first temperature measurement should be used as a characteristic, and the last temperature measurement for a unique batch should be used as a target characteristic.\n",
        "* Data merging will occur based on the key attribute - a unique batch number.\n",
        "* Evaluation of a new aggregated dataset for correlation between features and distribution of the target feature.\n",
        "* Selection of two models, one of which is linear, the second is boosting.\n",
        "* Dividing the data into training and test samples in a ratio of 75 to 25.\n",
        "* Standardization of features for linear models.\n",
        "* Use cross-validation and automated hyperparameter selection where applicable.\n",
        "* Selecting the best model on the training set using the MAE metric.\n",
        "* Testing the best model on a test sample.\n",
        "* Assessing the adequacy of the model in terms of comparison with the MAE metric of the constant model.\n",
        "\n",
        "**All main points of the plan were completed.**\n",
        "\n",
        "\n",
        "### 5.2 Description of project difficulties\n",
        "\n",
        "**In general, there were no particular difficulties. The main difficulty is the large amount of information, detailed analysis and research of it.\n",
        "\n",
        "### 5.3 Key steps to solve the problem\n",
        "\n",
        "* Data processing;\n",
        "* Exploratory data analysis;\n",
        "* Data preprocessing and obtaining an aggregated dataset;\n",
        "* Development and selection of the best model with subsequent testing on a test sample;\n",
        "* Checking the selected model for adequacy using a constant model.\n",
        "* Report.\n",
        "\n",
        "### 5.4 Features used for training and their processing\n",
        "* The final aggregated dataframe consists of 19 features, 1 target feature and 2324 records.\n",
        "* The training and test set are divided in the ratio of 75% to 25%.\n",
        "* 15 signs are based on the volume of supplied bulk materials and wire, as well as the amount of purge gas.\n",
        "* 2 characteristics are based on the total values of active and reactive power for a unique batch.\n",
        "* 1 sign is based on the total active energy for a unique batch, generated based on the sum of the product of active power and the time of its release for each moment for a unique batch.\n",
        "* 1 sign - the first measured temperature in the ladle for a unique batch\n",
        "- 1 target feature - the last measured temperature in the ladle for a unique batch\n",
        "\n",
        "\n",
        "### 5.5 Full description of the model used\n",
        "* Two models were trained - linear regression and the boosting model CatBoostRegressor. The best result on the training set was shown by linear regression, MAE metric = 6.29, training time 3.4 ms.\n",
        "* At the same time, the best result of the boosting model CatBoostRegressor on the training set: MAE = 6.6, training time 191 ms. The combination of hyperparameters with which this result was achieved: 'depth' = 8, 'learning_rate' = 0.1, 'n_estimators' = 100, random_state = 220523.\n",
        "* For the test sample, linear regression was chosen, which showed the result of the MAE metric equal to 6.66, which satisfies the initial condition of the task - obtaining MAE < 6.8.\n",
        "* The adequacy of the models was checked using the DummyRegressor constant model. Using this model, it was possible to obtain an MAE value of 8.13 on the training data, and 7.88 on the test data. What is worse are the results obtained using linear regression and the boosting model, which prove the adequacy of the linear regression model we have chosen.\n",
        "\n",
        "### 5.6 Final metric\n",
        "* On the test sample, linear regression showed an MAE result of 6.66.\n",
        "\n",
        "### 5.7 Recommendations for improving the solution\n",
        "* There was not a very large amount of data presented to obtain a high result of the boosting model; one could try to artificially increase the original sample using resampling.\n",
        "* Consider a wider set of hyperparameters in the boosting model. * Create more new features.\n",
        "* Leave in the sample those features that have higher values of the coefficient of influence on the prediction of the target variable for a given model."
      ]
    }
  ],
  "metadata": {
    "ExecuteTimeLog": [
      {
        "duration": 3463,
        "start_time": "2023-05-31T17:24:19.183Z"
      },
      {
        "duration": 7,
        "start_time": "2023-05-31T17:24:22.706Z"
      },
      {
        "duration": 1512,
        "start_time": "2023-05-31T17:24:22.717Z"
      },
      {
        "duration": 5,
        "start_time": "2023-05-31T17:24:24.231Z"
      },
      {
        "duration": 125,
        "start_time": "2023-05-31T17:24:24.237Z"
      },
      {
        "duration": 6,
        "start_time": "2023-05-31T17:24:24.363Z"
      },
      {
        "duration": 138,
        "start_time": "2023-05-31T17:24:24.370Z"
      },
      {
        "duration": 23,
        "start_time": "2023-05-31T17:24:24.511Z"
      },
      {
        "duration": 78,
        "start_time": "2023-05-31T17:24:24.536Z"
      },
      {
        "duration": 6,
        "start_time": "2023-05-31T17:24:24.620Z"
      },
      {
        "duration": 586,
        "start_time": "2023-05-31T17:24:24.632Z"
      },
      {
        "duration": 393,
        "start_time": "2023-05-31T17:24:25.224Z"
      },
      {
        "duration": 516,
        "start_time": "2023-05-31T17:24:25.619Z"
      },
      {
        "duration": 116,
        "start_time": "2023-05-31T17:24:26.137Z"
      },
      {
        "duration": 446,
        "start_time": "2023-05-31T17:24:26.307Z"
      },
      {
        "duration": 24,
        "start_time": "2023-05-31T17:24:26.809Z"
      },
      {
        "duration": 17,
        "start_time": "2023-05-31T17:24:26.838Z"
      },
      {
        "duration": 87,
        "start_time": "2023-05-31T17:24:26.857Z"
      },
      {
        "duration": 76,
        "start_time": "2023-05-31T17:24:26.948Z"
      },
      {
        "duration": 11,
        "start_time": "2023-05-31T17:24:27.027Z"
      },
      {
        "duration": 94,
        "start_time": "2023-05-31T17:24:27.042Z"
      },
      {
        "duration": 21,
        "start_time": "2023-05-31T17:24:27.140Z"
      },
      {
        "duration": 26,
        "start_time": "2023-05-31T17:24:27.162Z"
      },
      {
        "duration": 44,
        "start_time": "2023-05-31T17:24:27.189Z"
      },
      {
        "duration": 262,
        "start_time": "2023-05-31T17:24:27.237Z"
      },
      {
        "duration": 33,
        "start_time": "2023-05-31T17:24:27.501Z"
      },
      {
        "duration": 7,
        "start_time": "2023-05-31T17:24:27.535Z"
      },
      {
        "duration": 8,
        "start_time": "2023-05-31T17:24:27.546Z"
      },
      {
        "duration": 11,
        "start_time": "2023-05-31T17:24:27.556Z"
      },
      {
        "duration": 3,
        "start_time": "2023-05-31T17:24:27.569Z"
      },
      {
        "duration": 14,
        "start_time": "2023-05-31T17:24:27.573Z"
      },
      {
        "duration": 22,
        "start_time": "2023-05-31T17:24:27.588Z"
      },
      {
        "duration": 8,
        "start_time": "2023-05-31T17:24:27.611Z"
      },
      {
        "duration": 18,
        "start_time": "2023-05-31T17:24:27.621Z"
      },
      {
        "duration": 51,
        "start_time": "2023-05-31T17:24:27.640Z"
      },
      {
        "duration": 180,
        "start_time": "2023-05-31T17:24:27.692Z"
      },
      {
        "duration": 61,
        "start_time": "2023-05-31T17:24:27.874Z"
      },
      {
        "duration": 159,
        "start_time": "2023-05-31T17:24:27.940Z"
      },
      {
        "duration": 16,
        "start_time": "2023-05-31T17:24:28.101Z"
      },
      {
        "duration": 8,
        "start_time": "2023-05-31T17:24:28.118Z"
      },
      {
        "duration": 29,
        "start_time": "2023-05-31T17:24:28.127Z"
      },
      {
        "duration": 21,
        "start_time": "2023-05-31T17:24:28.157Z"
      },
      {
        "duration": 6,
        "start_time": "2023-05-31T17:24:28.180Z"
      },
      {
        "duration": 50,
        "start_time": "2023-05-31T17:24:28.187Z"
      },
      {
        "duration": 34,
        "start_time": "2023-05-31T17:24:28.241Z"
      },
      {
        "duration": 13,
        "start_time": "2023-05-31T17:24:28.277Z"
      },
      {
        "duration": 32,
        "start_time": "2023-05-31T17:24:28.308Z"
      },
      {
        "duration": 24,
        "start_time": "2023-05-31T17:24:28.342Z"
      },
      {
        "duration": 20,
        "start_time": "2023-05-31T17:24:28.368Z"
      },
      {
        "duration": 21,
        "start_time": "2023-05-31T17:24:28.409Z"
      },
      {
        "duration": 7,
        "start_time": "2023-05-31T17:24:28.431Z"
      },
      {
        "duration": 22,
        "start_time": "2023-05-31T17:24:28.440Z"
      },
      {
        "duration": 22,
        "start_time": "2023-05-31T17:24:28.463Z"
      },
      {
        "duration": 85,
        "start_time": "2023-05-31T17:24:28.487Z"
      },
      {
        "duration": 13,
        "start_time": "2023-05-31T17:24:28.573Z"
      },
      {
        "duration": 60,
        "start_time": "2023-05-31T17:24:28.588Z"
      },
      {
        "duration": 58,
        "start_time": "2023-05-31T17:24:28.650Z"
      },
      {
        "duration": 10,
        "start_time": "2023-05-31T17:24:28.711Z"
      },
      {
        "duration": 11,
        "start_time": "2023-05-31T17:24:28.724Z"
      },
      {
        "duration": 180,
        "start_time": "2023-05-31T17:24:28.736Z"
      },
      {
        "duration": 92,
        "start_time": "2023-05-31T17:24:28.918Z"
      },
      {
        "duration": 303952,
        "start_time": "2023-05-31T17:24:29.016Z"
      },
      {
        "duration": 137,
        "start_time": "2023-05-31T17:29:32.969Z"
      },
      {
        "duration": 27,
        "start_time": "2023-05-31T17:29:33.120Z"
      },
      {
        "duration": 68,
        "start_time": "2023-05-31T17:29:33.149Z"
      },
      {
        "duration": 4,
        "start_time": "2023-05-31T17:29:33.219Z"
      }
    ],
    "kernelspec": {
      "display_name": "Python 3 (ipykernel)",
      "language": "python",
      "name": "python3"
    },
    "language_info": {
      "codemirror_mode": {
        "name": "ipython",
        "version": 3
      },
      "file_extension": ".py",
      "mimetype": "text/x-python",
      "name": "python",
      "nbconvert_exporter": "python",
      "pygments_lexer": "ipython3",
      "version": "3.9.5"
    },
    "toc": {
      "base_numbering": 1,
      "nav_menu": {},
      "number_sections": true,
      "sideBar": true,
      "skip_h1_title": true,
      "title_cell": "Table of Contents",
      "title_sidebar": "Contents",
      "toc_cell": false,
      "toc_position": {},
      "toc_section_display": true,
      "toc_window_display": false
    },
    "colab": {
      "provenance": []
    }
  },
  "nbformat": 4,
  "nbformat_minor": 5
}