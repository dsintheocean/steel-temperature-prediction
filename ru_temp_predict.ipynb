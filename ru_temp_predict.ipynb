{
  "cells": [
    {
      "cell_type": "markdown",
      "id": "b3c76b9d",
      "metadata": {
        "id": "b3c76b9d"
      },
      "source": [
        "# Проект моделирования температуры стали в ковше с целью оптимизации потребления электроэнергии.\n",
        "\n",
        "### Задача\n",
        "\n",
        "Чтобы оптимизировать производственные расходы, металлургический комбинат решил уменьшить потребление электроэнергии на этапе обработки стали. Необходимо построить модель, которая предскажет температуру стали.\n",
        "\n",
        "### Описание технологического процесса\n",
        "\n",
        "Сталь обрабатывают в металлическом ковше вместимостью около 100 тонн. Чтобы ковш выдерживал высокие температуры, изнутри его облицовывают огнеупорным кирпичом. Расплавленную сталь заливают в ковш и подогревают до нужной температуры графитовыми электродами. Они установлены в крышке ковша.\n",
        "\n",
        "Из сплава выводится сера (десульфурация), добавлением примесей корректируется химический состав и отбираются пробы. Сталь легируют — изменяют её состав — подавая куски сплава из бункера для сыпучих материалов или проволоку через специальный трайб-аппарат (англ. tribe, «масса»).\n",
        "\n",
        "Перед тем как первый раз ввести легирующие добавки, измеряют температуру стали и производят её химический анализ. Потом температуру на несколько минут повышают, добавляют легирующие материалы и продувают сплав инертным газом. Затем его перемешивают и снова проводят измерения. Такой цикл повторяется до достижения целевого химического состава и оптимальной температуры плавки.\n",
        "\n",
        "Тогда расплавленная сталь отправляется на доводку металла или поступает в машину непрерывной разливки. Оттуда готовый продукт выходит в виде заготовок-слябов (англ. *slab*, «плита»).\n",
        "\n",
        "### Описание данных:\n",
        "Данные состоят из файлов, полученных из разных источников:\n",
        "* data_arc.csv — данные об электродах;\n",
        "* data_bulk.csv — данные о подаче сыпучих материалов (объём);\n",
        "* data_bulk_time.csv — данные о подаче сыпучих материалов (время);\n",
        "* data_gas.csv — данные о продувке сплава газом;\n",
        "* data_temp.csv — результаты измерения температуры;\n",
        "* data_wire.csv — данные о проволочных материалах (объём);\n",
        "* data_wire_time.csv — данные о проволочных материалах (время).\n",
        "\n",
        "Во всех файлах столбец key содержит номер партии. В файлах может быть несколько строк с одинаковым значением key: они соответствуют разным итерациям обработки.\n",
        "\n",
        "Обьект моделирования - один ковш (один процесс варки), который определяется уникальным ключом key.\n",
        "\n",
        "### Условия задачи:\n",
        "\n",
        "* Целевой признак: последняя температура для уникальной партии;\n",
        "* Целевая метрика: MAE;\n",
        "* Критерий успешности: получение метрики MAE < 6.8;\n",
        "* Использовать как признак можно только первую температуру, исследованную до процесса;\n",
        "* В случае некорректных данных (один замер; значение, противоречащее здравому смыслу) данные считаем непригодными для всей партии, к которой относятся эти данные.\n",
        "\n",
        "### План работы:\n",
        "\n",
        "* Загрузка данных;\n",
        "* Исследовательский анализ данных;\n",
        "* Предобработка данных;\n",
        "* Разработка и выбор лучшей модели с последующей проверкой на тестовой выборке;\n",
        "* Отчет."
      ]
    },
    {
      "cell_type": "markdown",
      "id": "a368b63f",
      "metadata": {
        "id": "a368b63f"
      },
      "source": [
        "## 1. Загрузка данных"
      ]
    },
    {
      "cell_type": "code",
      "source": [
        "!pip install catboost"
      ],
      "metadata": {
        "id": "0kMILSvVBK-z",
        "outputId": "c1fe612a-e1a8-4a0a-aa56-8545c5f50741",
        "colab": {
          "base_uri": "https://localhost:8080/"
        }
      },
      "id": "0kMILSvVBK-z",
      "execution_count": 3,
      "outputs": [
        {
          "output_type": "stream",
          "name": "stdout",
          "text": [
            "Collecting catboost\n",
            "  Downloading catboost-1.2.2-cp310-cp310-manylinux2014_x86_64.whl (98.7 MB)\n",
            "\u001b[2K     \u001b[90m━━━━━━━━━━━━━━━━━━━━━━━━━━━━━━━━━━━━━━━━\u001b[0m \u001b[32m98.7/98.7 MB\u001b[0m \u001b[31m11.4 MB/s\u001b[0m eta \u001b[36m0:00:00\u001b[0m\n",
            "\u001b[?25hRequirement already satisfied: graphviz in /usr/local/lib/python3.10/dist-packages (from catboost) (0.20.1)\n",
            "Requirement already satisfied: matplotlib in /usr/local/lib/python3.10/dist-packages (from catboost) (3.7.1)\n",
            "Requirement already satisfied: numpy>=1.16.0 in /usr/local/lib/python3.10/dist-packages (from catboost) (1.23.5)\n",
            "Requirement already satisfied: pandas>=0.24 in /usr/local/lib/python3.10/dist-packages (from catboost) (1.5.3)\n",
            "Requirement already satisfied: scipy in /usr/local/lib/python3.10/dist-packages (from catboost) (1.11.3)\n",
            "Requirement already satisfied: plotly in /usr/local/lib/python3.10/dist-packages (from catboost) (5.15.0)\n",
            "Requirement already satisfied: six in /usr/local/lib/python3.10/dist-packages (from catboost) (1.16.0)\n",
            "Requirement already satisfied: python-dateutil>=2.8.1 in /usr/local/lib/python3.10/dist-packages (from pandas>=0.24->catboost) (2.8.2)\n",
            "Requirement already satisfied: pytz>=2020.1 in /usr/local/lib/python3.10/dist-packages (from pandas>=0.24->catboost) (2023.3.post1)\n",
            "Requirement already satisfied: contourpy>=1.0.1 in /usr/local/lib/python3.10/dist-packages (from matplotlib->catboost) (1.1.1)\n",
            "Requirement already satisfied: cycler>=0.10 in /usr/local/lib/python3.10/dist-packages (from matplotlib->catboost) (0.12.1)\n",
            "Requirement already satisfied: fonttools>=4.22.0 in /usr/local/lib/python3.10/dist-packages (from matplotlib->catboost) (4.43.1)\n",
            "Requirement already satisfied: kiwisolver>=1.0.1 in /usr/local/lib/python3.10/dist-packages (from matplotlib->catboost) (1.4.5)\n",
            "Requirement already satisfied: packaging>=20.0 in /usr/local/lib/python3.10/dist-packages (from matplotlib->catboost) (23.2)\n",
            "Requirement already satisfied: pillow>=6.2.0 in /usr/local/lib/python3.10/dist-packages (from matplotlib->catboost) (9.4.0)\n",
            "Requirement already satisfied: pyparsing>=2.3.1 in /usr/local/lib/python3.10/dist-packages (from matplotlib->catboost) (3.1.1)\n",
            "Requirement already satisfied: tenacity>=6.2.0 in /usr/local/lib/python3.10/dist-packages (from plotly->catboost) (8.2.3)\n",
            "Installing collected packages: catboost\n",
            "Successfully installed catboost-1.2.2\n"
          ]
        }
      ]
    },
    {
      "cell_type": "code",
      "execution_count": 4,
      "id": "326190ac",
      "metadata": {
        "id": "326190ac",
        "outputId": "edfcbcde-2e6d-4a97-821d-378e31401734",
        "colab": {
          "base_uri": "https://localhost:8080/"
        }
      },
      "outputs": [
        {
          "output_type": "stream",
          "name": "stdout",
          "text": [
            "Mounted at /content/drive\n"
          ]
        }
      ],
      "source": [
        "import pandas as pd\n",
        "import numpy as np\n",
        "import matplotlib.pyplot as plt\n",
        "\n",
        "from sklearn.linear_model import LinearRegression\n",
        "from catboost import CatBoostRegressor\n",
        "import lightgbm as lgb\n",
        "from sklearn.dummy import DummyRegressor\n",
        "\n",
        "from sklearn.model_selection import train_test_split, cross_val_score, cross_validate\n",
        "from sklearn.preprocessing import MinMaxScaler\n",
        "from sklearn.model_selection import GridSearchCV\n",
        "\n",
        "from sklearn.metrics import mean_absolute_error\n",
        "\n",
        "from google.colab import drive\n",
        "drive.mount('/content/drive')"
      ]
    },
    {
      "cell_type": "code",
      "execution_count": 5,
      "id": "c5523662",
      "metadata": {
        "id": "c5523662"
      },
      "outputs": [],
      "source": [
        "#для использования в random_state во всей работе\n",
        "SEED = 220523"
      ]
    },
    {
      "cell_type": "code",
      "execution_count": 6,
      "id": "3c32f9f6",
      "metadata": {
        "id": "3c32f9f6",
        "outputId": "82d753ae-7026-4b6f-a856-aa47c4640eef",
        "colab": {
          "base_uri": "https://localhost:8080/"
        }
      },
      "outputs": [
        {
          "output_type": "stream",
          "name": "stdout",
          "text": [
            "DataFrame arc downloaded successfully!\n",
            "DataFrame bulk downloaded successfully!\n",
            "DataFrame bulk_time downloaded successfully!\n",
            "DataFrame gas downloaded successfully!\n",
            "DataFrame temp downloaded successfully!\n",
            "DataFrame wire downloaded successfully!\n",
            "DataFrame wire_time downloaded successfully!\n"
          ]
        }
      ],
      "source": [
        "path_list = ['/content/drive/My Drive/projects/metals_plant_steel_temperature_prediction/data_arc_new.csv',\n",
        "             '/content/drive/My Drive/projects/metals_plant_steel_temperature_prediction/data_bulk_new.csv',\n",
        "             '/content/drive/My Drive/projects/metals_plant_steel_temperature_prediction/data_bulk_time_new.csv',\n",
        "             '/content/drive/My Drive/projects/metals_plant_steel_temperature_prediction/data_gas_new.csv',\n",
        "             '/content/drive/My Drive/projects/metals_plant_steel_temperature_prediction/data_temp_new.csv',\n",
        "             '/content/drive/My Drive/projects/metals_plant_steel_temperature_prediction/data_wire_new.csv',\n",
        "             '/content/drive/My Drive/projects/metals_plant_steel_temperature_prediction/data_wire_time_new.csv']\n",
        "\n",
        "df_dict = {}\n",
        "\n",
        "for i, path in enumerate(path_list):\n",
        "    try:\n",
        "        df_name = path.\\\n",
        "                  replace('/content/drive/My Drive/projects/metals_plant_steel_temperature_prediction/data_', '').\\\n",
        "                  replace('_new.csv', '')\n",
        "        df_dict[df_name] = pd.read_csv(path)\n",
        "        print(f'DataFrame {df_name} downloaded successfully!')\n",
        "    except:\n",
        "        print(f'An error occurred while downloading the DataFrame {df_name}')"
      ]
    },
    {
      "cell_type": "code",
      "execution_count": 7,
      "id": "7e9228f5",
      "metadata": {
        "id": "7e9228f5",
        "outputId": "069ac1bf-638b-46ad-81b3-5ddf9df66483",
        "colab": {
          "base_uri": "https://localhost:8080/"
        }
      },
      "outputs": [
        {
          "output_type": "stream",
          "name": "stdout",
          "text": [
            "Shape of DataFrame 'arc' is (14876, 5) \n",
            "\n",
            "Shape of DataFrame 'bulk' is (3129, 16) \n",
            "\n",
            "Shape of DataFrame 'bulk_time' is (3129, 16) \n",
            "\n",
            "Shape of DataFrame 'gas' is (3239, 2) \n",
            "\n",
            "Shape of DataFrame 'temp' is (18092, 3) \n",
            "\n",
            "Shape of DataFrame 'wire' is (3081, 10) \n",
            "\n",
            "Shape of DataFrame 'wire_time' is (3081, 10) \n",
            "\n"
          ]
        }
      ],
      "source": [
        "for key, df in df_dict.items():\n",
        "    print(f\"Shape of DataFrame '{key}' is {df.shape} \\n\")"
      ]
    },
    {
      "cell_type": "markdown",
      "id": "3122ebbf",
      "metadata": {
        "id": "3122ebbf"
      },
      "source": [
        "## 2. Исследовательский анализ данных"
      ]
    },
    {
      "cell_type": "markdown",
      "id": "1a5a4fa8",
      "metadata": {
        "id": "1a5a4fa8"
      },
      "source": [
        "**Для проведения первичного исследовательского анализа данных каждого из имеющихся датафреймов выведем информацию по каждому из них.**\n",
        "\n",
        "### 2.1 Данные об электродах"
      ]
    },
    {
      "cell_type": "code",
      "execution_count": null,
      "id": "7db2c243",
      "metadata": {
        "id": "7db2c243",
        "outputId": "51389393-d9d3-4bbd-decf-3a5c384de3c6"
      },
      "outputs": [
        {
          "name": "stdout",
          "output_type": "stream",
          "text": [
            "Кол-во пропусков в долях в датафрейме \"arc\" \n",
            "\n",
            "                      Null%  Total  Total_Null     Type\n",
            "key                     0.0  14876           0    int64\n",
            "Начало нагрева дугой    0.0  14876           0   object\n",
            "Конец нагрева дугой     0.0  14876           0   object\n",
            "Активная мощность       0.0  14876           0  float64\n",
            "Реактивная мощность     0.0  14876           0  float64\n",
            "\n",
            "\n",
            "Первые 5 строк в датафрейме \"arc\" \n",
            " \n",
            "    key Начало нагрева дугой  Конец нагрева дугой  Активная мощность  \\\n",
            "0    1  2019-05-03 11:02:14  2019-05-03 11:06:02           0.305130   \n",
            "1    1  2019-05-03 11:07:28  2019-05-03 11:10:33           0.765658   \n",
            "2    1  2019-05-03 11:11:44  2019-05-03 11:14:36           0.580313   \n",
            "3    1  2019-05-03 11:18:14  2019-05-03 11:24:19           0.518496   \n",
            "4    1  2019-05-03 11:26:09  2019-05-03 11:28:37           0.867133   \n",
            "\n",
            "   Реактивная мощность  \n",
            "0             0.211253  \n",
            "1             0.477438  \n",
            "2             0.430460  \n",
            "3             0.379979  \n",
            "4             0.643691   \n",
            "\n",
            "\n",
            "Описание распределения в датафрейме \"arc\" \n",
            "\n",
            "                key  Активная мощность  Реактивная мощность\n",
            "count  14876.000000       14876.000000         14876.000000\n",
            "mean    1615.220422           0.662752             0.438986\n",
            "std      934.571502           0.258885             5.873485\n",
            "min        1.000000           0.223120          -715.479924\n",
            "25%      806.000000           0.467115             0.337175\n",
            "50%     1617.000000           0.599587             0.441639\n",
            "75%     2429.000000           0.830070             0.608201\n",
            "max     3241.000000           1.463773             1.270284\n",
            "\n",
            "\n",
            "Кол-во полных дубликатов в датафрейме \"arc\" = 0\n"
          ]
        }
      ],
      "source": [
        "# Напишем функцию, которая будет выводить кол-во пропусков в долях и остальную инф-цию\n",
        "def info_func(dataframe, name):\n",
        "    key = name\n",
        "    df = dataframe.copy()\n",
        "    null_shares = df.isnull().sum() / len(df)\n",
        "    total_objects = len(df)\n",
        "    column_types = df.dtypes\n",
        "    info_df = pd.DataFrame({'Null%': null_shares, \\\n",
        "                            'Total': total_objects, \\\n",
        "                            'Total_Null': df.isnull().sum(), \\\n",
        "                            'Type': column_types})\n",
        "    print(f'Кол-во пропусков в долях в датафрейме \"{key}\" \\n\\n{info_df}\\n\\n')\n",
        "    print(f'Первые 5 строк в датафрейме \"{key}\" \\n \\n {df.head()} \\n\\n')\n",
        "    print(f'Описание распределения в датафрейме \"{key}\" \\n\\n{df.describe()}\\n\\n')\n",
        "    print(f'Кол-во полных дубликатов в датафрейме \"{key}\" = {df.duplicated().sum()}')\n",
        "    return\n",
        "\n",
        "info_func(df_dict['arc'], 'arc')"
      ]
    },
    {
      "cell_type": "markdown",
      "id": "92a1748b",
      "metadata": {
        "id": "92a1748b"
      },
      "source": [
        "**Видим, что максимальное значение номера партии равно 3241. Проверим, действительно ли в данных этого датафрейма представлены все номера партии от 1 до 3241.**"
      ]
    },
    {
      "cell_type": "code",
      "execution_count": null,
      "id": "a17c8fdc",
      "metadata": {
        "id": "a17c8fdc",
        "outputId": "475a2d27-fe21-4fb4-ad61-f374269bb861"
      },
      "outputs": [
        {
          "data": {
            "text/plain": [
              "3214"
            ]
          },
          "execution_count": 6,
          "metadata": {},
          "output_type": "execute_result"
        }
      ],
      "source": [
        "len(df_dict['arc']['key'].unique())"
      ]
    },
    {
      "cell_type": "markdown",
      "id": "859d3fc5",
      "metadata": {
        "id": "859d3fc5"
      },
      "source": [
        "**Длина уникальных значений номеров партии не равна 3241, значит, не все номера партии представлены в этом датафрейме. Проверим, какие из них отсутствуют.**"
      ]
    },
    {
      "cell_type": "code",
      "execution_count": null,
      "id": "ba223ab9",
      "metadata": {
        "id": "ba223ab9",
        "outputId": "6b5e2e2b-5138-4a39-e6fb-f2a364daa59b"
      },
      "outputs": [
        {
          "name": "stdout",
          "output_type": "stream",
          "text": [
            "Номера партий, отсутствующих в данных датафрейма \"arc\": [41, 42, 195, 279, 355, 382, 506, 529, 540, 607, 683, 710, 766, 1133, 1300, 1437, 2031, 2103, 2278, 2356, 2373, 2446, 2469, 2491, 2683, 3200, 3207]\n",
            "Количество партий, отсутствующих в данных датафрейма \"arc\": 27\n"
          ]
        }
      ],
      "source": [
        "keys_not_in_arc = [x for x in list(range(1, 3242)) if x not in df_dict['arc']['key'].values]\n",
        "print(f'Номера партий, отсутствующих в данных датафрейма \"arc\": {keys_not_in_arc}')\n",
        "print(f'Количество партий, отсутствующих в данных датафрейма \"arc\": {len(keys_not_in_arc)}')"
      ]
    },
    {
      "cell_type": "markdown",
      "id": "01b3efbb",
      "metadata": {
        "id": "01b3efbb"
      },
      "source": [
        "**Пропуски в данных отсутствуют. Из аномального - наблюдаются отрицательные значения в переменной Реактивная мощность. Вероятнее всего, это связано с ошибкой измерения или вычисления, если данный параметр вычисляется внутри АСУ ТП.**\n",
        "\n",
        "**Необходимо будет впоследствии изменить тип признаков \"Начало нагрева дугой\" и \"Конец нагрева дугой\" на datetime, т.к. данные признаки отвечают за дату и время.**\n",
        "\n",
        "**Кроме того, для удобства работы название признаков необходимо привести к англ. названию и \"змеиному\" регистру, это касается всех датафреймов, где применимо.**\n",
        "\n",
        "**Т.к. в данном проекте мы не будем использовать временные ряды, то значения времени будут впоследствии нами удалены. Однако, в данном датафрейме мы можем воспользоваться значениями времени для генерировании нового признака, тем самым не потерять их и учесть. Можно вычислить значение затраченной энергии как произведение мощности на время, в течение которого данная мощность выделялась для каждой партии.**\n",
        "\n",
        "**Фактически, активная мощность определяет скорость полезного потребления энергии. Реактивная мощность — мощность определяемая электромагнитными полями, образующимися в процессе работы оборудования. Реактивная мощность, как правило, является «вредной» или «паразитной». Реактивная мощность определяется характером нагрузки. Поэтому для генерирования нового признака будем использовать энергию, вычисляемую только на основе активной мощности.**\n",
        "\n",
        "**Также для каждой уникальной партии необходимо будет рассчитать в качестве нового признака суммарную потребленную мощность как активную, так и реактивную.**\n",
        "\n",
        "**Посмотрим, какое кол-во партий имеет аномальные значения реактивной мощности.**"
      ]
    },
    {
      "cell_type": "code",
      "execution_count": null,
      "id": "244c84d9",
      "metadata": {
        "id": "244c84d9",
        "outputId": "2a7e6a4a-4c92-456d-eee4-0f4abc56845f"
      },
      "outputs": [
        {
          "data": {
            "text/html": [
              "<div>\n",
              "<style scoped>\n",
              "    .dataframe tbody tr th:only-of-type {\n",
              "        vertical-align: middle;\n",
              "    }\n",
              "\n",
              "    .dataframe tbody tr th {\n",
              "        vertical-align: top;\n",
              "    }\n",
              "\n",
              "    .dataframe thead th {\n",
              "        text-align: right;\n",
              "    }\n",
              "</style>\n",
              "<table border=\"1\" class=\"dataframe\">\n",
              "  <thead>\n",
              "    <tr style=\"text-align: right;\">\n",
              "      <th></th>\n",
              "      <th>key</th>\n",
              "      <th>Начало нагрева дугой</th>\n",
              "      <th>Конец нагрева дугой</th>\n",
              "      <th>Активная мощность</th>\n",
              "      <th>Реактивная мощность</th>\n",
              "    </tr>\n",
              "  </thead>\n",
              "  <tbody>\n",
              "    <tr>\n",
              "      <th>9780</th>\n",
              "      <td>2116</td>\n",
              "      <td>2019-07-28 02:22:08</td>\n",
              "      <td>2019-07-28 02:23:57</td>\n",
              "      <td>0.705344</td>\n",
              "      <td>-715.479924</td>\n",
              "    </tr>\n",
              "  </tbody>\n",
              "</table>\n",
              "</div>"
            ],
            "text/plain": [
              "       key Начало нагрева дугой  Конец нагрева дугой  Активная мощность  \\\n",
              "9780  2116  2019-07-28 02:22:08  2019-07-28 02:23:57           0.705344   \n",
              "\n",
              "      Реактивная мощность  \n",
              "9780          -715.479924  "
            ]
          },
          "execution_count": 8,
          "metadata": {},
          "output_type": "execute_result"
        }
      ],
      "source": [
        "df_dict['arc'][df_dict['arc']['Реактивная мощность'] <= 0]"
      ]
    },
    {
      "cell_type": "code",
      "execution_count": null,
      "id": "7e7ef48c",
      "metadata": {
        "scrolled": true,
        "id": "7e7ef48c",
        "outputId": "eb394e82-ec00-4d75-da0d-17198848e946"
      },
      "outputs": [
        {
          "data": {
            "text/plain": [
              "[2116]"
            ]
          },
          "execution_count": 9,
          "metadata": {},
          "output_type": "execute_result"
        }
      ],
      "source": [
        "keys_anomaly_power = list(df_dict['arc'][df_dict['arc']['Реактивная мощность'] <= 0]['key'].unique())\n",
        "keys_anomaly_power"
      ]
    },
    {
      "cell_type": "markdown",
      "id": "01aa656e",
      "metadata": {
        "id": "01aa656e"
      },
      "source": [
        "**Добавим номер этой партии в отдельный список, где будем хранить номера партии, которые следует удалить из агреггированного датафрейма впоследствие.**"
      ]
    },
    {
      "cell_type": "code",
      "execution_count": null,
      "id": "df44298a",
      "metadata": {
        "id": "df44298a",
        "outputId": "b0dbbcc1-8c78-4fa9-844a-cbe22871ba8f"
      },
      "outputs": [
        {
          "data": {
            "text/plain": [
              "[2116]"
            ]
          },
          "execution_count": 10,
          "metadata": {},
          "output_type": "execute_result"
        }
      ],
      "source": [
        "keys_to_del = []\n",
        "keys_to_del.extend(keys_anomaly_power)\n",
        "keys_to_del"
      ]
    },
    {
      "cell_type": "markdown",
      "id": "c19a00c7",
      "metadata": {
        "id": "c19a00c7"
      },
      "source": [
        "**Посмотрим на распределение замеров мощности среди всех партий.**"
      ]
    },
    {
      "cell_type": "code",
      "execution_count": null,
      "id": "e3179ef8",
      "metadata": {
        "id": "e3179ef8",
        "outputId": "f6192bee-5ff5-42f2-dd85-abecf6d253cd"
      },
      "outputs": [
        {
          "data": {
            "image/png": "[encoded data removed]",
            "text/plain": [
              "<Figure size 576x432 with 1 Axes>"
            ]
          },
          "metadata": {
            "needs_background": "light"
          },
          "output_type": "display_data"
        }
      ],
      "source": [
        "plt.figure(figsize=(8, 6))\n",
        "plt.hist(df_dict['arc']['key'].value_counts(), bins=32)\n",
        "plt.xlabel('Кол-во замеров мощности для уникальной партии')\n",
        "plt.ylabel('Количество уникальных партий с таким кол-во замеров')\n",
        "plt.title('Распределение замеров мощности среди уникальных партий')\n",
        "plt.show()"
      ]
    },
    {
      "cell_type": "markdown",
      "id": "e6e14fec",
      "metadata": {
        "id": "e6e14fec"
      },
      "source": [
        "**Видим, что наибольшее кол-во партий имеют среди всех данных по 4 замера мощности.**\n",
        "\n",
        "**Посмотрим на распределение значений реактивной и активной мощности, при этом из значений реактивной исключим аномальное отрицательное значение, чтобы получить читабельный график.**"
      ]
    },
    {
      "cell_type": "code",
      "execution_count": null,
      "id": "19bbe6d8",
      "metadata": {
        "id": "19bbe6d8",
        "outputId": "0451f5af-05a4-4722-e35f-3fe4d7fe1011"
      },
      "outputs": [
        {
          "data": {
            "image/png": "[encoded data removed]",
            "text/plain": [
              "<Figure size 576x432 with 1 Axes>"
            ]
          },
          "metadata": {
            "needs_background": "light"
          },
          "output_type": "display_data"
        }
      ],
      "source": [
        "plt.figure(figsize=(8, 6))\n",
        "plt.hist(df_dict['arc']['Активная мощность'], bins=20)\n",
        "plt.xlabel('Значение активной мощности')\n",
        "plt.ylabel('Количество объектов с таким значением активной мощности')\n",
        "plt.title('Распределение значений активной мощности')\n",
        "plt.show()"
      ]
    },
    {
      "cell_type": "markdown",
      "id": "f6c7fc2f",
      "metadata": {
        "id": "f6c7fc2f"
      },
      "source": [
        "**Значения активной мощности распределены нормально, чаще всего встречается значение 0.5.**"
      ]
    },
    {
      "cell_type": "code",
      "execution_count": null,
      "id": "34b78a06",
      "metadata": {
        "id": "34b78a06",
        "outputId": "0486450c-93c1-4656-fe2a-f21d21b5b18a"
      },
      "outputs": [
        {
          "data": {
            "image/png": "[encoded data removed]",
            "text/plain": [
              "<Figure size 576x432 with 1 Axes>"
            ]
          },
          "metadata": {
            "needs_background": "light"
          },
          "output_type": "display_data"
        }
      ],
      "source": [
        "plt.figure(figsize=(8, 6))\n",
        "plt.hist(df_dict['arc']['Реактивная мощность'][df_dict['arc']['Реактивная мощность'] > 0], bins=40)\n",
        "plt.xlabel('Значение реактивной мощности')\n",
        "plt.ylabel('Количество объектов с таким значением реактивной мощности')\n",
        "plt.title('Распределение значений реактивной мощности')\n",
        "plt.show()"
      ]
    },
    {
      "cell_type": "markdown",
      "id": "f5321dd8",
      "metadata": {
        "id": "f5321dd8"
      },
      "source": [
        "**Значения реактивной мощности (исключая аномальное отрицательное значение) распределены нормально, чаще всего встречается значение менее 0.4.**"
      ]
    },
    {
      "cell_type": "markdown",
      "id": "7faa5e2d",
      "metadata": {
        "id": "7faa5e2d"
      },
      "source": [
        "**Промежуточные выводы по данным в датафрейме 'arc', содержащем данные об электродах.**\n",
        "\n",
        "* В данных этого датафрейма пропусков нет.\n",
        "* В данных по электродам всего одна партия с аномальным значением реактивной мощности -  партия 2116.\n",
        "* Чаще всего в данных встречается по 4 замера мощности для каждой уникальной партии.\n",
        "* Значения активной мощности нормально распределены с пиком в значении 0.5.\n",
        "* Значения реактивной мощности нормально распределены (исключая аномальное отрицательное значение) с пиком в значении чуть ниже 0.4.\n",
        "* Количество партий 3241, но они не все представлены в этом датафрейме, нет данных о 27 уникальных партиях.\n",
        "* Из значений активной мощности и дельты времени можно получить новый признак - суммарную активную энергию для уникальной партии.\n",
        "* Из значений активной и реактивной мощности с помощью суммы для одной уникальной партии можно получить новые признаки - суммарную потребленную активную и реактивную  мощность для данной партии.\n",
        "* Необходимо привести названия признаков к \"змеиному\" регистру и на англ.\n",
        "* Необходимо изменить тип двух признаков \"Начало нагрева дугой\" и \"Конец нагрева дугой\" на datetime, т.к. они отвечают за дату и время."
      ]
    },
    {
      "cell_type": "markdown",
      "id": "c960f6af",
      "metadata": {
        "id": "c960f6af"
      },
      "source": [
        "### 2.2 Данные о подаче сыпучих материалов (объём)"
      ]
    },
    {
      "cell_type": "code",
      "execution_count": null,
      "id": "7081c4ab",
      "metadata": {
        "id": "7081c4ab",
        "outputId": "951dda1e-f2b1-4d2b-c197-14843045fda7"
      },
      "outputs": [
        {
          "name": "stdout",
          "output_type": "stream",
          "text": [
            "Кол-во пропусков в долях в датафрейме \"bulk\" \n",
            "\n",
            "            Null%  Total  Total_Null     Type\n",
            "key      0.000000   3129           0    int64\n",
            "Bulk 1   0.919463   3129        2877  float64\n",
            "Bulk 2   0.992969   3129        3107  float64\n",
            "Bulk 3   0.585171   3129        1831  float64\n",
            "Bulk 4   0.675935   3129        2115  float64\n",
            "Bulk 5   0.975391   3129        3052  float64\n",
            "Bulk 6   0.815916   3129        2553  float64\n",
            "Bulk 7   0.992010   3129        3104  float64\n",
            "Bulk 8   0.999680   3129        3128  float64\n",
            "Bulk 9   0.993928   3129        3110  float64\n",
            "Bulk 10  0.943752   3129        2953  float64\n",
            "Bulk 11  0.943432   3129        2952  float64\n",
            "Bulk 12  0.217002   3129         679  float64\n",
            "Bulk 13  0.994247   3129        3111  float64\n",
            "Bulk 14  0.103228   3129         323  float64\n",
            "Bulk 15  0.281560   3129         881  float64\n",
            "\n",
            "\n",
            "Первые 5 строк в датафрейме \"bulk\" \n",
            " \n",
            "    key  Bulk 1  Bulk 2  Bulk 3  Bulk 4  Bulk 5  Bulk 6  Bulk 7  Bulk 8  \\\n",
            "0    1     NaN     NaN     NaN    43.0     NaN     NaN     NaN     NaN   \n",
            "1    2     NaN     NaN     NaN    73.0     NaN     NaN     NaN     NaN   \n",
            "2    3     NaN     NaN     NaN    34.0     NaN     NaN     NaN     NaN   \n",
            "3    4     NaN     NaN     NaN    81.0     NaN     NaN     NaN     NaN   \n",
            "4    5     NaN     NaN     NaN    78.0     NaN     NaN     NaN     NaN   \n",
            "\n",
            "   Bulk 9  Bulk 10  Bulk 11  Bulk 12  Bulk 13  Bulk 14  Bulk 15  \n",
            "0     NaN      NaN      NaN    206.0      NaN    150.0    154.0  \n",
            "1     NaN      NaN      NaN    206.0      NaN    149.0    154.0  \n",
            "2     NaN      NaN      NaN    205.0      NaN    152.0    153.0  \n",
            "3     NaN      NaN      NaN    207.0      NaN    153.0    154.0  \n",
            "4     NaN      NaN      NaN    203.0      NaN    151.0    152.0   \n",
            "\n",
            "\n",
            "Описание распределения в датафрейме \"bulk\" \n",
            "\n",
            "               key      Bulk 1      Bulk 2       Bulk 3       Bulk 4  \\\n",
            "count  3129.000000  252.000000   22.000000  1298.000000  1014.000000   \n",
            "mean   1624.383509   39.242063  253.045455   113.879045   104.394477   \n",
            "std     933.337642   18.277654   21.180578    75.483494    48.184126   \n",
            "min       1.000000   10.000000  228.000000     6.000000    12.000000   \n",
            "25%     816.000000   27.000000  242.000000    58.000000    72.000000   \n",
            "50%    1622.000000   31.000000  251.500000    97.500000   102.000000   \n",
            "75%    2431.000000   46.000000  257.750000   152.000000   133.000000   \n",
            "max    3241.000000  185.000000  325.000000   454.000000   281.000000   \n",
            "\n",
            "           Bulk 5      Bulk 6      Bulk 7  Bulk 8      Bulk 9     Bulk 10  \\\n",
            "count   77.000000  576.000000   25.000000     1.0   19.000000  176.000000   \n",
            "mean   107.025974  118.925347  305.600000    49.0   76.315789   83.284091   \n",
            "std     81.790646   72.057776  191.022904     NaN   21.720581   26.060347   \n",
            "min     11.000000   17.000000   47.000000    49.0   63.000000   24.000000   \n",
            "25%     70.000000   69.750000  155.000000    49.0   66.000000   64.000000   \n",
            "50%     86.000000  100.000000  298.000000    49.0   68.000000   86.500000   \n",
            "75%    132.000000  157.000000  406.000000    49.0   70.500000  102.000000   \n",
            "max    603.000000  503.000000  772.000000    49.0  147.000000  159.000000   \n",
            "\n",
            "          Bulk 11      Bulk 12     Bulk 13      Bulk 14      Bulk 15  \n",
            "count  177.000000  2450.000000   18.000000  2806.000000  2248.000000  \n",
            "mean    76.819209   260.471020  181.111111   170.284747   160.513345  \n",
            "std     59.655365   120.649269   46.088009    65.868652    51.765319  \n",
            "min      8.000000    53.000000  151.000000    16.000000     1.000000  \n",
            "25%     25.000000   204.000000  153.250000   119.000000   105.000000  \n",
            "50%     64.000000   208.000000  155.500000   151.000000   160.000000  \n",
            "75%    106.000000   316.000000  203.500000   205.750000   205.000000  \n",
            "max    313.000000  1849.000000  305.000000   636.000000   405.000000  \n",
            "\n",
            "\n",
            "Кол-во полных дубликатов в датафрейме \"bulk\" = 0\n"
          ]
        }
      ],
      "source": [
        "info_func(df_dict['bulk'], 'bulk')"
      ]
    },
    {
      "cell_type": "markdown",
      "id": "1e076084",
      "metadata": {
        "id": "1e076084"
      },
      "source": [
        "**Визуализируем кол-во действительных объектов в каждом из признаков**"
      ]
    },
    {
      "cell_type": "code",
      "execution_count": null,
      "id": "4166c71b",
      "metadata": {
        "id": "4166c71b",
        "outputId": "93ccae9c-825a-41f6-bb23-d57e74f9b10e"
      },
      "outputs": [
        {
          "data": {
            "image/png": "[encoded data removed]",
            "text/plain": [
              "<Figure size 576x432 with 1 Axes>"
            ]
          },
          "metadata": {
            "needs_background": "light"
          },
          "output_type": "display_data"
        }
      ],
      "source": [
        "plt.figure(figsize=(8, 6))\n",
        "ax = df_dict['bulk'].drop('key', axis=1).notnull().sum().plot(kind='bar')\n",
        "ax.set_title('Количество действительных объектов в каждом признаке сыпучего материала')\n",
        "ax.set_xlabel('Категория сыпучего материала')\n",
        "ax.set_ylabel('Количество объектов данного признака')\n",
        "plt.show()"
      ]
    },
    {
      "cell_type": "code",
      "execution_count": null,
      "id": "4f001e15",
      "metadata": {
        "id": "4f001e15",
        "outputId": "f386ea85-8e02-460e-c00a-34ffbc5f4edb"
      },
      "outputs": [
        {
          "name": "stdout",
          "output_type": "stream",
          "text": [
            "Список категорий сыпучих материалов для последующего удаления: \n",
            "['Bulk 8', 'Bulk 13', 'Bulk 9', 'Bulk 2', 'Bulk 7']\n"
          ]
        }
      ],
      "source": [
        "bulks_to_del = df_dict['bulk'].drop('key', axis=1) \\\n",
        "                    .notnull().sum().sort_values() \\\n",
        "                    .iloc[0:5].index.to_list()\n",
        "print(f'Список категорий сыпучих материалов для последующего удаления: \\n{bulks_to_del}')"
      ]
    },
    {
      "cell_type": "markdown",
      "id": "e285dfaa",
      "metadata": {
        "id": "e285dfaa"
      },
      "source": [
        "**Видим, что кол-во действительных объектов очень мало в категориях 2, 7, 8, 9, 13. Вероятнее всего для получения лучших результатов при моделировании необходимо будет исключить данные признаки в следующем разделе.**\n",
        "\n",
        "**В данных этого датафрейма наблюдается очень большое количество пропусков, вероятнее всего данный факт может быть обусловлен спецификой технологического процесса, т.к. не для всех партий добавляются все типы сыпучих материалов. По этой причине логичнее всего пропуски в этих данных заполнить нулём. Сделаем это на следующем этапе предобработки данных.**\n",
        "\n",
        "**Посмотрим на распределение данных в этом датафрейме по уникальным значениям номеров партий.**"
      ]
    },
    {
      "cell_type": "code",
      "execution_count": null,
      "id": "a5597147",
      "metadata": {
        "id": "a5597147",
        "outputId": "bb6178e5-9b97-4b55-9eed-c80d4a693052"
      },
      "outputs": [
        {
          "data": {
            "text/plain": [
              "array([1])"
            ]
          },
          "execution_count": 17,
          "metadata": {},
          "output_type": "execute_result"
        }
      ],
      "source": [
        "df_dict['bulk']['key'].value_counts().unique()"
      ]
    },
    {
      "cell_type": "markdown",
      "id": "a4e3a347",
      "metadata": {
        "id": "a4e3a347"
      },
      "source": [
        "**Для каждой партии встречается всего одна строка данных.**\n",
        "\n",
        "**Из предыдущего подраздела мы знаем, что кол-во уникальных партий равно как минимум 3241, а в данном датафрейме мы видим, что кол-во партий - 3129. Узнаем, какие партии отсутствуют\n",
        "в этом датафрейме.**"
      ]
    },
    {
      "cell_type": "code",
      "execution_count": null,
      "id": "0d2567f1",
      "metadata": {
        "id": "0d2567f1",
        "outputId": "17f78e75-4bf7-47fb-ea3b-c8a19190e0ca"
      },
      "outputs": [
        {
          "name": "stdout",
          "output_type": "stream",
          "text": [
            "Номера партий, отсутствующих в данных датафрейма \"bulk\": [41, 42, 51, 52, 53, 54, 55, 56, 72, 80, 81, 110, 151, 188, 195, 225, 269, 302, 330, 331, 332, 343, 350, 355, 382, 506, 529, 540, 607, 661, 683, 710, 766, 830, 874, 931, 933, 934, 960, 961, 964, 966, 983, 984, 1062, 1105, 1133, 1221, 1268, 1300, 1334, 1402, 1437, 1517, 1518, 1535, 1566, 1623, 1656, 1783, 1818, 1911, 1959, 1974, 1979, 2009, 2010, 2031, 2043, 2056, 2103, 2195, 2196, 2197, 2198, 2216, 2217, 2231, 2278, 2310, 2356, 2373, 2390, 2408, 2434, 2446, 2460, 2468, 2469, 2471, 2491, 2595, 2599, 2600, 2608, 2625, 2628, 2683, 2738, 2739, 2816, 2821, 2863, 2884, 2891, 3018, 3026, 3047, 3182, 3200, 3207, 3216]\n",
            "Количество партий, отсутствующих в данных датафрейма \"bulk\": 112\n"
          ]
        }
      ],
      "source": [
        "keys_not_in_bulk = [x for x in list(range(1, 3242)) if x not in df_dict['bulk']['key'].values]\n",
        "print(f'Номера партий, отсутствующих в данных датафрейма \"bulk\": {keys_not_in_bulk}')\n",
        "print(f'Количество партий, отсутствующих в данных датафрейма \"bulk\": {len(keys_not_in_bulk)}')"
      ]
    },
    {
      "cell_type": "markdown",
      "id": "a691fede",
      "metadata": {
        "id": "a691fede"
      },
      "source": [
        "**Промежуточные выводы по данным в датафрейме 'bulk', содержащем данные о подаче сыпучих материалов (объём).**\n",
        "\n",
        "* В данных встречается только один набор значений для каждой уникальной партии.\n",
        "* В этом датафрейме нет данных о 112 уникальных партиях.\n",
        "* Необходимо привести названия признаков к \"змеиному\" регистру.\n",
        "* В данных этого датафрейма наблюдается очень большое количество пропусков, вероятнее всего данный факт может быть обусловлен спецификой технологического процесса, логичнее всего пропуски в этих данных заполнить далее нулём.\n",
        "* Кол-во действительных объектов очень мало в категориях 2, 7, 8, 9, 13 сыпучих материалов. Вероятнее всего для получения лучших результатов при моделировании необходимо будет исключить данные признаки в следующем разделе."
      ]
    },
    {
      "cell_type": "markdown",
      "id": "3d9cc5a0",
      "metadata": {
        "id": "3d9cc5a0"
      },
      "source": [
        "### 2.3 Данные о подаче сыпучих материалов (время)"
      ]
    },
    {
      "cell_type": "code",
      "execution_count": null,
      "id": "ff9695de",
      "metadata": {
        "id": "ff9695de",
        "outputId": "8341e244-565e-4149-c887-4773a147a69b"
      },
      "outputs": [
        {
          "name": "stdout",
          "output_type": "stream",
          "text": [
            "Кол-во пропусков в долях в датафрейме \"bulk_time\" \n",
            "\n",
            "            Null%  Total  Total_Null    Type\n",
            "key      0.000000   3129           0   int64\n",
            "Bulk 1   0.919463   3129        2877  object\n",
            "Bulk 2   0.992969   3129        3107  object\n",
            "Bulk 3   0.585171   3129        1831  object\n",
            "Bulk 4   0.675935   3129        2115  object\n",
            "Bulk 5   0.975391   3129        3052  object\n",
            "Bulk 6   0.815916   3129        2553  object\n",
            "Bulk 7   0.992010   3129        3104  object\n",
            "Bulk 8   0.999680   3129        3128  object\n",
            "Bulk 9   0.993928   3129        3110  object\n",
            "Bulk 10  0.943752   3129        2953  object\n",
            "Bulk 11  0.943432   3129        2952  object\n",
            "Bulk 12  0.217002   3129         679  object\n",
            "Bulk 13  0.994247   3129        3111  object\n",
            "Bulk 14  0.103228   3129         323  object\n",
            "Bulk 15  0.281560   3129         881  object\n",
            "\n",
            "\n",
            "Первые 5 строк в датафрейме \"bulk_time\" \n",
            " \n",
            "    key Bulk 1 Bulk 2 Bulk 3               Bulk 4 Bulk 5 Bulk 6 Bulk 7 Bulk 8  \\\n",
            "0    1    NaN    NaN    NaN  2019-05-03 11:28:48    NaN    NaN    NaN    NaN   \n",
            "1    2    NaN    NaN    NaN  2019-05-03 11:36:50    NaN    NaN    NaN    NaN   \n",
            "2    3    NaN    NaN    NaN  2019-05-03 12:32:39    NaN    NaN    NaN    NaN   \n",
            "3    4    NaN    NaN    NaN  2019-05-03 12:43:22    NaN    NaN    NaN    NaN   \n",
            "4    5    NaN    NaN    NaN  2019-05-03 13:30:47    NaN    NaN    NaN    NaN   \n",
            "\n",
            "  Bulk 9 Bulk 10 Bulk 11              Bulk 12 Bulk 13              Bulk 14  \\\n",
            "0    NaN     NaN     NaN  2019-05-03 11:24:31     NaN  2019-05-03 11:14:50   \n",
            "1    NaN     NaN     NaN  2019-05-03 11:53:30     NaN  2019-05-03 11:48:37   \n",
            "2    NaN     NaN     NaN  2019-05-03 12:27:13     NaN  2019-05-03 12:21:01   \n",
            "3    NaN     NaN     NaN  2019-05-03 12:58:00     NaN  2019-05-03 12:51:11   \n",
            "4    NaN     NaN     NaN  2019-05-03 13:30:47     NaN  2019-05-03 13:34:12   \n",
            "\n",
            "               Bulk 15  \n",
            "0  2019-05-03 11:10:43  \n",
            "1  2019-05-03 11:44:39  \n",
            "2  2019-05-03 12:16:16  \n",
            "3  2019-05-03 12:46:36  \n",
            "4  2019-05-03 13:30:47   \n",
            "\n",
            "\n",
            "Описание распределения в датафрейме \"bulk_time\" \n",
            "\n",
            "               key\n",
            "count  3129.000000\n",
            "mean   1624.383509\n",
            "std     933.337642\n",
            "min       1.000000\n",
            "25%     816.000000\n",
            "50%    1622.000000\n",
            "75%    2431.000000\n",
            "max    3241.000000\n",
            "\n",
            "\n",
            "Кол-во полных дубликатов в датафрейме \"bulk_time\" = 0\n"
          ]
        }
      ],
      "source": [
        "info_func(df_dict['bulk_time'], 'bulk_time')"
      ]
    },
    {
      "cell_type": "markdown",
      "id": "0b9aef7d",
      "metadata": {
        "id": "0b9aef7d"
      },
      "source": [
        "**В данных этого датафрейма наблюдается очень большое количество пропусков, аналогично предыдущему датафрейму.**\n",
        "\n",
        "**Необходимо изменить тип данных на datetime, т.к. все данные признаки кроме значения номера партии отвечают за время и дату.**\n",
        "\n",
        "**Необходимо привести к \"змеиному\" регистру названия признаков.**\n",
        "\n",
        "**Посмотрим на распределение данных в этом датафрейме по уникальным значениям номеров партий.**"
      ]
    },
    {
      "cell_type": "code",
      "execution_count": null,
      "id": "4674a2aa",
      "metadata": {
        "id": "4674a2aa",
        "outputId": "d12a71fa-4df0-4ca6-eaf3-b6308b2a7cf7"
      },
      "outputs": [
        {
          "data": {
            "text/plain": [
              "array([1])"
            ]
          },
          "execution_count": 20,
          "metadata": {},
          "output_type": "execute_result"
        }
      ],
      "source": [
        "df_dict['bulk_time']['key'].value_counts().unique()"
      ]
    },
    {
      "cell_type": "markdown",
      "id": "dd9d276c",
      "metadata": {
        "id": "dd9d276c"
      },
      "source": [
        "**Для каждой партии встречается всего одна строка данных.**\n",
        "\n",
        "**Из предыдущего подраздела мы знаем, что кол-во уникальных партий равно как минимум 3241, а в данном датафрейме мы видим, что кол-во партий - 3129. Узнаем, какие партии отсутствуют\n",
        "в этом датафрейме.**"
      ]
    },
    {
      "cell_type": "code",
      "execution_count": null,
      "id": "3a459457",
      "metadata": {
        "id": "3a459457",
        "outputId": "b0032c84-21ae-4c8f-aec2-b0f6da33cf41"
      },
      "outputs": [
        {
          "name": "stdout",
          "output_type": "stream",
          "text": [
            "Номера партий, отсутствующих в данных датафрейма \"bulk_time\": [41, 42, 51, 52, 53, 54, 55, 56, 72, 80, 81, 110, 151, 188, 195, 225, 269, 302, 330, 331, 332, 343, 350, 355, 382, 506, 529, 540, 607, 661, 683, 710, 766, 830, 874, 931, 933, 934, 960, 961, 964, 966, 983, 984, 1062, 1105, 1133, 1221, 1268, 1300, 1334, 1402, 1437, 1517, 1518, 1535, 1566, 1623, 1656, 1783, 1818, 1911, 1959, 1974, 1979, 2009, 2010, 2031, 2043, 2056, 2103, 2195, 2196, 2197, 2198, 2216, 2217, 2231, 2278, 2310, 2356, 2373, 2390, 2408, 2434, 2446, 2460, 2468, 2469, 2471, 2491, 2595, 2599, 2600, 2608, 2625, 2628, 2683, 2738, 2739, 2816, 2821, 2863, 2884, 2891, 3018, 3026, 3047, 3182, 3200, 3207, 3216]\n",
            "Количество партий, отсутствующих в данных датафрейма \"bulk_time\": 112\n"
          ]
        }
      ],
      "source": [
        "keys_not_in_bulk_time = [x for x in list(range(1, 3242)) if x not in df_dict['bulk_time']['key'].values]\n",
        "print(f'Номера партий, отсутствующих в данных датафрейма \"bulk_time\": {keys_not_in_bulk_time}')\n",
        "print(f'Количество партий, отсутствующих в данных датафрейма \"bulk_time\": {len(keys_not_in_bulk_time)}')"
      ]
    },
    {
      "cell_type": "markdown",
      "id": "66884a2f",
      "metadata": {
        "id": "66884a2f"
      },
      "source": [
        "**Промежуточные выводы по данным в датафрейме 'bulk_time', содержащем данные о подаче сыпучих материалов (время).**\n",
        "\n",
        "* В данных встречается только один набор значений для каждой уникальной партии.\n",
        "* В этом датафрейме нет данных о 112 уникальных партиях.\n",
        "* Привести тип признаков, отвечающих за дату и время (все кроме key) к datetime.\n",
        "* Необходимо привести названия признаков к \"змеиному\" регистру.\n",
        "* В данных этого датафрейма наблюдается очень большое количество пропусков, вероятнее всего данный факт может быть обусловлен спецификой технологического процесса, логичнее всего пропуски в этих данных заполнить далее нулём, если будет принятно решение использовать эти данные."
      ]
    },
    {
      "cell_type": "markdown",
      "id": "d006be27",
      "metadata": {
        "id": "d006be27"
      },
      "source": [
        "### 2.4 Данные о продувке сплава газом"
      ]
    },
    {
      "cell_type": "code",
      "execution_count": null,
      "id": "ca5dd1b9",
      "metadata": {
        "id": "ca5dd1b9",
        "outputId": "d4c999cc-2cfc-49be-9d6b-bba6d446da44"
      },
      "outputs": [
        {
          "name": "stdout",
          "output_type": "stream",
          "text": [
            "Кол-во пропусков в долях в датафрейме \"gas\" \n",
            "\n",
            "       Null%  Total  Total_Null     Type\n",
            "key      0.0   3239           0    int64\n",
            "Газ 1    0.0   3239           0  float64\n",
            "\n",
            "\n",
            "Первые 5 строк в датафрейме \"gas\" \n",
            " \n",
            "    key      Газ 1\n",
            "0    1  29.749986\n",
            "1    2  12.555561\n",
            "2    3  28.554793\n",
            "3    4  18.841219\n",
            "4    5   5.413692 \n",
            "\n",
            "\n",
            "Описание распределения в датафрейме \"gas\" \n",
            "\n",
            "               key        Газ 1\n",
            "count  3239.000000  3239.000000\n",
            "mean   1621.861377    11.002062\n",
            "std     935.386334     6.220327\n",
            "min       1.000000     0.008399\n",
            "25%     812.500000     7.043089\n",
            "50%    1622.000000     9.836267\n",
            "75%    2431.500000    13.769915\n",
            "max    3241.000000    77.995040\n",
            "\n",
            "\n",
            "Кол-во полных дубликатов в датафрейме \"gas\" = 0\n"
          ]
        }
      ],
      "source": [
        "info_func(df_dict['gas'], 'gas')"
      ]
    },
    {
      "cell_type": "markdown",
      "id": "bbace120",
      "metadata": {
        "id": "bbace120"
      },
      "source": [
        "**Пропуски в данных отсутствуют.**\n",
        "\n",
        "**Посмотрим на распределение данных в этом датафрейме по уникальным значениям номеров партий.**"
      ]
    },
    {
      "cell_type": "code",
      "execution_count": null,
      "id": "9bf9f599",
      "metadata": {
        "id": "9bf9f599",
        "outputId": "89d046f9-baa4-44df-a5a9-c4aacc62fa33"
      },
      "outputs": [
        {
          "data": {
            "text/plain": [
              "array([1])"
            ]
          },
          "execution_count": 23,
          "metadata": {},
          "output_type": "execute_result"
        }
      ],
      "source": [
        "df_dict['gas']['key'].value_counts().unique()"
      ]
    },
    {
      "cell_type": "markdown",
      "id": "ceb9d077",
      "metadata": {
        "id": "ceb9d077"
      },
      "source": [
        "**Для каждой партии встречается всего одна строка данных.**\n",
        "\n",
        "**Из предыдущего подраздела мы знаем, что кол-во уникальных партий равно как минимум 3241, а в данном датафрейме мы видим, что кол-во партий - 3129. Узнаем, какие партии отсутствуют\n",
        "в этом датафрейме.**"
      ]
    },
    {
      "cell_type": "code",
      "execution_count": null,
      "id": "869878d0",
      "metadata": {
        "id": "869878d0",
        "outputId": "38bcb417-0d21-41ae-b7b8-49af0e746378"
      },
      "outputs": [
        {
          "name": "stdout",
          "output_type": "stream",
          "text": [
            "Номера партий, отсутствующих в данных датафрейма \"gas\": [193, 259]\n",
            "Количество партий, отсутствующих в данных датафрейма \"gas\": 2\n"
          ]
        }
      ],
      "source": [
        "keys_not_in_gas = [x for x in list(range(1, 3242)) if x not in df_dict['gas']['key'].values]\n",
        "print(f'Номера партий, отсутствующих в данных датафрейма \"gas\": {keys_not_in_gas}')\n",
        "print(f'Количество партий, отсутствующих в данных датафрейма \"gas\": {len(keys_not_in_gas)}')"
      ]
    },
    {
      "cell_type": "markdown",
      "id": "419fc90b",
      "metadata": {
        "id": "419fc90b"
      },
      "source": [
        "**Посмотрим распределение объема продувающего газа в датафрейме.**"
      ]
    },
    {
      "cell_type": "code",
      "execution_count": null,
      "id": "27ce5419",
      "metadata": {
        "id": "27ce5419",
        "outputId": "25afdca3-8341-4c1b-baaf-559e01b7f2b3"
      },
      "outputs": [
        {
          "data": {
            "image/png": "[encoded data removed]",
            "text/plain": [
              "<Figure size 576x432 with 1 Axes>"
            ]
          },
          "metadata": {
            "needs_background": "light"
          },
          "output_type": "display_data"
        }
      ],
      "source": [
        "plt.figure(figsize=(8, 6))\n",
        "plt.hist(df_dict['gas']['Газ 1'], bins=50)\n",
        "plt.xlabel('Значение объема продувающего газа')\n",
        "plt.ylabel('Количество объектов с таким значением объема продувающего газа')\n",
        "plt.title('Распределение значений объема продувающего газа')\n",
        "plt.show()"
      ]
    },
    {
      "cell_type": "markdown",
      "id": "5703ac88",
      "metadata": {
        "id": "5703ac88"
      },
      "source": [
        "**Видим нормальное распределение значений с пиком у значения 10.**"
      ]
    },
    {
      "cell_type": "markdown",
      "id": "f76fc31f",
      "metadata": {
        "id": "f76fc31f"
      },
      "source": [
        "**Промежуточные выводы по данным в датафрейме 'gas', содержащем данные о продувке сплава газом.**\n",
        "\n",
        "* В данных встречается только один набор значений для каждой уникальной партии.\n",
        "* В этом датафрейме нет данных о 2 уникальных партиях.\n",
        "* Распределение значений объема газа нормальное с пиком у значения 10.\n",
        "* Необходимо привести название признака к \"змеиному\" регистру на англ.\n",
        "* В данных этого датафрейма пропусков нет."
      ]
    },
    {
      "cell_type": "markdown",
      "id": "e711cbb7",
      "metadata": {
        "id": "e711cbb7"
      },
      "source": [
        "### 2.5 Данные о результатах измерения температуры"
      ]
    },
    {
      "cell_type": "code",
      "execution_count": null,
      "id": "ded91ccb",
      "metadata": {
        "id": "ded91ccb",
        "outputId": "a0b94af0-df4c-404d-9df9-5a5cc0924298"
      },
      "outputs": [
        {
          "name": "stdout",
          "output_type": "stream",
          "text": [
            "Кол-во пропусков в долях в датафрейме \"temp\" \n",
            "\n",
            "                 Null%  Total  Total_Null     Type\n",
            "key           0.000000  18092           0    int64\n",
            "Время замера  0.000000  18092           0   object\n",
            "Температура   0.189421  18092        3427  float64\n",
            "\n",
            "\n",
            "Первые 5 строк в датафрейме \"temp\" \n",
            " \n",
            "    key         Время замера  Температура\n",
            "0    1  2019-05-03 11:02:04       1571.0\n",
            "1    1  2019-05-03 11:07:18       1604.0\n",
            "2    1  2019-05-03 11:11:34       1618.0\n",
            "3    1  2019-05-03 11:18:04       1601.0\n",
            "4    1  2019-05-03 11:25:59       1606.0 \n",
            "\n",
            "\n",
            "Описание распределения в датафрейме \"temp\" \n",
            "\n",
            "                key   Температура\n",
            "count  18092.000000  14665.000000\n",
            "mean    1616.460977   1590.722741\n",
            "std      934.641385     20.394381\n",
            "min        1.000000   1191.000000\n",
            "25%      807.750000   1580.000000\n",
            "50%     1618.000000   1590.000000\n",
            "75%     2429.000000   1599.000000\n",
            "max     3241.000000   1705.000000\n",
            "\n",
            "\n",
            "Кол-во полных дубликатов в датафрейме \"temp\" = 0\n"
          ]
        }
      ],
      "source": [
        "info_func(df_dict['temp'], 'temp')"
      ]
    },
    {
      "cell_type": "markdown",
      "id": "f8f21e20",
      "metadata": {
        "id": "f8f21e20"
      },
      "source": [
        "**Наблюдается порядка 19% пропусков в данных о температуре среди всех данных. По исходному условию задачи считаем, что в случае пропусков в этой переменной это означает сбой работы датчика, и необходимо не использовать данные, связанные с теми уникальными партиями, где наблюдались эти сбои\\пропуски в данных.**\n",
        "\n",
        "**Необходимо будет впоследствии изменить тип признака \"Время замера\" на datetime, т.к. данный признак отвечает за дату и время.**\n",
        "\n",
        "**Кроме того, для удобства работы название признаков необходимо привести к англ. названию и \"змеиному\" регистру.**\n",
        "\n",
        "**Т.к. нам необходимо предсказывать температуру по нескольким значениям, то данные, соответствующие партиям, для которых есть лишь один замер температуры, необходимо также исключить из нашего анализа.**\n",
        "\n",
        "**По условию задачи использовать в качестве признака необходимо только первый замер температуры, а в качестве целевого признака - последний замер температуры для уникальной партии.**\n",
        "\n",
        "**Т.к. температура плавления стали находится в диапазоне [1450; 1520], то данные, которые соответствуют температуре ниже левой границы необходимо удалить - это аномальные значения, не соответствующие технологическому процессу.**\n",
        "\n",
        "**Посмотрим, какое кол-во партий имеет аномальные значения.**"
      ]
    },
    {
      "cell_type": "code",
      "execution_count": null,
      "id": "9a63b2ef",
      "metadata": {
        "id": "9a63b2ef",
        "outputId": "0baa9879-4525-41c3-d149-10e4a1091259"
      },
      "outputs": [
        {
          "name": "stdout",
          "output_type": "stream",
          "text": [
            "Кол-во уникальных номеров партий с пропусками в замерах температуры = 739\n",
            "Список уникальных значений этих номеров партий: [2500, 2501, 2502, 2503, 2504, 2505, 2506, 2507, 2508, 2509, 2510, 2511, 2512, 2513, 2514, 2515, 2516, 2517, 2518, 2519, 2520, 2521, 2522, 2523, 2524, 2525, 2526, 2527, 2528, 2529, 2530, 2531, 2532, 2533, 2534, 2535, 2536, 2537, 2538, 2539, 2540, 2541, 2542, 2543, 2544, 2545, 2546, 2547, 2548, 2549, 2550, 2551, 2552, 2553, 2554, 2555, 2556, 2557, 2558, 2559, 2560, 2561, 2562, 2563, 2564, 2565, 2566, 2567, 2568, 2569, 2570, 2571, 2572, 2573, 2574, 2575, 2576, 2577, 2578, 2579, 2580, 2581, 2582, 2583, 2584, 2585, 2586, 2587, 2588, 2589, 2590, 2591, 2592, 2593, 2594, 2595, 2596, 2597, 2598, 2599, 2600, 2601, 2602, 2603, 2604, 2605, 2606, 2607, 2608, 2609, 2610, 2611, 2612, 2613, 2614, 2615, 2616, 2617, 2618, 2619, 2620, 2621, 2622, 2623, 2624, 2625, 2626, 2627, 2628, 2629, 2630, 2631, 2632, 2633, 2634, 2635, 2636, 2637, 2638, 2639, 2640, 2641, 2642, 2643, 2644, 2645, 2646, 2647, 2648, 2649, 2650, 2651, 2652, 2653, 2654, 2655, 2656, 2657, 2658, 2659, 2660, 2661, 2662, 2663, 2664, 2665, 2666, 2667, 2668, 2669, 2670, 2671, 2672, 2673, 2674, 2675, 2676, 2677, 2678, 2679, 2680, 2681, 2682, 2684, 2685, 2686, 2687, 2688, 2689, 2690, 2691, 2692, 2693, 2694, 2695, 2696, 2697, 2698, 2699, 2700, 2701, 2702, 2703, 2704, 2705, 2706, 2707, 2708, 2709, 2710, 2711, 2712, 2713, 2714, 2715, 2716, 2717, 2718, 2719, 2720, 2721, 2722, 2723, 2724, 2725, 2726, 2727, 2728, 2729, 2730, 2731, 2732, 2733, 2734, 2735, 2736, 2737, 2738, 2739, 2740, 2741, 2742, 2743, 2744, 2745, 2746, 2747, 2748, 2749, 2750, 2751, 2752, 2753, 2754, 2755, 2756, 2757, 2758, 2759, 2760, 2761, 2762, 2763, 2764, 2765, 2766, 2767, 2768, 2769, 2770, 2771, 2772, 2773, 2774, 2775, 2776, 2777, 2778, 2779, 2780, 2781, 2782, 2783, 2784, 2785, 2786, 2787, 2788, 2789, 2790, 2791, 2792, 2793, 2794, 2795, 2796, 2797, 2798, 2799, 2800, 2801, 2802, 2803, 2804, 2805, 2806, 2807, 2808, 2809, 2810, 2811, 2812, 2813, 2814, 2815, 2816, 2817, 2818, 2819, 2820, 2821, 2822, 2823, 2824, 2825, 2826, 2827, 2828, 2829, 2830, 2831, 2832, 2833, 2834, 2835, 2836, 2837, 2838, 2839, 2840, 2841, 2842, 2843, 2844, 2845, 2846, 2847, 2848, 2849, 2850, 2851, 2852, 2853, 2854, 2855, 2856, 2857, 2858, 2859, 2860, 2861, 2862, 2863, 2864, 2865, 2866, 2867, 2868, 2869, 2870, 2871, 2872, 2873, 2874, 2875, 2876, 2877, 2878, 2879, 2880, 2881, 2882, 2883, 2884, 2885, 2886, 2887, 2888, 2889, 2890, 2891, 2892, 2893, 2894, 2895, 2896, 2897, 2898, 2899, 2900, 2901, 2902, 2903, 2904, 2905, 2906, 2907, 2908, 2909, 2910, 2911, 2912, 2913, 2914, 2915, 2916, 2917, 2918, 2919, 2920, 2921, 2922, 2923, 2924, 2925, 2926, 2927, 2928, 2929, 2930, 2931, 2932, 2933, 2934, 2935, 2936, 2937, 2938, 2939, 2940, 2941, 2942, 2943, 2944, 2945, 2946, 2947, 2948, 2949, 2950, 2951, 2952, 2953, 2954, 2955, 2956, 2957, 2958, 2959, 2960, 2961, 2962, 2963, 2964, 2965, 2966, 2967, 2968, 2969, 2970, 2971, 2972, 2973, 2974, 2975, 2976, 2977, 2978, 2979, 2980, 2981, 2982, 2983, 2984, 2985, 2986, 2987, 2988, 2989, 2990, 2991, 2992, 2993, 2994, 2995, 2996, 2997, 2998, 2999, 3000, 3001, 3002, 3003, 3004, 3005, 3006, 3007, 3008, 3009, 3010, 3011, 3012, 3013, 3014, 3015, 3016, 3017, 3018, 3019, 3020, 3021, 3022, 3023, 3024, 3025, 3026, 3027, 3028, 3029, 3030, 3031, 3032, 3033, 3034, 3035, 3036, 3037, 3038, 3039, 3040, 3041, 3042, 3043, 3044, 3045, 3046, 3047, 3048, 3049, 3050, 3051, 3052, 3053, 3054, 3055, 3056, 3057, 3058, 3059, 3060, 3061, 3062, 3063, 3064, 3065, 3066, 3067, 3068, 3069, 3070, 3071, 3072, 3073, 3074, 3075, 3076, 3077, 3078, 3079, 3080, 3081, 3082, 3083, 3084, 3085, 3086, 3087, 3088, 3089, 3090, 3091, 3092, 3093, 3094, 3095, 3096, 3097, 3098, 3099, 3100, 3101, 3102, 3103, 3104, 3105, 3106, 3107, 3108, 3109, 3110, 3111, 3112, 3113, 3114, 3115, 3116, 3117, 3118, 3119, 3120, 3121, 3122, 3123, 3124, 3125, 3126, 3127, 3128, 3129, 3130, 3131, 3132, 3133, 3134, 3135, 3136, 3137, 3138, 3139, 3140, 3141, 3142, 3143, 3144, 3145, 3146, 3147, 3148, 3149, 3150, 3151, 3152, 3153, 3154, 3155, 3156, 3157, 3158, 3159, 3160, 3161, 3162, 3163, 3164, 3165, 3166, 3167, 3168, 3169, 3170, 3171, 3172, 3173, 3174, 3175, 3176, 3177, 3178, 3179, 3180, 3181, 3182, 3183, 3184, 3185, 3186, 3187, 3188, 3189, 3190, 3191, 3192, 3193, 3194, 3195, 3196, 3197, 3198, 3199, 3201, 3202, 3203, 3204, 3205, 3206, 3208, 3209, 3210, 3211, 3212, 3213, 3214, 3215, 3216, 3217, 3218, 3219, 3220, 3221, 3222, 3223, 3224, 3225, 3226, 3227, 3228, 3229, 3230, 3231, 3232, 3233, 3234, 3235, 3236, 3237, 3238, 3239, 3240, 3241]\n"
          ]
        }
      ],
      "source": [
        "# Определим номера партий, для которых есть пропуски в замерах температуры\n",
        "keys_temp_isnull = list(df_dict['temp'][df_dict['temp']['Температура'].isnull()]['key'].unique())\n",
        "print(f'Кол-во уникальных номеров партий с пропусками в замерах температуры \\\n",
        "= {len(keys_temp_isnull)}')\n",
        "print(f'Список уникальных значений этих номеров партий: {keys_temp_isnull}')"
      ]
    },
    {
      "cell_type": "code",
      "execution_count": null,
      "id": "d93a3968",
      "metadata": {
        "id": "d93a3968",
        "outputId": "2a073852-7c42-4d26-97b8-464a121e6b04"
      },
      "outputs": [
        {
          "name": "stdout",
          "output_type": "stream",
          "text": [
            "Кол-во элементов в списке с номерами партий под удаление = 740\n"
          ]
        }
      ],
      "source": [
        "#дополним созданный ранее список с № партий, которые необходимо исключить из анализа\n",
        "\n",
        "keys_to_del += keys_temp_isnull\n",
        "print(f'Кол-во элементов в списке с номерами партий под удаление = {len(keys_to_del)}')"
      ]
    },
    {
      "cell_type": "code",
      "execution_count": null,
      "id": "c84b04a7",
      "metadata": {
        "id": "c84b04a7",
        "outputId": "69622d59-d610-4adb-9f60-6db067e04c7b"
      },
      "outputs": [
        {
          "name": "stdout",
          "output_type": "stream",
          "text": [
            "Кол-во уникальных номеров партий с одним замером температуры  = 2\n",
            "Список уникальных значений этих номеров партий: [195, 279]\n"
          ]
        }
      ],
      "source": [
        "# Определим номера партий, для которых есть только один замер температуры\n",
        "single_temp = df_dict['temp']['key'].value_counts().reset_index()\n",
        "keys_temp_single = single_temp[single_temp['key'] == 1]['index'].to_list()\n",
        "print(f'Кол-во уникальных номеров партий с одним замером температуры \\\n",
        " = {len(keys_temp_single)}')\n",
        "print(f'Список уникальных значений этих номеров партий: {keys_temp_single}')"
      ]
    },
    {
      "cell_type": "code",
      "execution_count": null,
      "id": "9aa7a235",
      "metadata": {
        "id": "9aa7a235",
        "outputId": "2fdac403-b946-43c7-ace1-04a96527f0e0"
      },
      "outputs": [
        {
          "name": "stdout",
          "output_type": "stream",
          "text": [
            "Кол-во элементов в списке с номерами партий под удаление = 742\n"
          ]
        }
      ],
      "source": [
        "#дополним созданный ранее список с № партий, которые необходимо исключить из анализа\n",
        "\n",
        "keys_to_del += keys_temp_single\n",
        "print(f'Кол-во элементов в списке с номерами партий под удаление = {len(keys_to_del)}')"
      ]
    },
    {
      "cell_type": "code",
      "execution_count": null,
      "id": "f1a762bc",
      "metadata": {
        "id": "f1a762bc",
        "outputId": "cfd2930e-9ba2-4dd3-d3e0-1c4ea093d5a0"
      },
      "outputs": [
        {
          "name": "stdout",
          "output_type": "stream",
          "text": [
            "Кол-во уникальных номеров партий с низкой температурой = 5\n",
            "Список уникальных значений этих номеров партий: [867, 1214, 1619, 2052, 2561]\n"
          ]
        }
      ],
      "source": [
        "# Определим номера партий, для которых значение температуры\n",
        "# ниже известной температуры плавления стали, т.е. ниже 1450\n",
        "keys_temp_below_boiling = list(df_dict['temp'][df_dict['temp']['Температура'] < 1450]['key'].unique())\n",
        "print(f'Кол-во уникальных номеров партий с низкой температурой \\\n",
        "= {len(keys_temp_below_boiling)}')\n",
        "print(f'Список уникальных значений этих номеров партий: {keys_temp_below_boiling}')"
      ]
    },
    {
      "cell_type": "code",
      "execution_count": null,
      "id": "a3b7c4c8",
      "metadata": {
        "id": "a3b7c4c8",
        "outputId": "1759d171-2ae2-44fe-9aab-4418a28ac4a4"
      },
      "outputs": [
        {
          "name": "stdout",
          "output_type": "stream",
          "text": [
            "Кол-во элементов в списке с номерами партий под удаление = 747\n"
          ]
        }
      ],
      "source": [
        "#дополним созданный ранее список с № партий, которые необходимо исключить из анализа\n",
        "\n",
        "keys_to_del += keys_temp_below_boiling\n",
        "print(f'Кол-во элементов в списке с номерами партий под удаление = {len(keys_to_del)}')"
      ]
    },
    {
      "cell_type": "code",
      "execution_count": null,
      "id": "28127621",
      "metadata": {
        "id": "28127621",
        "outputId": "3cba0108-adde-4a44-e6a4-180d103f908d"
      },
      "outputs": [
        {
          "name": "stdout",
          "output_type": "stream",
          "text": [
            "Кол-во элементов в списке с уникальными номерами партий под удаление = 746\n"
          ]
        }
      ],
      "source": [
        "# в данный список могли войти некоторые номера партий несколько раз, оставим только уникальные\\\n",
        "unique_keys_to_del = list(set(keys_to_del))\n",
        "print(f'Кол-во элементов в списке с уникальными номерами партий под удаление = {len(unique_keys_to_del)}')"
      ]
    },
    {
      "cell_type": "markdown",
      "id": "63b8262d",
      "metadata": {
        "id": "63b8262d"
      },
      "source": [
        "**Видим, что максимальное значение номера партии равно 3241. Проверим, действительно ли в данных этого датафрейма представлены все номера партии от 1 до 3241.**"
      ]
    },
    {
      "cell_type": "code",
      "execution_count": null,
      "id": "fc9c730f",
      "metadata": {
        "id": "fc9c730f",
        "outputId": "b182f30d-ef65-4ec3-a979-c09dae25db62"
      },
      "outputs": [
        {
          "data": {
            "text/plain": [
              "3216"
            ]
          },
          "execution_count": 34,
          "metadata": {},
          "output_type": "execute_result"
        }
      ],
      "source": [
        "len(df_dict['temp']['key'].unique())"
      ]
    },
    {
      "cell_type": "markdown",
      "id": "22ec9eec",
      "metadata": {
        "id": "22ec9eec"
      },
      "source": [
        "**Длина уникальных значений номеров партии не равна 3241, значит, не все номера партии представлены в этом датафрейме. Проверим, какие из них отсутствуют.**"
      ]
    },
    {
      "cell_type": "code",
      "execution_count": null,
      "id": "27b70f73",
      "metadata": {
        "id": "27b70f73",
        "outputId": "ff4701ce-6b11-4da9-ede8-00e9fd38c003"
      },
      "outputs": [
        {
          "name": "stdout",
          "output_type": "stream",
          "text": [
            "Номера партий, отсутствующих в данных датафрейма \"temp\": [41, 42, 355, 382, 506, 529, 540, 607, 683, 710, 766, 1133, 1300, 1437, 2031, 2103, 2278, 2356, 2373, 2446, 2469, 2491, 2683, 3200, 3207]\n",
            "Количество партий, отсутствующих в данных датафрейма \"temp\": 25\n"
          ]
        }
      ],
      "source": [
        "keys_not_in_temp = [x for x in list(range(1, 3242)) if x not in df_dict['temp']['key'].values]\n",
        "print(f'Номера партий, отсутствующих в данных датафрейма \"temp\": {keys_not_in_temp}')\n",
        "print(f'Количество партий, отсутствующих в данных датафрейма \"temp\": {len(keys_not_in_temp)}')"
      ]
    },
    {
      "cell_type": "markdown",
      "id": "52a3ff00",
      "metadata": {
        "id": "52a3ff00"
      },
      "source": [
        "**Посмотрим на распределение замеров температуры среди всех партий.**"
      ]
    },
    {
      "cell_type": "code",
      "execution_count": null,
      "id": "d58b63dd",
      "metadata": {
        "id": "d58b63dd",
        "outputId": "83793599-d3bf-4f96-874f-e3e118367a70"
      },
      "outputs": [
        {
          "data": {
            "image/png": "[encoded data removed]",
            "text/plain": [
              "<Figure size 576x432 with 1 Axes>"
            ]
          },
          "metadata": {
            "needs_background": "light"
          },
          "output_type": "display_data"
        }
      ],
      "source": [
        "plt.figure(figsize=(8, 6))\n",
        "plt.hist(df_dict['temp']['key'].value_counts(), bins=32)\n",
        "plt.xlabel('Кол-во замеров температуры для уникальной партии')\n",
        "plt.ylabel('Количество уникальных партий с таким кол-во замеров')\n",
        "plt.title('Распределение замеров температуры среди уникальных партий')\n",
        "plt.show()"
      ]
    },
    {
      "cell_type": "markdown",
      "id": "b4b6a4e4",
      "metadata": {
        "id": "b4b6a4e4"
      },
      "source": [
        "**Видим, что наибольшее кол-во партий имеют среди всех данных по 5 замеров температуры.**"
      ]
    },
    {
      "cell_type": "markdown",
      "id": "5054bcec",
      "metadata": {
        "id": "5054bcec"
      },
      "source": [
        "**Промежуточные выводы по данным в датафрейме 'temp', содержащем данные об измерении температуры.**\n",
        "\n",
        "* В данных этого датафрейма порядка 19% пропусков.\n",
        "* В данных по температуре всего 746 уникальных партий, требующих исключение из последующего анализа по причинам: пропуска в данных, единственного замера, значения темп. ниже темп. плавления стали.\n",
        "* Чаще всего в данных встречается по 5 замеров температуры для каждой уникальной партии.\n",
        "* Количество партий 3241, но они не все представлены в этом датафрейме, нет данных о 25 уникальных партиях.\n",
        "* Необходимо привести названия признаков к \"змеиному\" регистру и на англ.\n",
        "* Необходимо изменить тип признака \"Время замеры\" на datetime, т.к. он отвечают за дату и время.\n",
        "* Использовать в качестве признака необходимо только первый замер температуры, а в качестве целевого признака - последний замер температуры для уникальной партии."
      ]
    },
    {
      "cell_type": "markdown",
      "id": "6b0ef4c1",
      "metadata": {
        "id": "6b0ef4c1"
      },
      "source": [
        "### 2.6 Данные о проволочных материалах (объем)"
      ]
    },
    {
      "cell_type": "code",
      "execution_count": null,
      "id": "76cf51e6",
      "metadata": {
        "id": "76cf51e6",
        "outputId": "77adb9e3-b88e-4b20-ce4f-933e4d75b343"
      },
      "outputs": [
        {
          "name": "stdout",
          "output_type": "stream",
          "text": [
            "Кол-во пропусков в долях в датафрейме \"wire\" \n",
            "\n",
            "           Null%  Total  Total_Null     Type\n",
            "key     0.000000   3081           0    int64\n",
            "Wire 1  0.008439   3081          26  float64\n",
            "Wire 2  0.649789   3081        2002  float64\n",
            "Wire 3  0.979552   3081        3018  float64\n",
            "Wire 4  0.995456   3081        3067  float64\n",
            "Wire 5  0.999675   3081        3080  float64\n",
            "Wire 6  0.976306   3081        3008  float64\n",
            "Wire 7  0.996430   3081        3070  float64\n",
            "Wire 8  0.993833   3081        3062  float64\n",
            "Wire 9  0.990587   3081        3052  float64\n",
            "\n",
            "\n",
            "Первые 5 строк в датафрейме \"wire\" \n",
            " \n",
            "    key     Wire 1   Wire 2  Wire 3  Wire 4  Wire 5  Wire 6  Wire 7  Wire 8  \\\n",
            "0    1  60.059998      NaN     NaN     NaN     NaN     NaN     NaN     NaN   \n",
            "1    2  96.052315      NaN     NaN     NaN     NaN     NaN     NaN     NaN   \n",
            "2    3  91.160157      NaN     NaN     NaN     NaN     NaN     NaN     NaN   \n",
            "3    4  89.063515      NaN     NaN     NaN     NaN     NaN     NaN     NaN   \n",
            "4    5  89.238236  9.11456     NaN     NaN     NaN     NaN     NaN     NaN   \n",
            "\n",
            "   Wire 9  \n",
            "0     NaN  \n",
            "1     NaN  \n",
            "2     NaN  \n",
            "3     NaN  \n",
            "4     NaN   \n",
            "\n",
            "\n",
            "Описание распределения в датафрейме \"wire\" \n",
            "\n",
            "               key       Wire 1       Wire 2      Wire 3      Wire 4  Wire 5  \\\n",
            "count  3081.000000  3055.000000  1079.000000   63.000000   14.000000   1.000   \n",
            "mean   1623.426485   100.895853    50.577323  189.482681   57.442841  15.132   \n",
            "std     932.996726    42.012518    39.320216   99.513444   28.824667     NaN   \n",
            "min       1.000000     1.918800     0.030160    0.144144   24.148801  15.132   \n",
            "25%     823.000000    72.115684    20.193680   95.135044   40.807002  15.132   \n",
            "50%    1619.000000   100.158234    40.142956  235.194977   45.234282  15.132   \n",
            "75%    2434.000000   126.060483    70.227558  276.252014   76.124619  15.132   \n",
            "max    3241.000000   330.314424   282.780152  385.008668  113.231044  15.132   \n",
            "\n",
            "           Wire 6     Wire 7      Wire 8     Wire 9  \n",
            "count   73.000000  11.000000   19.000000  29.000000  \n",
            "mean    48.016974  10.039007   53.625193  34.155752  \n",
            "std     33.919845   8.610584   16.881728  19.931616  \n",
            "min      0.034320   0.234208   45.076721   4.622800  \n",
            "25%     25.053600   6.762756   46.094879  22.058401  \n",
            "50%     42.076324   9.017009   46.279999  30.066399  \n",
            "75%     64.212723  11.886057   48.089603  43.862003  \n",
            "max    180.454575  32.847674  102.762401  90.053604  \n",
            "\n",
            "\n",
            "Кол-во полных дубликатов в датафрейме \"wire\" = 0\n"
          ]
        }
      ],
      "source": [
        "info_func(df_dict['wire'], 'wire')"
      ]
    },
    {
      "cell_type": "markdown",
      "id": "fcc5b1bd",
      "metadata": {
        "id": "fcc5b1bd"
      },
      "source": [
        "**Визуализируем кол-во действительных объектов в каждом из признаков**"
      ]
    },
    {
      "cell_type": "code",
      "execution_count": null,
      "id": "ff417a8a",
      "metadata": {
        "id": "ff417a8a",
        "outputId": "d6ba1b14-9540-4eb1-85f4-29b5161c84d3"
      },
      "outputs": [
        {
          "data": {
            "image/png": "[encoded data removed]",
            "text/plain": [
              "<Figure size 576x432 with 1 Axes>"
            ]
          },
          "metadata": {
            "needs_background": "light"
          },
          "output_type": "display_data"
        }
      ],
      "source": [
        "plt.figure(figsize=(8, 6))\n",
        "ax = df_dict['wire'].drop('key', axis=1).notnull().sum().plot(kind='bar')\n",
        "ax.set_title('Количество действительных объектов в каждом признаке проволочного материала')\n",
        "ax.set_xlabel('Категория проволочного материала')\n",
        "ax.set_ylabel('Количество объектов данного признака')\n",
        "plt.show()"
      ]
    },
    {
      "cell_type": "code",
      "execution_count": null,
      "id": "94bbd0bb",
      "metadata": {
        "id": "94bbd0bb",
        "outputId": "3dfb5214-7011-4596-c089-7ede5283dc9e"
      },
      "outputs": [
        {
          "name": "stdout",
          "output_type": "stream",
          "text": [
            "Список категорий проволочных материалов для последующего удаления: \n",
            "['Wire 5', 'Wire 7', 'Wire 4', 'Wire 8', 'Wire 9']\n"
          ]
        }
      ],
      "source": [
        "wires_to_del = df_dict['wire'].drop('key', axis=1) \\\n",
        "                    .notnull().sum().sort_values() \\\n",
        "                    .iloc[0:5].index.to_list()\n",
        "print(f'Список категорий проволочных материалов для последующего удаления: \\n{wires_to_del}')"
      ]
    },
    {
      "cell_type": "markdown",
      "id": "6306bb82",
      "metadata": {
        "id": "6306bb82"
      },
      "source": [
        "**Видим, что кол-во действительных объектов очень мало в категориях 4, 5, 7, 8, 9. Вероятнее всего для получения лучших результатов при моделировании необходимо будет исключить данные признаки в следующем разделе.**\n",
        "\n",
        "\n",
        "**В данных этого датафрейма наблюдается очень большое количество пропусков, вероятнее всего данный факт может быть обусловлен спецификой технологического процесса, т.к. не для всех партий добавляются все типы проволочных материалов. По этой причине логичнее всего пропуски в этих данных заполнить нулём. Сделаем это на следующем этапе предобработки данных.**\n",
        "\n",
        "**Посмотрим на распределение данных в этом датафрейме по уникальным значениям номеров партий.**"
      ]
    },
    {
      "cell_type": "code",
      "execution_count": null,
      "id": "3f97afab",
      "metadata": {
        "id": "3f97afab",
        "outputId": "b2ecb035-6149-49e2-e0b3-769fb93467c8"
      },
      "outputs": [
        {
          "data": {
            "text/plain": [
              "array([1])"
            ]
          },
          "execution_count": 40,
          "metadata": {},
          "output_type": "execute_result"
        }
      ],
      "source": [
        "df_dict['wire']['key'].value_counts().unique()"
      ]
    },
    {
      "cell_type": "markdown",
      "id": "3346d2e6",
      "metadata": {
        "id": "3346d2e6"
      },
      "source": [
        "**Для каждой партии встречается всего одна строка данных.**\n",
        "\n",
        "**Из предыдущего подраздела мы знаем, что кол-во уникальных партий равно как минимум 3241, а в данном датафрейме мы видим, что кол-во партий - 3081. Узнаем, какие партии отсутствуют\n",
        "в этом датафрейме.**"
      ]
    },
    {
      "cell_type": "code",
      "execution_count": null,
      "id": "7bdc7458",
      "metadata": {
        "id": "7bdc7458",
        "outputId": "69759389-713a-4929-caf6-99decde10257"
      },
      "outputs": [
        {
          "name": "stdout",
          "output_type": "stream",
          "text": [
            "Номера партий, отсутствующих в данных датафрейма \"wire\": [41, 42, 51, 52, 53, 54, 55, 56, 81, 82, 83, 84, 85, 88, 109, 195, 197, 209, 210, 211, 212, 269, 330, 331, 332, 355, 375, 376, 377, 378, 382, 506, 529, 540, 607, 683, 710, 711, 712, 713, 714, 715, 744, 748, 754, 755, 766, 796, 797, 798, 799, 800, 841, 929, 930, 931, 932, 933, 934, 1102, 1103, 1104, 1105, 1106, 1107, 1133, 1184, 1300, 1379, 1380, 1437, 1525, 1526, 1527, 1528, 1564, 1565, 1566, 1646, 1743, 1744, 1745, 1746, 1747, 1748, 1758, 1817, 1818, 1836, 1946, 1977, 1978, 1979, 2010, 2031, 2043, 2103, 2195, 2196, 2197, 2198, 2214, 2215, 2216, 2217, 2218, 2219, 2236, 2238, 2278, 2356, 2360, 2367, 2368, 2369, 2370, 2373, 2388, 2389, 2390, 2391, 2392, 2393, 2446, 2469, 2491, 2624, 2625, 2626, 2627, 2628, 2629, 2683, 2788, 2789, 2790, 2791, 2792, 2814, 2815, 2846, 2847, 2848, 2849, 2850, 2863, 2871, 2872, 2873, 2874, 2875, 2876, 3035, 3036, 3037, 3038, 3039, 3040, 3200, 3207]\n",
            "Количество партий, отсутствующих в данных датафрейма \"wire\": 160\n"
          ]
        }
      ],
      "source": [
        "keys_not_in_wire = [x for x in list(range(1, 3242)) if x not in df_dict['wire']['key'].values]\n",
        "print(f'Номера партий, отсутствующих в данных датафрейма \"wire\": {keys_not_in_wire}')\n",
        "print(f'Количество партий, отсутствующих в данных датафрейма \"wire\": {len(keys_not_in_wire)}')"
      ]
    },
    {
      "cell_type": "markdown",
      "id": "d782ea6d",
      "metadata": {
        "id": "d782ea6d"
      },
      "source": [
        "**Промежуточные выводы по данным в датафрейме 'wire', содержащем данные о подаче проволочных материалов (объём).**\n",
        "\n",
        "* В данных встречается только один набор значений для каждой уникальной партии.\n",
        "* В этом датафрейме нет данных о 160 уникальных партиях.\n",
        "* Необходимо привести названия признаков к \"змеиному\" регистру.\n",
        "* В данных этого датафрейма наблюдается очень большое количество пропусков, вероятнее всего данный факт может быть обусловлен спецификой технологического процесса, логичнее всего пропуски в этих данных заполнить далее нулём.\n",
        "* Кол-во действительных объектов очень мало в категориях 4, 5, 7, 8, 9 проволочных материалов. Вероятнее всего для получения лучших результатов при моделировании необходимо будет исключить данные признаки в следующем разделе."
      ]
    },
    {
      "cell_type": "markdown",
      "id": "9dd72725",
      "metadata": {
        "id": "9dd72725"
      },
      "source": [
        "### 2.7 Данные о проволочных материалах (время)"
      ]
    },
    {
      "cell_type": "code",
      "execution_count": null,
      "id": "c0e17405",
      "metadata": {
        "id": "c0e17405",
        "outputId": "99c84253-b3b2-4017-cdd5-5d53a4e9a328"
      },
      "outputs": [
        {
          "name": "stdout",
          "output_type": "stream",
          "text": [
            "Кол-во пропусков в долях в датафрейме \"wire_time\" \n",
            "\n",
            "           Null%  Total  Total_Null    Type\n",
            "key     0.000000   3081           0   int64\n",
            "Wire 1  0.008439   3081          26  object\n",
            "Wire 2  0.649789   3081        2002  object\n",
            "Wire 3  0.979552   3081        3018  object\n",
            "Wire 4  0.995456   3081        3067  object\n",
            "Wire 5  0.999675   3081        3080  object\n",
            "Wire 6  0.976306   3081        3008  object\n",
            "Wire 7  0.996430   3081        3070  object\n",
            "Wire 8  0.993833   3081        3062  object\n",
            "Wire 9  0.990587   3081        3052  object\n",
            "\n",
            "\n",
            "Первые 5 строк в датафрейме \"wire_time\" \n",
            " \n",
            "    key               Wire 1               Wire 2 Wire 3 Wire 4 Wire 5 Wire 6  \\\n",
            "0    1  2019-05-03 11:06:19                  NaN    NaN    NaN    NaN    NaN   \n",
            "1    2  2019-05-03 11:36:50                  NaN    NaN    NaN    NaN    NaN   \n",
            "2    3  2019-05-03 12:11:46                  NaN    NaN    NaN    NaN    NaN   \n",
            "3    4  2019-05-03 12:43:22                  NaN    NaN    NaN    NaN    NaN   \n",
            "4    5  2019-05-03 13:20:44  2019-05-03 13:15:34    NaN    NaN    NaN    NaN   \n",
            "\n",
            "  Wire 7 Wire 8 Wire 9  \n",
            "0    NaN    NaN    NaN  \n",
            "1    NaN    NaN    NaN  \n",
            "2    NaN    NaN    NaN  \n",
            "3    NaN    NaN    NaN  \n",
            "4    NaN    NaN    NaN   \n",
            "\n",
            "\n",
            "Описание распределения в датафрейме \"wire_time\" \n",
            "\n",
            "               key\n",
            "count  3081.000000\n",
            "mean   1623.426485\n",
            "std     932.996726\n",
            "min       1.000000\n",
            "25%     823.000000\n",
            "50%    1619.000000\n",
            "75%    2434.000000\n",
            "max    3241.000000\n",
            "\n",
            "\n",
            "Кол-во полных дубликатов в датафрейме \"wire_time\" = 0\n"
          ]
        }
      ],
      "source": [
        "info_func(df_dict['wire_time'], 'wire_time')"
      ]
    },
    {
      "cell_type": "markdown",
      "id": "089d6c7d",
      "metadata": {
        "id": "089d6c7d"
      },
      "source": [
        "**В данных этого датафрейма наблюдается очень большое количество пропусков, аналогично предыдущему датафрейму.**\n",
        "\n",
        "**Необходимо изменить тип данных на datetime, т.к. все данные признаки кроме значения номера партии отвечают за время и дату.**\n",
        "\n",
        "**Необходимо привести к \"змеиному\" регистру названия признаков.**\n",
        "\n",
        "**Посмотрим на распределение данных в этом датафрейме по уникальным значениям номеров партий.**"
      ]
    },
    {
      "cell_type": "code",
      "execution_count": null,
      "id": "3b339a17",
      "metadata": {
        "id": "3b339a17",
        "outputId": "2007e94f-1f83-4543-8e32-19c19e760d94"
      },
      "outputs": [
        {
          "data": {
            "text/plain": [
              "array([1])"
            ]
          },
          "execution_count": 43,
          "metadata": {},
          "output_type": "execute_result"
        }
      ],
      "source": [
        "df_dict['wire_time']['key'].value_counts().unique()"
      ]
    },
    {
      "cell_type": "markdown",
      "id": "e1003122",
      "metadata": {
        "id": "e1003122"
      },
      "source": [
        "**Для каждой партии встречается всего одна строка данных.**\n",
        "\n",
        "**Из предыдущего подраздела мы знаем, что кол-во уникальных партий равно как минимум 3241, а в данном датафрейме мы видим, что кол-во партий - 3081. Узнаем, какие партии отсутствуют\n",
        "в этом датафрейме.**"
      ]
    },
    {
      "cell_type": "code",
      "execution_count": null,
      "id": "c9918575",
      "metadata": {
        "id": "c9918575",
        "outputId": "fc90ed98-bb16-410d-9932-05fcf5036ebf"
      },
      "outputs": [
        {
          "name": "stdout",
          "output_type": "stream",
          "text": [
            "Номера партий, отсутствующих в данных датафрейма \"wire_time\": [41, 42, 51, 52, 53, 54, 55, 56, 81, 82, 83, 84, 85, 88, 109, 195, 197, 209, 210, 211, 212, 269, 330, 331, 332, 355, 375, 376, 377, 378, 382, 506, 529, 540, 607, 683, 710, 711, 712, 713, 714, 715, 744, 748, 754, 755, 766, 796, 797, 798, 799, 800, 841, 929, 930, 931, 932, 933, 934, 1102, 1103, 1104, 1105, 1106, 1107, 1133, 1184, 1300, 1379, 1380, 1437, 1525, 1526, 1527, 1528, 1564, 1565, 1566, 1646, 1743, 1744, 1745, 1746, 1747, 1748, 1758, 1817, 1818, 1836, 1946, 1977, 1978, 1979, 2010, 2031, 2043, 2103, 2195, 2196, 2197, 2198, 2214, 2215, 2216, 2217, 2218, 2219, 2236, 2238, 2278, 2356, 2360, 2367, 2368, 2369, 2370, 2373, 2388, 2389, 2390, 2391, 2392, 2393, 2446, 2469, 2491, 2624, 2625, 2626, 2627, 2628, 2629, 2683, 2788, 2789, 2790, 2791, 2792, 2814, 2815, 2846, 2847, 2848, 2849, 2850, 2863, 2871, 2872, 2873, 2874, 2875, 2876, 3035, 3036, 3037, 3038, 3039, 3040, 3200, 3207]\n",
            "Количество партий, отсутствующих в данных датафрейма \"wire_time\": 160\n"
          ]
        }
      ],
      "source": [
        "keys_not_in_wire_time = [x for x in list(range(1, 3242)) if x not in df_dict['wire_time']['key'].values]\n",
        "print(f'Номера партий, отсутствующих в данных датафрейма \"wire_time\": {keys_not_in_wire_time}')\n",
        "print(f'Количество партий, отсутствующих в данных датафрейма \"wire_time\": {len(keys_not_in_wire_time)}')"
      ]
    },
    {
      "cell_type": "markdown",
      "id": "5e270b08",
      "metadata": {
        "id": "5e270b08"
      },
      "source": [
        "**Промежуточные выводы по данным в датафрейме 'wire_time', содержащем данные о подаче проволочных материалов (время).**\n",
        "\n",
        "* В данных встречается только один набор значений для каждой уникальной партии.\n",
        "* В этом датафрейме нет данных о 160 уникальных партиях.\n",
        "* Привести тип признаков, отвечающих за дату и время (все кроме key) к datetime.\n",
        "* Необходимо привести названия признаков к \"змеиному\" регистру.\n",
        "* В данных этого датафрейма наблюдается очень большое количество пропусков, вероятнее всего данный факт может быть обусловлен спецификой технологического процесса, логичнее всего пропуски в этих данных заполнить далее нулём, если будет принятно решение использовать эти данные."
      ]
    },
    {
      "cell_type": "markdown",
      "id": "68e983cc",
      "metadata": {
        "id": "68e983cc"
      },
      "source": [
        "### 2.8 Основные выводы раздела в ключе дальнейшего плана предобработки данных\n",
        "* Не использовать данные о времени подачи сыпучих материалов и проволочных материалов, т.к. мы не используем временные ряды и влияние этих данных на целевой признак не может быть велико, ограничимся лишь данными об объемах данных двух типов материалов.\n",
        "* Из всех далее используемых датафреймов удаляем данные, которые соответствуют номерам партий из сформированного списка для удаления, по причине аномальных значений и пропусков в температуре.\n",
        "* По причине малого кол-ва действительных объектов исключаем из дальнейшего анализа признаки 4, 5, 7, 8, 9 проволочных материалов и 2, 7, 8, 9, 13 сыпучих материалов в следующем разделе.\n",
        "* Пропуски в данных о подаче сыпучих и проволочных материалов заполняем 0.\n",
        "* Необходимо изменить тип некоторых признаков и произвести переименование в соответствии со \"змеиным\" регистром на англ. языке.\n",
        "* Создание новых признаков: активной энергии для каждой уникальной партии, а также суммарной мощности как активной, так и реактивной для каждой уникальной партии.\n",
        "* Из данных по температуре использовать в качестве признака необходимо только первый замер температуры, а в качестве целевого признака - последний замер температуры для уникальной партии.\n",
        "* Объединение данных будет происходить на основе признака key - номера партии.\n",
        "* Вопросов к заказчику на текущий момент не возникло, вводные технологического процесса понятны."
      ]
    },
    {
      "cell_type": "markdown",
      "id": "076d84af",
      "metadata": {
        "id": "076d84af"
      },
      "source": [
        "## 3. Предобработка данных"
      ]
    },
    {
      "cell_type": "markdown",
      "id": "f83d2161",
      "metadata": {
        "id": "f83d2161"
      },
      "source": [
        "### 3.1 Удаление данных, связанных с выбранными партиями"
      ]
    },
    {
      "cell_type": "markdown",
      "id": "a685228a",
      "metadata": {
        "id": "a685228a"
      },
      "source": [
        "**Действуем исходя из основных выводов после исследования данных выше.**\n",
        "\n",
        "**Создадим новый словарь датафреймов без двух датафреймов wire_time и bulk_time, т.к. мы исключаем их из дальнейшей работы. Удалим из данных датафреймов информацию о партиях, которые не пригодны для последующего анализа и моделирования.**"
      ]
    },
    {
      "cell_type": "code",
      "execution_count": null,
      "id": "0a03c6d0",
      "metadata": {
        "id": "0a03c6d0",
        "outputId": "0721c8f2-2383-48ce-ee68-845c55a7f044"
      },
      "outputs": [
        {
          "name": "stdout",
          "output_type": "stream",
          "text": [
            "Размер датафрейма \"arc\" до удаления партий: (14876, 5)\n",
            "Размер датафрейма \"arc\" после удаления партий: (11428, 5) \n",
            "\n",
            "Первые строки датафрейма \"arc\" после удаления партий: \n",
            "   key Начало нагрева дугой  Конец нагрева дугой  Активная мощность  \\\n",
            "0    1  2019-05-03 11:02:14  2019-05-03 11:06:02           0.305130   \n",
            "1    1  2019-05-03 11:07:28  2019-05-03 11:10:33           0.765658   \n",
            "\n",
            "   Реактивная мощность  \n",
            "0             0.211253  \n",
            "1             0.477438  \n",
            " ---------------------------------------------------------------------------\n",
            "Размер датафрейма \"bulk\" до удаления партий: (3129, 16)\n",
            "Размер датафрейма \"bulk\" после удаления партий: (2402, 16) \n",
            "\n",
            "Первые строки датафрейма \"bulk\" после удаления партий: \n",
            "   key  Bulk 1  Bulk 2  Bulk 3  Bulk 4  Bulk 5  Bulk 6  Bulk 7  Bulk 8  \\\n",
            "0    1     NaN     NaN     NaN    43.0     NaN     NaN     NaN     NaN   \n",
            "1    2     NaN     NaN     NaN    73.0     NaN     NaN     NaN     NaN   \n",
            "\n",
            "   Bulk 9  Bulk 10  Bulk 11  Bulk 12  Bulk 13  Bulk 14  Bulk 15  \n",
            "0     NaN      NaN      NaN    206.0      NaN    150.0    154.0  \n",
            "1     NaN      NaN      NaN    206.0      NaN    149.0    154.0  \n",
            " ---------------------------------------------------------------------------\n",
            "Размер датафрейма \"gas\" до удаления партий: (3239, 2)\n",
            "Размер датафрейма \"gas\" после удаления партий: (2493, 2) \n",
            "\n",
            "Первые строки датафрейма \"gas\" после удаления партий: \n",
            "   key      Газ 1\n",
            "0    1  29.749986\n",
            "1    2  12.555561\n",
            " ---------------------------------------------------------------------------\n",
            "Размер датафрейма \"temp\" до удаления партий: (18092, 3)\n",
            "Размер датафрейма \"temp\" после удаления партий: (13898, 3) \n",
            "\n",
            "Первые строки датафрейма \"temp\" после удаления партий: \n",
            "   key         Время замера  Температура\n",
            "0    1  2019-05-03 11:02:04       1571.0\n",
            "1    1  2019-05-03 11:07:18       1604.0\n",
            " ---------------------------------------------------------------------------\n",
            "Размер датафрейма \"wire\" до удаления партий: (3081, 10)\n",
            "Размер датафрейма \"wire\" после удаления партий: (2367, 10) \n",
            "\n",
            "Первые строки датафрейма \"wire\" после удаления партий: \n",
            "   key     Wire 1  Wire 2  Wire 3  Wire 4  Wire 5  Wire 6  Wire 7  Wire 8  \\\n",
            "0    1  60.059998     NaN     NaN     NaN     NaN     NaN     NaN     NaN   \n",
            "1    2  96.052315     NaN     NaN     NaN     NaN     NaN     NaN     NaN   \n",
            "\n",
            "   Wire 9  \n",
            "0     NaN  \n",
            "1     NaN  \n",
            " ---------------------------------------------------------------------------\n"
          ]
        }
      ],
      "source": [
        "#создаем новый словарь с фильтрованными датафреймами\n",
        "df_dict_f = {key: value for key, value in df_dict.items() if key not in ['bulk_time', 'wire_time']}\n",
        "\n",
        "#удаляем записи, связанные с отфильтрованными партиями\n",
        "for key in df_dict_f:\n",
        "    print(f'Размер датафрейма \"{key}\" до удаления партий: {df_dict[key].shape}')\n",
        "    df_dict_f[key] = df_dict_f[key][~df_dict_f[key]['key'].isin(unique_keys_to_del)]\n",
        "    print(f'Размер датафрейма \"{key}\" после удаления партий: {df_dict_f[key].shape} \\n')\n",
        "    print(f'Первые строки датафрейма \"{key}\" после удаления партий: \\n{df_dict_f[key].head(2)}\\n', '-'*75)"
      ]
    },
    {
      "cell_type": "markdown",
      "id": "21585c62",
      "metadata": {
        "id": "21585c62"
      },
      "source": [
        "### 3.2 Удаление лишних признаков"
      ]
    },
    {
      "cell_type": "markdown",
      "id": "ca1cd8a6",
      "metadata": {
        "id": "ca1cd8a6"
      },
      "source": [
        "**Исключим из датафреймов о сыпучих и проволочных материалах признаки, соответствующие выбранным категориям с малым количеством объектов.**"
      ]
    },
    {
      "cell_type": "code",
      "execution_count": null,
      "id": "b2f6da72",
      "metadata": {
        "id": "b2f6da72",
        "outputId": "766eb6e6-cf58-4bee-8eb7-0b91ad387f5c"
      },
      "outputs": [
        {
          "name": "stdout",
          "output_type": "stream",
          "text": [
            "Признаки в датафрейме \"bulk\" до удаления: \n",
            "['key', 'Bulk 1', 'Bulk 2', 'Bulk 3', 'Bulk 4', 'Bulk 5', 'Bulk 6', 'Bulk 7', 'Bulk 8', 'Bulk 9', 'Bulk 10', 'Bulk 11', 'Bulk 12', 'Bulk 13', 'Bulk 14', 'Bulk 15']\n",
            "\n",
            "Размер датафрейма \"bulk\" до удаления: (2402, 16)\n",
            "Размер датафрейма \"bulk\" после удаления: (2402, 11) \n",
            "\n",
            "Первые строки датафрейма \"bulk\" после удаления: \n",
            "   key  Bulk 1  Bulk 3  Bulk 4  Bulk 5  Bulk 6  Bulk 10  Bulk 11  Bulk 12  \\\n",
            "0    1     NaN     NaN    43.0     NaN     NaN      NaN      NaN    206.0   \n",
            "1    2     NaN     NaN    73.0     NaN     NaN      NaN      NaN    206.0   \n",
            "\n",
            "   Bulk 14  Bulk 15  \n",
            "0    150.0    154.0  \n",
            "1    149.0    154.0  \n",
            " ---------------------------------------------------------------------------\n",
            "Признаки в датафрейме \"wire\" до удаления: \n",
            "['key', 'Wire 1', 'Wire 2', 'Wire 3', 'Wire 4', 'Wire 5', 'Wire 6', 'Wire 7', 'Wire 8', 'Wire 9']\n",
            "\n",
            "Размер датафрейма \"wire\" до удаления: (2367, 10)\n",
            "Размер датафрейма \"wire\" после удаления: (2367, 5) \n",
            "\n",
            "Первые строки датафрейма \"wire\" после удаления: \n",
            "   key     Wire 1  Wire 2  Wire 3  Wire 6\n",
            "0    1  60.059998     NaN     NaN     NaN\n",
            "1    2  96.052315     NaN     NaN     NaN\n",
            " ---------------------------------------------------------------------------\n"
          ]
        }
      ],
      "source": [
        "def drop_col(key, list_col):\n",
        "    print(f'Признаки в датафрейме \"{key}\" до удаления: \\n{df_dict_f[key].columns.to_list()}\\n')\n",
        "    print(f'Размер датафрейма \"{key}\" до удаления: {df_dict_f[key].shape}')\n",
        "    df_dict_f[key] = df_dict_f[key].drop(list_col, axis=1)\n",
        "    print(f'Размер датафрейма \"{key}\" после удаления: {df_dict_f[key].shape} \\n')\n",
        "    print(f'Первые строки датафрейма \"{key}\" после удаления: \\n{df_dict_f[key].head(2)}\\n', '-'*75)\n",
        "    return\n",
        "\n",
        "drop_col('bulk', bulks_to_del)\n",
        "drop_col('wire', wires_to_del)"
      ]
    },
    {
      "cell_type": "markdown",
      "id": "5c655fb4",
      "metadata": {
        "id": "5c655fb4"
      },
      "source": [
        "### 3.3 Заполнение пропусков в данных"
      ]
    },
    {
      "cell_type": "markdown",
      "id": "a45c55e1",
      "metadata": {
        "id": "a45c55e1"
      },
      "source": [
        "**Заполним теперь пропуски в данных о сыпучих и проволочных материалах нулевыми значениями.**"
      ]
    },
    {
      "cell_type": "code",
      "execution_count": null,
      "id": "8ff4409e",
      "metadata": {
        "id": "8ff4409e",
        "outputId": "750faa81-9864-462c-ac8d-fb8abbed2f97"
      },
      "outputs": [
        {
          "name": "stdout",
          "output_type": "stream",
          "text": [
            "Суммарное кол-во пропусков во всех признаках датафрейма \"bulk\" = 15555\n",
            "Размер датафрейма \"bulk\" до заполнения пропусков: (2402, 11) \n",
            "\n",
            "Суммарное кол-во пропусков во всех признаках датафрейма \"bulk\" после заполнения пропусков = 0\n",
            "Размер датафрейма \"bulk\" после заполнения пропусков: (2402, 11) \n",
            "\n",
            "Первые строки датафрейма \"bulk\" после заполнения пропусков: \n",
            "   key  Bulk 1  Bulk 3  Bulk 4  Bulk 5  Bulk 6  Bulk 10  Bulk 11  Bulk 12  \\\n",
            "0    1     0.0     0.0    43.0     0.0     0.0      0.0      0.0    206.0   \n",
            "1    2     0.0     0.0    73.0     0.0     0.0      0.0      0.0    206.0   \n",
            "\n",
            "   Bulk 14  Bulk 15  \n",
            "0    150.0    154.0  \n",
            "1    149.0    154.0  \n",
            " ---------------------------------------------------------------------------\n",
            "Суммарное кол-во пропусков во всех признаках датафрейма \"wire\" = 6210\n",
            "Размер датафрейма \"wire\" до заполнения пропусков: (2367, 5) \n",
            "\n",
            "Суммарное кол-во пропусков во всех признаках датафрейма \"wire\" после заполнения пропусков = 0\n",
            "Размер датафрейма \"wire\" после заполнения пропусков: (2367, 5) \n",
            "\n",
            "Первые строки датафрейма \"wire\" после заполнения пропусков: \n",
            "   key     Wire 1  Wire 2  Wire 3  Wire 6\n",
            "0    1  60.059998     0.0     0.0     0.0\n",
            "1    2  96.052315     0.0     0.0     0.0\n",
            " ---------------------------------------------------------------------------\n"
          ]
        }
      ],
      "source": [
        "for key in ['bulk', 'wire']:\n",
        "    print(f'Суммарное кол-во пропусков во всех признаках '\n",
        "          f'датафрейма \"{key}\" = {df_dict_f[key].isna().sum().sum()}')\n",
        "    print(f'Размер датафрейма \"{key}\" до заполнения пропусков: {df_dict_f[key].shape} \\n')\n",
        "    df_dict_f[key] = df_dict_f[key].fillna(0)\n",
        "    print(f'Суммарное кол-во пропусков во всех признаках датафрейма '\n",
        "          f'\"{key}\" после заполнения пропусков = {df_dict_f[key].isna().sum().sum()}')\n",
        "    print(f'Размер датафрейма \"{key}\" после заполнения пропусков: {df_dict_f[key].shape} \\n')\n",
        "    print(f'Первые строки датафрейма \"{key}\" после заполнения пропусков: \\n{df_dict_f[key].head(2)}\\n', '-'*75)"
      ]
    },
    {
      "cell_type": "markdown",
      "id": "b5513bb7",
      "metadata": {
        "id": "b5513bb7"
      },
      "source": [
        "### 3.4 Переименования признаков"
      ]
    },
    {
      "cell_type": "markdown",
      "id": "946a025c",
      "metadata": {
        "id": "946a025c"
      },
      "source": [
        "**Приведем названия признаков в соответствии со \"змеиным\" регистром на англ. языке.**"
      ]
    },
    {
      "cell_type": "code",
      "execution_count": null,
      "id": "acff74da",
      "metadata": {
        "id": "acff74da",
        "outputId": "4ac2f486-b77c-4a74-b73a-c04bf056abbc"
      },
      "outputs": [
        {
          "name": "stdout",
          "output_type": "stream",
          "text": [
            "Признаки в датафрейме \"arc\" до переименования: \n",
            "['key', 'Начало нагрева дугой', 'Конец нагрева дугой', 'Активная мощность', 'Реактивная мощность']\n",
            "\n",
            "Размер датафрейма \"arc\" до заполнения пропусков: (11428, 5)\n",
            "Размер датафрейма \"arc\" после переименования: (11428, 5) \n",
            "\n",
            "Первые строки датафрейма \"arc\" после переименования: \n",
            "   key      start_heat_time        end_heat_time  active_power  reactive_power\n",
            "0    1  2019-05-03 11:02:14  2019-05-03 11:06:02      0.305130        0.211253\n",
            "1    1  2019-05-03 11:07:28  2019-05-03 11:10:33      0.765658        0.477438\n",
            " ---------------------------------------------------------------------------\n",
            "Признаки в датафрейме \"gas\" до переименования: \n",
            "['key', 'Газ 1']\n",
            "\n",
            "Размер датафрейма \"gas\" до переименования: (2493, 2)\n",
            "Размер датафрейма \"gas\" после переименования: (2493, 2) \n",
            "\n",
            "Первые строки датафрейма \"gas\" после переименования: \n",
            "   key       gas1\n",
            "0    1  29.749986\n",
            "1    2  12.555561\n",
            " ---------------------------------------------------------------------------\n",
            "Признаки в датафрейме \"temp\" до переименования: \n",
            "['key', 'Время замера', 'Температура']\n",
            "\n",
            "Размер датафрейма \"temp\" до переименования: (13898, 3)\n",
            "Размер датафрейма \"temp\" после переименования: (13898, 3) \n",
            "\n",
            "Первые строки датафрейма \"temp\" после переименования: \n",
            "   key            meas_time  temperature\n",
            "0    1  2019-05-03 11:02:04       1571.0\n",
            "1    1  2019-05-03 11:07:18       1604.0\n",
            " ---------------------------------------------------------------------------\n",
            "Признаки в датафрейме \"bulk\" до переименования: \n",
            "['key', 'Bulk 1', 'Bulk 3', 'Bulk 4', 'Bulk 5', 'Bulk 6', 'Bulk 10', 'Bulk 11', 'Bulk 12', 'Bulk 14', 'Bulk 15']\n",
            "\n",
            "Размер датафрейма \"bulk\" до переименования: (2402, 11)\n",
            "Размер датафрейма \"bulk\" после переименования: (2402, 11) \n",
            "\n",
            "Первые строки датафрейма \"bulk\" после переименования: \n",
            "   key  bulk1  bulk3  bulk4  bulk5  bulk6  bulk10  bulk11  bulk12  bulk14  \\\n",
            "0    1    0.0    0.0   43.0    0.0    0.0     0.0     0.0   206.0   150.0   \n",
            "1    2    0.0    0.0   73.0    0.0    0.0     0.0     0.0   206.0   149.0   \n",
            "\n",
            "   bulk15  \n",
            "0   154.0  \n",
            "1   154.0  \n",
            " ---------------------------------------------------------------------------\n",
            "Признаки в датафрейме \"wire\" до переименования: \n",
            "['key', 'Wire 1', 'Wire 2', 'Wire 3', 'Wire 6']\n",
            "\n",
            "Размер датафрейма \"wire\" до переименования: (2367, 5)\n",
            "Размер датафрейма \"wire\" после переименования: (2367, 5) \n",
            "\n",
            "Первые строки датафрейма \"wire\" после переименования: \n",
            "   key      wire1  wire2  wire3  wire6\n",
            "0    1  60.059998    0.0    0.0    0.0\n",
            "1    2  96.052315    0.0    0.0    0.0\n",
            " ---------------------------------------------------------------------------\n"
          ]
        }
      ],
      "source": [
        "print(f'Признаки в датафрейме \"arc\" до переименования: \\n{df_dict_f[\"arc\"].columns.to_list()}\\n')\n",
        "print(f'Размер датафрейма \"arc\" до заполнения пропусков: {df_dict_f[\"arc\"].shape}')\n",
        "df_dict_f['arc'] = df_dict_f['arc'].rename(columns={'Начало нагрева дугой': 'start_heat_time',\n",
        "                                 'Конец нагрева дугой': 'end_heat_time',\n",
        "                                 'Активная мощность': 'active_power',\n",
        "                                 'Реактивная мощность': 'reactive_power'})\n",
        "print(f'Размер датафрейма \"arc\" после переименования: {df_dict_f[\"arc\"].shape} \\n')\n",
        "print(f'Первые строки датафрейма \"arc\" после переименования: \\n{df_dict_f[\"arc\"].head(2)}\\n', '-'*75)\n",
        "\n",
        "print(f'Признаки в датафрейме \"gas\" до переименования: \\n{df_dict_f[\"gas\"].columns.to_list()}\\n')\n",
        "print(f'Размер датафрейма \"gas\" до переименования: {df_dict_f[\"gas\"].shape}')\n",
        "df_dict_f['gas'] = df_dict_f['gas'].rename(columns={'Газ 1': 'gas1'})\n",
        "print(f'Размер датафрейма \"gas\" после переименования: {df_dict_f[\"gas\"].shape} \\n')\n",
        "print(f'Первые строки датафрейма \"gas\" после переименования: \\n{df_dict_f[\"gas\"].head(2)}\\n', '-'*75)\n",
        "\n",
        "print(f'Признаки в датафрейме \"temp\" до переименования: \\n{df_dict_f[\"temp\"].columns.to_list()}\\n')\n",
        "print(f'Размер датафрейма \"temp\" до переименования: {df_dict_f[\"temp\"].shape}')\n",
        "df_dict_f['temp'] = df_dict_f['temp'].rename(columns={'Время замера': 'meas_time',\n",
        "                                 'Температура': 'temperature'})\n",
        "print(f'Размер датафрейма \"temp\" после переименования: {df_dict_f[\"temp\"].shape} \\n')\n",
        "print(f'Первые строки датафрейма \"temp\" после переименования: \\n{df_dict_f[\"temp\"].head(2)}\\n', '-'*75)\n",
        "\n",
        "def ren_col_del_space(key):\n",
        "    col_dict = {}\n",
        "    for col in df_dict_f[key].columns.to_list():\n",
        "        col_dict[col] = \"\".join(col.split()).lower()\n",
        "    print(f'Признаки в датафрейме \"{key}\" до переименования: \\n{df_dict_f[key].columns.to_list()}\\n')\n",
        "    print(f'Размер датафрейма \"{key}\" до переименования: {df_dict_f[key].shape}')\n",
        "    df_dict_f[key] = df_dict_f[key].rename(columns=col_dict)\n",
        "    print(f'Размер датафрейма \"{key}\" после переименования: {df_dict_f[key].shape} \\n')\n",
        "    print(f'Первые строки датафрейма \"{key}\" после переименования: \\n{df_dict_f[key].head(2)}\\n', '-'*75)\n",
        "    return\n",
        "\n",
        "ren_col_del_space('bulk')\n",
        "ren_col_del_space('wire')"
      ]
    },
    {
      "cell_type": "markdown",
      "id": "bb9a1e0b",
      "metadata": {
        "id": "bb9a1e0b"
      },
      "source": [
        "### 3.5 Приведение типов данных к корректным"
      ]
    },
    {
      "cell_type": "markdown",
      "id": "e05872dd",
      "metadata": {
        "id": "e05872dd"
      },
      "source": [
        "**Проведем соответствующие изменения типов данных в ряде датафреймов.**"
      ]
    },
    {
      "cell_type": "code",
      "execution_count": null,
      "id": "fab8c3e7",
      "metadata": {
        "id": "fab8c3e7",
        "outputId": "d5d5367f-146f-4f60-d4d2-58d2ca55b62a"
      },
      "outputs": [
        {
          "name": "stdout",
          "output_type": "stream",
          "text": [
            "Размер датафрейма \"arc\" до изменения типов: (11428, 5)\n",
            "Размер датафрейма \"arc\" после изменения типов: (11428, 5) \n",
            "\n",
            "Типы признаков в датафрейме \"arc\" после обновления: \n",
            "key                         int64\n",
            "start_heat_time    datetime64[ns]\n",
            "end_heat_time      datetime64[ns]\n",
            "active_power              float64\n",
            "reactive_power            float64\n",
            "dtype: object\n",
            "\n",
            "Первые строки датафрейма \"arc\" после изменения типов: \n",
            "   key     start_heat_time       end_heat_time  active_power  reactive_power\n",
            "0    1 2019-05-03 11:02:14 2019-05-03 11:06:02      0.305130        0.211253\n",
            "1    1 2019-05-03 11:07:28 2019-05-03 11:10:33      0.765658        0.477438\n",
            " ---------------------------------------------------------------------------\n",
            "Размер датафрейма \"temp\" до изменения типов: (13898, 3)\n",
            "Размер датафрейма \"temp\" после изменения типов: (13898, 3) \n",
            "\n",
            "Типы признаков в датафрейме \"temp\" после обновления: \n",
            "key                     int64\n",
            "meas_time      datetime64[ns]\n",
            "temperature           float64\n",
            "dtype: object\n",
            "\n",
            "Первые строки датафрейма \"temp\" после изменения типов: \n",
            "   key           meas_time  temperature\n",
            "0    1 2019-05-03 11:02:04       1571.0\n",
            "1    1 2019-05-03 11:07:18       1604.0\n",
            " ---------------------------------------------------------------------------\n"
          ]
        }
      ],
      "source": [
        "def col_to_datetime(key, col_list):\n",
        "    if isinstance(col_list, str):\n",
        "        col_list = [col_list]\n",
        "    for col in col_list:\n",
        "        df_dict_f[key][col] = pd.to_datetime(df_dict_f[key].copy()[col])\n",
        "    print(f'Размер датафрейма \"{key}\" до изменения типов: {df_dict_f[key].shape}')\n",
        "    print(f'Размер датафрейма \"{key}\" после изменения типов: {df_dict_f[key].shape} \\n')\n",
        "    print(f'Типы признаков в датафрейме \"{key}\" после обновления: \\n{df_dict_f[key].dtypes}\\n')\n",
        "    print(f'Первые строки датафрейма \"{key}\" после изменения типов: \\n{df_dict_f[key].head(2)}\\n', '-'*75)\n",
        "    return\n",
        "\n",
        "col_to_datetime('arc', ['start_heat_time', 'end_heat_time'])\n",
        "col_to_datetime('temp', 'meas_time')"
      ]
    },
    {
      "cell_type": "markdown",
      "id": "7ebd0d03",
      "metadata": {
        "id": "7ebd0d03"
      },
      "source": [
        "### 3.6 Создание новых признаков"
      ]
    },
    {
      "cell_type": "markdown",
      "id": "15f94af0",
      "metadata": {
        "id": "15f94af0"
      },
      "source": [
        "**После применения всех изменений будем работать с датафреймом \"arc\", а именно: создадим новые признаки - суммарную затраченную активную энергию для каждой уникальной партии, а также суммарную мощность активную и реактивную для каждой уникальной партии.**\n",
        "\n",
        "**Очевидно, что для нагрева стали в ковше указанные значения мощности измеряются в МВт, соответственно, получаемая активная энергия путем умножения активной мощности на дельту времени в секундах будет выражаться в МДж.**"
      ]
    },
    {
      "cell_type": "code",
      "execution_count": null,
      "id": "f1c503cb",
      "metadata": {
        "id": "f1c503cb",
        "outputId": "7e1b3403-de2d-4673-9ad0-0dceef93be59"
      },
      "outputs": [
        {
          "name": "stdout",
          "output_type": "stream",
          "text": [
            "Размер датафрейма \"arc\" до агрегации данных: (11428, 8) \n",
            "\n",
            "Размер датафрейма \"arc_new\" после агрегации данных: (2470, 4) \n",
            "\n",
            "Первые строки датафрейма \"arc_new\" после агрегации данных: \n",
            "   key  active_power  reactive_power  active_energy\n",
            "0    1      3.036730        2.142821     628.616930\n",
            "1    2      2.139408        1.453357     395.281800\n",
            "2    3      4.063641        2.937457     581.774624\n"
          ]
        }
      ],
      "source": [
        "#создаем новую переменную - дельта по времени\n",
        "df_dict_f['arc']['delta_time'] = df_dict_f['arc']['end_heat_time'] - df_dict_f['arc']['start_heat_time']\n",
        "\n",
        "#создаем новую переменную - дельта времени в секундах\n",
        "df_dict_f['arc']['seconds'] = (df_dict_f['arc']['delta_time'].astype(int) / 10**9).astype(int)\n",
        "\n",
        "# создаем новую переменную - активная энергия в МДж\n",
        "df_dict_f['arc']['active_energy'] = df_dict_f['arc']['active_power'] * df_dict_f['arc']['seconds']\n",
        "\n",
        "# группируем по номеру партии и находим суммарные значение активной и реактивной мощности,\n",
        "#а также активной энергии для каждой уникальной партии\n",
        "df_dict_f['arc_new'] = df_dict_f['arc'].copy()[['key', 'active_power', 'reactive_power', 'active_energy']] \\\n",
        "      .groupby('key').sum().reset_index()\n",
        "print(f'Размер датафрейма \"arc\" до агрегации данных: {df_dict_f[\"arc\"].shape} \\n')\n",
        "print(f'Размер датафрейма \"arc_new\" после агрегации данных: {df_dict_f[\"arc_new\"].shape} \\n')\n",
        "print(f'Первые строки датафрейма \"arc_new\" после агрегации данных: \\n{df_dict_f[\"arc_new\"].head(3)}')"
      ]
    },
    {
      "cell_type": "markdown",
      "id": "72a630b4",
      "metadata": {
        "id": "72a630b4"
      },
      "source": [
        "**Из датафрейма с данными по температуре использовать в качестве признака необходимо только первый замер температуры, а в качестве целевого признака - последний замер температуры для уникальной партии. Создадим новый датафрейм с агрегированными данными.**\n",
        "\n",
        "**Сначала проверим, нету ли дублирующих значений времени и даты в данных.**"
      ]
    },
    {
      "cell_type": "code",
      "execution_count": null,
      "id": "64004dee",
      "metadata": {
        "id": "64004dee",
        "outputId": "ab0a3c4f-99a9-477e-80ec-782866a098dd"
      },
      "outputs": [
        {
          "name": "stdout",
          "output_type": "stream",
          "text": [
            "Кол-во дубликатов в признаке \"meas_time\" = 0\n"
          ]
        }
      ],
      "source": [
        "print(f'Кол-во дубликатов в признаке \"meas_time\" = {df_dict_f[\"temp\"][\"meas_time\"].duplicated().sum()}')"
      ]
    },
    {
      "cell_type": "code",
      "execution_count": null,
      "id": "cbf177ce",
      "metadata": {
        "id": "cbf177ce",
        "outputId": "cb1d0763-d6c0-4a4c-dc19-724a2f5eb9bc"
      },
      "outputs": [
        {
          "name": "stdout",
          "output_type": "stream",
          "text": [
            "Размер нового полученного датафрейма \"temp_new\": (2470, 3)\n",
            "\n",
            "Первые 2 строки датафрейма \"temp_new\": \n",
            "   key  temperature_x  temperature_y\n",
            "0    1         1571.0         1613.0\n",
            "1    2         1581.0         1602.0\n",
            "\n",
            "Первые 7 строк датафрейма \"temp\": \n",
            "   key           meas_time  temperature\n",
            "0    1 2019-05-03 11:02:04       1571.0\n",
            "1    1 2019-05-03 11:07:18       1604.0\n",
            "2    1 2019-05-03 11:11:34       1618.0\n",
            "3    1 2019-05-03 11:18:04       1601.0\n",
            "4    1 2019-05-03 11:25:59       1606.0\n",
            "5    1 2019-05-03 11:30:38       1613.0\n",
            "6    2 2019-05-03 11:34:04       1581.0\n",
            "\n"
          ]
        }
      ],
      "source": [
        "#группируем по номеру партии и применяем к признаку время измерения функции минимум и максимум,\n",
        "#удаляем признак номера партии, т.к потом будет объединять с исходных датафреймом, что не повторять признак key\n",
        "df_gr = df_dict_f['temp'].copy().groupby('key')['meas_time'].agg(['min', 'max']).reset_index().drop('key', axis=1)\n",
        "\n",
        "#объединяем по метке дата/время, т.к дубликатов в этом признаке нет\n",
        "temp_x = pd.merge(df_dict_f['temp'], df_gr, left_on='meas_time', right_on='min')\n",
        "temp_y = pd.merge(df_dict_f['temp'], df_gr, left_on='meas_time', right_on='max')\n",
        "\n",
        "#объединяем в единый новый датафрейм, где temp_x - признак, а temp_y - целевой признак\n",
        "df_dict_f['temp_new'] = pd.merge(temp_x, temp_y, on='key')[['key','temperature_x', 'temperature_y']]\n",
        "\n",
        "print(f'Размер нового полученного датафрейма \"temp_new\": {df_dict_f[\"temp_new\"].shape}\\n')\n",
        "print(f'Первые 2 строки датафрейма \"temp_new\": \\n{df_dict_f[\"temp_new\"].head(2)}\\n')\n",
        "print(f'Первые 7 строк датафрейма \"temp\": \\n{df_dict_f[\"temp\"].head(7)}\\n')"
      ]
    },
    {
      "cell_type": "markdown",
      "id": "14fa1ff5",
      "metadata": {
        "id": "14fa1ff5"
      },
      "source": [
        "**По первой партии можно видеть, что агрегация данных выполнена корректно.**\n",
        "\n",
        "**В созданном новом датафрейме 'temp_new': temperature_x - признак, temperature_y - целевой признак.**\n",
        "\n",
        "**Объединим теперь все новые датафреймы в единый общий, объединение будем делать по номеру партии - признак key.**"
      ]
    },
    {
      "cell_type": "markdown",
      "id": "5ed2c08e",
      "metadata": {
        "id": "5ed2c08e"
      },
      "source": [
        "### 3.7 Создание новых агрегированных датафреймов и их анализ"
      ]
    },
    {
      "cell_type": "code",
      "execution_count": null,
      "id": "5927abaa",
      "metadata": {
        "id": "5927abaa",
        "outputId": "3d1e5cde-33f0-4448-a50c-161b2c33a98a"
      },
      "outputs": [
        {
          "name": "stdout",
          "output_type": "stream",
          "text": [
            "Размер итогового датафрейма \"df\": (2324, 20)\n",
            "Информация об итоговом датафрейме \"df\", который будем использовать для моделирования: \n",
            "\n",
            "<class 'pandas.core.frame.DataFrame'>\n",
            "Int64Index: 2324 entries, 0 to 2323\n",
            "Data columns (total 20 columns):\n",
            " #   Column          Non-Null Count  Dtype  \n",
            "---  ------          --------------  -----  \n",
            " 0   bulk1           2324 non-null   float64\n",
            " 1   bulk3           2324 non-null   float64\n",
            " 2   bulk4           2324 non-null   float64\n",
            " 3   bulk5           2324 non-null   float64\n",
            " 4   bulk6           2324 non-null   float64\n",
            " 5   bulk10          2324 non-null   float64\n",
            " 6   bulk11          2324 non-null   float64\n",
            " 7   bulk12          2324 non-null   float64\n",
            " 8   bulk14          2324 non-null   float64\n",
            " 9   bulk15          2324 non-null   float64\n",
            " 10  gas1            2324 non-null   float64\n",
            " 11  wire1           2324 non-null   float64\n",
            " 12  wire2           2324 non-null   float64\n",
            " 13  wire3           2324 non-null   float64\n",
            " 14  wire6           2324 non-null   float64\n",
            " 15  active_power    2324 non-null   float64\n",
            " 16  reactive_power  2324 non-null   float64\n",
            " 17  active_energy   2324 non-null   float64\n",
            " 18  temperature_x   2324 non-null   float64\n",
            " 19  temperature_y   2324 non-null   float64\n",
            "dtypes: float64(20)\n",
            "memory usage: 381.3 KB\n"
          ]
        }
      ],
      "source": [
        "#создадим теперь список с именами датафреймов, которые будем далее объединять\n",
        "list_keys = [x for x in list(df_dict_f) if x not in ['arc', 'temp', 'bulk']]\n",
        "\n",
        "#создаем новый датафрейм, с которым далее будем объединять все остальные\n",
        "df = df_dict_f['bulk']\n",
        "\n",
        "for key in list_keys:\n",
        "    df = df.merge(df_dict_f[key], on='key')\n",
        "\n",
        "#из итогового датафрейма удаляем номер партии, т.к теперь он бесполезен и нужен был лишь для формирования итогового дф\n",
        "df = df.drop('key', axis=1)\n",
        "\n",
        "print(f'Размер итогового датафрейма \"df\": {df.shape}')\n",
        "print(f'Информация об итоговом датафрейме \"df\", который будем использовать для моделирования: \\n')\n",
        "df.info()"
      ]
    },
    {
      "cell_type": "code",
      "execution_count": null,
      "id": "59876898",
      "metadata": {
        "id": "59876898",
        "outputId": "b1157654-1f21-4d61-9783-6712c736f53e"
      },
      "outputs": [
        {
          "name": "stdout",
          "output_type": "stream",
          "text": [
            "Выведем описательные статистики для объединенного датафрейма:\n"
          ]
        },
        {
          "data": {
            "text/html": [
              "<div>\n",
              "<style scoped>\n",
              "    .dataframe tbody tr th:only-of-type {\n",
              "        vertical-align: middle;\n",
              "    }\n",
              "\n",
              "    .dataframe tbody tr th {\n",
              "        vertical-align: top;\n",
              "    }\n",
              "\n",
              "    .dataframe thead th {\n",
              "        text-align: right;\n",
              "    }\n",
              "</style>\n",
              "<table border=\"1\" class=\"dataframe\">\n",
              "  <thead>\n",
              "    <tr style=\"text-align: right;\">\n",
              "      <th></th>\n",
              "      <th>bulk1</th>\n",
              "      <th>bulk3</th>\n",
              "      <th>bulk4</th>\n",
              "      <th>bulk5</th>\n",
              "      <th>bulk6</th>\n",
              "      <th>bulk10</th>\n",
              "      <th>bulk11</th>\n",
              "      <th>bulk12</th>\n",
              "      <th>bulk14</th>\n",
              "      <th>bulk15</th>\n",
              "      <th>gas1</th>\n",
              "      <th>wire1</th>\n",
              "      <th>wire2</th>\n",
              "      <th>wire3</th>\n",
              "      <th>wire6</th>\n",
              "      <th>active_power</th>\n",
              "      <th>reactive_power</th>\n",
              "      <th>active_energy</th>\n",
              "      <th>temperature_x</th>\n",
              "      <th>temperature_y</th>\n",
              "    </tr>\n",
              "  </thead>\n",
              "  <tbody>\n",
              "    <tr>\n",
              "      <th>count</th>\n",
              "      <td>2324.000000</td>\n",
              "      <td>2324.000000</td>\n",
              "      <td>2324.000000</td>\n",
              "      <td>2324.000000</td>\n",
              "      <td>2324.000000</td>\n",
              "      <td>2324.000000</td>\n",
              "      <td>2324.000000</td>\n",
              "      <td>2324.000000</td>\n",
              "      <td>2324.000000</td>\n",
              "      <td>2324.000000</td>\n",
              "      <td>2324.000000</td>\n",
              "      <td>2324.000000</td>\n",
              "      <td>2324.000000</td>\n",
              "      <td>2324.000000</td>\n",
              "      <td>2324.000000</td>\n",
              "      <td>2324.000000</td>\n",
              "      <td>2324.000000</td>\n",
              "      <td>2324.000000</td>\n",
              "      <td>2324.000000</td>\n",
              "      <td>2324.000000</td>\n",
              "    </tr>\n",
              "    <tr>\n",
              "      <th>mean</th>\n",
              "      <td>3.435026</td>\n",
              "      <td>47.317126</td>\n",
              "      <td>37.347676</td>\n",
              "      <td>2.645869</td>\n",
              "      <td>22.419535</td>\n",
              "      <td>5.063683</td>\n",
              "      <td>4.254303</td>\n",
              "      <td>208.597676</td>\n",
              "      <td>153.952668</td>\n",
              "      <td>120.078313</td>\n",
              "      <td>11.378854</td>\n",
              "      <td>102.423900</td>\n",
              "      <td>17.613213</td>\n",
              "      <td>3.241876</td>\n",
              "      <td>0.980926</td>\n",
              "      <td>3.126327</td>\n",
              "      <td>2.301280</td>\n",
              "      <td>539.381127</td>\n",
              "      <td>1587.368761</td>\n",
              "      <td>1593.372633</td>\n",
              "    </tr>\n",
              "    <tr>\n",
              "      <th>std</th>\n",
              "      <td>12.424463</td>\n",
              "      <td>75.238050</td>\n",
              "      <td>58.677890</td>\n",
              "      <td>22.426054</td>\n",
              "      <td>55.792509</td>\n",
              "      <td>20.938984</td>\n",
              "      <td>22.538843</td>\n",
              "      <td>157.112117</td>\n",
              "      <td>81.410544</td>\n",
              "      <td>84.655967</td>\n",
              "      <td>6.397008</td>\n",
              "      <td>43.540975</td>\n",
              "      <td>33.648176</td>\n",
              "      <td>27.972523</td>\n",
              "      <td>8.702531</td>\n",
              "      <td>1.220484</td>\n",
              "      <td>0.903711</td>\n",
              "      <td>257.301093</td>\n",
              "      <td>23.627590</td>\n",
              "      <td>11.207457</td>\n",
              "    </tr>\n",
              "    <tr>\n",
              "      <th>min</th>\n",
              "      <td>0.000000</td>\n",
              "      <td>0.000000</td>\n",
              "      <td>0.000000</td>\n",
              "      <td>0.000000</td>\n",
              "      <td>0.000000</td>\n",
              "      <td>0.000000</td>\n",
              "      <td>0.000000</td>\n",
              "      <td>0.000000</td>\n",
              "      <td>0.000000</td>\n",
              "      <td>0.000000</td>\n",
              "      <td>0.008399</td>\n",
              "      <td>0.000000</td>\n",
              "      <td>0.000000</td>\n",
              "      <td>0.000000</td>\n",
              "      <td>0.000000</td>\n",
              "      <td>0.267676</td>\n",
              "      <td>0.196228</td>\n",
              "      <td>26.187544</td>\n",
              "      <td>1519.000000</td>\n",
              "      <td>1541.000000</td>\n",
              "    </tr>\n",
              "    <tr>\n",
              "      <th>25%</th>\n",
              "      <td>0.000000</td>\n",
              "      <td>0.000000</td>\n",
              "      <td>0.000000</td>\n",
              "      <td>0.000000</td>\n",
              "      <td>0.000000</td>\n",
              "      <td>0.000000</td>\n",
              "      <td>0.000000</td>\n",
              "      <td>105.000000</td>\n",
              "      <td>105.000000</td>\n",
              "      <td>0.000000</td>\n",
              "      <td>7.282534</td>\n",
              "      <td>73.204559</td>\n",
              "      <td>0.000000</td>\n",
              "      <td>0.000000</td>\n",
              "      <td>0.000000</td>\n",
              "      <td>2.295960</td>\n",
              "      <td>1.671099</td>\n",
              "      <td>368.304687</td>\n",
              "      <td>1571.000000</td>\n",
              "      <td>1587.000000</td>\n",
              "    </tr>\n",
              "    <tr>\n",
              "      <th>50%</th>\n",
              "      <td>0.000000</td>\n",
              "      <td>0.000000</td>\n",
              "      <td>0.000000</td>\n",
              "      <td>0.000000</td>\n",
              "      <td>0.000000</td>\n",
              "      <td>0.000000</td>\n",
              "      <td>0.000000</td>\n",
              "      <td>206.000000</td>\n",
              "      <td>149.000000</td>\n",
              "      <td>107.000000</td>\n",
              "      <td>10.100687</td>\n",
              "      <td>101.103600</td>\n",
              "      <td>0.000000</td>\n",
              "      <td>0.000000</td>\n",
              "      <td>0.000000</td>\n",
              "      <td>3.036516</td>\n",
              "      <td>2.225900</td>\n",
              "      <td>508.538758</td>\n",
              "      <td>1587.000000</td>\n",
              "      <td>1593.000000</td>\n",
              "    </tr>\n",
              "    <tr>\n",
              "      <th>75%</th>\n",
              "      <td>0.000000</td>\n",
              "      <td>80.000000</td>\n",
              "      <td>77.250000</td>\n",
              "      <td>0.000000</td>\n",
              "      <td>0.000000</td>\n",
              "      <td>0.000000</td>\n",
              "      <td>0.000000</td>\n",
              "      <td>283.000000</td>\n",
              "      <td>204.000000</td>\n",
              "      <td>204.000000</td>\n",
              "      <td>14.218487</td>\n",
              "      <td>128.075222</td>\n",
              "      <td>23.102560</td>\n",
              "      <td>0.000000</td>\n",
              "      <td>0.000000</td>\n",
              "      <td>3.834302</td>\n",
              "      <td>2.829180</td>\n",
              "      <td>679.198658</td>\n",
              "      <td>1603.000000</td>\n",
              "      <td>1598.000000</td>\n",
              "    </tr>\n",
              "    <tr>\n",
              "      <th>max</th>\n",
              "      <td>185.000000</td>\n",
              "      <td>454.000000</td>\n",
              "      <td>281.000000</td>\n",
              "      <td>603.000000</td>\n",
              "      <td>503.000000</td>\n",
              "      <td>159.000000</td>\n",
              "      <td>313.000000</td>\n",
              "      <td>1849.000000</td>\n",
              "      <td>636.000000</td>\n",
              "      <td>405.000000</td>\n",
              "      <td>77.995040</td>\n",
              "      <td>330.314424</td>\n",
              "      <td>282.780152</td>\n",
              "      <td>385.008668</td>\n",
              "      <td>180.454575</td>\n",
              "      <td>12.375636</td>\n",
              "      <td>8.949049</td>\n",
              "      <td>3718.054401</td>\n",
              "      <td>1660.000000</td>\n",
              "      <td>1653.000000</td>\n",
              "    </tr>\n",
              "  </tbody>\n",
              "</table>\n",
              "</div>"
            ],
            "text/plain": [
              "             bulk1        bulk3        bulk4        bulk5        bulk6  \\\n",
              "count  2324.000000  2324.000000  2324.000000  2324.000000  2324.000000   \n",
              "mean      3.435026    47.317126    37.347676     2.645869    22.419535   \n",
              "std      12.424463    75.238050    58.677890    22.426054    55.792509   \n",
              "min       0.000000     0.000000     0.000000     0.000000     0.000000   \n",
              "25%       0.000000     0.000000     0.000000     0.000000     0.000000   \n",
              "50%       0.000000     0.000000     0.000000     0.000000     0.000000   \n",
              "75%       0.000000    80.000000    77.250000     0.000000     0.000000   \n",
              "max     185.000000   454.000000   281.000000   603.000000   503.000000   \n",
              "\n",
              "            bulk10       bulk11       bulk12       bulk14       bulk15  \\\n",
              "count  2324.000000  2324.000000  2324.000000  2324.000000  2324.000000   \n",
              "mean      5.063683     4.254303   208.597676   153.952668   120.078313   \n",
              "std      20.938984    22.538843   157.112117    81.410544    84.655967   \n",
              "min       0.000000     0.000000     0.000000     0.000000     0.000000   \n",
              "25%       0.000000     0.000000   105.000000   105.000000     0.000000   \n",
              "50%       0.000000     0.000000   206.000000   149.000000   107.000000   \n",
              "75%       0.000000     0.000000   283.000000   204.000000   204.000000   \n",
              "max     159.000000   313.000000  1849.000000   636.000000   405.000000   \n",
              "\n",
              "              gas1        wire1        wire2        wire3        wire6  \\\n",
              "count  2324.000000  2324.000000  2324.000000  2324.000000  2324.000000   \n",
              "mean     11.378854   102.423900    17.613213     3.241876     0.980926   \n",
              "std       6.397008    43.540975    33.648176    27.972523     8.702531   \n",
              "min       0.008399     0.000000     0.000000     0.000000     0.000000   \n",
              "25%       7.282534    73.204559     0.000000     0.000000     0.000000   \n",
              "50%      10.100687   101.103600     0.000000     0.000000     0.000000   \n",
              "75%      14.218487   128.075222    23.102560     0.000000     0.000000   \n",
              "max      77.995040   330.314424   282.780152   385.008668   180.454575   \n",
              "\n",
              "       active_power  reactive_power  active_energy  temperature_x  \\\n",
              "count   2324.000000     2324.000000    2324.000000    2324.000000   \n",
              "mean       3.126327        2.301280     539.381127    1587.368761   \n",
              "std        1.220484        0.903711     257.301093      23.627590   \n",
              "min        0.267676        0.196228      26.187544    1519.000000   \n",
              "25%        2.295960        1.671099     368.304687    1571.000000   \n",
              "50%        3.036516        2.225900     508.538758    1587.000000   \n",
              "75%        3.834302        2.829180     679.198658    1603.000000   \n",
              "max       12.375636        8.949049    3718.054401    1660.000000   \n",
              "\n",
              "       temperature_y  \n",
              "count    2324.000000  \n",
              "mean     1593.372633  \n",
              "std        11.207457  \n",
              "min      1541.000000  \n",
              "25%      1587.000000  \n",
              "50%      1593.000000  \n",
              "75%      1598.000000  \n",
              "max      1653.000000  "
            ]
          },
          "execution_count": 54,
          "metadata": {},
          "output_type": "execute_result"
        }
      ],
      "source": [
        "print('Выведем описательные статистики для объединенного датафрейма:')\n",
        "df.describe()"
      ]
    },
    {
      "cell_type": "code",
      "execution_count": null,
      "id": "f73d575d",
      "metadata": {
        "id": "f73d575d",
        "outputId": "600cc94a-999a-442e-e713-74f984c743c3"
      },
      "outputs": [
        {
          "name": "stdout",
          "output_type": "stream",
          "text": [
            "Первые строки объединенного датафрейма \"df\": \n",
            "   bulk1  bulk3  bulk4  bulk5  bulk6  bulk10  bulk11  bulk12  bulk14  bulk15  \\\n",
            "0    0.0    0.0   43.0    0.0    0.0     0.0     0.0   206.0   150.0   154.0   \n",
            "1    0.0    0.0   73.0    0.0    0.0     0.0     0.0   206.0   149.0   154.0   \n",
            "2    0.0    0.0   34.0    0.0    0.0     0.0     0.0   205.0   152.0   153.0   \n",
            "3    0.0    0.0   81.0    0.0    0.0     0.0     0.0   207.0   153.0   154.0   \n",
            "4    0.0    0.0   78.0    0.0    0.0     0.0     0.0   203.0   151.0   152.0   \n",
            "\n",
            "        gas1      wire1    wire2  wire3  wire6  active_power  reactive_power  \\\n",
            "0  29.749986  60.059998  0.00000    0.0    0.0      3.036730        2.142821   \n",
            "1  12.555561  96.052315  0.00000    0.0    0.0      2.139408        1.453357   \n",
            "2  28.554793  91.160157  0.00000    0.0    0.0      4.063641        2.937457   \n",
            "3  18.841219  89.063515  0.00000    0.0    0.0      2.706489        2.056992   \n",
            "4   5.413692  89.238236  9.11456    0.0    0.0      2.252950        1.687991   \n",
            "\n",
            "   active_energy  temperature_x  temperature_y  \n",
            "0     628.616930         1571.0         1613.0  \n",
            "1     395.281800         1581.0         1602.0  \n",
            "2     581.774624         1596.0         1599.0  \n",
            "3     543.710274         1601.0         1625.0  \n",
            "4     412.180480         1576.0         1602.0  \n"
          ]
        }
      ],
      "source": [
        "print(f'Первые строки объединенного датафрейма \"df\": \\n{df.head()}')"
      ]
    },
    {
      "cell_type": "markdown",
      "id": "62f70e08",
      "metadata": {
        "id": "62f70e08"
      },
      "source": [
        "**Пропусков в данных нет, все данные выглядят корректно.**\n",
        "\n",
        "**В итоге получили 19 признаков и 1 целевой признак.**\n",
        "\n",
        "**Кол-во объектов для моделирования = 2324, что совсем немного, на фоне небольшого количества объектов может быть получен не очень хороший результат предсказаний, проверим далее.**\n",
        "\n",
        "**Значения признаков очень сильно отличаются друг от друга, для получения хорошего результата при использовании линейной регрессии необходимо будет масштабировать данные признаки.**\n",
        "\n",
        "**Выведем данные о корреляции признаков в итоговом датафрейме.**"
      ]
    },
    {
      "cell_type": "code",
      "execution_count": null,
      "id": "b35bc26f",
      "metadata": {
        "id": "b35bc26f",
        "outputId": "bae3ebdd-0037-4b13-d7a9-03988e6e2a8d"
      },
      "outputs": [
        {
          "data": {
            "text/html": [
              "<div>\n",
              "<style scoped>\n",
              "    .dataframe tbody tr th:only-of-type {\n",
              "        vertical-align: middle;\n",
              "    }\n",
              "\n",
              "    .dataframe tbody tr th {\n",
              "        vertical-align: top;\n",
              "    }\n",
              "\n",
              "    .dataframe thead th {\n",
              "        text-align: right;\n",
              "    }\n",
              "</style>\n",
              "<table border=\"1\" class=\"dataframe\">\n",
              "  <thead>\n",
              "    <tr style=\"text-align: right;\">\n",
              "      <th></th>\n",
              "      <th>bulk1</th>\n",
              "      <th>bulk3</th>\n",
              "      <th>bulk4</th>\n",
              "      <th>bulk5</th>\n",
              "      <th>bulk6</th>\n",
              "      <th>bulk10</th>\n",
              "      <th>bulk11</th>\n",
              "      <th>bulk12</th>\n",
              "      <th>bulk14</th>\n",
              "      <th>bulk15</th>\n",
              "      <th>gas1</th>\n",
              "      <th>wire1</th>\n",
              "      <th>wire2</th>\n",
              "      <th>wire3</th>\n",
              "      <th>wire6</th>\n",
              "      <th>active_power</th>\n",
              "      <th>reactive_power</th>\n",
              "      <th>active_energy</th>\n",
              "      <th>temperature_x</th>\n",
              "      <th>temperature_y</th>\n",
              "    </tr>\n",
              "  </thead>\n",
              "  <tbody>\n",
              "    <tr>\n",
              "      <th>bulk1</th>\n",
              "      <td>1.000000</td>\n",
              "      <td>-0.011538</td>\n",
              "      <td>0.041662</td>\n",
              "      <td>0.060365</td>\n",
              "      <td>-0.003581</td>\n",
              "      <td>-0.023333</td>\n",
              "      <td>-0.038008</td>\n",
              "      <td>0.325724</td>\n",
              "      <td>0.207606</td>\n",
              "      <td>-0.001211</td>\n",
              "      <td>0.234089</td>\n",
              "      <td>0.013823</td>\n",
              "      <td>-0.009261</td>\n",
              "      <td>0.020204</td>\n",
              "      <td>0.148509</td>\n",
              "      <td>0.099145</td>\n",
              "      <td>0.095677</td>\n",
              "      <td>0.095641</td>\n",
              "      <td>0.079098</td>\n",
              "      <td>-0.075428</td>\n",
              "    </tr>\n",
              "    <tr>\n",
              "      <th>bulk3</th>\n",
              "      <td>-0.011538</td>\n",
              "      <td>1.000000</td>\n",
              "      <td>-0.295526</td>\n",
              "      <td>-0.006766</td>\n",
              "      <td>0.066316</td>\n",
              "      <td>-0.085266</td>\n",
              "      <td>-0.007383</td>\n",
              "      <td>0.018059</td>\n",
              "      <td>0.011209</td>\n",
              "      <td>-0.013181</td>\n",
              "      <td>0.059665</td>\n",
              "      <td>0.037788</td>\n",
              "      <td>0.094897</td>\n",
              "      <td>0.005840</td>\n",
              "      <td>0.007174</td>\n",
              "      <td>0.101267</td>\n",
              "      <td>0.099018</td>\n",
              "      <td>0.088805</td>\n",
              "      <td>-0.113380</td>\n",
              "      <td>-0.037156</td>\n",
              "    </tr>\n",
              "    <tr>\n",
              "      <th>bulk4</th>\n",
              "      <td>0.041662</td>\n",
              "      <td>-0.295526</td>\n",
              "      <td>1.000000</td>\n",
              "      <td>0.028273</td>\n",
              "      <td>-0.251577</td>\n",
              "      <td>-0.084975</td>\n",
              "      <td>-0.119733</td>\n",
              "      <td>0.105190</td>\n",
              "      <td>-0.091103</td>\n",
              "      <td>0.100833</td>\n",
              "      <td>0.017532</td>\n",
              "      <td>0.298145</td>\n",
              "      <td>-0.268115</td>\n",
              "      <td>-0.039326</td>\n",
              "      <td>-0.011507</td>\n",
              "      <td>0.005013</td>\n",
              "      <td>0.004137</td>\n",
              "      <td>-0.020899</td>\n",
              "      <td>0.165484</td>\n",
              "      <td>0.187817</td>\n",
              "    </tr>\n",
              "    <tr>\n",
              "      <th>bulk5</th>\n",
              "      <td>0.060365</td>\n",
              "      <td>-0.006766</td>\n",
              "      <td>0.028273</td>\n",
              "      <td>1.000000</td>\n",
              "      <td>-0.021853</td>\n",
              "      <td>-0.028544</td>\n",
              "      <td>-0.015888</td>\n",
              "      <td>-0.072951</td>\n",
              "      <td>-0.066101</td>\n",
              "      <td>-0.067426</td>\n",
              "      <td>0.086869</td>\n",
              "      <td>-0.013454</td>\n",
              "      <td>-0.013811</td>\n",
              "      <td>0.070889</td>\n",
              "      <td>0.204796</td>\n",
              "      <td>0.073228</td>\n",
              "      <td>0.072459</td>\n",
              "      <td>0.019551</td>\n",
              "      <td>0.078729</td>\n",
              "      <td>-0.028446</td>\n",
              "    </tr>\n",
              "    <tr>\n",
              "      <th>bulk6</th>\n",
              "      <td>-0.003581</td>\n",
              "      <td>0.066316</td>\n",
              "      <td>-0.251577</td>\n",
              "      <td>-0.021853</td>\n",
              "      <td>1.000000</td>\n",
              "      <td>-0.097218</td>\n",
              "      <td>0.196983</td>\n",
              "      <td>-0.112169</td>\n",
              "      <td>0.176791</td>\n",
              "      <td>-0.108626</td>\n",
              "      <td>0.139574</td>\n",
              "      <td>-0.235445</td>\n",
              "      <td>0.205432</td>\n",
              "      <td>-0.046545</td>\n",
              "      <td>-0.020223</td>\n",
              "      <td>0.133855</td>\n",
              "      <td>0.133025</td>\n",
              "      <td>0.148159</td>\n",
              "      <td>-0.127046</td>\n",
              "      <td>-0.180906</td>\n",
              "    </tr>\n",
              "    <tr>\n",
              "      <th>bulk10</th>\n",
              "      <td>-0.023333</td>\n",
              "      <td>-0.085266</td>\n",
              "      <td>-0.084975</td>\n",
              "      <td>-0.028544</td>\n",
              "      <td>-0.097218</td>\n",
              "      <td>1.000000</td>\n",
              "      <td>-0.045666</td>\n",
              "      <td>0.027651</td>\n",
              "      <td>-0.045880</td>\n",
              "      <td>0.051953</td>\n",
              "      <td>-0.008634</td>\n",
              "      <td>0.062892</td>\n",
              "      <td>-0.103828</td>\n",
              "      <td>-0.028039</td>\n",
              "      <td>-0.017860</td>\n",
              "      <td>0.010281</td>\n",
              "      <td>0.008439</td>\n",
              "      <td>-0.007075</td>\n",
              "      <td>0.035789</td>\n",
              "      <td>0.061227</td>\n",
              "    </tr>\n",
              "    <tr>\n",
              "      <th>bulk11</th>\n",
              "      <td>-0.038008</td>\n",
              "      <td>-0.007383</td>\n",
              "      <td>-0.119733</td>\n",
              "      <td>-0.015888</td>\n",
              "      <td>0.196983</td>\n",
              "      <td>-0.045666</td>\n",
              "      <td>1.000000</td>\n",
              "      <td>-0.040419</td>\n",
              "      <td>0.077966</td>\n",
              "      <td>-0.048571</td>\n",
              "      <td>0.041945</td>\n",
              "      <td>-0.117798</td>\n",
              "      <td>0.062074</td>\n",
              "      <td>-0.021878</td>\n",
              "      <td>0.008655</td>\n",
              "      <td>0.065809</td>\n",
              "      <td>0.064032</td>\n",
              "      <td>0.068808</td>\n",
              "      <td>-0.110430</td>\n",
              "      <td>-0.114936</td>\n",
              "    </tr>\n",
              "    <tr>\n",
              "      <th>bulk12</th>\n",
              "      <td>0.325724</td>\n",
              "      <td>0.018059</td>\n",
              "      <td>0.105190</td>\n",
              "      <td>-0.072951</td>\n",
              "      <td>-0.112169</td>\n",
              "      <td>0.027651</td>\n",
              "      <td>-0.040419</td>\n",
              "      <td>1.000000</td>\n",
              "      <td>0.481609</td>\n",
              "      <td>0.613870</td>\n",
              "      <td>0.216969</td>\n",
              "      <td>0.170812</td>\n",
              "      <td>-0.098208</td>\n",
              "      <td>-0.120697</td>\n",
              "      <td>-0.042895</td>\n",
              "      <td>0.285153</td>\n",
              "      <td>0.284874</td>\n",
              "      <td>0.421033</td>\n",
              "      <td>-0.079574</td>\n",
              "      <td>0.266805</td>\n",
              "    </tr>\n",
              "    <tr>\n",
              "      <th>bulk14</th>\n",
              "      <td>0.207606</td>\n",
              "      <td>0.011209</td>\n",
              "      <td>-0.091103</td>\n",
              "      <td>-0.066101</td>\n",
              "      <td>0.176791</td>\n",
              "      <td>-0.045880</td>\n",
              "      <td>0.077966</td>\n",
              "      <td>0.481609</td>\n",
              "      <td>1.000000</td>\n",
              "      <td>0.264903</td>\n",
              "      <td>0.268284</td>\n",
              "      <td>-0.052654</td>\n",
              "      <td>0.037017</td>\n",
              "      <td>-0.009010</td>\n",
              "      <td>-0.052578</td>\n",
              "      <td>0.299659</td>\n",
              "      <td>0.295609</td>\n",
              "      <td>0.406902</td>\n",
              "      <td>-0.179991</td>\n",
              "      <td>0.114893</td>\n",
              "    </tr>\n",
              "    <tr>\n",
              "      <th>bulk15</th>\n",
              "      <td>-0.001211</td>\n",
              "      <td>-0.013181</td>\n",
              "      <td>0.100833</td>\n",
              "      <td>-0.067426</td>\n",
              "      <td>-0.108626</td>\n",
              "      <td>0.051953</td>\n",
              "      <td>-0.048571</td>\n",
              "      <td>0.613870</td>\n",
              "      <td>0.264903</td>\n",
              "      <td>1.000000</td>\n",
              "      <td>0.043033</td>\n",
              "      <td>0.119047</td>\n",
              "      <td>-0.096411</td>\n",
              "      <td>-0.118355</td>\n",
              "      <td>-0.032618</td>\n",
              "      <td>0.168583</td>\n",
              "      <td>0.166967</td>\n",
              "      <td>0.272895</td>\n",
              "      <td>-0.062382</td>\n",
              "      <td>0.265772</td>\n",
              "    </tr>\n",
              "    <tr>\n",
              "      <th>gas1</th>\n",
              "      <td>0.234089</td>\n",
              "      <td>0.059665</td>\n",
              "      <td>0.017532</td>\n",
              "      <td>0.086869</td>\n",
              "      <td>0.139574</td>\n",
              "      <td>-0.008634</td>\n",
              "      <td>0.041945</td>\n",
              "      <td>0.216969</td>\n",
              "      <td>0.268284</td>\n",
              "      <td>0.043033</td>\n",
              "      <td>1.000000</td>\n",
              "      <td>0.118192</td>\n",
              "      <td>0.104653</td>\n",
              "      <td>0.103356</td>\n",
              "      <td>0.108065</td>\n",
              "      <td>0.370896</td>\n",
              "      <td>0.367861</td>\n",
              "      <td>0.354474</td>\n",
              "      <td>0.036736</td>\n",
              "      <td>0.059079</td>\n",
              "    </tr>\n",
              "    <tr>\n",
              "      <th>wire1</th>\n",
              "      <td>0.013823</td>\n",
              "      <td>0.037788</td>\n",
              "      <td>0.298145</td>\n",
              "      <td>-0.013454</td>\n",
              "      <td>-0.235445</td>\n",
              "      <td>0.062892</td>\n",
              "      <td>-0.117798</td>\n",
              "      <td>0.170812</td>\n",
              "      <td>-0.052654</td>\n",
              "      <td>0.119047</td>\n",
              "      <td>0.118192</td>\n",
              "      <td>1.000000</td>\n",
              "      <td>-0.069439</td>\n",
              "      <td>0.038168</td>\n",
              "      <td>-0.128122</td>\n",
              "      <td>0.137720</td>\n",
              "      <td>0.138146</td>\n",
              "      <td>0.060778</td>\n",
              "      <td>0.262880</td>\n",
              "      <td>0.317488</td>\n",
              "    </tr>\n",
              "    <tr>\n",
              "      <th>wire2</th>\n",
              "      <td>-0.009261</td>\n",
              "      <td>0.094897</td>\n",
              "      <td>-0.268115</td>\n",
              "      <td>-0.013811</td>\n",
              "      <td>0.205432</td>\n",
              "      <td>-0.103828</td>\n",
              "      <td>0.062074</td>\n",
              "      <td>-0.098208</td>\n",
              "      <td>0.037017</td>\n",
              "      <td>-0.096411</td>\n",
              "      <td>0.104653</td>\n",
              "      <td>-0.069439</td>\n",
              "      <td>1.000000</td>\n",
              "      <td>0.094098</td>\n",
              "      <td>-0.058735</td>\n",
              "      <td>0.062416</td>\n",
              "      <td>0.061840</td>\n",
              "      <td>0.046604</td>\n",
              "      <td>-0.101101</td>\n",
              "      <td>-0.207242</td>\n",
              "    </tr>\n",
              "    <tr>\n",
              "      <th>wire3</th>\n",
              "      <td>0.020204</td>\n",
              "      <td>0.005840</td>\n",
              "      <td>-0.039326</td>\n",
              "      <td>0.070889</td>\n",
              "      <td>-0.046545</td>\n",
              "      <td>-0.028039</td>\n",
              "      <td>-0.021878</td>\n",
              "      <td>-0.120697</td>\n",
              "      <td>-0.009010</td>\n",
              "      <td>-0.118355</td>\n",
              "      <td>0.103356</td>\n",
              "      <td>0.038168</td>\n",
              "      <td>0.094098</td>\n",
              "      <td>1.000000</td>\n",
              "      <td>0.183433</td>\n",
              "      <td>0.054705</td>\n",
              "      <td>0.055582</td>\n",
              "      <td>0.035806</td>\n",
              "      <td>-0.003403</td>\n",
              "      <td>-0.047636</td>\n",
              "    </tr>\n",
              "    <tr>\n",
              "      <th>wire6</th>\n",
              "      <td>0.148509</td>\n",
              "      <td>0.007174</td>\n",
              "      <td>-0.011507</td>\n",
              "      <td>0.204796</td>\n",
              "      <td>-0.020223</td>\n",
              "      <td>-0.017860</td>\n",
              "      <td>0.008655</td>\n",
              "      <td>-0.042895</td>\n",
              "      <td>-0.052578</td>\n",
              "      <td>-0.032618</td>\n",
              "      <td>0.108065</td>\n",
              "      <td>-0.128122</td>\n",
              "      <td>-0.058735</td>\n",
              "      <td>0.183433</td>\n",
              "      <td>1.000000</td>\n",
              "      <td>0.056197</td>\n",
              "      <td>0.054069</td>\n",
              "      <td>0.047749</td>\n",
              "      <td>0.020733</td>\n",
              "      <td>-0.084149</td>\n",
              "    </tr>\n",
              "    <tr>\n",
              "      <th>active_power</th>\n",
              "      <td>0.099145</td>\n",
              "      <td>0.101267</td>\n",
              "      <td>0.005013</td>\n",
              "      <td>0.073228</td>\n",
              "      <td>0.133855</td>\n",
              "      <td>0.010281</td>\n",
              "      <td>0.065809</td>\n",
              "      <td>0.285153</td>\n",
              "      <td>0.299659</td>\n",
              "      <td>0.168583</td>\n",
              "      <td>0.370896</td>\n",
              "      <td>0.137720</td>\n",
              "      <td>0.062416</td>\n",
              "      <td>0.054705</td>\n",
              "      <td>0.056197</td>\n",
              "      <td>1.000000</td>\n",
              "      <td>0.992416</td>\n",
              "      <td>0.818748</td>\n",
              "      <td>-0.153318</td>\n",
              "      <td>0.176486</td>\n",
              "    </tr>\n",
              "    <tr>\n",
              "      <th>reactive_power</th>\n",
              "      <td>0.095677</td>\n",
              "      <td>0.099018</td>\n",
              "      <td>0.004137</td>\n",
              "      <td>0.072459</td>\n",
              "      <td>0.133025</td>\n",
              "      <td>0.008439</td>\n",
              "      <td>0.064032</td>\n",
              "      <td>0.284874</td>\n",
              "      <td>0.295609</td>\n",
              "      <td>0.166967</td>\n",
              "      <td>0.367861</td>\n",
              "      <td>0.138146</td>\n",
              "      <td>0.061840</td>\n",
              "      <td>0.055582</td>\n",
              "      <td>0.054069</td>\n",
              "      <td>0.992416</td>\n",
              "      <td>1.000000</td>\n",
              "      <td>0.811139</td>\n",
              "      <td>-0.151328</td>\n",
              "      <td>0.171078</td>\n",
              "    </tr>\n",
              "    <tr>\n",
              "      <th>active_energy</th>\n",
              "      <td>0.095641</td>\n",
              "      <td>0.088805</td>\n",
              "      <td>-0.020899</td>\n",
              "      <td>0.019551</td>\n",
              "      <td>0.148159</td>\n",
              "      <td>-0.007075</td>\n",
              "      <td>0.068808</td>\n",
              "      <td>0.421033</td>\n",
              "      <td>0.406902</td>\n",
              "      <td>0.272895</td>\n",
              "      <td>0.354474</td>\n",
              "      <td>0.060778</td>\n",
              "      <td>0.046604</td>\n",
              "      <td>0.035806</td>\n",
              "      <td>0.047749</td>\n",
              "      <td>0.818748</td>\n",
              "      <td>0.811139</td>\n",
              "      <td>1.000000</td>\n",
              "      <td>-0.345222</td>\n",
              "      <td>0.257862</td>\n",
              "    </tr>\n",
              "    <tr>\n",
              "      <th>temperature_x</th>\n",
              "      <td>0.079098</td>\n",
              "      <td>-0.113380</td>\n",
              "      <td>0.165484</td>\n",
              "      <td>0.078729</td>\n",
              "      <td>-0.127046</td>\n",
              "      <td>0.035789</td>\n",
              "      <td>-0.110430</td>\n",
              "      <td>-0.079574</td>\n",
              "      <td>-0.179991</td>\n",
              "      <td>-0.062382</td>\n",
              "      <td>0.036736</td>\n",
              "      <td>0.262880</td>\n",
              "      <td>-0.101101</td>\n",
              "      <td>-0.003403</td>\n",
              "      <td>0.020733</td>\n",
              "      <td>-0.153318</td>\n",
              "      <td>-0.151328</td>\n",
              "      <td>-0.345222</td>\n",
              "      <td>1.000000</td>\n",
              "      <td>0.301882</td>\n",
              "    </tr>\n",
              "    <tr>\n",
              "      <th>temperature_y</th>\n",
              "      <td>-0.075428</td>\n",
              "      <td>-0.037156</td>\n",
              "      <td>0.187817</td>\n",
              "      <td>-0.028446</td>\n",
              "      <td>-0.180906</td>\n",
              "      <td>0.061227</td>\n",
              "      <td>-0.114936</td>\n",
              "      <td>0.266805</td>\n",
              "      <td>0.114893</td>\n",
              "      <td>0.265772</td>\n",
              "      <td>0.059079</td>\n",
              "      <td>0.317488</td>\n",
              "      <td>-0.207242</td>\n",
              "      <td>-0.047636</td>\n",
              "      <td>-0.084149</td>\n",
              "      <td>0.176486</td>\n",
              "      <td>0.171078</td>\n",
              "      <td>0.257862</td>\n",
              "      <td>0.301882</td>\n",
              "      <td>1.000000</td>\n",
              "    </tr>\n",
              "  </tbody>\n",
              "</table>\n",
              "</div>"
            ],
            "text/plain": [
              "                   bulk1     bulk3     bulk4     bulk5     bulk6    bulk10  \\\n",
              "bulk1           1.000000 -0.011538  0.041662  0.060365 -0.003581 -0.023333   \n",
              "bulk3          -0.011538  1.000000 -0.295526 -0.006766  0.066316 -0.085266   \n",
              "bulk4           0.041662 -0.295526  1.000000  0.028273 -0.251577 -0.084975   \n",
              "bulk5           0.060365 -0.006766  0.028273  1.000000 -0.021853 -0.028544   \n",
              "bulk6          -0.003581  0.066316 -0.251577 -0.021853  1.000000 -0.097218   \n",
              "bulk10         -0.023333 -0.085266 -0.084975 -0.028544 -0.097218  1.000000   \n",
              "bulk11         -0.038008 -0.007383 -0.119733 -0.015888  0.196983 -0.045666   \n",
              "bulk12          0.325724  0.018059  0.105190 -0.072951 -0.112169  0.027651   \n",
              "bulk14          0.207606  0.011209 -0.091103 -0.066101  0.176791 -0.045880   \n",
              "bulk15         -0.001211 -0.013181  0.100833 -0.067426 -0.108626  0.051953   \n",
              "gas1            0.234089  0.059665  0.017532  0.086869  0.139574 -0.008634   \n",
              "wire1           0.013823  0.037788  0.298145 -0.013454 -0.235445  0.062892   \n",
              "wire2          -0.009261  0.094897 -0.268115 -0.013811  0.205432 -0.103828   \n",
              "wire3           0.020204  0.005840 -0.039326  0.070889 -0.046545 -0.028039   \n",
              "wire6           0.148509  0.007174 -0.011507  0.204796 -0.020223 -0.017860   \n",
              "active_power    0.099145  0.101267  0.005013  0.073228  0.133855  0.010281   \n",
              "reactive_power  0.095677  0.099018  0.004137  0.072459  0.133025  0.008439   \n",
              "active_energy   0.095641  0.088805 -0.020899  0.019551  0.148159 -0.007075   \n",
              "temperature_x   0.079098 -0.113380  0.165484  0.078729 -0.127046  0.035789   \n",
              "temperature_y  -0.075428 -0.037156  0.187817 -0.028446 -0.180906  0.061227   \n",
              "\n",
              "                  bulk11    bulk12    bulk14    bulk15      gas1     wire1  \\\n",
              "bulk1          -0.038008  0.325724  0.207606 -0.001211  0.234089  0.013823   \n",
              "bulk3          -0.007383  0.018059  0.011209 -0.013181  0.059665  0.037788   \n",
              "bulk4          -0.119733  0.105190 -0.091103  0.100833  0.017532  0.298145   \n",
              "bulk5          -0.015888 -0.072951 -0.066101 -0.067426  0.086869 -0.013454   \n",
              "bulk6           0.196983 -0.112169  0.176791 -0.108626  0.139574 -0.235445   \n",
              "bulk10         -0.045666  0.027651 -0.045880  0.051953 -0.008634  0.062892   \n",
              "bulk11          1.000000 -0.040419  0.077966 -0.048571  0.041945 -0.117798   \n",
              "bulk12         -0.040419  1.000000  0.481609  0.613870  0.216969  0.170812   \n",
              "bulk14          0.077966  0.481609  1.000000  0.264903  0.268284 -0.052654   \n",
              "bulk15         -0.048571  0.613870  0.264903  1.000000  0.043033  0.119047   \n",
              "gas1            0.041945  0.216969  0.268284  0.043033  1.000000  0.118192   \n",
              "wire1          -0.117798  0.170812 -0.052654  0.119047  0.118192  1.000000   \n",
              "wire2           0.062074 -0.098208  0.037017 -0.096411  0.104653 -0.069439   \n",
              "wire3          -0.021878 -0.120697 -0.009010 -0.118355  0.103356  0.038168   \n",
              "wire6           0.008655 -0.042895 -0.052578 -0.032618  0.108065 -0.128122   \n",
              "active_power    0.065809  0.285153  0.299659  0.168583  0.370896  0.137720   \n",
              "reactive_power  0.064032  0.284874  0.295609  0.166967  0.367861  0.138146   \n",
              "active_energy   0.068808  0.421033  0.406902  0.272895  0.354474  0.060778   \n",
              "temperature_x  -0.110430 -0.079574 -0.179991 -0.062382  0.036736  0.262880   \n",
              "temperature_y  -0.114936  0.266805  0.114893  0.265772  0.059079  0.317488   \n",
              "\n",
              "                   wire2     wire3     wire6  active_power  reactive_power  \\\n",
              "bulk1          -0.009261  0.020204  0.148509      0.099145        0.095677   \n",
              "bulk3           0.094897  0.005840  0.007174      0.101267        0.099018   \n",
              "bulk4          -0.268115 -0.039326 -0.011507      0.005013        0.004137   \n",
              "bulk5          -0.013811  0.070889  0.204796      0.073228        0.072459   \n",
              "bulk6           0.205432 -0.046545 -0.020223      0.133855        0.133025   \n",
              "bulk10         -0.103828 -0.028039 -0.017860      0.010281        0.008439   \n",
              "bulk11          0.062074 -0.021878  0.008655      0.065809        0.064032   \n",
              "bulk12         -0.098208 -0.120697 -0.042895      0.285153        0.284874   \n",
              "bulk14          0.037017 -0.009010 -0.052578      0.299659        0.295609   \n",
              "bulk15         -0.096411 -0.118355 -0.032618      0.168583        0.166967   \n",
              "gas1            0.104653  0.103356  0.108065      0.370896        0.367861   \n",
              "wire1          -0.069439  0.038168 -0.128122      0.137720        0.138146   \n",
              "wire2           1.000000  0.094098 -0.058735      0.062416        0.061840   \n",
              "wire3           0.094098  1.000000  0.183433      0.054705        0.055582   \n",
              "wire6          -0.058735  0.183433  1.000000      0.056197        0.054069   \n",
              "active_power    0.062416  0.054705  0.056197      1.000000        0.992416   \n",
              "reactive_power  0.061840  0.055582  0.054069      0.992416        1.000000   \n",
              "active_energy   0.046604  0.035806  0.047749      0.818748        0.811139   \n",
              "temperature_x  -0.101101 -0.003403  0.020733     -0.153318       -0.151328   \n",
              "temperature_y  -0.207242 -0.047636 -0.084149      0.176486        0.171078   \n",
              "\n",
              "                active_energy  temperature_x  temperature_y  \n",
              "bulk1                0.095641       0.079098      -0.075428  \n",
              "bulk3                0.088805      -0.113380      -0.037156  \n",
              "bulk4               -0.020899       0.165484       0.187817  \n",
              "bulk5                0.019551       0.078729      -0.028446  \n",
              "bulk6                0.148159      -0.127046      -0.180906  \n",
              "bulk10              -0.007075       0.035789       0.061227  \n",
              "bulk11               0.068808      -0.110430      -0.114936  \n",
              "bulk12               0.421033      -0.079574       0.266805  \n",
              "bulk14               0.406902      -0.179991       0.114893  \n",
              "bulk15               0.272895      -0.062382       0.265772  \n",
              "gas1                 0.354474       0.036736       0.059079  \n",
              "wire1                0.060778       0.262880       0.317488  \n",
              "wire2                0.046604      -0.101101      -0.207242  \n",
              "wire3                0.035806      -0.003403      -0.047636  \n",
              "wire6                0.047749       0.020733      -0.084149  \n",
              "active_power         0.818748      -0.153318       0.176486  \n",
              "reactive_power       0.811139      -0.151328       0.171078  \n",
              "active_energy        1.000000      -0.345222       0.257862  \n",
              "temperature_x       -0.345222       1.000000       0.301882  \n",
              "temperature_y        0.257862       0.301882       1.000000  "
            ]
          },
          "execution_count": 56,
          "metadata": {},
          "output_type": "execute_result"
        }
      ],
      "source": [
        "df.corr()"
      ]
    },
    {
      "cell_type": "markdown",
      "id": "884b4aaf",
      "metadata": {
        "id": "884b4aaf"
      },
      "source": [
        "**Количество признаков в данных достаточно велико, поэтому информация о корреляции несчитываема, исправим это, создав словарь, в котором ключом будет каждый из признаков, а ключу соответствовать таблица с топовыми признаками по модулю значения корреляции с признаком-ключом и значение данной корреляции без модуля.**"
      ]
    },
    {
      "cell_type": "code",
      "execution_count": null,
      "id": "66928451",
      "metadata": {
        "id": "66928451",
        "outputId": "94159d53-915b-4a4f-e8c2-8e54e5eab66e"
      },
      "outputs": [
        {
          "name": "stdout",
          "output_type": "stream",
          "text": [
            "Признаки с высокими значениями корреляции, не менее 0.4:\n",
            "                 bulk12\n",
            "bulk14         0.481609\n",
            "bulk15         0.613870\n",
            "active_energy  0.421033 \n",
            "\n",
            "                 bulk14\n",
            "bulk12         0.481609\n",
            "active_energy  0.406902 \n",
            "\n",
            "         bulk15\n",
            "bulk12  0.61387 \n",
            "\n",
            "                active_power\n",
            "reactive_power      0.992416\n",
            "active_energy       0.818748 \n",
            "\n",
            "               reactive_power\n",
            "active_power         0.992416\n",
            "active_energy        0.811139 \n",
            "\n",
            "                active_energy\n",
            "bulk12               0.421033\n",
            "bulk14               0.406902\n",
            "active_power         0.818748\n",
            "reactive_power       0.811139 \n",
            "\n"
          ]
        }
      ],
      "source": [
        "data_corr = df.corr() #матрица корреляции по данным в df\n",
        "col_list = data_corr.columns.to_list()\n",
        "dict_top_corr_data = {} #словарь с ключами по названию параметров с содержанием топовых корреляций с др. параметрами\n",
        "\n",
        "for column in data_corr.columns: # цикл по столбцам в матрице корреляции по данным в df\n",
        "    #делаем датафрейм из одного столбца, значения корр. берем по модулю, чтобы проще было сравнивать и удаляем строку\n",
        "    #с тем же параметром, т.к. там корреляция = 1\n",
        "    column_corr = data_corr[column].to_frame().drop(column)\n",
        "    column_corr_abs = column_corr.abs()\n",
        "    #выбираем индексы тех значений, где удовлетворяется условие\n",
        "    index_top = column_corr_abs[(column_corr_abs[column] >= 0.15)].index\n",
        "    #сохраняем в словарь топовые корреляции для данного параметра\n",
        "    dict_top_corr_data[column] = column_corr.loc[index_top]\n",
        "\n",
        "print('Признаки с высокими значениями корреляции, не менее 0.4:')\n",
        "for key in col_list:\n",
        "    if dict_top_corr_data[key][dict_top_corr_data[key][key] >= 0.4].size != 0:\n",
        "        print(dict_top_corr_data[key][dict_top_corr_data[key][key] >= 0.4], '\\n')"
      ]
    },
    {
      "cell_type": "markdown",
      "id": "cc235086",
      "metadata": {
        "id": "cc235086"
      },
      "source": [
        "**Видим, что между признаками, отвечающими за активную и реактивную мощности, а также активную энергию наблюдается высокая линейная корреляция. Для корректного обучения линейной регрессии нам необходимо будет не использовать признаки с высокой корреляцией, т.к. это может привести к мультиколлинеарности. Необходимо определить, какие из данных признаков имеют бОльшее влияние на целевой признак и оставить только тот признак, который наибольшим образом коррелирует с целевым признаком. Посмотрим значения корреляции с целевым признаком.**"
      ]
    },
    {
      "cell_type": "code",
      "execution_count": null,
      "id": "c154ed50",
      "metadata": {
        "id": "c154ed50",
        "outputId": "03997798-254a-4d4e-ae20-be18870f2f72"
      },
      "outputs": [
        {
          "name": "stdout",
          "output_type": "stream",
          "text": [
            "Значения корреляции целевого признака и других признаков:\n"
          ]
        },
        {
          "data": {
            "text/plain": [
              "wire1             0.317488\n",
              "temperature_x     0.301882\n",
              "bulk12            0.266805\n",
              "bulk15            0.265772\n",
              "active_energy     0.257862\n",
              "bulk4             0.187817\n",
              "active_power      0.176486\n",
              "reactive_power    0.171078\n",
              "bulk6            -0.180906\n",
              "wire2            -0.207242\n",
              "Name: temperature_y, dtype: float64"
            ]
          },
          "execution_count": 58,
          "metadata": {},
          "output_type": "execute_result"
        }
      ],
      "source": [
        "print('Значения корреляции целевого признака и других признаков:')\n",
        "dict_top_corr_data['temperature_y']['temperature_y'].sort_values(ascending=False)"
      ]
    },
    {
      "cell_type": "markdown",
      "id": "5a43b1bb",
      "metadata": {
        "id": "5a43b1bb"
      },
      "source": [
        "**Видим, что бОльшая корреляция между целевым признаком и признаками, связанными с мощностью и энергией, - у признака активная энергия. Его мы из трех и оставим для моделирования с помощью линейной регрессии.**\n",
        "\n",
        "**Отфильтруем итоговый датафрейм для линейной регрессии.**"
      ]
    },
    {
      "cell_type": "code",
      "execution_count": null,
      "id": "97abeed0",
      "metadata": {
        "id": "97abeed0",
        "outputId": "13882cb7-8c9a-42b4-8968-89e3a9775ffb"
      },
      "outputs": [
        {
          "name": "stdout",
          "output_type": "stream",
          "text": [
            "<class 'pandas.core.frame.DataFrame'>\n",
            "Int64Index: 2324 entries, 0 to 2323\n",
            "Data columns (total 18 columns):\n",
            " #   Column         Non-Null Count  Dtype  \n",
            "---  ------         --------------  -----  \n",
            " 0   bulk1          2324 non-null   float64\n",
            " 1   bulk3          2324 non-null   float64\n",
            " 2   bulk4          2324 non-null   float64\n",
            " 3   bulk5          2324 non-null   float64\n",
            " 4   bulk6          2324 non-null   float64\n",
            " 5   bulk10         2324 non-null   float64\n",
            " 6   bulk11         2324 non-null   float64\n",
            " 7   bulk12         2324 non-null   float64\n",
            " 8   bulk14         2324 non-null   float64\n",
            " 9   bulk15         2324 non-null   float64\n",
            " 10  gas1           2324 non-null   float64\n",
            " 11  wire1          2324 non-null   float64\n",
            " 12  wire2          2324 non-null   float64\n",
            " 13  wire3          2324 non-null   float64\n",
            " 14  wire6          2324 non-null   float64\n",
            " 15  active_energy  2324 non-null   float64\n",
            " 16  temperature_x  2324 non-null   float64\n",
            " 17  temperature_y  2324 non-null   float64\n",
            "dtypes: float64(18)\n",
            "memory usage: 345.0 KB\n"
          ]
        }
      ],
      "source": [
        "df_linreg = df.drop(['active_power', 'reactive_power'], axis=1)\n",
        "df_linreg.info()"
      ]
    },
    {
      "cell_type": "markdown",
      "id": "0d6520b6",
      "metadata": {
        "id": "0d6520b6"
      },
      "source": [
        "**Посмотрим распределение данных в целевом признаке.**"
      ]
    },
    {
      "cell_type": "code",
      "execution_count": null,
      "id": "2bdc348c",
      "metadata": {
        "id": "2bdc348c",
        "outputId": "279d2b74-c8e8-429a-ac2f-e56b0abd81ff"
      },
      "outputs": [
        {
          "data": {
            "image/png": "[encoded data removed]",
            "text/plain": [
              "<Figure size 576x432 with 1 Axes>"
            ]
          },
          "metadata": {
            "needs_background": "light"
          },
          "output_type": "display_data"
        }
      ],
      "source": [
        "plt.figure(figsize=(8, 6))\n",
        "plt.hist(df['temperature_y'], bins=32)\n",
        "plt.xlabel('Значение целевого признака - последней измеренной температуры')\n",
        "plt.ylabel('Количество уникальных партий с таким значением температуры')\n",
        "plt.title('Распределение целевого признака температуры в объединенных данных')\n",
        "plt.show()"
      ]
    },
    {
      "cell_type": "markdown",
      "id": "03c8ae57",
      "metadata": {
        "id": "03c8ae57"
      },
      "source": [
        "**Распределение целевого признака нормальное, без аномальных выбросов.**"
      ]
    },
    {
      "cell_type": "markdown",
      "id": "337736f1",
      "metadata": {
        "id": "337736f1"
      },
      "source": [
        "### 3.8 Основные выводы раздела\n",
        "* Из итогового датафрейма были исключены данные о времени подачи сыпучих материалов и проволочных материалов, т.к. мы не используем временные ряды и влияние этих данных на целевой признак не может быть велико.\n",
        "* Из итогового датафрейма исключили данные, которые относятся к номерам партий из сформированного ранее списка для удаления, по причине аномальных значений, пропусков в температуре и единственного замера температуры.\n",
        "* Из итогового датафрейма исключили признаки 4, 5, 7, 8, 9 проволочных материалов и 2, 7, 8, 9, 13 сыпучих материалов по причине малого кол-ва действительных объектов.\n",
        "* Пропуски в данных о подаче сыпучих и проволочных материалов заполнили значением 0.\n",
        "* Изменили тип признаков, отвечающих за дату и время, на datatime в данных по измерению температуры и электродах для последующей агрегации данных и получения нового признака.\n",
        "* Произвели переименование всех признаков в соответствии со \"змеиным\" регистром на англ. языке.\n",
        "* Созданы новые признаки: суммарная активная энергии для каждой уникальной партии (произведение времени выделения активной мощности на ее значение), а также суммарной активной мощности и суммарной реактивной мощности для каждой уникальной партии.\n",
        "* Из данных по температуре получен признак - первый замер температуры для уникальной партии, а в качестве целевого признака - последний замер температуры для уникальной партии.\n",
        "* Объединение данных в итоговый датафрейм происходило на основе признака key - номера партии.\n",
        "* В объединенном датафрейме пропусков в данных нет, все данные выглядят корректно.\n",
        "* Кол-во объектов для моделирования = 2324, что совсем немного, на фоне небольшого количества объектов может быть получен не очень хороший результат предсказаний, проверим далее.\n",
        "* Значения признаков очень сильно отличаются друг от друга, для получения хорошего результата при использовании линейной регрессии необходимо будет нормализовать данные признаки в следующем разделе.\n",
        "* Между признаками, отвечающими за активную и реактивную мощности, а также активную энергию наблюдается высокая линейная корреляция (выше 0.8). Для исключения мультиколлинеарности оставили из данных трех признаков только признак активная энергия для выборки, с которой будем работать с линейной регрессией (df_linreg), ввиду наибольшей корреляции его с целевым признаком.\n",
        "* В итоге получили для бустинговой модели выборку (df) с 19 признаками и 1 целевым признаком. Для линейной регрессии - выборку (df_linreg) с 17 признаками и 1 целевым признаком. Целевой признак - temperature_y."
      ]
    },
    {
      "cell_type": "markdown",
      "id": "0b123460",
      "metadata": {
        "id": "0b123460"
      },
      "source": [
        "## 4. Машинное обучение"
      ]
    },
    {
      "cell_type": "markdown",
      "id": "69c6c72b",
      "metadata": {
        "id": "69c6c72b"
      },
      "source": [
        "**Будем использовать для моделирования две модели - линейную регрессию и бустинговую модель - CatBoost.**"
      ]
    },
    {
      "cell_type": "markdown",
      "id": "fcba11f0",
      "metadata": {
        "id": "fcba11f0"
      },
      "source": [
        "### 4.1 Линейная регрессия"
      ]
    },
    {
      "cell_type": "markdown",
      "id": "b39c6c2f",
      "metadata": {
        "id": "b39c6c2f"
      },
      "source": [
        "**Как было отмечено ранее, линейная регрессия особо чувствительна к ненормализованным признакам. Поэтому план такой:**\n",
        "\n",
        "* Делим объединенные данные для линейной регрессии на два датасета - с признаками и с целевым признаком.\n",
        "* Делим выборки на тренировочную и тестовую в соотношении 75% и 25%, используем значение random_state = SEED.\n",
        "* Применяем нормализацию признаков с помощью MinMaxScaler.\n",
        "* С помощью cross_validate вычисляем MAE для линейной регрессии с 5 фолдами.\n",
        "* Определяем лучшее значение MAE на тренировочной выборке для линейной регрессии.\n",
        "* Определеям время обучения и время предсказания линейной регрессии."
      ]
    },
    {
      "cell_type": "code",
      "execution_count": null,
      "id": "e985f854",
      "metadata": {
        "id": "e985f854",
        "outputId": "ec50273e-d6b2-49f9-8926-2a6711f15140"
      },
      "outputs": [
        {
          "name": "stdout",
          "output_type": "stream",
          "text": [
            "Лучшее значение MAE для LinReg на тренировочной выборке = 6.29\n",
            "Усредненное время обучения LinReg на тренировочной выборке = 0.00277\n",
            "Усредненное время предсказания LinReg на тренировочной выборке = 0.00055\n"
          ]
        }
      ],
      "source": [
        "X_linreg = df_linreg.drop('temperature_y', axis=1)\n",
        "y_linreg = df_linreg['temperature_y']\n",
        "X_train_lr, X_test_lr, y_train_lr, y_test_lr = train_test_split(X_linreg,\n",
        "                                                                y_linreg,\n",
        "                                                                test_size=0.25,\n",
        "                                                                shuffle=True,\n",
        "                                                                random_state=SEED)\n",
        "scaler = MinMaxScaler()\n",
        "X_train_lr_scaled = scaler.fit_transform(X_train_lr)\n",
        "X_test_lr_scaled = scaler.transform(X_test_lr)\n",
        "model_lr = LinearRegression()\n",
        "\n",
        "cv_linreg = cross_validate(\n",
        "                model_lr,\n",
        "                X_train_lr_scaled,\n",
        "                y_train_lr,\n",
        "                scoring='neg_mean_absolute_error',\n",
        "                cv=5)\n",
        "\n",
        "linreg_mae_train = round(-1*max(cv_linreg['test_score']), 2)\n",
        "linreg_fit_time_train = round(cv_linreg['fit_time'].mean(), 5)\n",
        "linreg_score_time_train = round(cv_linreg['score_time'].mean(), 5)\n",
        "print('Лучшее значение MAE для LinReg на тренировочной выборке =', linreg_mae_train)\n",
        "print('Усредненное время обучения LinReg на тренировочной выборке =', linreg_fit_time_train)\n",
        "print('Усредненное время предсказания LinReg на тренировочной выборке =', linreg_score_time_train)"
      ]
    },
    {
      "cell_type": "markdown",
      "id": "30806049",
      "metadata": {
        "id": "30806049"
      },
      "source": [
        "### 4.2 Бустинговая модель CatBoost"
      ]
    },
    {
      "cell_type": "markdown",
      "id": "f1497d0f",
      "metadata": {
        "id": "f1497d0f"
      },
      "source": [
        "**План для бустинговой модели такой:**\n",
        "\n",
        "* Делим объединенные данные на два датасета - с признаками и с целевым признаком.\n",
        "* Делим выборки на тренировочную и тестовую в соотношении 75% и 25%, используем значение random_state = SEED.\n",
        "* Задаем диапазоны значений гиперпараметров, который будем перебирать в GridSearchCV.\n",
        "* Используем GridSearchCV для поиска наилучшей комбинации гиперпараметров CatBoostRegressor, дающих наилучшее MAE на тренировочной выборке. Фиксируем модель с наилучшей комбинацией гиперпараметров.\n",
        "* Определяем лучшее значение MAE на тренировочной выборке для линейной регрессии.\n",
        "* Определеям время обучения и время предсказания линейной регрессии."
      ]
    },
    {
      "cell_type": "code",
      "execution_count": null,
      "id": "4d5ef2c3",
      "metadata": {
        "id": "4d5ef2c3",
        "outputId": "4b7f0bfc-a9a1-4e24-e7f1-7c829c3986f9"
      },
      "outputs": [
        {
          "name": "stdout",
          "output_type": "stream",
          "text": [
            "Лучшие гиперпараметры модели CBR: {'depth': 8, 'learning_rate': 0.1, 'n_estimators': 100}\n",
            "Лучшее значение метрики MAE для модели CBR на тренировочной выборке = 6.6\n",
            "Время обучения модели CBR с лучшим score на тренировочной выборке = 1.72275\n",
            "Время предсказания CBR с лучшим score на тренировочной выборке = 0.00219\n"
          ]
        }
      ],
      "source": [
        "X_cbr = df.drop('temperature_y', axis=1)\n",
        "y_cbr = df['temperature_y']\n",
        "X_train_cbr, X_test_cbr, y_train_cbr, y_test_cbr = train_test_split(X_cbr,\n",
        "                                                                    y_cbr,\n",
        "                                                                    test_size=0.25,\n",
        "                                                                    shuffle=True,\n",
        "                                                                    random_state=SEED)\n",
        "\n",
        "model_cbr = CatBoostRegressor(random_state=SEED, silent=True)\n",
        "param_cbr = {'learning_rate': [0.1, 0.01, 1],\n",
        "             'depth': [4, 6, 8, 10],\n",
        "             'n_estimators': [100, 200]}\n",
        "grid_cbr = GridSearchCV(estimator=model_cbr,\n",
        "                        param_grid=param_cbr,\n",
        "                        cv=5,\n",
        "                        scoring='neg_mean_absolute_error')\n",
        "grid_cbr.fit(X_train_cbr, y_train_cbr)\n",
        "best_model_cbr = grid_cbr.best_estimator_\n",
        "print(f'Лучшие гиперпараметры модели CBR: {grid_cbr.best_params_}')\n",
        "\n",
        "cbr_mae_train = round(-1 * grid_cbr.best_score_, 2)\n",
        "cbr_fit_time_train = round(\n",
        "    pd.DataFrame(grid_cbr.cv_results_).iloc[grid_cbr.best_index_]['mean_fit_time'], 5)\n",
        "cbr_score_time_train = round(\n",
        "    pd.DataFrame(grid_cbr.cv_results_).iloc[grid_cbr.best_index_]['mean_score_time'], 5)\n",
        "print(f'Лучшее значение метрики MAE для модели CBR на тренировочной выборке = {cbr_mae_train}')\n",
        "print(f'Время обучения модели CBR с лучшим score на тренировочной выборке = {cbr_fit_time_train}')\n",
        "print(f'Время предсказания CBR с лучшим score на тренировочной выборке = {cbr_score_time_train}')\n",
        "best_model_cbr = grid_cbr.best_estimator_"
      ]
    },
    {
      "cell_type": "markdown",
      "id": "d18cb2f0",
      "metadata": {
        "id": "d18cb2f0"
      },
      "source": [
        "**На тренировочных данных лучше всего себя показала линейная регрессия с результатом MAE = 6.29.**\n",
        "\n",
        "**Результат метрики MAE у модели CatBoostRegressor составил 6.6.**\n",
        "\n",
        "**При этом время обучения на тестовых данных у линейной регрессии значительно лучше, чем у модели CatBoostRegressor: 3.4 мс против 191 мс.**\n",
        "\n",
        "**Соответственно, на тестовой выборке будем тестировать линейную регрессию.**"
      ]
    },
    {
      "cell_type": "markdown",
      "id": "957d0cbb",
      "metadata": {
        "id": "957d0cbb"
      },
      "source": [
        "### 4.3 Проверка на тестовых данных модели линейной регрессии"
      ]
    },
    {
      "cell_type": "code",
      "execution_count": null,
      "id": "f6ef662c",
      "metadata": {
        "id": "f6ef662c",
        "outputId": "1b1f45f6-48b7-44c7-ed66-cc8e1bf82e59"
      },
      "outputs": [
        {
          "name": "stdout",
          "output_type": "stream",
          "text": [
            "MAE линейной регрессии на тестовой выборке:  6.66\n"
          ]
        }
      ],
      "source": [
        "model_lr.fit(X_train_lr_scaled, y_train_lr)\n",
        "pred_test_lr = model_lr.predict(X_test_lr_scaled)\n",
        "print(\"MAE линейной регрессии на тестовой выборке: \", round(mean_absolute_error(y_test_lr, pred_test_lr),2))"
      ]
    },
    {
      "cell_type": "markdown",
      "id": "a066dbe0",
      "metadata": {
        "id": "a066dbe0"
      },
      "source": [
        "**Полученное значение MAE удовлетворяет первичному условию задачи: MAE < 6.8.**\n",
        "\n",
        "**Проверим теперь влияние признаков на предсказания модели линейной регрессии.**\n",
        "\n",
        "**Положительные значения коэффициентов указывают на положительное влияние признака на целевую переменную, а отрицательные значения - на отрицательное влияние. Значения коэффициентов также указывают на силу влияния признака: чем больше по модулю значение коэффициента, тем сильнее влияние признака на предсказания модели.**"
      ]
    },
    {
      "cell_type": "code",
      "execution_count": null,
      "id": "e9822bc2",
      "metadata": {
        "id": "e9822bc2",
        "outputId": "43fc5417-1097-43d5-dc3e-92691ae603af"
      },
      "outputs": [
        {
          "name": "stdout",
          "output_type": "stream",
          "text": [
            "Коэффициенты для каждого признака, отражающие влияние признака на предсказания модели линейной регрессии:\n"
          ]
        },
        {
          "data": {
            "text/html": [
              "<div>\n",
              "<style scoped>\n",
              "    .dataframe tbody tr th:only-of-type {\n",
              "        vertical-align: middle;\n",
              "    }\n",
              "\n",
              "    .dataframe tbody tr th {\n",
              "        vertical-align: top;\n",
              "    }\n",
              "\n",
              "    .dataframe thead th {\n",
              "        text-align: right;\n",
              "    }\n",
              "</style>\n",
              "<table border=\"1\" class=\"dataframe\">\n",
              "  <thead>\n",
              "    <tr style=\"text-align: right;\">\n",
              "      <th></th>\n",
              "      <th>features</th>\n",
              "      <th>coeff</th>\n",
              "    </tr>\n",
              "  </thead>\n",
              "  <tbody>\n",
              "    <tr>\n",
              "      <th>15</th>\n",
              "      <td>active_energy</td>\n",
              "      <td>32.677372</td>\n",
              "    </tr>\n",
              "    <tr>\n",
              "      <th>16</th>\n",
              "      <td>temperature_x</td>\n",
              "      <td>27.398625</td>\n",
              "    </tr>\n",
              "    <tr>\n",
              "      <th>0</th>\n",
              "      <td>bulk1</td>\n",
              "      <td>-26.017597</td>\n",
              "    </tr>\n",
              "    <tr>\n",
              "      <th>14</th>\n",
              "      <td>wire6</td>\n",
              "      <td>-18.903589</td>\n",
              "    </tr>\n",
              "    <tr>\n",
              "      <th>12</th>\n",
              "      <td>wire2</td>\n",
              "      <td>-13.483107</td>\n",
              "    </tr>\n",
              "    <tr>\n",
              "      <th>7</th>\n",
              "      <td>bulk12</td>\n",
              "      <td>11.879882</td>\n",
              "    </tr>\n",
              "    <tr>\n",
              "      <th>11</th>\n",
              "      <td>wire1</td>\n",
              "      <td>11.496942</td>\n",
              "    </tr>\n",
              "    <tr>\n",
              "      <th>3</th>\n",
              "      <td>bulk5</td>\n",
              "      <td>-10.020272</td>\n",
              "    </tr>\n",
              "    <tr>\n",
              "      <th>4</th>\n",
              "      <td>bulk6</td>\n",
              "      <td>-9.506221</td>\n",
              "    </tr>\n",
              "    <tr>\n",
              "      <th>10</th>\n",
              "      <td>gas1</td>\n",
              "      <td>-8.827962</td>\n",
              "    </tr>\n",
              "  </tbody>\n",
              "</table>\n",
              "</div>"
            ],
            "text/plain": [
              "         features      coeff\n",
              "15  active_energy  32.677372\n",
              "16  temperature_x  27.398625\n",
              "0           bulk1 -26.017597\n",
              "14          wire6 -18.903589\n",
              "12          wire2 -13.483107\n",
              "7          bulk12  11.879882\n",
              "11          wire1  11.496942\n",
              "3           bulk5 -10.020272\n",
              "4           bulk6  -9.506221\n",
              "10           gas1  -8.827962"
            ]
          },
          "execution_count": 64,
          "metadata": {},
          "output_type": "execute_result"
        }
      ],
      "source": [
        "coefficients = list(model_lr.coef_)\n",
        "features = df_linreg.drop('temperature_y', axis=1).columns.to_list()\n",
        "linreg_coef = pd.DataFrame({'features':features,\n",
        "                            'coeff':coefficients,\n",
        "                            'coeff_abs':[abs(x) for x in coefficients]})\n",
        "print('Коэффициенты для каждого признака, отражающие влияние признака на предсказания модели линейной регрессии:')\n",
        "linreg_coef.sort_values(by='coeff_abs', ascending=False)[['features', 'coeff']].head(10)"
      ]
    },
    {
      "cell_type": "markdown",
      "id": "ecf23a92",
      "metadata": {
        "id": "ecf23a92"
      },
      "source": [
        "**Видим, что наибольшее влияние на модель оказывают признаки:**\n",
        "* Активная энергия - active_energy.\n",
        "* Первая измеренная температура в ковше - temperature_x.\n",
        "* Объем первой категории сыпучих материалов - bulk1.\n",
        "* Объем шестой и второй категорий проволочных материалов - wire6 и wire2.\n",
        "\n",
        "**Проверим теперь модель на адекватность с помощью константной модели.**"
      ]
    },
    {
      "cell_type": "markdown",
      "id": "ff28b89e",
      "metadata": {
        "id": "ff28b89e"
      },
      "source": [
        "### 4.4 Проверка моделей на адекватность"
      ]
    },
    {
      "cell_type": "markdown",
      "id": "709d6915",
      "metadata": {
        "id": "709d6915"
      },
      "source": [
        "**Проверим модели на адекватность с помощью Dummy Model из класса sklearn, предварительно импортировав ее в первом пункте.**\n",
        "\n",
        "**Проверка состоит в том, чтобы качество выбранной выше обученной модели было выше, чем качество модели Dummy, которая предсказывает результат не опираясь на признаки тренировочной выборки.**"
      ]
    },
    {
      "cell_type": "code",
      "execution_count": null,
      "id": "cfaa5860",
      "metadata": {
        "id": "cfaa5860",
        "outputId": "c6ea91a7-3015-4b56-c5d0-168e956c400b"
      },
      "outputs": [
        {
          "name": "stdout",
          "output_type": "stream",
          "text": [
            "Лучшее значение метрики MAE для Dummy-модели на тренировочной выборке = 8.13\n"
          ]
        }
      ],
      "source": [
        "model_dummy = DummyRegressor()\n",
        "parameters_dummy = {'strategy':['mean', 'median', 'constant'],\n",
        "                    'constant':(1580,1620,1)}\n",
        "gridsearch_dummy = GridSearchCV(\n",
        "    estimator=model_dummy,\n",
        "    param_grid=parameters_dummy,\n",
        "    scoring='neg_mean_absolute_error',\n",
        "    cv=5, n_jobs=-1)\n",
        "gridsearch_dummy.fit(X_train_cbr, y_train_cbr)\n",
        "print('Лучшее значение метрики MAE для Dummy-модели на тренировочной выборке =',\n",
        "      round((-1 * gridsearch_dummy.best_score_), 2))"
      ]
    },
    {
      "cell_type": "code",
      "execution_count": null,
      "id": "64da065f",
      "metadata": {
        "id": "64da065f",
        "outputId": "af2910fb-7824-478c-de8a-a336ee8b67e2"
      },
      "outputs": [
        {
          "name": "stdout",
          "output_type": "stream",
          "text": [
            "Лучшее значение метрики MAE для Dummy-модели на тестовой выборке = 7.88\n"
          ]
        }
      ],
      "source": [
        "predict_dummy = gridsearch_dummy.best_estimator_.predict(X_test_cbr)\n",
        "print('Лучшее значение метрики MAE для Dummy-модели на тестовой выборке =',\n",
        "      round(mean_absolute_error(y_test_cbr, predict_dummy),2))"
      ]
    },
    {
      "cell_type": "markdown",
      "id": "67fe648c",
      "metadata": {
        "id": "67fe648c"
      },
      "source": [
        "**В итоге с помощью Dummy модели удалось получить наилучшее качество модели с MAE равным 7.88 на тестовой выборке, что ниже наилучшего результата выбранной и обученной модели линейной регрессии. Что доказывает адекватность найденной и выбранной нами модели.**"
      ]
    },
    {
      "cell_type": "markdown",
      "id": "924d86d7",
      "metadata": {
        "id": "924d86d7"
      },
      "source": [
        "### 4.5 Основные выводы после раздела\n",
        "* Объединенный итоговый датасет был разделен на две версии - одна для линейной регрессии, где были исключены два признака (активная мощность и реактивная мощность), имеющие возможность вызвать мультиколлинеарность и нарушить корректные результаты работы данной модели. Вторая версия - полная, для бустинговой модели CatBoostRegressor. В итоге для линейной регрессии выборка состояла из 17 признаков и 1 целевого признака. Для бустинговой модели CatBoostRegressor выборка состояла из 19 признаков и 1 целевого признака.\n",
        "* Разделение выборок на обучающую и тестовую было в соотношении 75% и 25% по условию задачи с помощью train_test_split с указанием random_state = 220523 по условию задачи.\n",
        "* Для выборки, с которой работала линейная регрессия, было дополнительно произведена стандартизация признаков с помощью MinMaxScaler(), т.к. модели данного типа чувствительны к большому разбросу значений в признаках.\n",
        "* Использовалась кросс-валидация для оценки линейной регрессии с помощью cross_validate, кол-во фолдов бралось равное 5.\n",
        "* С помощью линейной регрессии на обучающей выборке был получен наилучший результат метрики MAE равный 6.29, при этом время обучения составило 3.4 мс.\n",
        "* С помощью бустинговой модели CatBoostRegressor на обучающей выборке был получен наилучший результат метрики MAE равный 6.6, при этом время обучения составило 191 мс. Комбинация гиперпараметров, с помощью которой был достигнут данный результат: 'depth' = 8, 'learning_rate' = 0.1, 'n_estimators' = 100, random_state = 220523.\n",
        "* По результатам проверки на тренировочной выборке была выбрана модель линейной регрессии для предсказания на тестовой выборке.\n",
        "* На тестовой выборке линейная регрессия показала результат метрики MAE равный 6.66, что удовлетворяет исходному условию задачи - получение MAE < 6.8.\n",
        "* Было изучено влияние признаков на результат предсказания линейной регрессии. Наибольшее положительное влияние оказали признаки активная энергия (active_energy) и первое измеренное значение температуры в ковше (temperature_x).\n",
        "* Была проведена проверка адекватности моделей с помощью константной модели DummyRegressor. С помощью данной модели удалось получить значение MAE на тренировочных данных 8.13, а на тестовых данных 7.88. Что хуже полученных результатов с помощью линейной регрессии и бустинговой модели, что доказывают адекватность выбранной нами модели линейной регрессии."
      ]
    },
    {
      "cell_type": "markdown",
      "id": "8a878f98",
      "metadata": {
        "id": "8a878f98"
      },
      "source": [
        "## 5. Отчет"
      ]
    },
    {
      "cell_type": "markdown",
      "id": "cdaee530",
      "metadata": {
        "id": "cdaee530"
      },
      "source": [
        "### 5.1 Сравнение решения и плана\n",
        "\n",
        "**Первоначальный план:**\n",
        "\n",
        "* Не использовать данные о времени подачи сыпучих материалов и проволочных материалов, т.к. мы не используем временные ряды и влияние этих данных на целевой признак не может быть велико, ограничимся лишь данными об объемах данных двух типов материалов.\n",
        "* Из всех далее используемых датафреймов удаляем данные, которые соответствуют номерам партий из сформированного списка для удаления, по причине аномальных значений, пропусков в температуре и единичных записей о температуре.\n",
        "* По причине малого кол-ва действительных объектов исключаем из дальнейшего анализа признаки 4, 5, 7, 8, 9 проволочных материалов и 2, 7, 8, 9, 13 сыпучих материалов в следующем разделе.\n",
        "* Пропуски в данных о подаче сыпучих и проволочных материалов заполняем 0.\n",
        "* Необходимо изменить тип некоторых признаков и произвести переименование в соответствии со \"змеиным\" регистром на англ. языке.\n",
        "* Создание новых признаков: активной энергии для каждой уникальной партии, а также суммарной мощности как активной, так и реактивной для каждой уникальной партии.\n",
        "* Из данных по температуре использовать в качестве признака необходимо только первый замер температуры, а в качестве целевого признака - последний замер температуры для уникальной партии.\n",
        "* Объединение данных будет происходить на основе признака key - уникального номера партии.\n",
        "* Оценка нового агрегированного датасета на корреляцию между признаками и распределение целевого признака.\n",
        "* Выбор двух моделей, одна из которых линейная, вторая - бустинговая.\n",
        "* Разделение данных на тренировочную и тестовую выборки в соотношении 75 к 25.\n",
        "* Стандартизация признаков для линейных моделей.\n",
        "* Использование кросс-валидации и автоматизированного подбора гиперпараметров, где это применимо.\n",
        "* Выбор лучшей модели на тренировочной выборке по метрике MAE.\n",
        "* Тестирования лучшей модели на тестовой выборке.\n",
        "* Оценка адекватности модели с точки зрения сравнения с метрикой MAE константной модели.\n",
        "\n",
        "**Все основные пункты плана были выполнены.**\n",
        "\n",
        "\n",
        "### 5.2 Описание трудностей проекта\n",
        "\n",
        "**В целом особых трудностей не возникло. Основная трудность - это большой объем информации, подробный анализ и исследование ее.\n",
        "\n",
        "### 5.3 Ключевые шаги решения задачи\n",
        "\n",
        "* Обработка данных;\n",
        "* Исследовательский анализ данных;\n",
        "* Предобработка данных и получение агрегированного датасета;\n",
        "* Разработка и выбор лучшей модели с последующей проверкой на тестовой выборке;\n",
        "* Проверка выбранной модели на адекватность с помощью константной модели.\n",
        "* Отчет.\n",
        "\n",
        "### 5.4 Признаки, которые использовали для обучения и их обработка\n",
        "* Итоговый агрегированный датафрейм состоит из 19 признаков, 1 целевого признака и 2324 записей.\n",
        "* Обучающая и тестовая выборка разделены в соотношении 75% к 25%.\n",
        "* 15 признаков основаны на объеме подаваемых сыпучих материалов и проволки, а также о кол-ве продувающего газа.\n",
        "* 2 признака основаны на суммарных значениях активной и реактивной мощности для уникальной партии.\n",
        "* 1 признак основан на суммарной активной энергии для уникальной партии, сгенерирован на основе суммы произведения активной мощности и времени ее выделения для каждого момента для уникальной партии.\n",
        "* 1 признак - первая измеренная температура в ковше для уникальной партии\n",
        "- 1 целевой признак - последняя измеренная температура в ковше для уникальной партии\n",
        "\n",
        "\n",
        "### 5.5 Полное описание использованной модели\n",
        "* Было обучено две модели - линейная регрессия и бустинговая модель CatBoostRegressor. Наилучший результат на обучающей выборке показала линейная регрессия, метрика MAE = 6.29, время обучения 3.4 мс.\n",
        "* При этом наилучший результат бустинговой модели CatBoostRegressor на обучающей выборке: MAE = 6.6, время обучения 191 мс. Комбинация гиперпараметров, с помощью которой был достигнут данный результат: 'depth' = 8, 'learning_rate' = 0.1, 'n_estimators' = 100, random_state = 220523.\n",
        "* Для тестовой выборки была выбрана линейная регрессия, которая показала результат метрики MAE равный 6.66, что удовлетворяет исходному условию задачи - получение MAE < 6.8.\n",
        "* Была проведена проверка адекватности моделей с помощью константной модели DummyRegressor. С помощью данной модели удалось получить значение MAE на тренировочных данных 8.13, а на тестовых данных 7.88. Что хуже полученных результатов с помощью линейной регрессии и бустинговой модели, что доказывают адекватность выбранной нами модели линейной регрессии.\n",
        "\n",
        "### 5.6 Итоговая метрика\n",
        "* На тестовой выборке линейная регрессия показала результат MAE равный 6.66.\n",
        "\n",
        "### 5.7 Рекомендации по улучшению решения\n",
        "* Было представлено не очень большое количество данных для получения высокого результата работы бустинговой модели, можно было бы попробовать искусственым образом увеличить исходную выборку с помощью ресемплинга.\n",
        "* Рассмотреть более широкий набор гиперпараметров в бустинговой модели. * Создать больше новых признаков.\n",
        "* Оставить в выборке те признаки, которые имеют более высокие значения коэффициента влияния на предсказание целевой переменной для данной модели."
      ]
    }
  ],
  "metadata": {
    "ExecuteTimeLog": [
      {
        "duration": 3463,
        "start_time": "2023-05-31T17:24:19.183Z"
      },
      {
        "duration": 7,
        "start_time": "2023-05-31T17:24:22.706Z"
      },
      {
        "duration": 1512,
        "start_time": "2023-05-31T17:24:22.717Z"
      },
      {
        "duration": 5,
        "start_time": "2023-05-31T17:24:24.231Z"
      },
      {
        "duration": 125,
        "start_time": "2023-05-31T17:24:24.237Z"
      },
      {
        "duration": 6,
        "start_time": "2023-05-31T17:24:24.363Z"
      },
      {
        "duration": 138,
        "start_time": "2023-05-31T17:24:24.370Z"
      },
      {
        "duration": 23,
        "start_time": "2023-05-31T17:24:24.511Z"
      },
      {
        "duration": 78,
        "start_time": "2023-05-31T17:24:24.536Z"
      },
      {
        "duration": 6,
        "start_time": "2023-05-31T17:24:24.620Z"
      },
      {
        "duration": 586,
        "start_time": "2023-05-31T17:24:24.632Z"
      },
      {
        "duration": 393,
        "start_time": "2023-05-31T17:24:25.224Z"
      },
      {
        "duration": 516,
        "start_time": "2023-05-31T17:24:25.619Z"
      },
      {
        "duration": 116,
        "start_time": "2023-05-31T17:24:26.137Z"
      },
      {
        "duration": 446,
        "start_time": "2023-05-31T17:24:26.307Z"
      },
      {
        "duration": 24,
        "start_time": "2023-05-31T17:24:26.809Z"
      },
      {
        "duration": 17,
        "start_time": "2023-05-31T17:24:26.838Z"
      },
      {
        "duration": 87,
        "start_time": "2023-05-31T17:24:26.857Z"
      },
      {
        "duration": 76,
        "start_time": "2023-05-31T17:24:26.948Z"
      },
      {
        "duration": 11,
        "start_time": "2023-05-31T17:24:27.027Z"
      },
      {
        "duration": 94,
        "start_time": "2023-05-31T17:24:27.042Z"
      },
      {
        "duration": 21,
        "start_time": "2023-05-31T17:24:27.140Z"
      },
      {
        "duration": 26,
        "start_time": "2023-05-31T17:24:27.162Z"
      },
      {
        "duration": 44,
        "start_time": "2023-05-31T17:24:27.189Z"
      },
      {
        "duration": 262,
        "start_time": "2023-05-31T17:24:27.237Z"
      },
      {
        "duration": 33,
        "start_time": "2023-05-31T17:24:27.501Z"
      },
      {
        "duration": 7,
        "start_time": "2023-05-31T17:24:27.535Z"
      },
      {
        "duration": 8,
        "start_time": "2023-05-31T17:24:27.546Z"
      },
      {
        "duration": 11,
        "start_time": "2023-05-31T17:24:27.556Z"
      },
      {
        "duration": 3,
        "start_time": "2023-05-31T17:24:27.569Z"
      },
      {
        "duration": 14,
        "start_time": "2023-05-31T17:24:27.573Z"
      },
      {
        "duration": 22,
        "start_time": "2023-05-31T17:24:27.588Z"
      },
      {
        "duration": 8,
        "start_time": "2023-05-31T17:24:27.611Z"
      },
      {
        "duration": 18,
        "start_time": "2023-05-31T17:24:27.621Z"
      },
      {
        "duration": 51,
        "start_time": "2023-05-31T17:24:27.640Z"
      },
      {
        "duration": 180,
        "start_time": "2023-05-31T17:24:27.692Z"
      },
      {
        "duration": 61,
        "start_time": "2023-05-31T17:24:27.874Z"
      },
      {
        "duration": 159,
        "start_time": "2023-05-31T17:24:27.940Z"
      },
      {
        "duration": 16,
        "start_time": "2023-05-31T17:24:28.101Z"
      },
      {
        "duration": 8,
        "start_time": "2023-05-31T17:24:28.118Z"
      },
      {
        "duration": 29,
        "start_time": "2023-05-31T17:24:28.127Z"
      },
      {
        "duration": 21,
        "start_time": "2023-05-31T17:24:28.157Z"
      },
      {
        "duration": 6,
        "start_time": "2023-05-31T17:24:28.180Z"
      },
      {
        "duration": 50,
        "start_time": "2023-05-31T17:24:28.187Z"
      },
      {
        "duration": 34,
        "start_time": "2023-05-31T17:24:28.241Z"
      },
      {
        "duration": 13,
        "start_time": "2023-05-31T17:24:28.277Z"
      },
      {
        "duration": 32,
        "start_time": "2023-05-31T17:24:28.308Z"
      },
      {
        "duration": 24,
        "start_time": "2023-05-31T17:24:28.342Z"
      },
      {
        "duration": 20,
        "start_time": "2023-05-31T17:24:28.368Z"
      },
      {
        "duration": 21,
        "start_time": "2023-05-31T17:24:28.409Z"
      },
      {
        "duration": 7,
        "start_time": "2023-05-31T17:24:28.431Z"
      },
      {
        "duration": 22,
        "start_time": "2023-05-31T17:24:28.440Z"
      },
      {
        "duration": 22,
        "start_time": "2023-05-31T17:24:28.463Z"
      },
      {
        "duration": 85,
        "start_time": "2023-05-31T17:24:28.487Z"
      },
      {
        "duration": 13,
        "start_time": "2023-05-31T17:24:28.573Z"
      },
      {
        "duration": 60,
        "start_time": "2023-05-31T17:24:28.588Z"
      },
      {
        "duration": 58,
        "start_time": "2023-05-31T17:24:28.650Z"
      },
      {
        "duration": 10,
        "start_time": "2023-05-31T17:24:28.711Z"
      },
      {
        "duration": 11,
        "start_time": "2023-05-31T17:24:28.724Z"
      },
      {
        "duration": 180,
        "start_time": "2023-05-31T17:24:28.736Z"
      },
      {
        "duration": 92,
        "start_time": "2023-05-31T17:24:28.918Z"
      },
      {
        "duration": 303952,
        "start_time": "2023-05-31T17:24:29.016Z"
      },
      {
        "duration": 137,
        "start_time": "2023-05-31T17:29:32.969Z"
      },
      {
        "duration": 27,
        "start_time": "2023-05-31T17:29:33.120Z"
      },
      {
        "duration": 68,
        "start_time": "2023-05-31T17:29:33.149Z"
      },
      {
        "duration": 4,
        "start_time": "2023-05-31T17:29:33.219Z"
      }
    ],
    "kernelspec": {
      "display_name": "Python 3 (ipykernel)",
      "language": "python",
      "name": "python3"
    },
    "language_info": {
      "codemirror_mode": {
        "name": "ipython",
        "version": 3
      },
      "file_extension": ".py",
      "mimetype": "text/x-python",
      "name": "python",
      "nbconvert_exporter": "python",
      "pygments_lexer": "ipython3",
      "version": "3.9.5"
    },
    "toc": {
      "base_numbering": 1,
      "nav_menu": {},
      "number_sections": true,
      "sideBar": true,
      "skip_h1_title": true,
      "title_cell": "Table of Contents",
      "title_sidebar": "Contents",
      "toc_cell": false,
      "toc_position": {},
      "toc_section_display": true,
      "toc_window_display": false
    },
    "colab": {
      "provenance": []
    }
  },
  "nbformat": 4,
  "nbformat_minor": 5
}